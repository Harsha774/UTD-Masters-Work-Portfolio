{
  "nbformat": 4,
  "nbformat_minor": 0,
  "metadata": {
    "colab": {
      "name": "MLPrediction.ipynb",
      "provenance": [],
      "collapsed_sections": []
    },
    "kernelspec": {
      "name": "python3",
      "display_name": "Python 3"
    },
    "accelerator": "TPU"
  },
  "cells": [
    {
      "cell_type": "markdown",
      "metadata": {
        "id": "tCGkDZcONZtG",
        "colab_type": "text"
      },
      "source": [
        "# Pre-processing the data\n"
      ]
    },
    {
      "cell_type": "code",
      "metadata": {
        "id": "t5PyHlufo64v",
        "colab_type": "code",
        "colab": {}
      },
      "source": [
        "import numpy as np\n",
        "import pandas as pd"
      ],
      "execution_count": 0,
      "outputs": []
    },
    {
      "cell_type": "markdown",
      "metadata": {
        "id": "LkSvw3F6PXTE",
        "colab_type": "text"
      },
      "source": [
        "## Load the data"
      ]
    },
    {
      "cell_type": "markdown",
      "metadata": {
        "id": "j1JfdFNLOTB9",
        "colab_type": "text"
      },
      "source": [
        "Download all data-sets"
      ]
    },
    {
      "cell_type": "code",
      "metadata": {
        "id": "u-iyZQjMr3Ue",
        "colab_type": "code",
        "colab": {}
      },
      "source": [
        "data = pd.read_csv('https://open-covid-19.github.io/data/data.csv', parse_dates=['Date'])\n",
        "weather = pd.read_csv('https://open-covid-19.github.io/data/weather.csv', parse_dates=['Date'])\n",
        "mobility = pd.read_csv('https://open-covid-19.github.io/data/mobility.csv', parse_dates=['Date'])\n",
        "data_categories = pd.read_csv('https://open-covid-19.github.io/data/data_categories.csv', parse_dates=['Date'])"
      ],
      "execution_count": 0,
      "outputs": []
    },
    {
      "cell_type": "markdown",
      "metadata": {
        "id": "Erd_Fg3EOcO7",
        "colab_type": "text"
      },
      "source": [
        "Remove irrelevant features"
      ]
    },
    {
      "cell_type": "code",
      "metadata": {
        "id": "y6hdJ72wtYky",
        "colab_type": "code",
        "colab": {}
      },
      "source": [
        "data.drop(columns=['CountryName', 'RegionCode','RegionName', 'CountryCode','Population','Latitude','Longitude'], inplace=True)\n",
        "weather.drop(columns=['Distance', 'Station','Snowfall','Rainfall'], inplace=True)\n",
        "data_categories.drop(columns=['NewCases', 'NewDeaths'],inplace=True)"
      ],
      "execution_count": 0,
      "outputs": []
    },
    {
      "cell_type": "markdown",
      "metadata": {
        "id": "kqFDsYmKOoYg",
        "colab_type": "text"
      },
      "source": [
        "Load the state-wise data"
      ]
    },
    {
      "cell_type": "code",
      "metadata": {
        "id": "KFYtELAsr9r4",
        "colab_type": "code",
        "outputId": "5d0b227b-51c3-4adb-a883-d007046f4e5c",
        "colab": {
          "base_uri": "https://localhost:8080/",
          "height": 36
        }
      },
      "source": [
        "data = data[data['Key'].notna()]\n",
        "data_regions = data[data['Key'].str.contains('US_')]\n",
        "len(data_regions)"
      ],
      "execution_count": 4,
      "outputs": [
        {
          "output_type": "execute_result",
          "data": {
            "text/plain": [
              "3025"
            ]
          },
          "metadata": {
            "tags": []
          },
          "execution_count": 4
        }
      ]
    },
    {
      "cell_type": "markdown",
      "metadata": {
        "id": "c8u66GhqO0Qf",
        "colab_type": "text"
      },
      "source": [
        "Load the mobility data"
      ]
    },
    {
      "cell_type": "code",
      "metadata": {
        "id": "lXWhwB_LXlg1",
        "colab_type": "code",
        "outputId": "09329f72-efaf-4d05-8655-7b40ab050ab8",
        "colab": {
          "base_uri": "https://localhost:8080/",
          "height": 36
        }
      },
      "source": [
        "mobility = mobility[mobility['Key'].notna()]\n",
        "mobility_regions = mobility[mobility['Key'].str.contains('US_')]\n",
        "mobility_regions = mobility_regions.drop_duplicates(subset=['Key', 'Date'])\n",
        "len(mobility_regions)"
      ],
      "execution_count": 5,
      "outputs": [
        {
          "output_type": "execute_result",
          "data": {
            "text/plain": [
              "3672"
            ]
          },
          "metadata": {
            "tags": []
          },
          "execution_count": 5
        }
      ]
    },
    {
      "cell_type": "markdown",
      "metadata": {
        "id": "ZSz8DbaBO2q1",
        "colab_type": "text"
      },
      "source": [
        "Load the weather data"
      ]
    },
    {
      "cell_type": "code",
      "metadata": {
        "id": "MXvt7KnmXxRA",
        "colab_type": "code",
        "outputId": "774ffad2-ca9d-4f48-98a4-cd3bf95e5536",
        "colab": {
          "base_uri": "https://localhost:8080/",
          "height": 36
        }
      },
      "source": [
        "weather = weather[weather['Key'].notna()]\n",
        "weather_regions = weather[weather['Key'].str.contains('US_')]\n",
        "len(weather_regions)"
      ],
      "execution_count": 6,
      "outputs": [
        {
          "output_type": "execute_result",
          "data": {
            "text/plain": [
              "5330"
            ]
          },
          "metadata": {
            "tags": []
          },
          "execution_count": 6
        }
      ]
    },
    {
      "cell_type": "markdown",
      "metadata": {
        "id": "iewBSMuVO9Br",
        "colab_type": "text"
      },
      "source": [
        "Load the categories data (number of new and current cases based on their severity level)"
      ]
    },
    {
      "cell_type": "code",
      "metadata": {
        "id": "_shW95SYZXcb",
        "colab_type": "code",
        "outputId": "7b55016f-bd74-4577-e9bb-ffeb2ea12aa1",
        "colab": {
          "base_uri": "https://localhost:8080/",
          "height": 36
        }
      },
      "source": [
        "data_categories = data_categories[data_categories['Key'].notna()]\n",
        "data_categories_regions = data_categories[data_categories['Key'].str.contains('US_')]\n",
        "len(data_categories_regions)"
      ],
      "execution_count": 7,
      "outputs": [
        {
          "output_type": "execute_result",
          "data": {
            "text/plain": [
              "2260"
            ]
          },
          "metadata": {
            "tags": []
          },
          "execution_count": 7
        }
      ]
    },
    {
      "cell_type": "markdown",
      "metadata": {
        "id": "kjt4fMZsPE7o",
        "colab_type": "text"
      },
      "source": [
        "## Merge data-sets"
      ]
    },
    {
      "cell_type": "code",
      "metadata": {
        "id": "pW7UxFG_ZcO_",
        "colab_type": "code",
        "colab": {}
      },
      "source": [
        "dw_merged = pd.merge(data_regions, weather_regions, on=['Key', 'Date'], how='outer')\n",
        "dwrc_merged = pd.merge(dw_merged, data_categories_regions, on=['Key', 'Date'], how='outer')\n",
        "dwrcm_merged = pd.merge(dwrc_merged, mobility_regions, on=['Key', 'Date'], how='outer')"
      ],
      "execution_count": 0,
      "outputs": []
    },
    {
      "cell_type": "code",
      "metadata": {
        "id": "HiZFj9FXlHQF",
        "colab_type": "code",
        "colab": {}
      },
      "source": [
        "first_case = dwrcm_merged[dwrcm_merged['Confirmed'].notna()]['Date'].min()\n",
        "dwrcm_merged_first = dwrcm_merged[dwrcm_merged['Date'] >= first_case]"
      ],
      "execution_count": 0,
      "outputs": []
    },
    {
      "cell_type": "code",
      "metadata": {
        "id": "og3OhahclHvd",
        "colab_type": "code",
        "outputId": "48fb075a-de27-4a2d-94f4-0d3b8b3dccac",
        "colab": {
          "base_uri": "https://localhost:8080/",
          "height": 319
        }
      },
      "source": [
        "dwrcm_merged_first['Deaths'].fillna(0, inplace=True)\n",
        "dwrcm_merged_first['Confirmed'].fillna(0, inplace=True)\n",
        "\n",
        "dwrcm_merged_first['RetailAndRecreation'].fillna(0, inplace=True)\n",
        "dwrcm_merged_first['GroceryAndPharmacy'].fillna(0, inplace=True)\n",
        "dwrcm_merged_first['Parks'].fillna(0, inplace=True)\n",
        "dwrcm_merged_first['TransitStations'].fillna(0, inplace=True)\n",
        "dwrcm_merged_first['Workplaces'].fillna(0, inplace=True)\n",
        "dwrcm_merged_first['Residential'].fillna(0, inplace=True)\n",
        "\n",
        "dwrcm_merged_first['NewMild'].fillna(0, inplace=True)\n",
        "dwrcm_merged_first['NewSevere'].fillna(0, inplace=True)\n",
        "dwrcm_merged_first['NewCritical'].fillna(0, inplace=True)\n",
        "dwrcm_merged_first['CurrentlyMild'].fillna(0, inplace=True)\n",
        "dwrcm_merged_first['CurrentlySevere'].fillna(0, inplace=True)\n",
        "dwrcm_merged_first['CurrentlyCritical'].fillna(0, inplace=True)\n",
        "\n",
        "dwrcm_merged_first.head()"
      ],
      "execution_count": 10,
      "outputs": [
        {
          "output_type": "stream",
          "text": [
            "/usr/local/lib/python3.6/dist-packages/pandas/core/generic.py:6245: SettingWithCopyWarning: \n",
            "A value is trying to be set on a copy of a slice from a DataFrame\n",
            "\n",
            "See the caveats in the documentation: https://pandas.pydata.org/pandas-docs/stable/user_guide/indexing.html#returning-a-view-versus-a-copy\n",
            "  self._update_inplace(new_data)\n"
          ],
          "name": "stderr"
        },
        {
          "output_type": "execute_result",
          "data": {
            "text/html": [
              "<div>\n",
              "<style scoped>\n",
              "    .dataframe tbody tr th:only-of-type {\n",
              "        vertical-align: middle;\n",
              "    }\n",
              "\n",
              "    .dataframe tbody tr th {\n",
              "        vertical-align: top;\n",
              "    }\n",
              "\n",
              "    .dataframe thead th {\n",
              "        text-align: right;\n",
              "    }\n",
              "</style>\n",
              "<table border=\"1\" class=\"dataframe\">\n",
              "  <thead>\n",
              "    <tr style=\"text-align: right;\">\n",
              "      <th></th>\n",
              "      <th>Date</th>\n",
              "      <th>Key</th>\n",
              "      <th>Confirmed</th>\n",
              "      <th>Deaths</th>\n",
              "      <th>MinimumTemperature</th>\n",
              "      <th>MaximumTemperature</th>\n",
              "      <th>NewMild</th>\n",
              "      <th>NewSevere</th>\n",
              "      <th>NewCritical</th>\n",
              "      <th>CurrentlyMild</th>\n",
              "      <th>CurrentlySevere</th>\n",
              "      <th>CurrentlyCritical</th>\n",
              "      <th>RetailAndRecreation</th>\n",
              "      <th>GroceryAndPharmacy</th>\n",
              "      <th>Parks</th>\n",
              "      <th>TransitStations</th>\n",
              "      <th>Workplaces</th>\n",
              "      <th>Residential</th>\n",
              "    </tr>\n",
              "  </thead>\n",
              "  <tbody>\n",
              "    <tr>\n",
              "      <th>0</th>\n",
              "      <td>2020-01-22</td>\n",
              "      <td>US_WA</td>\n",
              "      <td>1.0</td>\n",
              "      <td>0.0</td>\n",
              "      <td>-0.2</td>\n",
              "      <td>1.0</td>\n",
              "      <td>0.0</td>\n",
              "      <td>0.0</td>\n",
              "      <td>0.0</td>\n",
              "      <td>0.0</td>\n",
              "      <td>0.0</td>\n",
              "      <td>0.0</td>\n",
              "      <td>0.0</td>\n",
              "      <td>0.0</td>\n",
              "      <td>0.0</td>\n",
              "      <td>0.0</td>\n",
              "      <td>0.0</td>\n",
              "      <td>0.0</td>\n",
              "    </tr>\n",
              "    <tr>\n",
              "      <th>1</th>\n",
              "      <td>2020-01-23</td>\n",
              "      <td>US_WA</td>\n",
              "      <td>1.0</td>\n",
              "      <td>0.0</td>\n",
              "      <td>0.2</td>\n",
              "      <td>3.0</td>\n",
              "      <td>0.0</td>\n",
              "      <td>0.0</td>\n",
              "      <td>0.0</td>\n",
              "      <td>0.0</td>\n",
              "      <td>0.0</td>\n",
              "      <td>0.0</td>\n",
              "      <td>0.0</td>\n",
              "      <td>0.0</td>\n",
              "      <td>0.0</td>\n",
              "      <td>0.0</td>\n",
              "      <td>0.0</td>\n",
              "      <td>0.0</td>\n",
              "    </tr>\n",
              "    <tr>\n",
              "      <th>2</th>\n",
              "      <td>2020-01-24</td>\n",
              "      <td>US_WA</td>\n",
              "      <td>1.0</td>\n",
              "      <td>0.0</td>\n",
              "      <td>1.1</td>\n",
              "      <td>3.2</td>\n",
              "      <td>0.0</td>\n",
              "      <td>0.0</td>\n",
              "      <td>0.0</td>\n",
              "      <td>0.0</td>\n",
              "      <td>0.0</td>\n",
              "      <td>0.0</td>\n",
              "      <td>0.0</td>\n",
              "      <td>0.0</td>\n",
              "      <td>0.0</td>\n",
              "      <td>0.0</td>\n",
              "      <td>0.0</td>\n",
              "      <td>0.0</td>\n",
              "    </tr>\n",
              "    <tr>\n",
              "      <th>3</th>\n",
              "      <td>2020-01-25</td>\n",
              "      <td>US_WA</td>\n",
              "      <td>1.0</td>\n",
              "      <td>0.0</td>\n",
              "      <td>0.7</td>\n",
              "      <td>2.9</td>\n",
              "      <td>0.0</td>\n",
              "      <td>0.0</td>\n",
              "      <td>0.0</td>\n",
              "      <td>0.0</td>\n",
              "      <td>0.0</td>\n",
              "      <td>0.0</td>\n",
              "      <td>0.0</td>\n",
              "      <td>0.0</td>\n",
              "      <td>0.0</td>\n",
              "      <td>0.0</td>\n",
              "      <td>0.0</td>\n",
              "      <td>0.0</td>\n",
              "    </tr>\n",
              "    <tr>\n",
              "      <th>4</th>\n",
              "      <td>2020-01-26</td>\n",
              "      <td>US_WA</td>\n",
              "      <td>1.0</td>\n",
              "      <td>0.0</td>\n",
              "      <td>0.5</td>\n",
              "      <td>1.9</td>\n",
              "      <td>0.0</td>\n",
              "      <td>0.0</td>\n",
              "      <td>0.0</td>\n",
              "      <td>0.0</td>\n",
              "      <td>0.0</td>\n",
              "      <td>0.0</td>\n",
              "      <td>0.0</td>\n",
              "      <td>0.0</td>\n",
              "      <td>0.0</td>\n",
              "      <td>0.0</td>\n",
              "      <td>0.0</td>\n",
              "      <td>0.0</td>\n",
              "    </tr>\n",
              "  </tbody>\n",
              "</table>\n",
              "</div>"
            ],
            "text/plain": [
              "        Date    Key  Confirmed  ...  TransitStations  Workplaces  Residential\n",
              "0 2020-01-22  US_WA        1.0  ...              0.0         0.0          0.0\n",
              "1 2020-01-23  US_WA        1.0  ...              0.0         0.0          0.0\n",
              "2 2020-01-24  US_WA        1.0  ...              0.0         0.0          0.0\n",
              "3 2020-01-25  US_WA        1.0  ...              0.0         0.0          0.0\n",
              "4 2020-01-26  US_WA        1.0  ...              0.0         0.0          0.0\n",
              "\n",
              "[5 rows x 18 columns]"
            ]
          },
          "metadata": {
            "tags": []
          },
          "execution_count": 10
        }
      ]
    },
    {
      "cell_type": "markdown",
      "metadata": {
        "id": "xEcf5wR_PsPc",
        "colab_type": "text"
      },
      "source": [
        "## Calculate the daily rate of change"
      ]
    },
    {
      "cell_type": "code",
      "metadata": {
        "id": "8FwVJP4o0OVl",
        "colab_type": "code",
        "outputId": "ae030d38-26ca-4e6b-ef76-80d91bb2a2ef",
        "colab": {
          "base_uri": "https://localhost:8080/",
          "height": 261
        }
      },
      "source": [
        "dwrcm_merged_first['ConfirmedRateChange'] = dwrcm_merged_first['Confirmed']\n",
        "dwrcm_merged_first['DeathsRateChange'] = dwrcm_merged_first['Deaths']"
      ],
      "execution_count": 11,
      "outputs": [
        {
          "output_type": "stream",
          "text": [
            "/usr/local/lib/python3.6/dist-packages/ipykernel_launcher.py:1: SettingWithCopyWarning: \n",
            "A value is trying to be set on a copy of a slice from a DataFrame.\n",
            "Try using .loc[row_indexer,col_indexer] = value instead\n",
            "\n",
            "See the caveats in the documentation: https://pandas.pydata.org/pandas-docs/stable/user_guide/indexing.html#returning-a-view-versus-a-copy\n",
            "  \"\"\"Entry point for launching an IPython kernel.\n",
            "/usr/local/lib/python3.6/dist-packages/ipykernel_launcher.py:2: SettingWithCopyWarning: \n",
            "A value is trying to be set on a copy of a slice from a DataFrame.\n",
            "Try using .loc[row_indexer,col_indexer] = value instead\n",
            "\n",
            "See the caveats in the documentation: https://pandas.pydata.org/pandas-docs/stable/user_guide/indexing.html#returning-a-view-versus-a-copy\n",
            "  \n"
          ],
          "name": "stderr"
        }
      ]
    },
    {
      "cell_type": "code",
      "metadata": {
        "id": "GdS_rEDN3VR7",
        "colab_type": "code",
        "colab": {}
      },
      "source": [
        "all_keys = pd.unique(dwrcm_merged_first['Key'])\n",
        "all_dates = pd.unique(dwrcm_merged_first['Date'])"
      ],
      "execution_count": 0,
      "outputs": []
    },
    {
      "cell_type": "code",
      "metadata": {
        "id": "eJ6ODUaU38pC",
        "colab_type": "code",
        "colab": {}
      },
      "source": [
        "def change_per_day(current_col_name,new_col_name):\n",
        "  for key in all_keys:\n",
        "    for idx,date in enumerate(all_dates):\n",
        "      condition = (dwrcm_merged_first['Key'] == key) & (dwrcm_merged_first['Date'] == all_dates[idx])\n",
        "\n",
        "      if idx == 0:\n",
        "        continue\n",
        "      condition_prev = (dwrcm_merged_first['Key'] == key) & (dwrcm_merged_first['Date'] == all_dates[idx-1])\n",
        "\n",
        "      current = dwrcm_merged_first.loc[condition,[current_col_name]].values\n",
        "      previous = dwrcm_merged_first.loc[condition_prev,[current_col_name]].values\n",
        "      \n",
        "      if previous:\n",
        "          update_val =  (current - previous) / previous\n",
        "      elif current == 0 and previous == 0:\n",
        "          update_val = 0\n",
        "      else:\n",
        "          # update_val = float('inf')\n",
        "          update_val = current\n",
        "          \n",
        "      dwrcm_merged_first.loc[condition,[new_col_name]] = update_val"
      ],
      "execution_count": 0,
      "outputs": []
    },
    {
      "cell_type": "code",
      "metadata": {
        "id": "5mb2Zcv8Kn0H",
        "colab_type": "code",
        "outputId": "261af3df-eea6-4a41-efcc-773c43143e18",
        "colab": {
          "base_uri": "https://localhost:8080/",
          "height": 224
        }
      },
      "source": [
        "change_per_day('Confirmed','ConfirmedRateChange')\n",
        "change_per_day('Deaths','DeathsRateChange')"
      ],
      "execution_count": 14,
      "outputs": [
        {
          "output_type": "stream",
          "text": [
            "/usr/local/lib/python3.6/dist-packages/pandas/core/indexing.py:966: SettingWithCopyWarning: \n",
            "A value is trying to be set on a copy of a slice from a DataFrame.\n",
            "Try using .loc[row_indexer,col_indexer] = value instead\n",
            "\n",
            "See the caveats in the documentation: https://pandas.pydata.org/pandas-docs/stable/user_guide/indexing.html#returning-a-view-versus-a-copy\n",
            "  self.obj[item] = s\n",
            "/usr/local/lib/python3.6/dist-packages/ipykernel_launcher.py:13: DeprecationWarning: The truth value of an empty array is ambiguous. Returning False, but in future this will result in an error. Use `array.size > 0` to check that an array is not empty.\n",
            "  del sys.path[0]\n",
            "/usr/local/lib/python3.6/dist-packages/ipykernel_launcher.py:15: DeprecationWarning: The truth value of an empty array is ambiguous. Returning False, but in future this will result in an error. Use `array.size > 0` to check that an array is not empty.\n",
            "  from ipykernel import kernelapp as app\n"
          ],
          "name": "stderr"
        }
      ]
    },
    {
      "cell_type": "code",
      "metadata": {
        "id": "2fEOFkYZv_jk",
        "colab_type": "code",
        "colab": {}
      },
      "source": [
        "corona_df = dwrcm_merged_first.drop(columns=['Deaths','Confirmed'])"
      ],
      "execution_count": 0,
      "outputs": []
    },
    {
      "cell_type": "markdown",
      "metadata": {
        "id": "Ia7DHNWcQdgL",
        "colab_type": "text"
      },
      "source": [
        "Filter by date"
      ]
    },
    {
      "cell_type": "code",
      "metadata": {
        "id": "ywIDtJeS1gev",
        "colab_type": "code",
        "colab": {}
      },
      "source": [
        "corona_df = corona_df[(corona_df['Date'] >= '2020-02-28') & (corona_df['Date'] <= '2020-04-25')]"
      ],
      "execution_count": 0,
      "outputs": []
    },
    {
      "cell_type": "markdown",
      "metadata": {
        "id": "dvzcZrA6Q5dW",
        "colab_type": "text"
      },
      "source": [
        "## Convert to categorical data"
      ]
    },
    {
      "cell_type": "code",
      "metadata": {
        "id": "q16r452jg6OH",
        "colab_type": "code",
        "outputId": "6fa2bd1c-36c3-4cd9-e5f9-150ac042593a",
        "colab": {
          "base_uri": "https://localhost:8080/",
          "height": 226
        }
      },
      "source": [
        "def convert_cat(cols_to_categorize, cols_cut_on, percentiles, labels):\n",
        "\n",
        "    corona_df_desc = corona_df.describe(percentiles=percentiles)\n",
        "    cols_cat_on = corona_df_desc.loc[cols_cut_on, cols_to_categorize]\n",
        "\n",
        "    for col in cols_to_categorize:\n",
        "        bin = cols_cat_on[col]\n",
        "        bin[0] = -100\n",
        "        temp = pd.cut(corona_df[col],bins=bin,labels=labels)\n",
        "        corona_df.insert(len(corona_df.columns), col + \"_cat\", temp)\n",
        "\n",
        "convert_cat(['MinimumTemperature','MaximumTemperature','RetailAndRecreation','GroceryAndPharmacy','Parks','TransitStations','Workplaces','Residential','ConfirmedRateChange'], \\\n",
        "            ['min','20%','40%','60%','80%','max'], [.2, .4, .6, .8], [0, 1, 2, 3, 4]) # ['Very Low','Low','Medium','High','Very High']\n",
        "\n",
        "convert_cat(['NewMild','NewSevere','NewCritical','CurrentlyMild','CurrentlySevere','CurrentlyCritical'], \\\n",
        "            ['min','60%','70%','80%','90%','max'], [.6, .7, .8, .9], [0, 1, 2, 3, 4]) # ['Very Low','Low','Medium','High', 'Very High']\n",
        "\n",
        "corona_df.head()"
      ],
      "execution_count": 17,
      "outputs": [
        {
          "output_type": "execute_result",
          "data": {
            "text/html": [
              "<div>\n",
              "<style scoped>\n",
              "    .dataframe tbody tr th:only-of-type {\n",
              "        vertical-align: middle;\n",
              "    }\n",
              "\n",
              "    .dataframe tbody tr th {\n",
              "        vertical-align: top;\n",
              "    }\n",
              "\n",
              "    .dataframe thead th {\n",
              "        text-align: right;\n",
              "    }\n",
              "</style>\n",
              "<table border=\"1\" class=\"dataframe\">\n",
              "  <thead>\n",
              "    <tr style=\"text-align: right;\">\n",
              "      <th></th>\n",
              "      <th>Date</th>\n",
              "      <th>Key</th>\n",
              "      <th>MinimumTemperature</th>\n",
              "      <th>MaximumTemperature</th>\n",
              "      <th>NewMild</th>\n",
              "      <th>NewSevere</th>\n",
              "      <th>NewCritical</th>\n",
              "      <th>CurrentlyMild</th>\n",
              "      <th>CurrentlySevere</th>\n",
              "      <th>CurrentlyCritical</th>\n",
              "      <th>RetailAndRecreation</th>\n",
              "      <th>GroceryAndPharmacy</th>\n",
              "      <th>Parks</th>\n",
              "      <th>TransitStations</th>\n",
              "      <th>Workplaces</th>\n",
              "      <th>Residential</th>\n",
              "      <th>ConfirmedRateChange</th>\n",
              "      <th>DeathsRateChange</th>\n",
              "      <th>MinimumTemperature_cat</th>\n",
              "      <th>MaximumTemperature_cat</th>\n",
              "      <th>RetailAndRecreation_cat</th>\n",
              "      <th>GroceryAndPharmacy_cat</th>\n",
              "      <th>Parks_cat</th>\n",
              "      <th>TransitStations_cat</th>\n",
              "      <th>Workplaces_cat</th>\n",
              "      <th>Residential_cat</th>\n",
              "      <th>ConfirmedRateChange_cat</th>\n",
              "      <th>NewMild_cat</th>\n",
              "      <th>NewSevere_cat</th>\n",
              "      <th>NewCritical_cat</th>\n",
              "      <th>CurrentlyMild_cat</th>\n",
              "      <th>CurrentlySevere_cat</th>\n",
              "      <th>CurrentlyCritical_cat</th>\n",
              "    </tr>\n",
              "  </thead>\n",
              "  <tbody>\n",
              "    <tr>\n",
              "      <th>37</th>\n",
              "      <td>2020-02-28</td>\n",
              "      <td>US_WA</td>\n",
              "      <td>-1.2</td>\n",
              "      <td>7.0</td>\n",
              "      <td>6.0</td>\n",
              "      <td>1.0</td>\n",
              "      <td>0.0</td>\n",
              "      <td>6.0</td>\n",
              "      <td>1.0</td>\n",
              "      <td>0.0</td>\n",
              "      <td>7.0</td>\n",
              "      <td>2.0</td>\n",
              "      <td>31.0</td>\n",
              "      <td>6.0</td>\n",
              "      <td>3.0</td>\n",
              "      <td>-2.0</td>\n",
              "      <td>3.500000</td>\n",
              "      <td>1.00</td>\n",
              "      <td>1</td>\n",
              "      <td>0</td>\n",
              "      <td>4</td>\n",
              "      <td>3</td>\n",
              "      <td>3</td>\n",
              "      <td>4</td>\n",
              "      <td>4</td>\n",
              "      <td>0</td>\n",
              "      <td>4</td>\n",
              "      <td>0</td>\n",
              "      <td>0</td>\n",
              "      <td>0</td>\n",
              "      <td>0</td>\n",
              "      <td>0</td>\n",
              "      <td>0</td>\n",
              "    </tr>\n",
              "    <tr>\n",
              "      <th>38</th>\n",
              "      <td>2020-02-29</td>\n",
              "      <td>US_WA</td>\n",
              "      <td>-5.1</td>\n",
              "      <td>0.6</td>\n",
              "      <td>7.0</td>\n",
              "      <td>1.0</td>\n",
              "      <td>0.0</td>\n",
              "      <td>13.0</td>\n",
              "      <td>2.0</td>\n",
              "      <td>1.0</td>\n",
              "      <td>7.0</td>\n",
              "      <td>7.0</td>\n",
              "      <td>31.0</td>\n",
              "      <td>5.0</td>\n",
              "      <td>2.0</td>\n",
              "      <td>-1.0</td>\n",
              "      <td>1.000000</td>\n",
              "      <td>0.25</td>\n",
              "      <td>0</td>\n",
              "      <td>0</td>\n",
              "      <td>4</td>\n",
              "      <td>3</td>\n",
              "      <td>3</td>\n",
              "      <td>4</td>\n",
              "      <td>4</td>\n",
              "      <td>0</td>\n",
              "      <td>4</td>\n",
              "      <td>0</td>\n",
              "      <td>0</td>\n",
              "      <td>0</td>\n",
              "      <td>0</td>\n",
              "      <td>0</td>\n",
              "      <td>0</td>\n",
              "    </tr>\n",
              "    <tr>\n",
              "      <th>39</th>\n",
              "      <td>2020-03-01</td>\n",
              "      <td>US_MI</td>\n",
              "      <td>-8.9</td>\n",
              "      <td>1.7</td>\n",
              "      <td>0.0</td>\n",
              "      <td>0.0</td>\n",
              "      <td>0.0</td>\n",
              "      <td>0.0</td>\n",
              "      <td>0.0</td>\n",
              "      <td>0.0</td>\n",
              "      <td>17.0</td>\n",
              "      <td>10.0</td>\n",
              "      <td>57.0</td>\n",
              "      <td>23.0</td>\n",
              "      <td>5.0</td>\n",
              "      <td>-2.0</td>\n",
              "      <td>9.000000</td>\n",
              "      <td>0.00</td>\n",
              "      <td>0</td>\n",
              "      <td>0</td>\n",
              "      <td>4</td>\n",
              "      <td>4</td>\n",
              "      <td>4</td>\n",
              "      <td>4</td>\n",
              "      <td>4</td>\n",
              "      <td>0</td>\n",
              "      <td>4</td>\n",
              "      <td>0</td>\n",
              "      <td>0</td>\n",
              "      <td>0</td>\n",
              "      <td>0</td>\n",
              "      <td>0</td>\n",
              "      <td>0</td>\n",
              "    </tr>\n",
              "    <tr>\n",
              "      <th>40</th>\n",
              "      <td>2020-03-01</td>\n",
              "      <td>US_RI</td>\n",
              "      <td>-7.8</td>\n",
              "      <td>3.3</td>\n",
              "      <td>0.0</td>\n",
              "      <td>0.0</td>\n",
              "      <td>0.0</td>\n",
              "      <td>0.0</td>\n",
              "      <td>0.0</td>\n",
              "      <td>0.0</td>\n",
              "      <td>13.0</td>\n",
              "      <td>7.0</td>\n",
              "      <td>-3.0</td>\n",
              "      <td>9.0</td>\n",
              "      <td>5.0</td>\n",
              "      <td>-1.0</td>\n",
              "      <td>1.000000</td>\n",
              "      <td>0.00</td>\n",
              "      <td>0</td>\n",
              "      <td>0</td>\n",
              "      <td>4</td>\n",
              "      <td>3</td>\n",
              "      <td>1</td>\n",
              "      <td>4</td>\n",
              "      <td>4</td>\n",
              "      <td>0</td>\n",
              "      <td>4</td>\n",
              "      <td>0</td>\n",
              "      <td>0</td>\n",
              "      <td>0</td>\n",
              "      <td>0</td>\n",
              "      <td>0</td>\n",
              "      <td>0</td>\n",
              "    </tr>\n",
              "    <tr>\n",
              "      <th>41</th>\n",
              "      <td>2020-03-01</td>\n",
              "      <td>US_WA</td>\n",
              "      <td>-5.4</td>\n",
              "      <td>0.6</td>\n",
              "      <td>10.0</td>\n",
              "      <td>2.0</td>\n",
              "      <td>1.0</td>\n",
              "      <td>22.0</td>\n",
              "      <td>4.0</td>\n",
              "      <td>1.0</td>\n",
              "      <td>18.0</td>\n",
              "      <td>10.0</td>\n",
              "      <td>27.0</td>\n",
              "      <td>9.0</td>\n",
              "      <td>2.0</td>\n",
              "      <td>-1.0</td>\n",
              "      <td>0.666667</td>\n",
              "      <td>0.60</td>\n",
              "      <td>0</td>\n",
              "      <td>0</td>\n",
              "      <td>4</td>\n",
              "      <td>4</td>\n",
              "      <td>3</td>\n",
              "      <td>4</td>\n",
              "      <td>4</td>\n",
              "      <td>0</td>\n",
              "      <td>4</td>\n",
              "      <td>0</td>\n",
              "      <td>0</td>\n",
              "      <td>0</td>\n",
              "      <td>0</td>\n",
              "      <td>0</td>\n",
              "      <td>0</td>\n",
              "    </tr>\n",
              "  </tbody>\n",
              "</table>\n",
              "</div>"
            ],
            "text/plain": [
              "         Date    Key  ...  CurrentlySevere_cat  CurrentlyCritical_cat\n",
              "37 2020-02-28  US_WA  ...                    0                      0\n",
              "38 2020-02-29  US_WA  ...                    0                      0\n",
              "39 2020-03-01  US_MI  ...                    0                      0\n",
              "40 2020-03-01  US_RI  ...                    0                      0\n",
              "41 2020-03-01  US_WA  ...                    0                      0\n",
              "\n",
              "[5 rows x 33 columns]"
            ]
          },
          "metadata": {
            "tags": []
          },
          "execution_count": 17
        }
      ]
    },
    {
      "cell_type": "code",
      "metadata": {
        "id": "1-tThMCFuRk9",
        "colab_type": "code",
        "outputId": "49b9f382-7ca9-4d31-db9c-a84c5331851b",
        "colab": {
          "base_uri": "https://localhost:8080/",
          "height": 185
        }
      },
      "source": [
        "corona_df[corona_df['DeathsRateChange'] > 0]['DeathsRateChange'].describe()"
      ],
      "execution_count": 18,
      "outputs": [
        {
          "output_type": "execute_result",
          "data": {
            "text/plain": [
              "count    1500.000000\n",
              "mean        0.265558\n",
              "std         0.447283\n",
              "min         0.005682\n",
              "25%         0.070234\n",
              "50%         0.130246\n",
              "75%         0.268527\n",
              "max         9.000000\n",
              "Name: DeathsRateChange, dtype: float64"
            ]
          },
          "metadata": {
            "tags": []
          },
          "execution_count": 18
        }
      ]
    },
    {
      "cell_type": "code",
      "metadata": {
        "id": "4v0-FT3jr-9o",
        "colab_type": "code",
        "colab": {}
      },
      "source": [
        "death_rate_change_cat = pd.cut(corona_df['DeathsRateChange'],bins=[-1, 0.00001, 0.129882, 0.224314, 0.412724, 9.000000],labels=[0, 1, 2, 3, 4]) # ['Zero','Very Low','Low','Medium','High']\n",
        "death_rate_change_cat.value_counts()\n",
        "corona_df.insert(len(corona_df.columns), 'DeathsRateChange_cat', death_rate_change_cat)"
      ],
      "execution_count": 0,
      "outputs": []
    },
    {
      "cell_type": "markdown",
      "metadata": {
        "id": "WFPxXdSdNy_Q",
        "colab_type": "text"
      },
      "source": [
        "## Ready the data for model training and testing"
      ]
    },
    {
      "cell_type": "code",
      "metadata": {
        "id": "IsEeunpC1cnz",
        "colab_type": "code",
        "colab": {}
      },
      "source": [
        "corona_df.to_csv(\"corona_categorized.csv\")"
      ],
      "execution_count": 0,
      "outputs": []
    },
    {
      "cell_type": "code",
      "metadata": {
        "id": "KRvhNwN9K1bW",
        "colab_type": "code",
        "colab": {}
      },
      "source": [
        "input = corona_df[['NewMild_cat', 'NewSevere_cat', 'NewCritical_cat', 'CurrentlyMild_cat', 'CurrentlySevere_cat',\n",
        "       'CurrentlyCritical_cat', 'RetailAndRecreation_cat', 'GroceryAndPharmacy_cat',\n",
        "       'Parks_cat', 'TransitStations_cat', 'Workplaces_cat', 'Residential_cat',\n",
        "       'DeathsRateChange_cat']]\n",
        "output = corona_df['ConfirmedRateChange_cat'] "
      ],
      "execution_count": 0,
      "outputs": []
    },
    {
      "cell_type": "code",
      "metadata": {
        "id": "cWB4JcZ2KH78",
        "colab_type": "code",
        "outputId": "69c7ab16-6c49-4f66-c95b-fab5c7dc2de3",
        "colab": {
          "base_uri": "https://localhost:8080/",
          "height": 129
        }
      },
      "source": [
        "input.columns"
      ],
      "execution_count": 22,
      "outputs": [
        {
          "output_type": "execute_result",
          "data": {
            "text/plain": [
              "Index(['NewMild_cat', 'NewSevere_cat', 'NewCritical_cat', 'CurrentlyMild_cat',\n",
              "       'CurrentlySevere_cat', 'CurrentlyCritical_cat',\n",
              "       'RetailAndRecreation_cat', 'GroceryAndPharmacy_cat', 'Parks_cat',\n",
              "       'TransitStations_cat', 'Workplaces_cat', 'Residential_cat',\n",
              "       'DeathsRateChange_cat'],\n",
              "      dtype='object')"
            ]
          },
          "metadata": {
            "tags": []
          },
          "execution_count": 22
        }
      ]
    },
    {
      "cell_type": "code",
      "metadata": {
        "id": "OChq6cITPrnh",
        "colab_type": "code",
        "outputId": "bbba093d-90b3-42e6-a430-d2ae7fbfe68e",
        "colab": {
          "base_uri": "https://localhost:8080/",
          "height": 241
        }
      },
      "source": [
        "from sklearn.model_selection import train_test_split\n",
        "x_train,x_test,y_train,y_test = train_test_split(input,output,test_size=0.2, random_state=42, shuffle=True)\n",
        "print(y_test.value_counts())\n",
        "print(y_train.value_counts())"
      ],
      "execution_count": 23,
      "outputs": [
        {
          "output_type": "stream",
          "text": [
            "1    126\n",
            "0    126\n",
            "4    119\n",
            "3    111\n",
            "2    110\n",
            "Name: ConfirmedRateChange_cat, dtype: int64\n",
            "0    490\n",
            "2    482\n",
            "3    480\n",
            "4    473\n",
            "1    441\n",
            "Name: ConfirmedRateChange_cat, dtype: int64\n"
          ],
          "name": "stdout"
        }
      ]
    },
    {
      "cell_type": "markdown",
      "metadata": {
        "id": "NJ8Pzho8N90h",
        "colab_type": "text"
      },
      "source": [
        "# Apply sklearn library algorithms to get an idea about the performance of different algorithms with default values"
      ]
    },
    {
      "cell_type": "code",
      "metadata": {
        "id": "NUOvicaM91z2",
        "colab_type": "code",
        "colab": {}
      },
      "source": [
        "from sklearn.ensemble import RandomForestClassifier\n",
        "from sklearn.svm import SVC\n",
        "from sklearn.neighbors import KNeighborsClassifier\n",
        "from sklearn.linear_model import LogisticRegression\n",
        "from sklearn.naive_bayes import GaussianNB\n",
        "from xgboost import XGBClassifier\n",
        "\n",
        "from sklearn.metrics import classification_report,confusion_matrix,accuracy_score\n",
        "\n",
        "def run_model(model):\n",
        "  model.fit(x_train,y_train)\n",
        "  predicted = model.predict(x_test)\n",
        "  print(model.score(x_train, y_train))\n",
        "  print(accuracy_score(y_test, predicted))"
      ],
      "execution_count": 0,
      "outputs": []
    },
    {
      "cell_type": "code",
      "metadata": {
        "id": "strcTgqEzze8",
        "colab_type": "code",
        "outputId": "1fe5986b-e407-4d96-cb90-94ad3dbc44e0",
        "colab": {
          "base_uri": "https://localhost:8080/",
          "height": 54
        }
      },
      "source": [
        "run_model(SVC(C=1, kernel='linear'))"
      ],
      "execution_count": 25,
      "outputs": [
        {
          "output_type": "stream",
          "text": [
            "0.5832628909551987\n",
            "0.5726351351351351\n"
          ],
          "name": "stdout"
        }
      ]
    },
    {
      "cell_type": "code",
      "metadata": {
        "id": "BwygneHldzoy",
        "colab_type": "code",
        "outputId": "846b4b96-d138-474d-a861-be17dba75b25",
        "colab": {
          "base_uri": "https://localhost:8080/",
          "height": 54
        }
      },
      "source": [
        "run_model(SVC(C=0.1, kernel='poly'))"
      ],
      "execution_count": 26,
      "outputs": [
        {
          "output_type": "stream",
          "text": [
            "0.6027049873203719\n",
            "0.5743243243243243\n"
          ],
          "name": "stdout"
        }
      ]
    },
    {
      "cell_type": "code",
      "metadata": {
        "id": "X4emrbB7LoH6",
        "colab_type": "code",
        "outputId": "8742ac27-810f-461b-ce59-eff194ad091d",
        "colab": {
          "base_uri": "https://localhost:8080/",
          "height": 54
        }
      },
      "source": [
        "run_model(SVC(C=10, kernel='rbf'))"
      ],
      "execution_count": 27,
      "outputs": [
        {
          "output_type": "stream",
          "text": [
            "0.680050718512257\n",
            "0.5945945945945946\n"
          ],
          "name": "stdout"
        }
      ]
    },
    {
      "cell_type": "code",
      "metadata": {
        "id": "_wBFVg4348yd",
        "colab_type": "code",
        "outputId": "0389260a-245d-41a3-de89-58d51fb0397d",
        "colab": {
          "base_uri": "https://localhost:8080/",
          "height": 54
        }
      },
      "source": [
        "run_model(KNeighborsClassifier(n_neighbors=10))"
      ],
      "execution_count": 28,
      "outputs": [
        {
          "output_type": "stream",
          "text": [
            "0.6373626373626373\n",
            "0.5591216216216216\n"
          ],
          "name": "stdout"
        }
      ]
    },
    {
      "cell_type": "code",
      "metadata": {
        "id": "u6bISW0lMajA",
        "colab_type": "code",
        "outputId": "a23150a5-0ac4-47c2-88fc-f17932378c03",
        "colab": {
          "base_uri": "https://localhost:8080/",
          "height": 204
        }
      },
      "source": [
        "run_model(LogisticRegression(max_iter=100))"
      ],
      "execution_count": 29,
      "outputs": [
        {
          "output_type": "stream",
          "text": [
            "0.5862214708368555\n",
            "0.5675675675675675\n"
          ],
          "name": "stdout"
        },
        {
          "output_type": "stream",
          "text": [
            "/usr/local/lib/python3.6/dist-packages/sklearn/linear_model/_logistic.py:940: ConvergenceWarning: lbfgs failed to converge (status=1):\n",
            "STOP: TOTAL NO. of ITERATIONS REACHED LIMIT.\n",
            "\n",
            "Increase the number of iterations (max_iter) or scale the data as shown in:\n",
            "    https://scikit-learn.org/stable/modules/preprocessing.html\n",
            "Please also refer to the documentation for alternative solver options:\n",
            "    https://scikit-learn.org/stable/modules/linear_model.html#logistic-regression\n",
            "  extra_warning_msg=_LOGISTIC_SOLVER_CONVERGENCE_MSG)\n"
          ],
          "name": "stderr"
        }
      ]
    },
    {
      "cell_type": "code",
      "metadata": {
        "id": "h6BsfO9DZX1n",
        "colab_type": "code",
        "outputId": "dae320b0-eb92-42ed-8c57-07c87d5b7cdd",
        "colab": {
          "base_uri": "https://localhost:8080/",
          "height": 54
        }
      },
      "source": [
        "run_model(GaussianNB(var_smoothing=0.1))"
      ],
      "execution_count": 30,
      "outputs": [
        {
          "output_type": "stream",
          "text": [
            "0.4370245139475909\n",
            "0.4172297297297297\n"
          ],
          "name": "stdout"
        }
      ]
    },
    {
      "cell_type": "code",
      "metadata": {
        "id": "Cp_wkasZ4_k7",
        "colab_type": "code",
        "outputId": "a3913b82-ffdc-4eae-96ef-b69d20ce994c",
        "colab": {
          "base_uri": "https://localhost:8080/",
          "height": 54
        }
      },
      "source": [
        "run_model(RandomForestClassifier(n_estimators=100,criterion='entropy',random_state=42))"
      ],
      "execution_count": 31,
      "outputs": [
        {
          "output_type": "stream",
          "text": [
            "0.8651732882502113\n",
            "0.5912162162162162\n"
          ],
          "name": "stdout"
        }
      ]
    },
    {
      "cell_type": "code",
      "metadata": {
        "id": "YoEfVQoHCCjJ",
        "colab_type": "code",
        "outputId": "72dfb632-ee46-4546-f4ec-d9215aae016b",
        "colab": {
          "base_uri": "https://localhost:8080/",
          "height": 411
        }
      },
      "source": [
        "cols = x_train.columns\n",
        "x_train[cols]= x_train[cols].apply(pd.to_numeric)\n",
        "x_test[cols]= x_test[cols].apply(pd.to_numeric)\n",
        "print(x_train.dtypes)"
      ],
      "execution_count": 32,
      "outputs": [
        {
          "output_type": "stream",
          "text": [
            "NewMild_cat                int64\n",
            "NewSevere_cat              int64\n",
            "NewCritical_cat            int64\n",
            "CurrentlyMild_cat          int64\n",
            "CurrentlySevere_cat        int64\n",
            "CurrentlyCritical_cat      int64\n",
            "RetailAndRecreation_cat    int64\n",
            "GroceryAndPharmacy_cat     int64\n",
            "Parks_cat                  int64\n",
            "TransitStations_cat        int64\n",
            "Workplaces_cat             int64\n",
            "Residential_cat            int64\n",
            "DeathsRateChange_cat       int64\n",
            "dtype: object\n"
          ],
          "name": "stdout"
        },
        {
          "output_type": "stream",
          "text": [
            "/usr/local/lib/python3.6/dist-packages/pandas/core/frame.py:2963: SettingWithCopyWarning: \n",
            "A value is trying to be set on a copy of a slice from a DataFrame.\n",
            "Try using .loc[row_indexer,col_indexer] = value instead\n",
            "\n",
            "See the caveats in the documentation: https://pandas.pydata.org/pandas-docs/stable/user_guide/indexing.html#returning-a-view-versus-a-copy\n",
            "  self[k1] = value[k2]\n"
          ],
          "name": "stderr"
        }
      ]
    },
    {
      "cell_type": "code",
      "metadata": {
        "id": "53N90Uz2Dpw1",
        "colab_type": "code",
        "outputId": "4834487e-055d-4d41-ccdc-73f64b83cd83",
        "colab": {
          "base_uri": "https://localhost:8080/",
          "height": 54
        }
      },
      "source": [
        "run_model(XGBClassifier(random_state=42,max_depth=5, learning_rate=0.01,n_estimators=600))\n"
      ],
      "execution_count": 33,
      "outputs": [
        {
          "output_type": "stream",
          "text": [
            "0.6808960270498732\n",
            "0.597972972972973\n"
          ],
          "name": "stdout"
        }
      ]
    },
    {
      "cell_type": "markdown",
      "metadata": {
        "id": "QT8MymmONOEl",
        "colab_type": "text"
      },
      "source": [
        "# Custom KNN implementation"
      ]
    },
    {
      "cell_type": "code",
      "metadata": {
        "id": "XxrvRtCqZj77",
        "colab_type": "code",
        "colab": {}
      },
      "source": [
        "from sklearn.model_selection import KFold, cross_val_score"
      ],
      "execution_count": 0,
      "outputs": []
    },
    {
      "cell_type": "code",
      "metadata": {
        "id": "rkFZyGdWDyf_",
        "colab_type": "code",
        "colab": {}
      },
      "source": [
        "class KNN():\n",
        "  def __init__(self,k=5):\n",
        "    self.k = k\n",
        "  \n",
        "  def euclidean_dist(self,row1, row2):\n",
        "    dist = 0 \n",
        "    for i in range(len(row1)-1):\n",
        "      dist += (row1[i]-row2[i])**2\n",
        "    return dist**0.5\n",
        "  \n",
        "  def get_neighbors(self,train,test_row,k):\n",
        "    dist =  []\n",
        "    for row in train : \n",
        "      dist.append((row,self.euclidean_dist(row,test_row)))\n",
        "    dist.sort(key = lambda x : x[1])\n",
        "    \n",
        "    neighbors = []\n",
        "    for i in range(k):\n",
        "      neighbors.append(dist[i][0])\n",
        "    return np.array(neighbors)\n",
        "\n",
        "  #to be used for train-test split\n",
        "  def predict(self,x_train,y_train,x_test,y_test):\n",
        "    train_rows = np.column_stack((x_train,y_train))\n",
        "    test_rows = np.column_stack((x_test,y_test))\n",
        "    predicted = []\n",
        "    for row in test_rows:\n",
        "      neighbors = self.get_neighbors(train_rows,row,self.k)\n",
        "      predicted_classes = [x[-1] for x in neighbors]\n",
        "      values,counts = np.unique(predicted_classes,return_counts=True)\n",
        "      pred = values[np.argmax(counts)]\n",
        "      predicted.append(pred)\n",
        "    return np.array(predicted)\n",
        "  \n",
        "  def pred(self,train,test):\n",
        "    predicted = []\n",
        "    for row in test:\n",
        "      neighbors = self.get_neighbors(train,row,self.k)\n",
        "      predicted_classes = [x[-1] for x in neighbors]\n",
        "      values,counts = np.unique(predicted_classes,return_counts=True)\n",
        "      pred = values[np.argmax(counts)]\n",
        "      predicted.append(pred)\n",
        "    return np.array(predicted)\n",
        "  \n",
        "  #to be used for nFold cross validation\n",
        "  def fit(self,x_train,y_train,nFolds=5):\n",
        "    X = np.column_stack((x_train,y_train))\n",
        "    kFold = KFold(n_splits=nFolds)\n",
        "    scores = []\n",
        "\n",
        "    for train_indices, test_indices in kFold.split(X):\n",
        "      train_rows,test_rows = X[train_indices],X[test_indices]\n",
        "      \n",
        "      predicted = self.pred(train_rows,test_rows)\n",
        "      # print(predicted,test_rows[:,-1])\n",
        "      scores.append(self.evaluate(predicted,test_rows[:,-1]))\n",
        "    # print(scores)\n",
        "    return np.array(scores).mean()\n",
        "      \n",
        "  @staticmethod\n",
        "  def evaluate(predicted_labels, correct_labels):\n",
        "    return sum(p==t for p,t in zip(predicted_labels,correct_labels))/len(predicted_labels)\n",
        "\n",
        "  @staticmethod\n",
        "  def classificationReport(y_pred,y_true):\n",
        "    print(classification_report(y_true,y_pred))\n",
        "    print(\"Confusion matrix:\")\n",
        "    print(confusion_matrix(y_true,y_pred))\n"
      ],
      "execution_count": 0,
      "outputs": []
    },
    {
      "cell_type": "code",
      "metadata": {
        "id": "krrFrkWW5p2z",
        "colab_type": "code",
        "outputId": "40e8cabc-9579-4c0b-f0d8-8243c597d01e",
        "colab": {
          "base_uri": "https://localhost:8080/",
          "height": 372
        }
      },
      "source": [
        "model = KNN(k=12)\n",
        "pred =model.predict(x_train,y_train,x_test,y_test )\n",
        "\n",
        "print('Accuracy:',model.evaluate(pred,y_test))\n",
        "model.classificationReport(pred,y_test)"
      ],
      "execution_count": 36,
      "outputs": [
        {
          "output_type": "stream",
          "text": [
            "Accuracy: 0.5422297297297297\n",
            "              precision    recall  f1-score   support\n",
            "\n",
            "           0       0.72      0.90      0.80       126\n",
            "           1       0.60      0.63      0.62       126\n",
            "           2       0.39      0.42      0.40       110\n",
            "           3       0.39      0.32      0.35       111\n",
            "           4       0.51      0.39      0.44       119\n",
            "\n",
            "    accuracy                           0.54       592\n",
            "   macro avg       0.52      0.53      0.52       592\n",
            "weighted avg       0.53      0.54      0.53       592\n",
            "\n",
            "Confusion matrix:\n",
            "[[113   0   1   0  12]\n",
            " [  1  80  32  11   2]\n",
            " [  3  37  46  15   9]\n",
            " [  7  12  34  36  22]\n",
            " [ 33   4   5  31  46]]\n"
          ],
          "name": "stdout"
        }
      ]
    },
    {
      "cell_type": "markdown",
      "metadata": {
        "id": "f4SxH7X3NXae",
        "colab_type": "text"
      },
      "source": [
        "**Using Train Test Split**"
      ]
    },
    {
      "cell_type": "code",
      "metadata": {
        "id": "fQxlkLxn7nE-",
        "colab_type": "code",
        "outputId": "cdc00ed8-e944-42b3-83db-694a2ff668b2",
        "colab": {
          "base_uri": "https://localhost:8080/",
          "height": 391
        }
      },
      "source": [
        "tts = {}\n",
        "for no in range(1,21):\n",
        "  model = KNN(k=no)\n",
        "  pred =model.predict(x_train,y_train,x_test,y_test )\n",
        "  tts[no]= model.evaluate(pred,y_test)\n",
        "\n",
        "tts"
      ],
      "execution_count": 37,
      "outputs": [
        {
          "output_type": "execute_result",
          "data": {
            "text/plain": [
              "{1: 0.5489864864864865,\n",
              " 2: 0.527027027027027,\n",
              " 3: 0.5489864864864865,\n",
              " 4: 0.5472972972972973,\n",
              " 5: 0.5405405405405406,\n",
              " 6: 0.5709459459459459,\n",
              " 7: 0.5760135135135135,\n",
              " 8: 0.5675675675675675,\n",
              " 9: 0.5658783783783784,\n",
              " 10: 0.5608108108108109,\n",
              " 11: 0.5591216216216216,\n",
              " 12: 0.5422297297297297,\n",
              " 13: 0.5422297297297297,\n",
              " 14: 0.543918918918919,\n",
              " 15: 0.5489864864864865,\n",
              " 16: 0.5523648648648649,\n",
              " 17: 0.5506756756756757,\n",
              " 18: 0.5472972972972973,\n",
              " 19: 0.5422297297297297,\n",
              " 20: 0.5489864864864865}"
            ]
          },
          "metadata": {
            "tags": []
          },
          "execution_count": 37
        }
      ]
    },
    {
      "cell_type": "markdown",
      "metadata": {
        "id": "yEspHDw-Nfqo",
        "colab_type": "text"
      },
      "source": [
        "**Using Nfold Cross Validation**"
      ]
    },
    {
      "cell_type": "code",
      "metadata": {
        "id": "WhrbMbVqWgoX",
        "colab_type": "code",
        "outputId": "ecbed3b8-3dce-4d87-a373-3fb1ade31312",
        "colab": {
          "base_uri": "https://localhost:8080/",
          "height": 54
        }
      },
      "source": [
        "model = KNN(k=7)\n",
        "X,y = input,output\n",
        "print(X.shape,y.shape)\n",
        "\n",
        "model.fit(X,y)"
      ],
      "execution_count": 38,
      "outputs": [
        {
          "output_type": "stream",
          "text": [
            "(2958, 13) (2958,)\n"
          ],
          "name": "stdout"
        },
        {
          "output_type": "execute_result",
          "data": {
            "text/plain": [
              "0.4209379430191613"
            ]
          },
          "metadata": {
            "tags": []
          },
          "execution_count": 38
        }
      ]
    },
    {
      "cell_type": "code",
      "metadata": {
        "id": "ifB_7PZ_v5eR",
        "colab_type": "code",
        "outputId": "391fc665-c498-41e7-9f35-7e73e3b3e16b",
        "colab": {
          "base_uri": "https://localhost:8080/",
          "height": 391
        }
      },
      "source": [
        "cv_scores = {}\n",
        "for no in range(1,21):\n",
        "  model = KNN(k=no)\n",
        "  cv_scores[no] =model.fit(X,y,nFolds=10)\n",
        "cv_scores"
      ],
      "execution_count": 39,
      "outputs": [
        {
          "output_type": "execute_result",
          "data": {
            "text/plain": [
              "{1: 0.385683692166743,\n",
              " 2: 0.4242888227210261,\n",
              " 3: 0.418183692166743,\n",
              " 4: 0.4472915712322492,\n",
              " 5: 0.447638570774164,\n",
              " 6: 0.45136738433348605,\n",
              " 7: 0.45171438387540086,\n",
              " 8: 0.4598671552908842,\n",
              " 9: 0.46019354099862575,\n",
              " 10: 0.4602153000458086,\n",
              " 11: 0.45276797984425105,\n",
              " 12: 0.47310123683005034,\n",
              " 13: 0.4669983967017865,\n",
              " 14: 0.4774919835089326,\n",
              " 15: 0.46631126889601465,\n",
              " 16: 0.477485112230875,\n",
              " 17: 0.47274507558405865,\n",
              " 18: 0.4768082913421896,\n",
              " 19: 0.4757936326156666,\n",
              " 20: 0.47173270728355476}"
            ]
          },
          "metadata": {
            "tags": []
          },
          "execution_count": 39
        }
      ]
    },
    {
      "cell_type": "code",
      "metadata": {
        "id": "SyMnvkDQc9Ro",
        "colab_type": "code",
        "outputId": "2536e9c6-986e-439c-876d-2c4ddbf2e03b",
        "colab": {
          "base_uri": "https://localhost:8080/",
          "height": 391
        }
      },
      "source": [
        "list(cv_scores.values())"
      ],
      "execution_count": 40,
      "outputs": [
        {
          "output_type": "execute_result",
          "data": {
            "text/plain": [
              "[0.385683692166743,\n",
              " 0.4242888227210261,\n",
              " 0.418183692166743,\n",
              " 0.4472915712322492,\n",
              " 0.447638570774164,\n",
              " 0.45136738433348605,\n",
              " 0.45171438387540086,\n",
              " 0.4598671552908842,\n",
              " 0.46019354099862575,\n",
              " 0.4602153000458086,\n",
              " 0.45276797984425105,\n",
              " 0.47310123683005034,\n",
              " 0.4669983967017865,\n",
              " 0.4774919835089326,\n",
              " 0.46631126889601465,\n",
              " 0.477485112230875,\n",
              " 0.47274507558405865,\n",
              " 0.4768082913421896,\n",
              " 0.4757936326156666,\n",
              " 0.47173270728355476]"
            ]
          },
          "metadata": {
            "tags": []
          },
          "execution_count": 40
        }
      ]
    },
    {
      "cell_type": "markdown",
      "metadata": {
        "id": "olkgTEu-Np7L",
        "colab_type": "text"
      },
      "source": [
        "**Using Scikit Learn Library**\n",
        "\n"
      ]
    },
    {
      "cell_type": "code",
      "metadata": {
        "id": "Ozxob_ZScnqd",
        "colab_type": "code",
        "outputId": "f3696144-5b23-4b81-98fa-23a7f1e3e23d",
        "colab": {
          "base_uri": "https://localhost:8080/",
          "height": 391
        }
      },
      "source": [
        "sk_scores = []\n",
        "sk_range = range(1,21)\n",
        "\n",
        "for k in sk_range:\n",
        "  knn = KNeighborsClassifier(n_neighbors=k)\n",
        "  loss = abs(cross_val_score(knn, X, y, cv=10, scoring='accuracy'))\n",
        "  sk_scores.append(loss.mean())\n",
        "sk_scores"
      ],
      "execution_count": 41,
      "outputs": [
        {
          "output_type": "execute_result",
          "data": {
            "text/plain": [
              "[0.4408783783783784,\n",
              " 0.44558634906092537,\n",
              " 0.4242842418689877,\n",
              " 0.4567372881355933,\n",
              " 0.45606275767292714,\n",
              " 0.48210833715071005,\n",
              " 0.4753424186898763,\n",
              " 0.48007214841960605,\n",
              " 0.48343334860284015,\n",
              " 0.48546953733394405,\n",
              " 0.4857970682546954,\n",
              " 0.49356733852496565,\n",
              " 0.4902015574896931,\n",
              " 0.4956035272560696,\n",
              " 0.49256756756756753,\n",
              " 0.49595052679798446,\n",
              " 0.4969525881814018,\n",
              " 0.4993243243243244,\n",
              " 0.507767979844251,\n",
              " 0.5091216216216218]"
            ]
          },
          "metadata": {
            "tags": []
          },
          "execution_count": 41
        }
      ]
    },
    {
      "cell_type": "markdown",
      "metadata": {
        "id": "hflhLJakN8-_",
        "colab_type": "text"
      },
      "source": [
        "**Plot graph**"
      ]
    },
    {
      "cell_type": "code",
      "metadata": {
        "id": "eqXB-V7fdJz_",
        "colab_type": "code",
        "outputId": "ec46471e-ec7c-4b87-dc14-ce06b1eb3369",
        "colab": {
          "base_uri": "https://localhost:8080/",
          "height": 279
        }
      },
      "source": [
        "import matplotlib.pyplot as plt \n",
        "%matplotlib inline\n",
        "\n",
        "# cross validation comaprision\n",
        "plt.plot(list(cv_scores.values()),label='Custom')\n",
        "plt.plot(sk_scores,label='Sklearn')\n",
        "plt.xlabel('Value of K for KNN')\n",
        "plt.ylabel('Cross-Validated Accuracy')\n",
        "\n",
        "plt.legend()\n",
        "plt.show()"
      ],
      "execution_count": 42,
      "outputs": [
        {
          "output_type": "display_data",
          "data": {
            "image/png": "[encoded data removed]",
            "text/plain": [
              "<Figure size 432x288 with 1 Axes>"
            ]
          },
          "metadata": {
            "tags": [],
            "needs_background": "light"
          }
        }
      ]
    },
    {
      "cell_type": "markdown",
      "metadata": {
        "id": "tpPtmIHzNSnU",
        "colab_type": "text"
      },
      "source": [
        "# Custom SVM Implementation"
      ]
    },
    {
      "cell_type": "code",
      "metadata": {
        "id": "h1G0BxIc5-05",
        "colab_type": "code",
        "colab": {}
      },
      "source": [
        "def linear(x1, x2):\n",
        "    return np.dot(x1, x2)\n",
        "\n",
        "#used where training data is normalized\n",
        "def poly(x, y, degree=2, coeff=1):\n",
        "    return (coeff + np.dot(x, y)) ** degree\n",
        "\n",
        "#used when no prior knowledge of the data\n",
        "def rbf(x, y, gamma=0.01):\n",
        "    return np.exp(-1 * gamma * np.linalg.norm(x-y)**2)\n",
        "\n",
        "#to make svm behave like a neural network\n",
        "def sigmoid(x, y, gamma=0.001, coeff=1):\n",
        "    return np.tanh(coeff + gamma * np.dot(x, y))"
      ],
      "execution_count": 0,
      "outputs": []
    },
    {
      "cell_type": "code",
      "metadata": {
        "id": "ZKMMNGDq6HHZ",
        "colab_type": "code",
        "colab": {}
      },
      "source": [
        "class Custom_SVM(object):\n",
        "    def __init__(self, kernel=linear, C=None):\n",
        "        self.kernel = kernel\n",
        "        self.C = C\n",
        "        if self.C is not None: self.C = float(self.C)\n",
        "\n",
        "    def fit(self, x, y):\n",
        "        samples, features = x.shape\n",
        "        # print(x,y)\n",
        "\n",
        "        #Solving SVM through the Dual probelm of convex optimization\n",
        "        # Gram matrix\n",
        "        K = np.zeros((samples, samples))\n",
        "        # Apply given kernel\n",
        "        for i in range(samples):\n",
        "            for j in range(samples):\n",
        "                K[i,j] = self.kernel(x[i], x[j])\n",
        "\n",
        "        #P,q,G,h,A,b are all matrix formation of the SVM dual problem, as taken \n",
        "        #input by cvxopt library\n",
        "        \"\"\"\n",
        "        P:= a matrix of size m×m\n",
        "        q:= −1 * a vector of size m×1\n",
        "        G:= −diag[1] a diagonal matrix of -1s of size m×m\n",
        "        h:= 0 a vector of zeros of size m×1\n",
        "        A:= y the label vector of size m×1\n",
        "        b:= 0 a scalar\n",
        "        \"\"\"\n",
        "        P = matrix(K * np.outer(y,y),tc='d')\n",
        "        q = matrix(-1 * np.ones(samples),tc='d')\n",
        "        A = matrix(y, (1,samples),tc='d')\n",
        "        b = matrix(0.0,tc='d')\n",
        "\n",
        "        if self.C is None:\n",
        "            G = matrix(np.diag(-1 * np.ones(samples)),tc='d')\n",
        "            h = matrix(np.zeros(samples),tc='d')\n",
        "        else:\n",
        "            tmp1 = np.diag(-1 * np.ones(samples))\n",
        "            tmp2 = np.identity(samples)\n",
        "            G = matrix(np.vstack((tmp1, tmp2)),tc='d')\n",
        "            tmp1 = np.zeros(samples)\n",
        "            tmp2 = self.C * np.ones(samples)\n",
        "            h = matrix(np.hstack((tmp1, tmp2)),tc='d')\n",
        "\n",
        "        # solve QP problem\n",
        "        solvers.options['show_progress'] = False\n",
        "        solution = cvxopt.solvers.qp(P, q, G, h, A, b)\n",
        "\n",
        "        # Lagrange multipliers\n",
        "        sol = np.ravel(solution['x'])\n",
        "\n",
        "        # Support vectors have non zero lagrange multipliers\n",
        "        sv_cond = sol > 1e-5\n",
        "        # print(\"support vectors\", sv_cond)\n",
        "        loc_sv = np.arange(len(sol))[sv_cond]\n",
        "        self.alpha = sol[sv_cond]\n",
        "        self.sv_x = x[sv_cond]\n",
        "        self.sv_y = y[sv_cond]\n",
        "        # print(\"alpha,sv_x,sv_y\",self.alpha,self.sv_x,self.sv_y)\n",
        "        # print(\"%d support vectors out of %d points\" % (len(self.alpha), samples))\n",
        "\n",
        "        # bias\n",
        "        self.bias = 0\n",
        "        for idx in range(len(self.alpha)):\n",
        "            self.bias += self.sv_y[idx]\n",
        "            # Sum (alpha*yi*K[xi,xj])\n",
        "            self.bias -= np.sum(self.alpha * self.sv_y * K[loc_sv[idx],sv_cond])\n",
        "        self.bias /= len(self.alpha)\n",
        "\n",
        "        # Weight vector\n",
        "        if self.kernel == linear:\n",
        "            self.weight = np.zeros(features)\n",
        "            for idx in range(len(self.alpha)):\n",
        "                # Sum (alpha*xi*yi)\n",
        "                self.weight += self.alpha[idx] * self.sv_x[idx] * self.sv_y[idx]\n",
        "        else:\n",
        "            self.weight = None\n",
        "\n",
        "    def predict(self, x):\n",
        "        if self.weight is not None:\n",
        "            #linear kernel\n",
        "            return np.dot(x, self.weight) + self.bias\n",
        "        else:\n",
        "            #non-linear kernel\n",
        "            y_predict = np.zeros(len(x))\n",
        "            for idx in range(len(x)):\n",
        "                sum = 0\n",
        "                for alpha, sv_y, sv_x in zip(self.alpha, self.sv_y, self.sv_x):\n",
        "                    sum +=  self.kernel(x[idx], sv_x) * alpha * sv_y\n",
        "                y_predict[idx] = sum\n",
        "            return y_predict + self.bias"
      ],
      "execution_count": 0,
      "outputs": []
    },
    {
      "cell_type": "code",
      "metadata": {
        "id": "LqM3dXcd6Knm",
        "colab_type": "code",
        "colab": {}
      },
      "source": [
        "x_train_numpy = np.hstack([x_train, np.ones((x_train.shape[0], 1))])\n",
        "x_test_numpy = np.hstack([x_test, np.ones((x_test.shape[0], 1))])\n",
        "y_train_numpy = y_train.to_numpy()\n",
        "y_test_numpy = y_test.to_numpy()"
      ],
      "execution_count": 0,
      "outputs": []
    },
    {
      "cell_type": "code",
      "metadata": {
        "id": "fXGwQSJx6lA2",
        "colab_type": "code",
        "colab": {}
      },
      "source": [
        "import cvxopt\n",
        "from cvxopt import matrix\n",
        "import cvxopt.solvers as solvers\n",
        "import copy"
      ],
      "execution_count": 0,
      "outputs": []
    },
    {
      "cell_type": "code",
      "metadata": {
        "id": "Cz-baYWl6NLJ",
        "colab_type": "code",
        "colab": {}
      },
      "source": [
        "def run_custom_SVM(model):\n",
        "    oneVsRest = []\n",
        "    uniq_classes = len(pd.unique(y_test))\n",
        "    for category in range(uniq_classes):\n",
        "        tmodel = copy.deepcopy(model)\n",
        "        oneVsRest.append(tmodel)\n",
        "        #make category value y 1 and all others -1\n",
        "        ytrain_binary_category = (y_train==category)*1.0 + (y_train!=category)*-1\n",
        "        # print(\"Value counts train\",category,ytrain_binary_category.value_counts())\n",
        "        # print(f\"Evaluating for {category} category.\")\n",
        "        oneVsRest[category].fit(x_train_numpy, ytrain_binary_category.to_numpy())\n",
        "    return oneVsRest"
      ],
      "execution_count": 0,
      "outputs": []
    },
    {
      "cell_type": "code",
      "metadata": {
        "id": "i5Qgy8Rc6PC9",
        "colab_type": "code",
        "colab": {}
      },
      "source": [
        "def run_prediction(oneVsRest):\n",
        "  prediction = []\n",
        "  for classifier in oneVsRest:\n",
        "    classify = classifier.predict(x_test_numpy)\n",
        "    if len(prediction) == 0:\n",
        "      prediction = classify\n",
        "    else:\n",
        "      prediction = np.vstack((prediction,classify))\n",
        "  \n",
        "  y_predict = []\n",
        "  for pred in range(len(y_test_numpy)):\n",
        "    y_predict.append(np.argmax(prediction[:,pred]))\n",
        "  \n",
        "  correct = np.sum(y_predict == y_test_numpy)\n",
        "  print(f\"{correct} out of {len(y_predict)} predictions correct\")\n",
        "  accuracy = (correct / len(y_predict))*100\n",
        "  print(f\"Accuracy : { accuracy :0.2f}\")\n",
        "  print(classification_report(y_test_numpy,y_predict))\n",
        "  print(\"Confusion Matrix:\")\n",
        "  print(confusion_matrix(y_test_numpy,y_predict))\n",
        "  return round(accuracy,2)"
      ],
      "execution_count": 0,
      "outputs": []
    },
    {
      "cell_type": "code",
      "metadata": {
        "id": "3ctfpx58GwL3",
        "colab_type": "code",
        "colab": {}
      },
      "source": [
        "C = [0.01,0.1,1,10,100]\n",
        "kernel_func = [linear,sigmoid,poly,rbf]\n",
        "kernel_name = ['linear','sigmoid','poly','rbf']\n",
        "#for each kernel , different C values accuracy\n",
        "kernel_custom = [[0]*len(C) for _ in range(len(kernel_func))] "
      ],
      "execution_count": 0,
      "outputs": []
    },
    {
      "cell_type": "code",
      "metadata": {
        "id": "h4gdRajdG5E1",
        "colab_type": "code",
        "outputId": "1b3232dc-0a89-4c6d-c14d-9eadb09ac141",
        "colab": {
          "base_uri": "https://localhost:8080/",
          "height": 1000
        }
      },
      "source": [
        "#Computes kernels(4)*C values(5) = 20 oneVsRest classifiers and prediction \n",
        "#Will take long time to complete, be informed\n",
        "for k_id,k_func in enumerate(kernel_func):\n",
        "    for c_id,c_val in enumerate(C):\n",
        "        print(f\"{kernel_name[k_id]} kernel, C : {c_val} Analysis: \")\n",
        "        oneVsRest = run_custom_SVM(Custom_SVM(k_func,C=c_val))\n",
        "        kernel_custom[k_id][c_id] = run_prediction(oneVsRest)\n",
        "        print()"
      ],
      "execution_count": 50,
      "outputs": [
        {
          "output_type": "stream",
          "text": [
            "linear kernel, C : 0.01 Analysis: \n",
            "249 out of 592 predictions correct\n",
            "Accuracy : 42.06\n",
            "              precision    recall  f1-score   support\n",
            "\n",
            "           0       0.71      0.92      0.80       126\n",
            "           1       0.78      0.41      0.54       126\n",
            "           2       0.00      0.00      0.00       110\n",
            "           3       0.43      0.18      0.25       111\n",
            "           4       0.19      0.51      0.28       119\n",
            "\n",
            "    accuracy                           0.42       592\n",
            "   macro avg       0.42      0.41      0.37       592\n",
            "weighted avg       0.43      0.42      0.39       592\n",
            "\n",
            "Confusion Matrix:\n",
            "[[116   1   0   0   9]\n",
            " [  0  52   0   0  74]\n",
            " [  4  14   0   4  88]\n",
            " [  9   0   0  20  82]\n",
            " [ 35   0   0  23  61]]\n",
            "\n",
            "linear kernel, C : 0.1 Analysis: \n"
          ],
          "name": "stdout"
        },
        {
          "output_type": "stream",
          "text": [
            "/usr/local/lib/python3.6/dist-packages/sklearn/metrics/_classification.py:1272: UndefinedMetricWarning: Precision and F-score are ill-defined and being set to 0.0 in labels with no predicted samples. Use `zero_division` parameter to control this behavior.\n",
            "  _warn_prf(average, modifier, msg_start, len(result))\n"
          ],
          "name": "stderr"
        },
        {
          "output_type": "stream",
          "text": [
            "258 out of 592 predictions correct\n",
            "Accuracy : 43.58\n",
            "              precision    recall  f1-score   support\n",
            "\n",
            "           0       0.72      0.90      0.80       126\n",
            "           1       0.78      0.40      0.53       126\n",
            "           2       0.00      0.00      0.00       110\n",
            "           3       0.51      0.28      0.36       111\n",
            "           4       0.20      0.52      0.29       119\n",
            "\n",
            "    accuracy                           0.44       592\n",
            "   macro avg       0.44      0.42      0.40       592\n",
            "weighted avg       0.46      0.44      0.41       592\n",
            "\n",
            "Confusion Matrix:\n",
            "[[114   1   0   0  11]\n",
            " [  0  51   0   0  75]\n",
            " [  4  13   0   6  87]\n",
            " [  7   0   0  31  73]\n",
            " [ 33   0   0  24  62]]\n",
            "\n",
            "linear kernel, C : 1 Analysis: \n",
            "254 out of 592 predictions correct\n",
            "Accuracy : 42.91\n",
            "              precision    recall  f1-score   support\n",
            "\n",
            "           0       0.70      0.92      0.79       126\n",
            "           1       0.78      0.40      0.53       126\n",
            "           2       0.00      0.00      0.00       110\n",
            "           3       0.50      0.27      0.35       111\n",
            "           4       0.19      0.48      0.27       119\n",
            "\n",
            "    accuracy                           0.43       592\n",
            "   macro avg       0.43      0.41      0.39       592\n",
            "weighted avg       0.45      0.43      0.40       592\n",
            "\n",
            "Confusion Matrix:\n",
            "[[116   1   0   0   9]\n",
            " [  0  51   0   0  75]\n",
            " [  4  13   0   6  87]\n",
            " [  8   0   0  30  73]\n",
            " [ 38   0   0  24  57]]\n",
            "\n",
            "linear kernel, C : 10 Analysis: \n",
            "312 out of 592 predictions correct\n",
            "Accuracy : 52.70\n",
            "              precision    recall  f1-score   support\n",
            "\n",
            "           0       0.70      0.92      0.79       126\n",
            "           1       0.79      0.39      0.52       126\n",
            "           2       0.46      0.55      0.50       110\n",
            "           3       0.50      0.27      0.35       111\n",
            "           4       0.33      0.48      0.39       119\n",
            "\n",
            "    accuracy                           0.53       592\n",
            "   macro avg       0.56      0.52      0.51       592\n",
            "weighted avg       0.56      0.53      0.52       592\n",
            "\n",
            "Confusion Matrix:\n",
            "[[116   1   0   0   9]\n",
            " [  0  49  44   0  33]\n",
            " [  4  12  60   6  28]\n",
            " [  8   0  26  30  47]\n",
            " [ 38   0   0  24  57]]\n",
            "\n",
            "linear kernel, C : 100 Analysis: \n",
            "312 out of 592 predictions correct\n",
            "Accuracy : 52.70\n",
            "              precision    recall  f1-score   support\n",
            "\n",
            "           0       0.70      0.92      0.79       126\n",
            "           1       0.79      0.39      0.52       126\n",
            "           2       0.46      0.55      0.50       110\n",
            "           3       0.50      0.27      0.35       111\n",
            "           4       0.33      0.48      0.39       119\n",
            "\n",
            "    accuracy                           0.53       592\n",
            "   macro avg       0.56      0.52      0.51       592\n",
            "weighted avg       0.56      0.53      0.52       592\n",
            "\n",
            "Confusion Matrix:\n",
            "[[116   1   0   0   9]\n",
            " [  0  49  44   0  33]\n",
            " [  4  12  60   6  28]\n",
            " [  8   0  26  30  47]\n",
            " [ 38   0   0  24  57]]\n",
            "\n",
            "sigmoid kernel, C : 0.01 Analysis: \n",
            "126 out of 592 predictions correct\n",
            "Accuracy : 21.28\n",
            "              precision    recall  f1-score   support\n",
            "\n",
            "           0       0.21      1.00      0.35       126\n",
            "           1       0.00      0.00      0.00       126\n",
            "           2       0.00      0.00      0.00       110\n",
            "           3       0.00      0.00      0.00       111\n",
            "           4       0.00      0.00      0.00       119\n",
            "\n",
            "    accuracy                           0.21       592\n",
            "   macro avg       0.04      0.20      0.07       592\n",
            "weighted avg       0.05      0.21      0.07       592\n",
            "\n",
            "Confusion Matrix:\n",
            "[[126   0   0   0   0]\n",
            " [126   0   0   0   0]\n",
            " [110   0   0   0   0]\n",
            " [111   0   0   0   0]\n",
            " [119   0   0   0   0]]\n",
            "\n",
            "sigmoid kernel, C : 0.1 Analysis: \n",
            "163 out of 592 predictions correct\n",
            "Accuracy : 27.53\n",
            "              precision    recall  f1-score   support\n",
            "\n",
            "           0       0.28      1.00      0.44       126\n",
            "           1       0.00      0.00      0.00       126\n",
            "           2       0.00      0.00      0.00       110\n",
            "           3       0.26      0.33      0.29       111\n",
            "           4       0.00      0.00      0.00       119\n",
            "\n",
            "    accuracy                           0.28       592\n",
            "   macro avg       0.11      0.27      0.15       592\n",
            "weighted avg       0.11      0.28      0.15       592\n",
            "\n",
            "Confusion Matrix:\n",
            "[[126   0   0   0   0]\n",
            " [ 80   0   0  46   0]\n",
            " [ 66   0   0  44   0]\n",
            " [ 74   0   0  37   0]\n",
            " [106   0   0  13   0]]\n",
            "\n",
            "sigmoid kernel, C : 1 Analysis: \n",
            "222 out of 592 predictions correct\n",
            "Accuracy : 37.50\n",
            "              precision    recall  f1-score   support\n",
            "\n",
            "           0       0.72      0.91      0.80       126\n",
            "           1       0.80      0.03      0.06       126\n",
            "           2       0.00      0.00      0.00       110\n",
            "           3       0.24      0.93      0.38       111\n",
            "           4       0.00      0.00      0.00       119\n",
            "\n",
            "    accuracy                           0.38       592\n",
            "   macro avg       0.35      0.37      0.25       592\n",
            "weighted avg       0.37      0.38      0.26       592\n",
            "\n",
            "Confusion Matrix:\n",
            "[[115   1   0  10   0]\n",
            " [  0   4   0 122   0]\n",
            " [  4   0   0 106   0]\n",
            " [  8   0   0 103   0]\n",
            " [ 33   0   0  86   0]]\n",
            "\n",
            "sigmoid kernel, C : 10 Analysis: \n",
            "280 out of 592 predictions correct\n",
            "Accuracy : 47.30\n",
            "              precision    recall  f1-score   support\n",
            "\n",
            "           0       0.67      0.94      0.79       126\n",
            "           1       0.78      0.40      0.53       126\n",
            "           2       0.32      0.72      0.45       110\n",
            "           3       0.28      0.23      0.25       111\n",
            "           4       0.39      0.06      0.10       119\n",
            "\n",
            "    accuracy                           0.47       592\n",
            "   macro avg       0.49      0.47      0.42       592\n",
            "weighted avg       0.50      0.47      0.43       592\n",
            "\n",
            "Confusion Matrix:\n",
            "[[119   2   2   0   3]\n",
            " [  0  50  61  14   1]\n",
            " [  4  11  79  14   2]\n",
            " [ 11   1  69  25   5]\n",
            " [ 43   0  33  36   7]]\n",
            "\n",
            "sigmoid kernel, C : 100 Analysis: \n",
            "289 out of 592 predictions correct\n",
            "Accuracy : 48.82\n",
            "              precision    recall  f1-score   support\n",
            "\n",
            "           0       0.75      0.60      0.67       126\n",
            "           1       0.57      0.43      0.49       126\n",
            "           2       0.35      0.50      0.41       110\n",
            "           3       0.42      0.21      0.28       111\n",
            "           4       0.44      0.68      0.53       119\n",
            "\n",
            "    accuracy                           0.49       592\n",
            "   macro avg       0.51      0.48      0.48       592\n",
            "weighted avg       0.51      0.49      0.48       592\n",
            "\n",
            "Confusion Matrix:\n",
            "[[76  3  0  0 47]\n",
            " [ 1 54 58  7  6]\n",
            " [ 2 26 55 11 16]\n",
            " [ 4 10 38 23 36]\n",
            " [18  1  5 14 81]]\n",
            "\n",
            "poly kernel, C : 0.01 Analysis: \n",
            "347 out of 592 predictions correct\n",
            "Accuracy : 58.61\n",
            "              precision    recall  f1-score   support\n",
            "\n",
            "           0       0.77      0.87      0.82       126\n",
            "           1       0.72      0.59      0.65       126\n",
            "           2       0.46      0.52      0.49       110\n",
            "           3       0.46      0.39      0.42       111\n",
            "           4       0.49      0.53      0.51       119\n",
            "\n",
            "    accuracy                           0.59       592\n",
            "   macro avg       0.58      0.58      0.58       592\n",
            "weighted avg       0.59      0.59      0.58       592\n",
            "\n",
            "Confusion Matrix:\n",
            "[[110   1   1   5   9]\n",
            " [  0  74  33   8  11]\n",
            " [  3  25  57  11  14]\n",
            " [  3   3  30  43  32]\n",
            " [ 27   0   2  27  63]]\n",
            "\n",
            "poly kernel, C : 0.1 Analysis: \n",
            "336 out of 592 predictions correct\n",
            "Accuracy : 56.76\n",
            "              precision    recall  f1-score   support\n",
            "\n",
            "           0       0.78      0.85      0.81       126\n",
            "           1       0.70      0.62      0.66       126\n",
            "           2       0.51      0.47      0.49       110\n",
            "           3       0.36      0.46      0.40       111\n",
            "           4       0.48      0.40      0.44       119\n",
            "\n",
            "    accuracy                           0.57       592\n",
            "   macro avg       0.57      0.56      0.56       592\n",
            "weighted avg       0.57      0.57      0.57       592\n",
            "\n",
            "Confusion Matrix:\n",
            "[[107   0   0  13   6]\n",
            " [  3  78  26  12   7]\n",
            " [  3  27  52  18  10]\n",
            " [  3   5  23  51  29]\n",
            " [ 22   2   0  47  48]]\n",
            "\n",
            "poly kernel, C : 1 Analysis: \n",
            "209 out of 592 predictions correct\n",
            "Accuracy : 35.30\n",
            "              precision    recall  f1-score   support\n",
            "\n",
            "           0       0.25      0.02      0.03       126\n",
            "           1       0.63      0.63      0.63       126\n",
            "           2       0.44      0.47      0.45       110\n",
            "           3       0.17      0.43      0.25       111\n",
            "           4       0.44      0.23      0.30       119\n",
            "\n",
            "    accuracy                           0.35       592\n",
            "   macro avg       0.39      0.36      0.33       592\n",
            "weighted avg       0.39      0.35      0.33       592\n",
            "\n",
            "Confusion Matrix:\n",
            "[[  2   2   0 122   0]\n",
            " [  4  80  30   8   4]\n",
            " [  0  32  52  16  10]\n",
            " [  2   8  32  48  21]\n",
            " [  0   4   5  83  27]]\n",
            "\n",
            "poly kernel, C : 10 Analysis: \n",
            "167 out of 592 predictions correct\n",
            "Accuracy : 28.21\n",
            "              precision    recall  f1-score   support\n",
            "\n",
            "           0       0.11      0.02      0.04       126\n",
            "           1       0.71      0.46      0.56       126\n",
            "           2       0.13      0.38      0.20       110\n",
            "           3       0.34      0.39      0.36       111\n",
            "           4       0.55      0.18      0.27       119\n",
            "\n",
            "    accuracy                           0.28       592\n",
            "   macro avg       0.37      0.29      0.28       592\n",
            "weighted avg       0.37      0.28      0.29       592\n",
            "\n",
            "Confusion Matrix:\n",
            "[[  3   0 122   0   1]\n",
            " [  9  58  26  29   4]\n",
            " [  5  17  42  43   3]\n",
            " [  7   4  48  43   9]\n",
            " [  3   3  80  12  21]]\n",
            "\n",
            "poly kernel, C : 100 Analysis: \n",
            "128 out of 592 predictions correct\n",
            "Accuracy : 21.62\n",
            "              precision    recall  f1-score   support\n",
            "\n",
            "           0       0.05      0.02      0.03       126\n",
            "           1       0.19      0.51      0.28       126\n",
            "           2       0.55      0.10      0.17       110\n",
            "           3       0.41      0.32      0.36       111\n",
            "           4       0.16      0.13      0.14       119\n",
            "\n",
            "    accuracy                           0.22       592\n",
            "   macro avg       0.27      0.21      0.20       592\n",
            "weighted avg       0.26      0.22      0.19       592\n",
            "\n",
            "Confusion Matrix:\n",
            "[[  3 123   0   0   0]\n",
            " [ 22  64   5  10  25]\n",
            " [ 12  32  11  23  32]\n",
            " [ 17  33   4  35  22]\n",
            " [  8  79   0  17  15]]\n",
            "\n",
            "rbf kernel, C : 0.01 Analysis: \n",
            "240 out of 592 predictions correct\n",
            "Accuracy : 40.54\n",
            "              precision    recall  f1-score   support\n",
            "\n",
            "           0       0.73      0.90      0.81       126\n",
            "           1       0.29      1.00      0.45       126\n",
            "           2       0.00      0.00      0.00       110\n",
            "           3       0.00      0.00      0.00       111\n",
            "           4       0.00      0.00      0.00       119\n",
            "\n",
            "    accuracy                           0.41       592\n",
            "   macro avg       0.20      0.38      0.25       592\n",
            "weighted avg       0.22      0.41      0.27       592\n",
            "\n",
            "Confusion Matrix:\n",
            "[[114  12   0   0   0]\n",
            " [  0 126   0   0   0]\n",
            " [  3 107   0   0   0]\n",
            " [  8 103   0   0   0]\n",
            " [ 32  87   0   0   0]]\n",
            "\n",
            "rbf kernel, C : 0.1 Analysis: \n",
            "269 out of 592 predictions correct\n",
            "Accuracy : 45.44\n",
            "              precision    recall  f1-score   support\n",
            "\n",
            "           0       0.76      0.87      0.81       126\n",
            "           1       0.35      0.99      0.51       126\n",
            "           2       0.00      0.00      0.00       110\n",
            "           3       0.00      0.00      0.00       111\n",
            "           4       0.40      0.29      0.33       119\n",
            "\n",
            "    accuracy                           0.45       592\n",
            "   macro avg       0.30      0.43      0.33       592\n",
            "weighted avg       0.32      0.45      0.35       592\n",
            "\n",
            "Confusion Matrix:\n",
            "[[110  16   0   0   0]\n",
            " [  0 125   0   0   1]\n",
            " [  2  99   0   0   9]\n",
            " [  4  66   0   0  41]\n",
            " [ 29  56   0   0  34]]\n",
            "\n",
            "rbf kernel, C : 1 Analysis: \n",
            "296 out of 592 predictions correct\n",
            "Accuracy : 50.00\n",
            "              precision    recall  f1-score   support\n",
            "\n",
            "           0       0.76      0.87      0.81       126\n",
            "           1       0.62      0.60      0.61       126\n",
            "           2       1.00      0.02      0.04       110\n",
            "           3       0.52      0.31      0.39       111\n",
            "           4       0.29      0.63      0.39       119\n",
            "\n",
            "    accuracy                           0.50       592\n",
            "   macro avg       0.64      0.48      0.45       592\n",
            "weighted avg       0.64      0.50      0.46       592\n",
            "\n",
            "Confusion Matrix:\n",
            "[[110   1   0   0  15]\n",
            " [  0  75   0   3  48]\n",
            " [  2  39   2  12  55]\n",
            " [  4   5   0  34  68]\n",
            " [ 28   0   0  16  75]]\n",
            "\n",
            "rbf kernel, C : 10 Analysis: \n",
            "337 out of 592 predictions correct\n",
            "Accuracy : 56.93\n",
            "              precision    recall  f1-score   support\n",
            "\n",
            "           0       0.76      0.87      0.81       126\n",
            "           1       0.63      0.68      0.66       126\n",
            "           2       0.51      0.35      0.41       110\n",
            "           3       0.52      0.31      0.38       111\n",
            "           4       0.40      0.58      0.48       119\n",
            "\n",
            "    accuracy                           0.57       592\n",
            "   macro avg       0.56      0.56      0.55       592\n",
            "weighted avg       0.57      0.57      0.56       592\n",
            "\n",
            "Confusion Matrix:\n",
            "[[110   1   0   0  15]\n",
            " [  0  86  16   3  21]\n",
            " [  3  42  38   9  18]\n",
            " [  4   6  19  34  48]\n",
            " [ 28   1   1  20  69]]\n",
            "\n",
            "rbf kernel, C : 100 Analysis: \n",
            "362 out of 592 predictions correct\n",
            "Accuracy : 61.15\n",
            "              precision    recall  f1-score   support\n",
            "\n",
            "           0       0.77      0.88      0.82       126\n",
            "           1       0.65      0.67      0.66       126\n",
            "           2       0.52      0.45      0.48       110\n",
            "           3       0.51      0.45      0.48       111\n",
            "           4       0.55      0.57      0.56       119\n",
            "\n",
            "    accuracy                           0.61       592\n",
            "   macro avg       0.60      0.60      0.60       592\n",
            "weighted avg       0.60      0.61      0.61       592\n",
            "\n",
            "Confusion Matrix:\n",
            "[[111   1   0   0  14]\n",
            " [  1  84  26  12   3]\n",
            " [  3  33  49  17   8]\n",
            " [  3   7  20  50  31]\n",
            " [ 27   4   0  20  68]]\n",
            "\n"
          ],
          "name": "stdout"
        }
      ]
    },
    {
      "cell_type": "code",
      "metadata": {
        "id": "b-_wevqJG5p2",
        "colab_type": "code",
        "outputId": "d5d1b886-34fd-440a-efe3-56c2d851a31b",
        "colab": {
          "base_uri": "https://localhost:8080/",
          "height": 295
        }
      },
      "source": [
        "# import matplotlib.pyplot as plt\n",
        "plt.figure()\n",
        "for k_val,k_name in enumerate(kernel_name):\n",
        "      plt.plot(C,kernel_custom[k_val],label=k_name)\n",
        "\n",
        "plt.title('ConfirmedRateChange : Comparison b/w various kernel')\n",
        "plt.legend()\n",
        "plt.grid(True)\n",
        "plt.xlabel('C value')\n",
        "plt.ylabel('Testing Accuracy %')\n",
        "plt.show()"
      ],
      "execution_count": 51,
      "outputs": [
        {
          "output_type": "display_data",
          "data": {
            "image/png": "[encoded data removed]",
            "text/plain": [
              "<Figure size 432x288 with 1 Axes>"
            ]
          },
          "metadata": {
            "tags": [],
            "needs_background": "light"
          }
        }
      ]
    },
    {
      "cell_type": "code",
      "metadata": {
        "id": "_8k6JVdnEH6A",
        "colab_type": "code",
        "colab": {}
      },
      "source": [
        "def run_scikit_model(model):\n",
        "  model.fit(x_train,y_train)\n",
        "  predicted = model.predict(x_test)\n",
        "  print(model.score(x_train, y_train))\n",
        "  accuracy = accuracy_score(y_test, predicted)\n",
        "  print(classification_report(y_test, predicted))\n",
        "  print(\"Confusion Matrix:\")\n",
        "  print(confusion_matrix(y_test, predicted))\n",
        "  print(accuracy)\n",
        "  return round(accuracy*100,2)"
      ],
      "execution_count": 0,
      "outputs": []
    },
    {
      "cell_type": "code",
      "metadata": {
        "id": "-Zrcci5IG6BM",
        "colab_type": "code",
        "outputId": "28517327-f3f5-48cf-e206-a5cea03cce6c",
        "colab": {
          "base_uri": "https://localhost:8080/",
          "height": 1000
        }
      },
      "source": [
        "#best kernel is rbf, plotting C value vs testing accuracy for both custom and scikit implementations\n",
        "C = [0.01,0.1,1,10,100]\n",
        "#for each kernel , different C values accuracy\n",
        "kernel_best_custom = kernel_custom[3]\n",
        "kernel_best_scikit = [0]*len(C) \n",
        "\n",
        "for c_id,c_val in enumerate(C):\n",
        "    kernel_best_scikit[c_id] = run_scikit_model(SVC(C=c_val, kernel='rbf'))"
      ],
      "execution_count": 59,
      "outputs": [
        {
          "output_type": "stream",
          "text": [
            "0.4251901944209637\n",
            "              precision    recall  f1-score   support\n",
            "\n",
            "           0       0.98      0.58      0.73       211\n",
            "           1       0.00      0.00      0.00         0\n",
            "           2       0.70      0.32      0.44       243\n",
            "           3       0.23      0.31      0.27        83\n",
            "           4       0.21      0.45      0.29        55\n",
            "\n",
            "    accuracy                           0.42       592\n",
            "   macro avg       0.42      0.33      0.34       592\n",
            "weighted avg       0.69      0.42      0.50       592\n",
            "\n",
            "Confusion Matrix:\n",
            "[[123   2   7  19  60]\n",
            " [  0   0   0   0   0]\n",
            " [  2  93  77  52  19]\n",
            " [  1  20  21  26  15]\n",
            " [  0  11   5  14  25]]\n",
            "0.4239864864864865\n"
          ],
          "name": "stdout"
        },
        {
          "output_type": "stream",
          "text": [
            "/usr/local/lib/python3.6/dist-packages/sklearn/metrics/_classification.py:1272: UndefinedMetricWarning: Recall and F-score are ill-defined and being set to 0.0 in labels with no true samples. Use `zero_division` parameter to control this behavior.\n",
            "  _warn_prf(average, modifier, msg_start, len(result))\n"
          ],
          "name": "stderr"
        },
        {
          "output_type": "stream",
          "text": [
            "0.554945054945055\n",
            "              precision    recall  f1-score   support\n",
            "\n",
            "           0       0.87      0.76      0.81       144\n",
            "           1       0.27      0.62      0.38        55\n",
            "           2       0.55      0.39      0.45       155\n",
            "           3       0.43      0.33      0.38       144\n",
            "           4       0.43      0.54      0.48        94\n",
            "\n",
            "    accuracy                           0.51       592\n",
            "   macro avg       0.51      0.53      0.50       592\n",
            "weighted avg       0.55      0.51      0.52       592\n",
            "\n",
            "Confusion Matrix:\n",
            "[[110   0   2   4  28]\n",
            " [  2  34  14   4   1]\n",
            " [  0  62  60  32   1]\n",
            " [  1  28  29  48  38]\n",
            " [ 13   2   5  23  51]]\n",
            "0.5118243243243243\n",
            "0.6276415891800508\n",
            "              precision    recall  f1-score   support\n",
            "\n",
            "           0       0.87      0.78      0.82       140\n",
            "           1       0.56      0.69      0.62       103\n",
            "           2       0.52      0.48      0.50       118\n",
            "           3       0.48      0.40      0.43       133\n",
            "           4       0.44      0.53      0.48        98\n",
            "\n",
            "    accuracy                           0.58       592\n",
            "   macro avg       0.57      0.58      0.57       592\n",
            "weighted avg       0.59      0.58      0.58       592\n",
            "\n",
            "Confusion Matrix:\n",
            "[[109   0   2   3  26]\n",
            " [  3  71  21   6   2]\n",
            " [  0  37  57  24   0]\n",
            " [  0  16  25  53  39]\n",
            " [ 14   2   5  25  52]]\n",
            "0.5777027027027027\n",
            "0.680050718512257\n",
            "              precision    recall  f1-score   support\n",
            "\n",
            "           0       0.87      0.77      0.82       142\n",
            "           1       0.63      0.66      0.64       119\n",
            "           2       0.45      0.49      0.46       101\n",
            "           3       0.46      0.44      0.45       117\n",
            "           4       0.53      0.56      0.54       113\n",
            "\n",
            "    accuracy                           0.59       592\n",
            "   macro avg       0.59      0.58      0.58       592\n",
            "weighted avg       0.60      0.59      0.60       592\n",
            "\n",
            "Confusion Matrix:\n",
            "[[110   1   2   3  26]\n",
            " [  2  79  29   7   2]\n",
            " [  0  29  49  22   1]\n",
            " [  0  15  24  51  27]\n",
            " [ 14   2   6  28  63]]\n",
            "0.5945945945945946\n",
            "0.7502113271344041\n",
            "              precision    recall  f1-score   support\n",
            "\n",
            "           0       0.90      0.73      0.80       155\n",
            "           1       0.64      0.69      0.66       118\n",
            "           2       0.45      0.47      0.46       107\n",
            "           3       0.43      0.47      0.45       102\n",
            "           4       0.51      0.55      0.53       110\n",
            "\n",
            "    accuracy                           0.60       592\n",
            "   macro avg       0.59      0.58      0.58       592\n",
            "weighted avg       0.61      0.60      0.60       592\n",
            "\n",
            "Confusion Matrix:\n",
            "[[113   2   4   8  28]\n",
            " [  1  81  30   4   2]\n",
            " [  0  30  50  23   4]\n",
            " [  0  10  20  48  24]\n",
            " [ 12   3   6  28  61]]\n",
            "0.5962837837837838\n"
          ],
          "name": "stdout"
        }
      ]
    },
    {
      "cell_type": "code",
      "metadata": {
        "id": "KoduTFYSsUYl",
        "colab_type": "code",
        "outputId": "0e02156b-94c8-497f-9c25-740cecb98a95",
        "colab": {
          "base_uri": "https://localhost:8080/",
          "height": 314
        }
      },
      "source": [
        "# import matplotlib.pyplot as plt\n",
        "plt.figure()\n",
        "plt.plot(C,kernel_best_scikit,label='Scikit')\n",
        "plt.plot(C,kernel_best_custom,label='Custom')\n",
        "\n",
        "plt.title('ConfirmedRateChange : RBF Custom v/s Scikit')\n",
        "plt.legend()\n",
        "plt.grid(True)\n",
        "plt.xlabel('C value')\n",
        "plt.ylabel('Testing Accuracy %')\n",
        "plt.show()\n",
        "plt.savefig('ConfirmedRateChange_RBF_Custom_to_Scikit.png')"
      ],
      "execution_count": 61,
      "outputs": [
        {
          "output_type": "display_data",
          "data": {
            "image/png": "[encoded data removed]",
            "text/plain": [
              "<Figure size 432x288 with 1 Axes>"
            ]
          },
          "metadata": {
            "tags": [],
            "needs_background": "light"
          }
        },
        {
          "output_type": "display_data",
          "data": {
            "text/plain": [
              "<Figure size 432x288 with 0 Axes>"
            ]
          },
          "metadata": {
            "tags": []
          }
        }
      ]
    },
    {
      "cell_type": "markdown",
      "metadata": {
        "id": "gIRH1nIcOPzG",
        "colab_type": "text"
      },
      "source": [
        "##Analysis with Custom SVM:\n",
        "\n",
        "### Predicting : 'DeathsRateChange'\n",
        "```\n",
        "Linear Kernel\n",
        "C = 0.01 : 414  out of 592 correct, ie, 69.93%\n",
        "C = 0.1 : 418 out of 592 correct, ie, 70.61%\n",
        "C = 1 : 420  out of 592 correct, ie, 70.95%\n",
        "C = 10 : 420  out of 592 correct, ie, 70.95%\n",
        "C = 100 :  421 out of 592 correct, ie, 71.11%\n",
        "```\n",
        "\n",
        "```\n",
        "Sigmoid Kernel\n",
        "C = 0.01 :  404 out of 592 correct, ie, 68.24%\n",
        "C = 0.1 : 403 out of 592 correct, ie, 68.07%\n",
        "C = 1 : 409 out of 592 correct, ie, 69.09%\n",
        "C = 10 : 413 out of 592 correct, ie, 69.76%\n",
        "C = 100 : 337 out of 592 correct, ie, 56.93%\n",
        "```\n",
        "\n",
        "```\n",
        "Polynominal Kernel, degree = 2\n",
        "C = 0.01 : 422 out of 592 correct, ie, 71.28%\n",
        "C = 0.1 : 415 out of 592 correct, ie, 70.10%\n",
        "C = 1 :  408 out of 592 correct, ie, 68.92%\n",
        "C = 10 : 256 out of 592 correct, ie, 43.24%\n",
        "C = 100 :  76 out of 592 correct, ie, 12.84%\n",
        "```\n",
        "\n",
        "```\n",
        "Gaussian Kernel\n",
        "C = 0.01 :  399 out of 592 correct, ie, 67.4%\n",
        "C = 0.1 : 405 out of 592 correct, ie, 68.41%\n",
        "C = 1 : 413 out of 592 correct, ie, 69.76%\n",
        "C = 10 : 408 out of 592 correct, ie, 68.92%\n",
        "C = 100 : 401 out of 592 correct, ie, 67.74%\n",
        "```\n",
        "\n",
        "### Predicting : 'ConfirmedRateChange'\n",
        "```\n",
        "Linear Kernel\n",
        "C = 0.01 :  249 out of 592 correct, ie, 42.06%\n",
        "C = 0.1 : 258 out of 592 correct, ie, 43.58%\n",
        "C = 1 :  254 out of 592 correct, ie, 42.90%\n",
        "C = 10 :  312 out of 592 correct, ie, 52.70%\n",
        "C = 100 :  312 out of 592 correct, ie, 52.70%\n",
        "```\n",
        "\n",
        "```\n",
        "Sigmoid Kernel\n",
        "C = 0.01 :  126 out of 592 correct, ie, 21.28%\n",
        "C = 0.1 : 163 out of 592 correct, ie, 27.53%\n",
        "C = 1 : 222 out of 592 correct, ie, 37.50%\n",
        "C = 10 : 280 out of 592 correct, ie, 47.30%\n",
        "C = 100 : 289 out of 592 correct, ie, 48.82%\n",
        "```\n",
        "\n",
        "```\n",
        "Polynominal Kernel, degree = 2\n",
        "C = 0.01 : 347 out of 592 correct, ie, 58.61%\n",
        "C = 0.1 : 336 out of 592 correct, ie, 56.76%\n",
        "C = 1 :  209 out of 592 correct, ie, 35.30%\n",
        "C = 10 : 167 out of 592 correct, ie, 28.21%\n",
        "C = 100 :  128 out of 592 correct, ie, 21.62%\n",
        "```\n",
        "\n",
        "```\n",
        "Gaussian Kernel\n",
        "C = 0.01 :  231 out of 592 correct, ie, 39.02%\n",
        "C = 0.1 : 334 out of 592 correct, ie, 56.42%\n",
        "C = 1 : 347 out of 592 correct, ie, 58.61%\n",
        "C = 10 : 354 out of 592 correct, ie, 59.80%\n",
        "C = 100 : 347 out of 592 correct, ie, 58.61%\n",
        "```"
      ]
    }
  ]
}