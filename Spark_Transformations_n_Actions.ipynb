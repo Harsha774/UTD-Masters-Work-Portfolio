{
  "nbformat": 4,
  "nbformat_minor": 0,
  "metadata": {
    "colab": {
      "name": "Spark_Transformations_n_Actions",
      "provenance": [],
      "collapsed_sections": [],
      "authorship_tag": "ABX9TyMoRk4y+IW63UGm6xV3ckaC",
      "include_colab_link": true
    },
    "kernelspec": {
      "name": "python3",
      "display_name": "Python 3"
    },
    "language_info": {
      "name": "python"
    }
  },
  "cells": [
    {
      "cell_type": "markdown",
      "metadata": {
        "id": "view-in-github",
        "colab_type": "text"
      },
      "source": [
        "<a href=\"https://colab.research.google.com/github/Harsha774/UTD-Masters-Work-Portfolio/blob/master/Spark_Transformations_n_Actions.ipynb\" target=\"_parent\"><img src=\"https://colab.research.google.com/assets/colab-badge.svg\" alt=\"Open In Colab\"/></a>"
      ]
    },
    {
      "cell_type": "code",
      "metadata": {
        "id": "mRrOF5jvjAd7"
      },
      "source": [
        "!apt-get install openjdk-8-jdk-headless -qq > /dev/null\n",
        "!wget -q https://downloads.apache.org/spark/spark-3.1.2/spark-3.1.2-bin-hadoop3.2.tgz\n",
        "!tar xf spark-3.1.2-bin-hadoop3.2.tgz\n",
        "!pip install -q findspark"
      ],
      "execution_count": 1,
      "outputs": []
    },
    {
      "cell_type": "code",
      "metadata": {
        "colab": {
          "base_uri": "https://localhost:8080/"
        },
        "id": "-QAR_J7NjUTX",
        "outputId": "f1447fd0-80d0-40b0-a731-48fd54146c5f"
      },
      "source": [
        "!ls /usr/lib/jvm/"
      ],
      "execution_count": 2,
      "outputs": [
        {
          "output_type": "stream",
          "name": "stdout",
          "text": [
            "default-java\t\t   java-11-openjdk-amd64     java-8-openjdk-amd64\n",
            "java-1.11.0-openjdk-amd64  java-1.8.0-openjdk-amd64\n"
          ]
        }
      ]
    },
    {
      "cell_type": "code",
      "metadata": {
        "colab": {
          "base_uri": "https://localhost:8080/"
        },
        "id": "d3gIU1JekL52",
        "outputId": "336797d7-4281-4805-a89a-a6c9aa8e7a1f"
      },
      "source": [
        "!pip install -U pyarrow"
      ],
      "execution_count": 3,
      "outputs": [
        {
          "output_type": "stream",
          "name": "stdout",
          "text": [
            "Requirement already satisfied: pyarrow in /usr/local/lib/python3.7/dist-packages (3.0.0)\n",
            "Collecting pyarrow\n",
            "  Downloading pyarrow-5.0.0-cp37-cp37m-manylinux2014_x86_64.whl (23.6 MB)\n",
            "\u001b[K     |████████████████████████████████| 23.6 MB 104 kB/s \n",
            "\u001b[?25hRequirement already satisfied: numpy>=1.16.6 in /usr/local/lib/python3.7/dist-packages (from pyarrow) (1.19.5)\n",
            "Installing collected packages: pyarrow\n",
            "  Attempting uninstall: pyarrow\n",
            "    Found existing installation: pyarrow 3.0.0\n",
            "    Uninstalling pyarrow-3.0.0:\n",
            "      Successfully uninstalled pyarrow-3.0.0\n",
            "Successfully installed pyarrow-5.0.0\n"
          ]
        }
      ]
    },
    {
      "cell_type": "code",
      "metadata": {
        "id": "9llz4zJikUWO"
      },
      "source": [
        "import os\n",
        "os.environ[\"JAVA_HOME\"] = \"/usr/lib/jvm/java-8-openjdk-amd64\"\n",
        "os.environ[\"SPARK_HOME\"] = \"/content/spark-3.1.2-bin-hadoop3.2\""
      ],
      "execution_count": 4,
      "outputs": []
    },
    {
      "cell_type": "code",
      "metadata": {
        "id": "5TASLhEDkh4l"
      },
      "source": [
        "import findspark\n",
        "findspark.init()"
      ],
      "execution_count": 5,
      "outputs": []
    },
    {
      "cell_type": "code",
      "metadata": {
        "id": "Fh4DcglklBtE"
      },
      "source": [
        "from pyspark.sql import SparkSession\n",
        "spark=SparkSession.builder.master(\"local[*]\").getOrCreate()\n",
        "spark.conf.set(\"spark.executer.memory\",\"4g\")\n",
        "spark.conf.set(\"spark.driver.fraction\",\"0.9\")"
      ],
      "execution_count": 6,
      "outputs": []
    },
    {
      "cell_type": "code",
      "metadata": {
        "id": "xzZp3-TMme-_"
      },
      "source": [
        "import sys,tempfile,urllib\n",
        "from pyspark.sql.functions import *"
      ],
      "execution_count": 7,
      "outputs": []
    },
    {
      "cell_type": "code",
      "metadata": {
        "id": "GxjuK1Nkm-4W"
      },
      "source": [
        "BASE_DIR='/tmp'\n",
        "corona_data_file=os.path.join(BASE_DIR,'corona_data.csv')"
      ],
      "execution_count": 8,
      "outputs": []
    },
    {
      "cell_type": "code",
      "metadata": {
        "id": "hzDeRl1O3Bpr"
      },
      "source": [
        "import urllib.request\n",
        "corona_data=urllib.request.urlretrieve(\"https://raw.githubusercontent.com/srivatsan88/YouTubeLI/master/dataset/coronavirus/corona_dataset_latest.csv\",corona_data_file)"
      ],
      "execution_count": 9,
      "outputs": []
    },
    {
      "cell_type": "code",
      "metadata": {
        "id": "nTq5tGmr3Wiq"
      },
      "source": [
        "corona_df=spark.read.option(\"infer_schema\",\"true\").csv(\"/tmp/corona_data.csv\",header=True)"
      ],
      "execution_count": 10,
      "outputs": []
    },
    {
      "cell_type": "code",
      "metadata": {
        "colab": {
          "base_uri": "https://localhost:8080/"
        },
        "id": "_Q0tCy8y4zZI",
        "outputId": "271cfe07-10fc-450d-dcd2-0045e001edf0"
      },
      "source": [
        "corona_df.show()"
      ],
      "execution_count": 11,
      "outputs": [
        {
          "output_type": "stream",
          "name": "stdout",
          "text": [
            "+---+----------------+--------------------+--------+---------+----------+---------+-----+---------+--------------------+----+\n",
            "|_c0|           State|             Country|     Lat|     Long|      Date|Confirmed|Death|Recovered|       state_cleaned|City|\n",
            "+---+----------------+--------------------+--------+---------+----------+---------+-----+---------+--------------------+----+\n",
            "|  0|            null|            Thailand|    15.0|    101.0|2020-01-22|        2|    0|        0|             Bangkok|null|\n",
            "|  1|            null|               Japan|    36.0|    138.0|2020-01-22|        2|    0|        0|             Hiraide|null|\n",
            "|  2|            null|           Singapore|  1.2833| 103.8333|2020-01-22|        0|    0|        0|           Singapore|null|\n",
            "|  3|            null|               Nepal| 28.1667|    84.25|2020-01-22|        0|    0|        0|           Kathmandu|null|\n",
            "|  4|            null|            Malaysia|     2.5|    112.5|2020-01-22|        0|    0|        0|             Sarawak|null|\n",
            "|  5|British Columbia|              Canada| 49.2827|-123.1207|2020-01-22|        0|    0|        0|    British Columbia|null|\n",
            "|  6| New South Wales|           Australia|-33.8688| 151.2093|2020-01-22|        0|    0|        0|     New South Wales|null|\n",
            "|  7|        Victoria|           Australia|-37.8136| 144.9631|2020-01-22|        0|    0|        0|            Victoria|null|\n",
            "|  8|      Queensland|           Australia|-28.0167|    153.4|2020-01-22|        0|    0|        0|          Queensland|null|\n",
            "|  9|            null|            Cambodia|   11.55| 104.9167|2020-01-22|        0|    0|        0|          Phnom Penh|null|\n",
            "| 10|            null|           Sri Lanka|     7.0|     81.0|2020-01-22|        0|    0|        0|Sri Jayawardenapu...|null|\n",
            "| 11|            null|             Germany|    51.0|      9.0|2020-01-22|        0|    0|        0|              Berlin|null|\n",
            "| 12|            null|             Finland|    64.0|     26.0|2020-01-22|        0|    0|        0|            Helsinki|null|\n",
            "| 13|            null|United Arab Emirates|    24.0|     54.0|2020-01-22|        0|    0|        0|           Abu Dhabi|null|\n",
            "| 14|            null|         Philippines|    13.0|    122.0|2020-01-22|        0|    0|        0|              Manila|null|\n",
            "| 15|            null|               India|    21.0|     78.0|2020-01-22|        0|    0|        0|           New Delhi|null|\n",
            "| 16|            null|               Italy|    43.0|     12.0|2020-01-22|        0|    0|        0|                Rome|null|\n",
            "| 17|            null|              Sweden|    63.0|     16.0|2020-01-22|        0|    0|        0|           Stockholm|null|\n",
            "| 18|            null|               Spain|    40.0|     -4.0|2020-01-22|        0|    0|        0|              Toledo|null|\n",
            "| 19| South Australia|           Australia|-34.9285| 138.6007|2020-01-22|        0|    0|        0|     South Australia|null|\n",
            "+---+----------------+--------------------+--------+---------+----------+---------+-----+---------+--------------------+----+\n",
            "only showing top 20 rows\n",
            "\n"
          ]
        }
      ]
    },
    {
      "cell_type": "code",
      "metadata": {
        "id": "-7X2DAXk5FpK"
      },
      "source": [
        "BASE_DIR='/tmp'\n",
        "twitter_data_file=os.path.join(BASE_DIR,'tweets.csv')"
      ],
      "execution_count": 12,
      "outputs": []
    },
    {
      "cell_type": "code",
      "metadata": {
        "colab": {
          "base_uri": "https://localhost:8080/"
        },
        "id": "vNsTJQdf3sCL",
        "outputId": "fe22b16a-3f5b-465f-fe09-d148b223842e"
      },
      "source": [
        "corona_df.printSchema()"
      ],
      "execution_count": 13,
      "outputs": [
        {
          "output_type": "stream",
          "name": "stdout",
          "text": [
            "root\n",
            " |-- _c0: string (nullable = true)\n",
            " |-- State: string (nullable = true)\n",
            " |-- Country: string (nullable = true)\n",
            " |-- Lat: string (nullable = true)\n",
            " |-- Long: string (nullable = true)\n",
            " |-- Date: string (nullable = true)\n",
            " |-- Confirmed: string (nullable = true)\n",
            " |-- Death: string (nullable = true)\n",
            " |-- Recovered: string (nullable = true)\n",
            " |-- state_cleaned: string (nullable = true)\n",
            " |-- City: string (nullable = true)\n",
            "\n"
          ]
        }
      ]
    },
    {
      "cell_type": "code",
      "metadata": {
        "id": "1AnhVSee6s7S"
      },
      "source": [
        "import urllib.request\n",
        "corona_data=urllib.request.urlretrieve(\"https://raw.githubusercontent.com/srivatsan88/YouTubeLI/master/dataset/coronavirus/tweets.csv\",twitter_data_file)"
      ],
      "execution_count": 14,
      "outputs": []
    },
    {
      "cell_type": "code",
      "metadata": {
        "colab": {
          "base_uri": "https://localhost:8080/"
        },
        "id": "1w7TQA5G7FFD",
        "outputId": "e1e0e577-56b9-423c-ec62-071ff1987f6c"
      },
      "source": [
        "ls /tmp"
      ],
      "execution_count": 15,
      "outputs": [
        {
          "output_type": "stream",
          "name": "stdout",
          "text": [
            "\u001b[0m\u001b[01;34mblockmgr-f134b599-aabf-4a9f-91b2-6fdf65179e91\u001b[0m/\n",
            "corona_data.csv\n",
            "dap_multiplexer.45f6f66e1d50.root.log.INFO.20210923-151939.56\n",
            "\u001b[01;36mdap_multiplexer.INFO\u001b[0m@\n",
            "\u001b[01;35mdebugger_puwldhbm5\u001b[0m=\n",
            "\u001b[01;34mhsperfdata_root\u001b[0m/\n",
            "\u001b[01;34minitgoogle_syslog_dir.0\u001b[0m/\n",
            "liblz4-java-2579035530076325752.so\n",
            "liblz4-java-2579035530076325752.so.lck\n",
            "\u001b[01;34mpyright-102-BP91TmKfkFkM\u001b[0m/\n",
            "\u001b[01;34mpyright-102-FacEh9rnhHHa\u001b[0m/\n",
            "\u001b[01;34mpyright-237-mjASPyQqmDk4\u001b[0m/\n",
            "\u001b[01;34mpyright-237-YJWOJNLmUubq\u001b[0m/\n",
            "\u001b[01;34mpyright-263-dBxtCaap11lD\u001b[0m/\n",
            "\u001b[01;34mpyright-263-NNeQslP7xFeG\u001b[0m/\n",
            "\u001b[01;34mpython-languageserver-cancellation\u001b[0m/\n",
            "\u001b[01;34mspark-578523bb-f9d0-45c3-b9b4-4243cecdaac2\u001b[0m/\n",
            "\u001b[01;34mspark-b00ddc9c-9862-4210-aae7-734956a8cd88\u001b[0m/\n",
            "tweets.csv\n"
          ]
        }
      ]
    },
    {
      "cell_type": "code",
      "metadata": {
        "colab": {
          "base_uri": "https://localhost:8080/"
        },
        "id": "j2RsWrC67G0X",
        "outputId": "6761540d-d84a-42ba-89cf-6913307255df"
      },
      "source": [
        "!head /tmp/tweets.csv"
      ],
      "execution_count": 16,
      "outputs": [
        {
          "output_type": "stream",
          "name": "stdout",
          "text": [
            ",geo,text,user,location,entities,sentiment,country\n",
            "0,,What is God saying to us about #coronavirus ?,petodinice,Lagos,\"[('about #', 'CARDINAL')]\",\"{'neg': 0.0, 'neu': 0.769, 'pos': 0.231, 'compound': 0.2732}\",Nigeria\n",
            "1,,\"BREAKING: \"\"this is disappointing, but i took the test\"\". Arsenal's Mikel Arteta tests positive for #coronavirus,  -… \",JerryfranksonJF,\"Abuja, Nigeria\",\"[(\"\"Arsenal's Mikel Arteta\"\", 'ORG'), '']\",\"{'neg': 0.1, 'neu': 0.667, 'pos': 0.233, 'compound': 0.5859}\",Nigeria\n",
            "2,, #Coronavirus testing must be made free to the public if we are going to understand the scope of this crisis. Anything le…,cek422,\"Pennsylvania, USA\",[],\"{'neg': 0.173, 'neu': 0.71, 'pos': 0.117, 'compound': -0.3767}\",USA\n",
            "3,, Get ready for mass event crowd cancellations across the World starting this weekend: cricket in #Australia in empty st…,InfectiousDz,NYC,\"[('World', 'ORG'), ('this weekend', 'DATE'), '']\",\"{'neg': 0.085, 'neu': 0.798, 'pos': 0.117, 'compound': 0.1779}\",USA\n",
            "4,, The #coronavirus pandemic is revealing just how closely we are all bound together...[A thread] ,vic_gibson,,[''],\"{'neg': 0.0, 'neu': 1.0, 'pos': 0.0, 'compound': 0.0}\",\n",
            "5,,\" COVID-19 update as of this morning:1. Death toll in Italy passes 1,0002. Arsenal's head coach Arteta tests positive3. US…\",StewartNgilana,Durban | Port Elizabeth,\"[('Italy', 'GPE'), ('1,0002', 'CARDINAL'), ('Arsenal', 'ORG'), ('Arteta', 'ORG'), ('US', 'GPE')]\",\"{'neg': 0.178, 'neu': 0.822, 'pos': 0.0, 'compound': -0.5994}\",USA\n",
            "6,,\" It’s painful to say, but as an ER doc who talked to  about healthcare, I believe he's uniquely unqualified to…\",BWheatnyc,Florida,[],\"{'neg': 0.098, 'neu': 0.902, 'pos': 0.0, 'compound': -0.2382}\",USA\n",
            "7,,\" 📽️Friends, I will drop another video on Twitter tonight around 7:30pm to answer your questions about #coronavirus.Plea…\",LorseaR,\"New South Wales, Australia\",\"[('Twitter', 'GPE'), ('tonight', 'TIME')]\",\"{'neg': 0.123, 'neu': 0.877, 'pos': 0.0, 'compound': -0.2732}\",Australia\n",
            "8,,\" Questions about COVID-19? See this resource and info page from NAfME for music educators, including music instrument hygiene: ht…\",straightj23,\"Columbus, OH\",\"[('NAfME', 'CARDINAL')]\",\"{'neg': 0.0, 'neu': 1.0, 'pos': 0.0, 'compound': 0.0}\",USA\n"
          ]
        }
      ]
    },
    {
      "cell_type": "code",
      "metadata": {
        "id": "o5fVEl0d7I9Y"
      },
      "source": [
        "twitter_df=spark.read.option(\"infer_schema\",\"true\").csv(\"/tmp/tweets.csv\",header=True)"
      ],
      "execution_count": 17,
      "outputs": []
    },
    {
      "cell_type": "code",
      "metadata": {
        "colab": {
          "base_uri": "https://localhost:8080/"
        },
        "id": "_7aGtPvA7eOE",
        "outputId": "7f54cf9f-38d0-490b-dc11-46867a65a011"
      },
      "source": [
        "twitter_df.show()"
      ],
      "execution_count": 18,
      "outputs": [
        {
          "output_type": "stream",
          "name": "stdout",
          "text": [
            "+---+----+--------------------+--------------------+--------------------+--------------------+--------------------+--------------------+\n",
            "|_c0| geo|                text|                user|            location|            entities|           sentiment|             country|\n",
            "+---+----+--------------------+--------------------+--------------------+--------------------+--------------------+--------------------+\n",
            "|  0|null|What is God sayin...|          petodinice|               Lagos|[('about #', 'CAR...|{'neg': 0.0, 'neu...|             Nigeria|\n",
            "|  1|null|\"BREAKING: \"\"this...| but i took the t...|                -… \"|     JerryfranksonJF|      Abuja, Nigeria|\"[(\"\"Arsenal's Mi...|\n",
            "|  2|null| #Coronavirus tes...|              cek422|   Pennsylvania, USA|                  []|{'neg': 0.173, 'n...|                 USA|\n",
            "|  3|null| Get ready for ma...|        InfectiousDz|                 NYC|[('World', 'ORG')...|{'neg': 0.085, 'n...|                 USA|\n",
            "|  4|null| The #coronavirus...|          vic_gibson|                null|                ['']|{'neg': 0.0, 'neu...|                null|\n",
            "|  5|null| COVID-19 update ...|      StewartNgilana|Durban | Port Eli...|[('Italy', 'GPE')...|{'neg': 0.178, 'n...|                 USA|\n",
            "|  6|null| It’s painful to ...|           BWheatnyc|             Florida|                  []|{'neg': 0.098, 'n...|                 USA|\n",
            "|  7|null| 📽️Friends, I wi...|             LorseaR|New South Wales, ...|[('Twitter', 'GPE...|{'neg': 0.123, 'n...|           Australia|\n",
            "|  8|null| Questions about ...|         straightj23|        Columbus, OH|[('NAfME', 'CARDI...|{'neg': 0.0, 'neu...|                 USA|\n",
            "|  9|null|How they’re deali...|       _______coolio| South East, England|['', ('Portsmouth...|{'neg': 0.126, 'n...|                  UK|\n",
            "| 10|null| BREAKING: Democr...|      champagneaylin|                null|[('Democrats', 'N...|{'neg': 0.221, 'n...|                null|\n",
            "| 11|null| “If we close dow...|       YorkLawLondon|                  UK|                  []|{'neg': 0.0, 'neu...|      United Kingdom|\n",
            "| 12|null| I pity the poor ...|      BeesonMargaret|                null|                ['']|{'neg': 0.227, 'n...|                null|\n",
            "| 13|null| We’re the heck w...|      harrytiffanyiv| Fort Washington, PA|[('the last 6 wee...|{'neg': 0.0, 'neu...|                 USA|\n",
            "| 14|null| I don't think sh...|         grammyheath|                null|[('Joy', 'PERSON'...|{'neg': 0.0, 'neu...|                null|\n",
            "| 15|null| Well written, so...|      barbara_ellena|Christchurch City...|                  []|{'neg': 0.0, 'neu...|         New Zealand|\n",
            "| 16|null| 1/2 CDC Director...|               fatal|                 USA|[('1/2', 'CARDINA...|{'neg': 0.139, 'n...|       United States|\n",
            "| 17|null| In all seriousne...|          pwjkmiller|                null|                ['']|{'neg': 0.218, 'n...|                null|\n",
            "| 18|null| Wash your hands....|        Mrrandy123RP|          Texas, USA|            ['', '']|{'neg': 0.0, 'neu...|                 USA|\n",
            "| 19|null| #CoronaVirusCana...|           aliensky0|           Worldwide|['', ('CoronaViru...|{'neg': 0.0, 'neu...|                 USA|\n",
            "+---+----+--------------------+--------------------+--------------------+--------------------+--------------------+--------------------+\n",
            "only showing top 20 rows\n",
            "\n"
          ]
        }
      ]
    },
    {
      "cell_type": "code",
      "metadata": {
        "colab": {
          "base_uri": "https://localhost:8080/"
        },
        "id": "_sYk7pfS7hNb",
        "outputId": "5641990d-2d15-447a-f523-c8840292ba64"
      },
      "source": [
        "twitter_df.count()"
      ],
      "execution_count": 19,
      "outputs": [
        {
          "output_type": "execute_result",
          "data": {
            "text/plain": [
              "1000"
            ]
          },
          "metadata": {},
          "execution_count": 19
        }
      ]
    },
    {
      "cell_type": "code",
      "metadata": {
        "colab": {
          "base_uri": "https://localhost:8080/"
        },
        "id": "gbNVr4WK7kMS",
        "outputId": "92ccb872-9356-455b-92a8-28a14cc5cd3d"
      },
      "source": [
        "corona_df.show()"
      ],
      "execution_count": 20,
      "outputs": [
        {
          "output_type": "stream",
          "name": "stdout",
          "text": [
            "+---+----------------+--------------------+--------+---------+----------+---------+-----+---------+--------------------+----+\n",
            "|_c0|           State|             Country|     Lat|     Long|      Date|Confirmed|Death|Recovered|       state_cleaned|City|\n",
            "+---+----------------+--------------------+--------+---------+----------+---------+-----+---------+--------------------+----+\n",
            "|  0|            null|            Thailand|    15.0|    101.0|2020-01-22|        2|    0|        0|             Bangkok|null|\n",
            "|  1|            null|               Japan|    36.0|    138.0|2020-01-22|        2|    0|        0|             Hiraide|null|\n",
            "|  2|            null|           Singapore|  1.2833| 103.8333|2020-01-22|        0|    0|        0|           Singapore|null|\n",
            "|  3|            null|               Nepal| 28.1667|    84.25|2020-01-22|        0|    0|        0|           Kathmandu|null|\n",
            "|  4|            null|            Malaysia|     2.5|    112.5|2020-01-22|        0|    0|        0|             Sarawak|null|\n",
            "|  5|British Columbia|              Canada| 49.2827|-123.1207|2020-01-22|        0|    0|        0|    British Columbia|null|\n",
            "|  6| New South Wales|           Australia|-33.8688| 151.2093|2020-01-22|        0|    0|        0|     New South Wales|null|\n",
            "|  7|        Victoria|           Australia|-37.8136| 144.9631|2020-01-22|        0|    0|        0|            Victoria|null|\n",
            "|  8|      Queensland|           Australia|-28.0167|    153.4|2020-01-22|        0|    0|        0|          Queensland|null|\n",
            "|  9|            null|            Cambodia|   11.55| 104.9167|2020-01-22|        0|    0|        0|          Phnom Penh|null|\n",
            "| 10|            null|           Sri Lanka|     7.0|     81.0|2020-01-22|        0|    0|        0|Sri Jayawardenapu...|null|\n",
            "| 11|            null|             Germany|    51.0|      9.0|2020-01-22|        0|    0|        0|              Berlin|null|\n",
            "| 12|            null|             Finland|    64.0|     26.0|2020-01-22|        0|    0|        0|            Helsinki|null|\n",
            "| 13|            null|United Arab Emirates|    24.0|     54.0|2020-01-22|        0|    0|        0|           Abu Dhabi|null|\n",
            "| 14|            null|         Philippines|    13.0|    122.0|2020-01-22|        0|    0|        0|              Manila|null|\n",
            "| 15|            null|               India|    21.0|     78.0|2020-01-22|        0|    0|        0|           New Delhi|null|\n",
            "| 16|            null|               Italy|    43.0|     12.0|2020-01-22|        0|    0|        0|                Rome|null|\n",
            "| 17|            null|              Sweden|    63.0|     16.0|2020-01-22|        0|    0|        0|           Stockholm|null|\n",
            "| 18|            null|               Spain|    40.0|     -4.0|2020-01-22|        0|    0|        0|              Toledo|null|\n",
            "| 19| South Australia|           Australia|-34.9285| 138.6007|2020-01-22|        0|    0|        0|     South Australia|null|\n",
            "+---+----------------+--------------------+--------+---------+----------+---------+-----+---------+--------------------+----+\n",
            "only showing top 20 rows\n",
            "\n"
          ]
        }
      ]
    },
    {
      "cell_type": "code",
      "metadata": {
        "id": "93K4vLKp8EY0",
        "colab": {
          "base_uri": "https://localhost:8080/"
        },
        "outputId": "84118140-6dcc-4167-f506-8c77497f6be8"
      },
      "source": [
        "twitter_df.filter(\"country='USA'\").show()"
      ],
      "execution_count": 21,
      "outputs": [
        {
          "output_type": "stream",
          "name": "stdout",
          "text": [
            "+---+----+--------------------+---------------+--------------------+--------------------+--------------------+-------+\n",
            "|_c0| geo|                text|           user|            location|            entities|           sentiment|country|\n",
            "+---+----+--------------------+---------------+--------------------+--------------------+--------------------+-------+\n",
            "|  2|null| #Coronavirus tes...|         cek422|   Pennsylvania, USA|                  []|{'neg': 0.173, 'n...|    USA|\n",
            "|  3|null| Get ready for ma...|   InfectiousDz|                 NYC|[('World', 'ORG')...|{'neg': 0.085, 'n...|    USA|\n",
            "|  5|null| COVID-19 update ...| StewartNgilana|Durban | Port Eli...|[('Italy', 'GPE')...|{'neg': 0.178, 'n...|    USA|\n",
            "|  6|null| It’s painful to ...|      BWheatnyc|             Florida|                  []|{'neg': 0.098, 'n...|    USA|\n",
            "|  8|null| Questions about ...|    straightj23|        Columbus, OH|[('NAfME', 'CARDI...|{'neg': 0.0, 'neu...|    USA|\n",
            "| 13|null| We’re the heck w...| harrytiffanyiv| Fort Washington, PA|[('the last 6 wee...|{'neg': 0.0, 'neu...|    USA|\n",
            "| 18|null| Wash your hands....|   Mrrandy123RP|          Texas, USA|            ['', '']|{'neg': 0.0, 'neu...|    USA|\n",
            "| 19|null| #CoronaVirusCana...|      aliensky0|           Worldwide|['', ('CoronaViru...|{'neg': 0.0, 'neu...|    USA|\n",
            "| 24|null| Dr. Dena Grayson...|billymocolorad2|         Denver area|[('Dena Grayson',...|{'neg': 0.0, 'neu...|    USA|\n",
            "| 29|null| #BREAKING Univer...|  _pulido_nenaa|         Fontana, CA|['', ('BREAKING U...|{'neg': 0.0, 'neu...|    USA|\n",
            "| 31|null| I ordered Alex J...|       rcgillan|       New York, USA|[('Alex Jones', '...|{'neg': 0.109, 'n...|    USA|\n",
            "| 32|null| #CoronavirusExpe...|        AD1968F|California / Florida|['', ('Coronaviru...|{'neg': 0.0, 'neu...|    USA|\n",
            "| 34|null| There is no obje...|       SFAuGrrl|   San Francisco, CA|['', ('FamiliesFi...|{'neg': 0.224, 'n...|    USA|\n",
            "| 36|null| Before #coronavi...|   Frankapistan|       Nashville, TN|[('China', 'GPE')...|{'neg': 0.144, 'n...|    USA|\n",
            "| 40|null|  When it's actua...|      Happyjam5|     Los Angeles, Ca|[('GOP', 'ORG'), ...|{'neg': 0.215, 'n...|    USA|\n",
            "| 41|null|#Coronavirus in #...|   GregoryGLake|              Global|['', ('5', 'CARDI...|{'neg': 0.318, 'n...|    USA|\n",
            "| 49|null| This week we are...|  JamesWithers3|  New York, New York|[('This week', 'D...|{'neg': 0.0, 'neu...|    USA|\n",
            "| 50|null| Trump is now doi...|      NewNewsey|          everywhere|[('Trump', 'ORG')...|{'neg': 0.0, 'neu...|    USA|\n",
            "| 55|null| The last patient...|   Khattarperla|          Highgarden|  [('Wuhan', 'GPE')]|{'neg': 0.0, 'neu...|    USA|\n",
            "| 56|null|...Hope y’all sta...|  Brandon4Brody|          Pueblo, CO|[('CDC', 'ORG'), ...|{'neg': 0.0, 'neu...|    USA|\n",
            "+---+----+--------------------+---------------+--------------------+--------------------+--------------------+-------+\n",
            "only showing top 20 rows\n",
            "\n"
          ]
        }
      ]
    },
    {
      "cell_type": "code",
      "metadata": {
        "colab": {
          "base_uri": "https://localhost:8080/"
        },
        "id": "azAhlym9pB8L",
        "outputId": "b1c7d411-9921-495a-c7f5-7ed58403b5a9"
      },
      "source": [
        "twitter_df.filter(\"country='USA'\").count()"
      ],
      "execution_count": 22,
      "outputs": [
        {
          "output_type": "execute_result",
          "data": {
            "text/plain": [
              "364"
            ]
          },
          "metadata": {},
          "execution_count": 22
        }
      ]
    },
    {
      "cell_type": "code",
      "metadata": {
        "colab": {
          "base_uri": "https://localhost:8080/"
        },
        "id": "PBaR3rGBrDi5",
        "outputId": "3fa76c30-e867-405f-a446-fa9ef7bf90ad"
      },
      "source": [
        "twitter_df.filter(\"country='USA' and location like '%New%'\").show()"
      ],
      "execution_count": 23,
      "outputs": [
        {
          "output_type": "stream",
          "name": "stdout",
          "text": [
            "+---+----+--------------------+---------------+--------------------+--------------------+--------------------+-------+\n",
            "|_c0| geo|                text|           user|            location|            entities|           sentiment|country|\n",
            "+---+----+--------------------+---------------+--------------------+--------------------+--------------------+-------+\n",
            "| 31|null| I ordered Alex J...|       rcgillan|       New York, USA|[('Alex Jones', '...|{'neg': 0.109, 'n...|    USA|\n",
            "| 49|null| This week we are...|  JamesWithers3|  New York, New York|[('This week', 'D...|{'neg': 0.0, 'neu...|    USA|\n",
            "| 62|null|Fear will kill #C...| RobertPPurcell|norther New Jerse...|                ['']|{'neg': 0.798, 'n...|    USA|\n",
            "|228|null|This is a very co...|baskingntheGlow|       New York City|[('hourly', 'TIME')]|{'neg': 0.12, 'ne...|    USA|\n",
            "|238|null|I’m reposting thi...|   Veronicaromm|     New Jersey, USA|[('English', 'LAN...|{'neg': 0.0, 'neu...|    USA|\n",
            "|261|null|Too early ...?  #...|      HJeppesen|        New York, NY|                ['']|{'neg': 0.0, 'neu...|    USA|\n",
            "|275|null|  The Republican ...|  GenetBataiile|  New Hampshire, USA|[('Republican', '...|{'neg': 0.0, 'neu...|    USA|\n",
            "|369|null| I still look to ...|   SusanSeaside|         New England|[('SouthKorea', '...|{'neg': 0.0, 'neu...|    USA|\n",
            "|438|null|Can we call the #...|       nilchaks|     New Jersey, USA|                ['']|{'neg': 0.194, 'n...|    USA|\n",
            "|458|null| New deadly #coro...| ssummersabrina|     New Jersey, USA|                ['']|{'neg': 0.236, 'n...|    USA|\n",
            "|471|null|What the Caged Bi...|    AaronNetsky|        New York, NY|                  []|{'neg': 0.0, 'neu...|    USA|\n",
            "|553|null|Me: Tired of hear...|     AmandaB_B8|  New Hampshire, USA|['', ('tonight', ...|{'neg': 0.252, 'n...|    USA|\n",
            "|611|null| Apparently the #...|  BuffaloInABox|   Buffalo, New York|['', ('CoronaViru...|{'neg': 0.171, 'n...|    USA|\n",
            "|612|null| New deadly #coro...|       klazimi1|       New York, USA|                ['']|{'neg': 0.236, 'n...|    USA|\n",
            "|622|null|Can someone pleas...|         pitaru|            New York|                ['']|{'neg': 0.168, 'n...|    USA|\n",
            "|624|null| Trump is now doi...| swirlysunburst|Northwest, New Je...|[('Trump', 'ORG')...|{'neg': 0.0, 'neu...|    USA|\n",
            "|664|null|Marriage in 2020 ...|           sciz|        New York, NY|[('2020', 'DATE')...|{'neg': 0.111, 'n...|    USA|\n",
            "|679|null|ALL MY MONEY ON E...|  misterauyeung|        New York, NY|[('ETF', 'ORG'), '']|{'neg': 0.148, 'n...|    USA|\n",
            "|724|null|#UniversalStudios...| cosmicbooknews|       New York, USA|['', ('UniversalS...|{'neg': 0.0, 'neu...|    USA|\n",
            "|850|null| There is no obje...|         rm1268|       New York, USA|['', ('FamiliesFi...|{'neg': 0.224, 'n...|    USA|\n",
            "+---+----+--------------------+---------------+--------------------+--------------------+--------------------+-------+\n",
            "only showing top 20 rows\n",
            "\n"
          ]
        }
      ]
    },
    {
      "cell_type": "code",
      "metadata": {
        "id": "iDfNHPqkrNQV"
      },
      "source": [
        "tdf=twitter_df.filter(\"country='USA'\")"
      ],
      "execution_count": 24,
      "outputs": []
    },
    {
      "cell_type": "code",
      "metadata": {
        "colab": {
          "base_uri": "https://localhost:8080/"
        },
        "id": "tfPsnHxprpcw",
        "outputId": "0610ff9d-f500-4155-aafa-08c7949dd7f1"
      },
      "source": [
        "tdf.show()"
      ],
      "execution_count": 25,
      "outputs": [
        {
          "output_type": "stream",
          "name": "stdout",
          "text": [
            "+---+----+--------------------+---------------+--------------------+--------------------+--------------------+-------+\n",
            "|_c0| geo|                text|           user|            location|            entities|           sentiment|country|\n",
            "+---+----+--------------------+---------------+--------------------+--------------------+--------------------+-------+\n",
            "|  2|null| #Coronavirus tes...|         cek422|   Pennsylvania, USA|                  []|{'neg': 0.173, 'n...|    USA|\n",
            "|  3|null| Get ready for ma...|   InfectiousDz|                 NYC|[('World', 'ORG')...|{'neg': 0.085, 'n...|    USA|\n",
            "|  5|null| COVID-19 update ...| StewartNgilana|Durban | Port Eli...|[('Italy', 'GPE')...|{'neg': 0.178, 'n...|    USA|\n",
            "|  6|null| It’s painful to ...|      BWheatnyc|             Florida|                  []|{'neg': 0.098, 'n...|    USA|\n",
            "|  8|null| Questions about ...|    straightj23|        Columbus, OH|[('NAfME', 'CARDI...|{'neg': 0.0, 'neu...|    USA|\n",
            "| 13|null| We’re the heck w...| harrytiffanyiv| Fort Washington, PA|[('the last 6 wee...|{'neg': 0.0, 'neu...|    USA|\n",
            "| 18|null| Wash your hands....|   Mrrandy123RP|          Texas, USA|            ['', '']|{'neg': 0.0, 'neu...|    USA|\n",
            "| 19|null| #CoronaVirusCana...|      aliensky0|           Worldwide|['', ('CoronaViru...|{'neg': 0.0, 'neu...|    USA|\n",
            "| 24|null| Dr. Dena Grayson...|billymocolorad2|         Denver area|[('Dena Grayson',...|{'neg': 0.0, 'neu...|    USA|\n",
            "| 29|null| #BREAKING Univer...|  _pulido_nenaa|         Fontana, CA|['', ('BREAKING U...|{'neg': 0.0, 'neu...|    USA|\n",
            "| 31|null| I ordered Alex J...|       rcgillan|       New York, USA|[('Alex Jones', '...|{'neg': 0.109, 'n...|    USA|\n",
            "| 32|null| #CoronavirusExpe...|        AD1968F|California / Florida|['', ('Coronaviru...|{'neg': 0.0, 'neu...|    USA|\n",
            "| 34|null| There is no obje...|       SFAuGrrl|   San Francisco, CA|['', ('FamiliesFi...|{'neg': 0.224, 'n...|    USA|\n",
            "| 36|null| Before #coronavi...|   Frankapistan|       Nashville, TN|[('China', 'GPE')...|{'neg': 0.144, 'n...|    USA|\n",
            "| 40|null|  When it's actua...|      Happyjam5|     Los Angeles, Ca|[('GOP', 'ORG'), ...|{'neg': 0.215, 'n...|    USA|\n",
            "| 41|null|#Coronavirus in #...|   GregoryGLake|              Global|['', ('5', 'CARDI...|{'neg': 0.318, 'n...|    USA|\n",
            "| 49|null| This week we are...|  JamesWithers3|  New York, New York|[('This week', 'D...|{'neg': 0.0, 'neu...|    USA|\n",
            "| 50|null| Trump is now doi...|      NewNewsey|          everywhere|[('Trump', 'ORG')...|{'neg': 0.0, 'neu...|    USA|\n",
            "| 55|null| The last patient...|   Khattarperla|          Highgarden|  [('Wuhan', 'GPE')]|{'neg': 0.0, 'neu...|    USA|\n",
            "| 56|null|...Hope y’all sta...|  Brandon4Brody|          Pueblo, CO|[('CDC', 'ORG'), ...|{'neg': 0.0, 'neu...|    USA|\n",
            "+---+----+--------------------+---------------+--------------------+--------------------+--------------------+-------+\n",
            "only showing top 20 rows\n",
            "\n"
          ]
        }
      ]
    },
    {
      "cell_type": "code",
      "metadata": {
        "colab": {
          "base_uri": "https://localhost:8080/"
        },
        "id": "_cykZjhsrqdj",
        "outputId": "33af587f-c807-47d1-9930-53f0fa1c43c2"
      },
      "source": [
        "tdf.explain()"
      ],
      "execution_count": 26,
      "outputs": [
        {
          "output_type": "stream",
          "name": "stdout",
          "text": [
            "== Physical Plan ==\n",
            "*(1) Filter (isnotnull(country#117) AND (country#117 = USA))\n",
            "+- FileScan csv [_c0#110,geo#111,text#112,user#113,location#114,entities#115,sentiment#116,country#117] Batched: false, DataFilters: [isnotnull(country#117), (country#117 = USA)], Format: CSV, Location: InMemoryFileIndex[file:/tmp/tweets.csv], PartitionFilters: [], PushedFilters: [IsNotNull(country), EqualTo(country,USA)], ReadSchema: struct<_c0:string,geo:string,text:string,user:string,location:string,entities:string,sentiment:st...\n",
            "\n",
            "\n"
          ]
        }
      ]
    },
    {
      "cell_type": "code",
      "metadata": {
        "colab": {
          "base_uri": "https://localhost:8080/"
        },
        "id": "RhqrOG1nrtgA",
        "outputId": "a05d09ab-7317-4f10-e449-a781b3d4acb8"
      },
      "source": [
        "tdf.count()"
      ],
      "execution_count": 27,
      "outputs": [
        {
          "output_type": "execute_result",
          "data": {
            "text/plain": [
              "364"
            ]
          },
          "metadata": {},
          "execution_count": 27
        }
      ]
    },
    {
      "cell_type": "code",
      "metadata": {
        "id": "9GLOW5s8sC2a"
      },
      "source": [
        "tdf=twitter_df.filter(\"country='USA' and location like '%New%'\")"
      ],
      "execution_count": 28,
      "outputs": []
    },
    {
      "cell_type": "code",
      "metadata": {
        "colab": {
          "base_uri": "https://localhost:8080/"
        },
        "id": "oKPLjbgSsbfo",
        "outputId": "0a6087bb-0b3a-4811-f1d8-eb5658677955"
      },
      "source": [
        "tdf.explain()"
      ],
      "execution_count": 29,
      "outputs": [
        {
          "output_type": "stream",
          "name": "stdout",
          "text": [
            "== Physical Plan ==\n",
            "*(1) Filter (((isnotnull(country#117) AND isnotnull(location#114)) AND (country#117 = USA)) AND Contains(location#114, New))\n",
            "+- FileScan csv [_c0#110,geo#111,text#112,user#113,location#114,entities#115,sentiment#116,country#117] Batched: false, DataFilters: [isnotnull(country#117), isnotnull(location#114), (country#117 = USA), Contains(location#114, New)], Format: CSV, Location: InMemoryFileIndex[file:/tmp/tweets.csv], PartitionFilters: [], PushedFilters: [IsNotNull(country), IsNotNull(location), EqualTo(country,USA), StringContains(location,New)], ReadSchema: struct<_c0:string,geo:string,text:string,user:string,location:string,entities:string,sentiment:st...\n",
            "\n",
            "\n"
          ]
        }
      ]
    },
    {
      "cell_type": "code",
      "metadata": {
        "colab": {
          "base_uri": "https://localhost:8080/"
        },
        "id": "EjhvbNfwsdm1",
        "outputId": "4b7b106c-5945-42cb-b9fe-aa1bda1ba6ee"
      },
      "source": [
        "tdf.show()"
      ],
      "execution_count": 30,
      "outputs": [
        {
          "output_type": "stream",
          "name": "stdout",
          "text": [
            "+---+----+--------------------+---------------+--------------------+--------------------+--------------------+-------+\n",
            "|_c0| geo|                text|           user|            location|            entities|           sentiment|country|\n",
            "+---+----+--------------------+---------------+--------------------+--------------------+--------------------+-------+\n",
            "| 31|null| I ordered Alex J...|       rcgillan|       New York, USA|[('Alex Jones', '...|{'neg': 0.109, 'n...|    USA|\n",
            "| 49|null| This week we are...|  JamesWithers3|  New York, New York|[('This week', 'D...|{'neg': 0.0, 'neu...|    USA|\n",
            "| 62|null|Fear will kill #C...| RobertPPurcell|norther New Jerse...|                ['']|{'neg': 0.798, 'n...|    USA|\n",
            "|228|null|This is a very co...|baskingntheGlow|       New York City|[('hourly', 'TIME')]|{'neg': 0.12, 'ne...|    USA|\n",
            "|238|null|I’m reposting thi...|   Veronicaromm|     New Jersey, USA|[('English', 'LAN...|{'neg': 0.0, 'neu...|    USA|\n",
            "|261|null|Too early ...?  #...|      HJeppesen|        New York, NY|                ['']|{'neg': 0.0, 'neu...|    USA|\n",
            "|275|null|  The Republican ...|  GenetBataiile|  New Hampshire, USA|[('Republican', '...|{'neg': 0.0, 'neu...|    USA|\n",
            "|369|null| I still look to ...|   SusanSeaside|         New England|[('SouthKorea', '...|{'neg': 0.0, 'neu...|    USA|\n",
            "|438|null|Can we call the #...|       nilchaks|     New Jersey, USA|                ['']|{'neg': 0.194, 'n...|    USA|\n",
            "|458|null| New deadly #coro...| ssummersabrina|     New Jersey, USA|                ['']|{'neg': 0.236, 'n...|    USA|\n",
            "|471|null|What the Caged Bi...|    AaronNetsky|        New York, NY|                  []|{'neg': 0.0, 'neu...|    USA|\n",
            "|553|null|Me: Tired of hear...|     AmandaB_B8|  New Hampshire, USA|['', ('tonight', ...|{'neg': 0.252, 'n...|    USA|\n",
            "|611|null| Apparently the #...|  BuffaloInABox|   Buffalo, New York|['', ('CoronaViru...|{'neg': 0.171, 'n...|    USA|\n",
            "|612|null| New deadly #coro...|       klazimi1|       New York, USA|                ['']|{'neg': 0.236, 'n...|    USA|\n",
            "|622|null|Can someone pleas...|         pitaru|            New York|                ['']|{'neg': 0.168, 'n...|    USA|\n",
            "|624|null| Trump is now doi...| swirlysunburst|Northwest, New Je...|[('Trump', 'ORG')...|{'neg': 0.0, 'neu...|    USA|\n",
            "|664|null|Marriage in 2020 ...|           sciz|        New York, NY|[('2020', 'DATE')...|{'neg': 0.111, 'n...|    USA|\n",
            "|679|null|ALL MY MONEY ON E...|  misterauyeung|        New York, NY|[('ETF', 'ORG'), '']|{'neg': 0.148, 'n...|    USA|\n",
            "|724|null|#UniversalStudios...| cosmicbooknews|       New York, USA|['', ('UniversalS...|{'neg': 0.0, 'neu...|    USA|\n",
            "|850|null| There is no obje...|         rm1268|       New York, USA|['', ('FamiliesFi...|{'neg': 0.224, 'n...|    USA|\n",
            "+---+----+--------------------+---------------+--------------------+--------------------+--------------------+-------+\n",
            "only showing top 20 rows\n",
            "\n"
          ]
        }
      ]
    },
    {
      "cell_type": "code",
      "metadata": {
        "colab": {
          "base_uri": "https://localhost:8080/"
        },
        "id": "UCB2aktSsgiH",
        "outputId": "d12bcc9a-2c25-49be-a636-5411589fcb3d"
      },
      "source": [
        "twitter_df"
      ],
      "execution_count": 31,
      "outputs": [
        {
          "output_type": "execute_result",
          "data": {
            "text/plain": [
              "DataFrame[_c0: string, geo: string, text: string, user: string, location: string, entities: string, sentiment: string, country: string]"
            ]
          },
          "metadata": {},
          "execution_count": 31
        }
      ]
    },
    {
      "cell_type": "code",
      "metadata": {
        "colab": {
          "base_uri": "https://localhost:8080/"
        },
        "id": "Cn4bC-3Fs7tB",
        "outputId": "6779d4e5-f516-43e0-a26d-13a399737e90"
      },
      "source": [
        "twitter_df.first()"
      ],
      "execution_count": 32,
      "outputs": [
        {
          "output_type": "execute_result",
          "data": {
            "text/plain": [
              "Row(_c0='0', geo=None, text='What is God saying to us about #coronavirus ?', user='petodinice', location='Lagos', entities=\"[('about #', 'CARDINAL')]\", sentiment=\"{'neg': 0.0, 'neu': 0.769, 'pos': 0.231, 'compound': 0.2732}\", country='Nigeria')"
            ]
          },
          "metadata": {},
          "execution_count": 32
        }
      ]
    },
    {
      "cell_type": "code",
      "metadata": {
        "colab": {
          "base_uri": "https://localhost:8080/"
        },
        "id": "heCRYigks9zI",
        "outputId": "7c12abbe-82a4-4a5b-aa05-4424a67772f7"
      },
      "source": [
        "twitter_df.take(5)"
      ],
      "execution_count": 33,
      "outputs": [
        {
          "output_type": "execute_result",
          "data": {
            "text/plain": [
              "[Row(_c0='0', geo=None, text='What is God saying to us about #coronavirus ?', user='petodinice', location='Lagos', entities=\"[('about #', 'CARDINAL')]\", sentiment=\"{'neg': 0.0, 'neu': 0.769, 'pos': 0.231, 'compound': 0.2732}\", country='Nigeria'),\n",
              " Row(_c0='1', geo=None, text='\"BREAKING: \"\"this is disappointing', user=' but i took the test\"\". Arsenal\\'s Mikel Arteta tests positive for #coronavirus', location='  -… \"', entities='JerryfranksonJF', sentiment='Abuja, Nigeria', country='\"[(\"\"Arsenal\\'s Mikel Arteta\"\"'),\n",
              " Row(_c0='2', geo=None, text=' #Coronavirus testing must be made free to the public if we are going to understand the scope of this crisis. Anything le…', user='cek422', location='Pennsylvania, USA', entities='[]', sentiment=\"{'neg': 0.173, 'neu': 0.71, 'pos': 0.117, 'compound': -0.3767}\", country='USA'),\n",
              " Row(_c0='3', geo=None, text=' Get ready for mass event crowd cancellations across the World starting this weekend: cricket in #Australia in empty st…', user='InfectiousDz', location='NYC', entities=\"[('World', 'ORG'), ('this weekend', 'DATE'), '']\", sentiment=\"{'neg': 0.085, 'neu': 0.798, 'pos': 0.117, 'compound': 0.1779}\", country='USA'),\n",
              " Row(_c0='4', geo=None, text=' The #coronavirus pandemic is revealing just how closely we are all bound together...[A thread] ', user='vic_gibson', location=None, entities=\"['']\", sentiment=\"{'neg': 0.0, 'neu': 1.0, 'pos': 0.0, 'compound': 0.0}\", country=None)]"
            ]
          },
          "metadata": {},
          "execution_count": 33
        }
      ]
    },
    {
      "cell_type": "code",
      "metadata": {
        "colab": {
          "base_uri": "https://localhost:8080/"
        },
        "id": "Qje_F_mHtBuv",
        "outputId": "5fedc24a-fdaf-42fd-f151-33e78b84f8e1"
      },
      "source": [
        "twitter_df.select(\"text\").show()"
      ],
      "execution_count": 34,
      "outputs": [
        {
          "output_type": "stream",
          "name": "stdout",
          "text": [
            "+--------------------+\n",
            "|                text|\n",
            "+--------------------+\n",
            "|What is God sayin...|\n",
            "|\"BREAKING: \"\"this...|\n",
            "| #Coronavirus tes...|\n",
            "| Get ready for ma...|\n",
            "| The #coronavirus...|\n",
            "| COVID-19 update ...|\n",
            "| It’s painful to ...|\n",
            "| 📽️Friends, I wi...|\n",
            "| Questions about ...|\n",
            "|How they’re deali...|\n",
            "| BREAKING: Democr...|\n",
            "| “If we close dow...|\n",
            "| I pity the poor ...|\n",
            "| We’re the heck w...|\n",
            "| I don't think sh...|\n",
            "| Well written, so...|\n",
            "| 1/2 CDC Director...|\n",
            "| In all seriousne...|\n",
            "| Wash your hands....|\n",
            "| #CoronaVirusCana...|\n",
            "+--------------------+\n",
            "only showing top 20 rows\n",
            "\n"
          ]
        }
      ]
    },
    {
      "cell_type": "code",
      "metadata": {
        "colab": {
          "base_uri": "https://localhost:8080/"
        },
        "id": "ZqvmvJOkutrS",
        "outputId": "b6cf904f-9046-4b70-c82c-54d6bdd0765a"
      },
      "source": [
        "twitter_df.select(\"text\",\"user\").show()"
      ],
      "execution_count": 35,
      "outputs": [
        {
          "output_type": "stream",
          "name": "stdout",
          "text": [
            "+--------------------+--------------------+\n",
            "|                text|                user|\n",
            "+--------------------+--------------------+\n",
            "|What is God sayin...|          petodinice|\n",
            "|\"BREAKING: \"\"this...| but i took the t...|\n",
            "| #Coronavirus tes...|              cek422|\n",
            "| Get ready for ma...|        InfectiousDz|\n",
            "| The #coronavirus...|          vic_gibson|\n",
            "| COVID-19 update ...|      StewartNgilana|\n",
            "| It’s painful to ...|           BWheatnyc|\n",
            "| 📽️Friends, I wi...|             LorseaR|\n",
            "| Questions about ...|         straightj23|\n",
            "|How they’re deali...|       _______coolio|\n",
            "| BREAKING: Democr...|      champagneaylin|\n",
            "| “If we close dow...|       YorkLawLondon|\n",
            "| I pity the poor ...|      BeesonMargaret|\n",
            "| We’re the heck w...|      harrytiffanyiv|\n",
            "| I don't think sh...|         grammyheath|\n",
            "| Well written, so...|      barbara_ellena|\n",
            "| 1/2 CDC Director...|               fatal|\n",
            "| In all seriousne...|          pwjkmiller|\n",
            "| Wash your hands....|        Mrrandy123RP|\n",
            "| #CoronaVirusCana...|           aliensky0|\n",
            "+--------------------+--------------------+\n",
            "only showing top 20 rows\n",
            "\n"
          ]
        }
      ]
    },
    {
      "cell_type": "code",
      "metadata": {
        "colab": {
          "base_uri": "https://localhost:8080/"
        },
        "id": "PCDMsHw1u84U",
        "outputId": "73649987-044d-4037-a03d-d16b4666b409"
      },
      "source": [
        "twitter_df.rdd.map(lambda line:line.text.split(\" \")).take(5)"
      ],
      "execution_count": 36,
      "outputs": [
        {
          "output_type": "execute_result",
          "data": {
            "text/plain": [
              "[['What', 'is', 'God', 'saying', 'to', 'us', 'about', '#coronavirus', '?'],\n",
              " ['\"BREAKING:', '\"\"this', 'is', 'disappointing'],\n",
              " ['',\n",
              "  '#Coronavirus',\n",
              "  'testing',\n",
              "  'must',\n",
              "  'be',\n",
              "  'made',\n",
              "  'free',\n",
              "  'to',\n",
              "  'the',\n",
              "  'public',\n",
              "  'if',\n",
              "  'we',\n",
              "  'are',\n",
              "  'going',\n",
              "  'to',\n",
              "  'understand',\n",
              "  'the',\n",
              "  'scope',\n",
              "  'of',\n",
              "  'this',\n",
              "  'crisis.',\n",
              "  'Anything',\n",
              "  'le…'],\n",
              " ['',\n",
              "  'Get',\n",
              "  'ready',\n",
              "  'for',\n",
              "  'mass',\n",
              "  'event',\n",
              "  'crowd',\n",
              "  'cancellations',\n",
              "  'across',\n",
              "  'the',\n",
              "  'World',\n",
              "  'starting',\n",
              "  'this',\n",
              "  'weekend:',\n",
              "  'cricket',\n",
              "  'in',\n",
              "  '#Australia',\n",
              "  'in',\n",
              "  'empty',\n",
              "  'st…'],\n",
              " ['',\n",
              "  'The',\n",
              "  '#coronavirus',\n",
              "  'pandemic',\n",
              "  'is',\n",
              "  'revealing',\n",
              "  'just',\n",
              "  'how',\n",
              "  'closely',\n",
              "  'we',\n",
              "  'are',\n",
              "  'all',\n",
              "  'bound',\n",
              "  'together...[A',\n",
              "  'thread]',\n",
              "  '']]"
            ]
          },
          "metadata": {},
          "execution_count": 36
        }
      ]
    },
    {
      "cell_type": "code",
      "metadata": {
        "colab": {
          "base_uri": "https://localhost:8080/"
        },
        "id": "kyEXNgWcvgYq",
        "outputId": "1afb022b-6b11-41ae-bda0-c5ccca70c26d"
      },
      "source": [
        "twitter_df.rdd.flatMap(lambda line:line.text.split(\" \")).take(100)"
      ],
      "execution_count": 37,
      "outputs": [
        {
          "output_type": "execute_result",
          "data": {
            "text/plain": [
              "['What',\n",
              " 'is',\n",
              " 'God',\n",
              " 'saying',\n",
              " 'to',\n",
              " 'us',\n",
              " 'about',\n",
              " '#coronavirus',\n",
              " '?',\n",
              " '\"BREAKING:',\n",
              " '\"\"this',\n",
              " 'is',\n",
              " 'disappointing',\n",
              " '',\n",
              " '#Coronavirus',\n",
              " 'testing',\n",
              " 'must',\n",
              " 'be',\n",
              " 'made',\n",
              " 'free',\n",
              " 'to',\n",
              " 'the',\n",
              " 'public',\n",
              " 'if',\n",
              " 'we',\n",
              " 'are',\n",
              " 'going',\n",
              " 'to',\n",
              " 'understand',\n",
              " 'the',\n",
              " 'scope',\n",
              " 'of',\n",
              " 'this',\n",
              " 'crisis.',\n",
              " 'Anything',\n",
              " 'le…',\n",
              " '',\n",
              " 'Get',\n",
              " 'ready',\n",
              " 'for',\n",
              " 'mass',\n",
              " 'event',\n",
              " 'crowd',\n",
              " 'cancellations',\n",
              " 'across',\n",
              " 'the',\n",
              " 'World',\n",
              " 'starting',\n",
              " 'this',\n",
              " 'weekend:',\n",
              " 'cricket',\n",
              " 'in',\n",
              " '#Australia',\n",
              " 'in',\n",
              " 'empty',\n",
              " 'st…',\n",
              " '',\n",
              " 'The',\n",
              " '#coronavirus',\n",
              " 'pandemic',\n",
              " 'is',\n",
              " 'revealing',\n",
              " 'just',\n",
              " 'how',\n",
              " 'closely',\n",
              " 'we',\n",
              " 'are',\n",
              " 'all',\n",
              " 'bound',\n",
              " 'together...[A',\n",
              " 'thread]',\n",
              " '',\n",
              " '',\n",
              " 'COVID-19',\n",
              " 'update',\n",
              " 'as',\n",
              " 'of',\n",
              " 'this',\n",
              " 'morning:1.',\n",
              " 'Death',\n",
              " 'toll',\n",
              " 'in',\n",
              " 'Italy',\n",
              " 'passes',\n",
              " '1,0002.',\n",
              " \"Arsenal's\",\n",
              " 'head',\n",
              " 'coach',\n",
              " 'Arteta',\n",
              " 'tests',\n",
              " 'positive3.',\n",
              " 'US…',\n",
              " '',\n",
              " 'It’s',\n",
              " 'painful',\n",
              " 'to',\n",
              " 'say,',\n",
              " 'but',\n",
              " 'as',\n",
              " 'an']"
            ]
          },
          "metadata": {},
          "execution_count": 37
        }
      ]
    },
    {
      "cell_type": "code",
      "metadata": {
        "colab": {
          "base_uri": "https://localhost:8080/"
        },
        "id": "HvQcUa7JvlWJ",
        "outputId": "2f272781-e6e8-49d1-8668-8d95e051dbc2"
      },
      "source": [
        "corona_df.show(10)"
      ],
      "execution_count": 38,
      "outputs": [
        {
          "output_type": "stream",
          "name": "stdout",
          "text": [
            "+---+----------------+---------+--------+---------+----------+---------+-----+---------+----------------+----+\n",
            "|_c0|           State|  Country|     Lat|     Long|      Date|Confirmed|Death|Recovered|   state_cleaned|City|\n",
            "+---+----------------+---------+--------+---------+----------+---------+-----+---------+----------------+----+\n",
            "|  0|            null| Thailand|    15.0|    101.0|2020-01-22|        2|    0|        0|         Bangkok|null|\n",
            "|  1|            null|    Japan|    36.0|    138.0|2020-01-22|        2|    0|        0|         Hiraide|null|\n",
            "|  2|            null|Singapore|  1.2833| 103.8333|2020-01-22|        0|    0|        0|       Singapore|null|\n",
            "|  3|            null|    Nepal| 28.1667|    84.25|2020-01-22|        0|    0|        0|       Kathmandu|null|\n",
            "|  4|            null| Malaysia|     2.5|    112.5|2020-01-22|        0|    0|        0|         Sarawak|null|\n",
            "|  5|British Columbia|   Canada| 49.2827|-123.1207|2020-01-22|        0|    0|        0|British Columbia|null|\n",
            "|  6| New South Wales|Australia|-33.8688| 151.2093|2020-01-22|        0|    0|        0| New South Wales|null|\n",
            "|  7|        Victoria|Australia|-37.8136| 144.9631|2020-01-22|        0|    0|        0|        Victoria|null|\n",
            "|  8|      Queensland|Australia|-28.0167|    153.4|2020-01-22|        0|    0|        0|      Queensland|null|\n",
            "|  9|            null| Cambodia|   11.55| 104.9167|2020-01-22|        0|    0|        0|      Phnom Penh|null|\n",
            "+---+----------------+---------+--------+---------+----------+---------+-----+---------+----------------+----+\n",
            "only showing top 10 rows\n",
            "\n"
          ]
        }
      ]
    },
    {
      "cell_type": "code",
      "metadata": {
        "colab": {
          "base_uri": "https://localhost:8080/"
        },
        "id": "cv0lo8N_0xWD",
        "outputId": "461eb8fb-702e-4123-8e4a-ac06b8366fd5"
      },
      "source": [
        "corona_df.filter(\"country='US'\").show()"
      ],
      "execution_count": 39,
      "outputs": [
        {
          "output_type": "stream",
          "name": "stdout",
          "text": [
            "+---+----------------+-------+------------------+---------+----------+---------+-----+---------+----------------+----------------+\n",
            "|_c0|           State|Country|               Lat|     Long|      Date|Confirmed|Death|Recovered|   state_cleaned|            City|\n",
            "+---+----------------+-------+------------------+---------+----------+---------+-----+---------+----------------+----------------+\n",
            "| 98|      Washington|     US|           47.4009|-121.4905|2020-01-22|        0|    0|        0|      Washington|      Washington|\n",
            "| 99|        New York|     US|           42.1657| -74.9481|2020-01-22|        0|    0|        0|        New York|        New York|\n",
            "|100|      California|     US|           36.1162|-119.6816|2020-01-22|        0|    0|        0|      California|      California|\n",
            "|101|   Massachusetts|     US|           42.2302| -71.5301|2020-01-22|        0|    0|        0|   Massachusetts|   Massachusetts|\n",
            "|102|Diamond Princess|     US|           35.4437|  139.638|2020-01-22|        0|    0|        0|Diamond Princess|Diamond Princess|\n",
            "|103|  Grand Princess|     US|           37.6489|-122.6655|2020-01-22|        0|    0|        0|  Grand Princess|  Grand Princess|\n",
            "|104|         Georgia|     US|           33.0406| -83.6431|2020-01-22|        0|    0|        0|         Georgia|         Georgia|\n",
            "|105|        Colorado|     US|           39.0598|-105.3111|2020-01-22|        0|    0|        0|        Colorado|        Colorado|\n",
            "|106|         Florida|     US|           27.7663| -81.6868|2020-01-22|        0|    0|        0|         Florida|         Florida|\n",
            "|107|      New Jersey|     US|           40.2989|  -74.521|2020-01-22|        0|    0|        0|      New Jersey|      New Jersey|\n",
            "|108|          Oregon|     US|44.571999999999996|-122.0709|2020-01-22|        0|    0|        0|          Oregon|          Oregon|\n",
            "|109|           Texas|     US|           31.0545| -97.5635|2020-01-22|        0|    0|        0|           Texas|           Texas|\n",
            "|110|        Illinois|     US|           40.3495| -88.9861|2020-01-22|        0|    0|        0|        Illinois|        Illinois|\n",
            "|111|    Pennsylvania|     US|           40.5908| -77.2098|2020-01-22|        0|    0|        0|    Pennsylvania|    Pennsylvania|\n",
            "|112|            Iowa|     US|           42.0115| -93.2105|2020-01-22|        0|    0|        0|            Iowa|            Iowa|\n",
            "|113|        Maryland|     US|           39.0639| -76.8021|2020-01-22|        0|    0|        0|        Maryland|        Maryland|\n",
            "|114|  North Carolina|     US|           35.6301| -79.8064|2020-01-22|        0|    0|        0|  North Carolina|  North Carolina|\n",
            "|115|  South Carolina|     US|           33.8569|  -80.945|2020-01-22|        0|    0|        0|  South Carolina|  South Carolina|\n",
            "|116|       Tennessee|     US|           35.7478| -86.6923|2020-01-22|        0|    0|        0|       Tennessee|       Tennessee|\n",
            "|117|        Virginia|     US|           37.7693|   -78.17|2020-01-22|        0|    0|        0|        Virginia|        Virginia|\n",
            "+---+----------------+-------+------------------+---------+----------+---------+-----+---------+----------------+----------------+\n",
            "only showing top 20 rows\n",
            "\n"
          ]
        }
      ]
    },
    {
      "cell_type": "code",
      "metadata": {
        "colab": {
          "base_uri": "https://localhost:8080/"
        },
        "id": "NsFeMcEM05QZ",
        "outputId": "c0c4eacb-ff2f-43ab-efbb-e76c132e0f33"
      },
      "source": [
        "corona_df.filter(\"country='US'\").sort(col(\"date\"), ascending=False).show()"
      ],
      "execution_count": 40,
      "outputs": [
        {
          "output_type": "stream",
          "name": "stdout",
          "text": [
            "+-----+----------------+-------+------------------+---------+----------+---------+-----+---------+----------------+----------------+\n",
            "|  _c0|           State|Country|               Lat|     Long|      Date|Confirmed|Death|Recovered|   state_cleaned|            City|\n",
            "+-----+----------------+-------+------------------+---------+----------+---------+-----+---------+----------------+----------------+\n",
            "|27764|      Washington|     US|           47.4009|-121.4905|2020-03-20|     1524|   83|        0|      Washington|      Washington|\n",
            "|27784|         Arizona|     US|           33.7298|-111.4312|2020-03-20|       78|    0|        0|         Arizona|         Arizona|\n",
            "|27765|        New York|     US|           42.1657| -74.9481|2020-03-20|     8310|   42|        0|        New York|        New York|\n",
            "|27766|      California|     US|           36.1162|-119.6816|2020-03-20|     1177|   23|        0|      California|      California|\n",
            "|27767|   Massachusetts|     US|           42.2302| -71.5301|2020-03-20|      413|    1|        0|   Massachusetts|   Massachusetts|\n",
            "|27768|Diamond Princess|     US|           35.4437|  139.638|2020-03-20|       49|    0|        0|Diamond Princess|Diamond Princess|\n",
            "|27769|  Grand Princess|     US|           37.6489|-122.6655|2020-03-20|       23|    0|        0|  Grand Princess|  Grand Princess|\n",
            "|27770|         Georgia|     US|           33.0406| -83.6431|2020-03-20|      420|   13|        0|         Georgia|         Georgia|\n",
            "|27771|        Colorado|     US|           39.0598|-105.3111|2020-03-20|      363|    4|        0|        Colorado|        Colorado|\n",
            "|27772|         Florida|     US|           27.7663| -81.6868|2020-03-20|      563|   10|        0|         Florida|         Florida|\n",
            "|27773|      New Jersey|     US|           40.2989|  -74.521|2020-03-20|      890|   11|        0|      New Jersey|      New Jersey|\n",
            "|27774|          Oregon|     US|44.571999999999996|-122.0709|2020-03-20|      114|    3|        0|          Oregon|          Oregon|\n",
            "|27775|           Texas|     US|           31.0545| -97.5635|2020-03-20|      394|    5|        0|           Texas|           Texas|\n",
            "|27776|        Illinois|     US|           40.3495| -88.9861|2020-03-20|      585|    5|        0|        Illinois|        Illinois|\n",
            "|27777|    Pennsylvania|     US|           40.5908| -77.2098|2020-03-20|      303|    1|        0|    Pennsylvania|    Pennsylvania|\n",
            "|27778|            Iowa|     US|           42.0115| -93.2105|2020-03-20|       45|    0|        0|            Iowa|            Iowa|\n",
            "|27779|        Maryland|     US|           39.0639| -76.8021|2020-03-20|      149|    1|        0|        Maryland|        Maryland|\n",
            "|27780|  North Carolina|     US|           35.6301| -79.8064|2020-03-20|      172|    0|        0|  North Carolina|  North Carolina|\n",
            "|27781|  South Carolina|     US|           33.8569|  -80.945|2020-03-20|      126|    1|        0|  South Carolina|  South Carolina|\n",
            "|27782|       Tennessee|     US|           35.7478| -86.6923|2020-03-20|      233|    0|        0|       Tennessee|       Tennessee|\n",
            "+-----+----------------+-------+------------------+---------+----------+---------+-----+---------+----------------+----------------+\n",
            "only showing top 20 rows\n",
            "\n"
          ]
        }
      ]
    },
    {
      "cell_type": "code",
      "metadata": {
        "colab": {
          "base_uri": "https://localhost:8080/"
        },
        "id": "cuNtkZ341Ggk",
        "outputId": "81f26237-a4a6-48c8-c70d-838e09414946"
      },
      "source": [
        "corona_df.filter(\"country='US'\").orderBy(col(\"date\"), ascending=False).show()"
      ],
      "execution_count": 41,
      "outputs": [
        {
          "output_type": "stream",
          "name": "stdout",
          "text": [
            "+-----+----------------+-------+------------------+---------+----------+---------+-----+---------+----------------+----------------+\n",
            "|  _c0|           State|Country|               Lat|     Long|      Date|Confirmed|Death|Recovered|   state_cleaned|            City|\n",
            "+-----+----------------+-------+------------------+---------+----------+---------+-----+---------+----------------+----------------+\n",
            "|27764|      Washington|     US|           47.4009|-121.4905|2020-03-20|     1524|   83|        0|      Washington|      Washington|\n",
            "|27784|         Arizona|     US|           33.7298|-111.4312|2020-03-20|       78|    0|        0|         Arizona|         Arizona|\n",
            "|27765|        New York|     US|           42.1657| -74.9481|2020-03-20|     8310|   42|        0|        New York|        New York|\n",
            "|27766|      California|     US|           36.1162|-119.6816|2020-03-20|     1177|   23|        0|      California|      California|\n",
            "|27767|   Massachusetts|     US|           42.2302| -71.5301|2020-03-20|      413|    1|        0|   Massachusetts|   Massachusetts|\n",
            "|27768|Diamond Princess|     US|           35.4437|  139.638|2020-03-20|       49|    0|        0|Diamond Princess|Diamond Princess|\n",
            "|27769|  Grand Princess|     US|           37.6489|-122.6655|2020-03-20|       23|    0|        0|  Grand Princess|  Grand Princess|\n",
            "|27770|         Georgia|     US|           33.0406| -83.6431|2020-03-20|      420|   13|        0|         Georgia|         Georgia|\n",
            "|27771|        Colorado|     US|           39.0598|-105.3111|2020-03-20|      363|    4|        0|        Colorado|        Colorado|\n",
            "|27772|         Florida|     US|           27.7663| -81.6868|2020-03-20|      563|   10|        0|         Florida|         Florida|\n",
            "|27773|      New Jersey|     US|           40.2989|  -74.521|2020-03-20|      890|   11|        0|      New Jersey|      New Jersey|\n",
            "|27774|          Oregon|     US|44.571999999999996|-122.0709|2020-03-20|      114|    3|        0|          Oregon|          Oregon|\n",
            "|27775|           Texas|     US|           31.0545| -97.5635|2020-03-20|      394|    5|        0|           Texas|           Texas|\n",
            "|27776|        Illinois|     US|           40.3495| -88.9861|2020-03-20|      585|    5|        0|        Illinois|        Illinois|\n",
            "|27777|    Pennsylvania|     US|           40.5908| -77.2098|2020-03-20|      303|    1|        0|    Pennsylvania|    Pennsylvania|\n",
            "|27778|            Iowa|     US|           42.0115| -93.2105|2020-03-20|       45|    0|        0|            Iowa|            Iowa|\n",
            "|27779|        Maryland|     US|           39.0639| -76.8021|2020-03-20|      149|    1|        0|        Maryland|        Maryland|\n",
            "|27780|  North Carolina|     US|           35.6301| -79.8064|2020-03-20|      172|    0|        0|  North Carolina|  North Carolina|\n",
            "|27781|  South Carolina|     US|           33.8569|  -80.945|2020-03-20|      126|    1|        0|  South Carolina|  South Carolina|\n",
            "|27782|       Tennessee|     US|           35.7478| -86.6923|2020-03-20|      233|    0|        0|       Tennessee|       Tennessee|\n",
            "+-----+----------------+-------+------------------+---------+----------+---------+-----+---------+----------------+----------------+\n",
            "only showing top 20 rows\n",
            "\n"
          ]
        }
      ]
    },
    {
      "cell_type": "code",
      "metadata": {
        "colab": {
          "base_uri": "https://localhost:8080/"
        },
        "id": "5CogoTX71VFg",
        "outputId": "dead1474-b3c1-494a-f36e-c71cc3449570"
      },
      "source": [
        "corona_df.filter(\"Country='US'\").sort([col(\"Date\"),col(\"Confirmed\")],ascending=False).show()"
      ],
      "execution_count": 42,
      "outputs": [
        {
          "output_type": "stream",
          "name": "stdout",
          "text": [
            "+-----+--------------------+-------+-------+---------+----------+---------+-----+---------+--------------------+--------------------+\n",
            "|  _c0|               State|Country|    Lat|     Long|      Date|Confirmed|Death|Recovered|       state_cleaned|                City|\n",
            "+-----+--------------------+-------+-------+---------+----------+---------+-----+---------+--------------------+--------------------+\n",
            "|27808|            Arkansas|     US|34.9697| -92.3731|2020-03-20|       96|    0|        0|            Arkansas|            Arkansas|\n",
            "|27773|          New Jersey|     US|40.2989|  -74.521|2020-03-20|      890|   11|        0|          New Jersey|          New Jersey|\n",
            "|27785|             Indiana|     US|39.8494| -86.2583|2020-03-20|       86|    2|        0|             Indiana|             Indiana|\n",
            "|27765|            New York|     US|42.1657| -74.9481|2020-03-20|     8310|   42|        0|            New York|            New York|\n",
            "|28080|             Alabama|     US|32.3182| -86.9023|2020-03-20|       83|    0|        0|             Alabama|             Alabama|\n",
            "|27813|         Mississippi|     US|32.7416| -89.6787|2020-03-20|       80|    1|        0|         Mississippi|         Mississippi|\n",
            "|27784|             Arizona|     US|33.7298|-111.4312|2020-03-20|       78|    0|        0|             Arizona|             Arizona|\n",
            "|27798|                Utah|     US|  40.15|-111.8624|2020-03-20|       78|    0|        0|                Utah|                Utah|\n",
            "|27787|District of Columbia|     US|38.8974| -77.0268|2020-03-20|       71|    1|        0|District of Columbia|District of Columbia|\n",
            "|27818|       West Virginia|     US|38.4912| -80.9545|2020-03-20|        7|    0|        0|       West Virginia|       West Virginia|\n",
            "|27776|            Illinois|     US|40.3495| -88.9861|2020-03-20|      585|    5|        0|            Illinois|            Illinois|\n",
            "|27772|             Florida|     US|27.7663| -81.6868|2020-03-20|      563|   10|        0|             Florida|             Florida|\n",
            "|27811|               Maine|     US|44.6939| -69.3819|2020-03-20|       56|    0|        0|               Maine|               Maine|\n",
            "|27812|            Michigan|     US|43.3266| -84.5361|2020-03-20|      552|    3|        0|            Michigan|            Michigan|\n",
            "|27793|        Rhode Island|     US|41.6809| -71.5118|2020-03-20|       54|    0|        0|        Rhode Island|        Rhode Island|\n",
            "|27804|           Louisiana|     US|31.1695| -91.8678|2020-03-20|      538|   14|        0|           Louisiana|           Louisiana|\n",
            "|27805|            Missouri|     US|38.4561| -92.2884|2020-03-20|       53|    2|        0|            Missouri|            Missouri|\n",
            "|27768|    Diamond Princess|     US|35.4437|  139.638|2020-03-20|       49|    0|        0|    Diamond Princess|    Diamond Princess|\n",
            "|27797|            Oklahoma|     US|35.5653| -96.9289|2020-03-20|       49|    1|        0|            Oklahoma|            Oklahoma|\n",
            "|27786|            Kentucky|     US|37.6681| -84.6701|2020-03-20|       47|    2|        0|            Kentucky|            Kentucky|\n",
            "+-----+--------------------+-------+-------+---------+----------+---------+-----+---------+--------------------+--------------------+\n",
            "only showing top 20 rows\n",
            "\n"
          ]
        }
      ]
    },
    {
      "cell_type": "code",
      "metadata": {
        "colab": {
          "base_uri": "https://localhost:8080/"
        },
        "id": "Yo2JMDaF2DBb",
        "outputId": "45d4de7d-3578-4290-f09c-8b7628dc2861"
      },
      "source": [
        "corona_df.dtypes"
      ],
      "execution_count": 43,
      "outputs": [
        {
          "output_type": "execute_result",
          "data": {
            "text/plain": [
              "[('_c0', 'string'),\n",
              " ('State', 'string'),\n",
              " ('Country', 'string'),\n",
              " ('Lat', 'string'),\n",
              " ('Long', 'string'),\n",
              " ('Date', 'string'),\n",
              " ('Confirmed', 'string'),\n",
              " ('Death', 'string'),\n",
              " ('Recovered', 'string'),\n",
              " ('state_cleaned', 'string'),\n",
              " ('City', 'string')]"
            ]
          },
          "metadata": {},
          "execution_count": 43
        }
      ]
    },
    {
      "cell_type": "code",
      "metadata": {
        "id": "z5K8SMcs2ZVc"
      },
      "source": [
        "corona_df=corona_df.withColumn(\"_c0\",corona_df['_c0'].cast('int')).withColumn(\"Confirmed\",corona_df[\"Confirmed\"].cast('int'))\\\n",
        ".withColumn(\"Death\",corona_df['Death'].cast('int')).withColumn('Recovered',corona_df['Recovered'].cast('int'))"
      ],
      "execution_count": 44,
      "outputs": []
    },
    {
      "cell_type": "code",
      "metadata": {
        "colab": {
          "base_uri": "https://localhost:8080/"
        },
        "id": "HFZ6_Ff64s6_",
        "outputId": "03013331-35ce-45d8-e73a-c83084d1e583"
      },
      "source": [
        "\n",
        "corona_df.dtypes"
      ],
      "execution_count": 45,
      "outputs": [
        {
          "output_type": "execute_result",
          "data": {
            "text/plain": [
              "[('_c0', 'int'),\n",
              " ('State', 'string'),\n",
              " ('Country', 'string'),\n",
              " ('Lat', 'string'),\n",
              " ('Long', 'string'),\n",
              " ('Date', 'string'),\n",
              " ('Confirmed', 'int'),\n",
              " ('Death', 'int'),\n",
              " ('Recovered', 'int'),\n",
              " ('state_cleaned', 'string'),\n",
              " ('City', 'string')]"
            ]
          },
          "metadata": {},
          "execution_count": 45
        }
      ]
    },
    {
      "cell_type": "code",
      "metadata": {
        "colab": {
          "base_uri": "https://localhost:8080/"
        },
        "id": "hkznFfJy48xk",
        "outputId": "17e2b7b9-5cce-4ce4-d219-67a8e06fb423"
      },
      "source": [
        "corona_df.filter(\"Country='US'\").sort([col(\"Date\"),col(\"Confirmed\")],ascending=False).show()"
      ],
      "execution_count": 46,
      "outputs": [
        {
          "output_type": "stream",
          "name": "stdout",
          "text": [
            "+-----+--------------+-------+-------+---------+----------+---------+-----+---------+--------------+--------------+\n",
            "|  _c0|         State|Country|    Lat|     Long|      Date|Confirmed|Death|Recovered| state_cleaned|          City|\n",
            "+-----+--------------+-------+-------+---------+----------+---------+-----+---------+--------------+--------------+\n",
            "|27765|      New York|     US|42.1657| -74.9481|2020-03-20|     8310|   42|        0|      New York|      New York|\n",
            "|27764|    Washington|     US|47.4009|-121.4905|2020-03-20|     1524|   83|        0|    Washington|    Washington|\n",
            "|27766|    California|     US|36.1162|-119.6816|2020-03-20|     1177|   23|        0|    California|    California|\n",
            "|27773|    New Jersey|     US|40.2989|  -74.521|2020-03-20|      890|   11|        0|    New Jersey|    New Jersey|\n",
            "|27776|      Illinois|     US|40.3495| -88.9861|2020-03-20|      585|    5|        0|      Illinois|      Illinois|\n",
            "|27772|       Florida|     US|27.7663| -81.6868|2020-03-20|      563|   10|        0|       Florida|       Florida|\n",
            "|27812|      Michigan|     US|43.3266| -84.5361|2020-03-20|      552|    3|        0|      Michigan|      Michigan|\n",
            "|27804|     Louisiana|     US|31.1695| -91.8678|2020-03-20|      538|   14|        0|     Louisiana|     Louisiana|\n",
            "|27770|       Georgia|     US|33.0406| -83.6431|2020-03-20|      420|   13|        0|       Georgia|       Georgia|\n",
            "|27767| Massachusetts|     US|42.2302| -71.5301|2020-03-20|      413|    1|        0| Massachusetts| Massachusetts|\n",
            "|27775|         Texas|     US|31.0545| -97.5635|2020-03-20|      394|    5|        0|         Texas|         Texas|\n",
            "|27771|      Colorado|     US|39.0598|-105.3111|2020-03-20|      363|    4|        0|      Colorado|      Colorado|\n",
            "|27777|  Pennsylvania|     US|40.5908| -77.2098|2020-03-20|      303|    1|        0|  Pennsylvania|  Pennsylvania|\n",
            "|27782|     Tennessee|     US|35.7478| -86.6923|2020-03-20|      233|    0|        0|     Tennessee|     Tennessee|\n",
            "|27794|     Wisconsin|     US|44.2685| -89.6165|2020-03-20|      207|    3|        0|     Wisconsin|     Wisconsin|\n",
            "|27795|   Connecticut|     US|41.5978| -72.7554|2020-03-20|      194|    3|        0|   Connecticut|   Connecticut|\n",
            "|27792|          Ohio|     US|40.3888| -82.7649|2020-03-20|      173|    2|        0|          Ohio|          Ohio|\n",
            "|27780|North Carolina|     US|35.6301| -79.8064|2020-03-20|      172|    0|        0|North Carolina|North Carolina|\n",
            "|27779|      Maryland|     US|39.0639| -76.8021|2020-03-20|      149|    1|        0|      Maryland|      Maryland|\n",
            "|27781|South Carolina|     US|33.8569|  -80.945|2020-03-20|      126|    1|        0|South Carolina|South Carolina|\n",
            "+-----+--------------+-------+-------+---------+----------+---------+-----+---------+--------------+--------------+\n",
            "only showing top 20 rows\n",
            "\n"
          ]
        }
      ]
    },
    {
      "cell_type": "code",
      "metadata": {
        "colab": {
          "base_uri": "https://localhost:8080/"
        },
        "id": "ppJHn-1d5saw",
        "outputId": "09bbfd5c-b3d1-4ccc-ef78-237bf82e8d1f"
      },
      "source": [
        "corona_df.filter(\"Confirmed>10000\").sort(col('Confirmed')).show()"
      ],
      "execution_count": 47,
      "outputs": [
        {
          "output_type": "stream",
          "name": "stdout",
          "text": [
            "+-----+------+-------+-------+--------+----------+---------+-----+---------+-------------+----+\n",
            "|  _c0| State|Country|    Lat|    Long|      Date|Confirmed|Death|Recovered|state_cleaned|City|\n",
            "+-----+------+-------+-------+--------+----------+---------+-----+---------+-------------+----+\n",
            "|24005|  null|   Iran|   32.0|    53.0|2020-03-12|    10075|  429|     2959|       Tehran|null|\n",
            "|22912|  null|  Italy|   43.0|    12.0|2020-03-10|    10149|  631|      724|         Rome|null|\n",
            "|27346|France| France|46.2276|  2.2137|2020-03-19|    10871|  243|       12|       France|null|\n",
            "| 5401| Hubei|  China|30.9756|112.2707|2020-02-02|    11177|  350|      295|        Hubei|null|\n",
            "|24482|  null|   Iran|   32.0|    53.0|2020-03-13|    11364|  514|     2959|       Tehran|null|\n",
            "|26253|  null|  Spain|   40.0|    -4.0|2020-03-17|    11748|  533|     1028|       Toledo|null|\n",
            "|26723|  null|Germany|   51.0|     9.0|2020-03-18|    12327|   28|      105|       Berlin|null|\n",
            "|23866|  null|  Italy|   43.0|    12.0|2020-03-12|    12462|  827|     1045|         Rome|null|\n",
            "|23389|  null|  Italy|   43.0|    12.0|2020-03-11|    12462|  827|     1045|         Rome|null|\n",
            "|27823|France| France|46.2276|  2.2137|2020-03-20|    12612|  450|       12|       France|null|\n",
            "|24959|  null|   Iran|   32.0|    53.0|2020-03-14|    12729|  611|     2959|       Tehran|null|\n",
            "| 5878| Hubei|  China|30.9756|112.2707|2020-02-03|    13522|  414|      386|        Hubei|null|\n",
            "|26730|  null|  Spain|   40.0|    -4.0|2020-03-18|    13910|  623|     1081|       Toledo|null|\n",
            "|25436|  null|   Iran|   32.0|    53.0|2020-03-15|    13938|  724|     4590|       Tehran|null|\n",
            "|25913|  null|   Iran|   32.0|    53.0|2020-03-16|    14991|  853|     4590|       Tehran|null|\n",
            "|27200|  null|Germany|   51.0|     9.0|2020-03-19|    15320|   44|      113|       Berlin|null|\n",
            "|26390|  null|   Iran|   32.0|    53.0|2020-03-17|    16169|  988|     5389|       Tehran|null|\n",
            "| 6355| Hubei|  China|30.9756|112.2707|2020-02-04|    16678|  479|      522|        Hubei|null|\n",
            "|26867|  null|   Iran|   32.0|    53.0|2020-03-18|    17361| 1135|     5389|       Tehran|null|\n",
            "|24343|  null|  Italy|   43.0|    12.0|2020-03-13|    17660| 1266|     1439|         Rome|null|\n",
            "+-----+------+-------+-------+--------+----------+---------+-----+---------+-------------+----+\n",
            "only showing top 20 rows\n",
            "\n"
          ]
        }
      ]
    },
    {
      "cell_type": "code",
      "metadata": {
        "colab": {
          "base_uri": "https://localhost:8080/"
        },
        "id": "6fwAnpMS8-wa",
        "outputId": "cbf7148d-09e8-4868-ce0c-cdd57af0e201"
      },
      "source": [
        "corona_df.describe().show()"
      ],
      "execution_count": 48,
      "outputs": [
        {
          "output_type": "stream",
          "name": "stdout",
          "text": [
            "+-------+-----------------+---------+-----------+------------------+------------------+----------+------------------+------------------+------------------+-------------+-----------+\n",
            "|summary|              _c0|    State|    Country|               Lat|              Long|      Date|         Confirmed|             Death|         Recovered|state_cleaned|       City|\n",
            "+-------+-----------------+---------+-----------+------------------+------------------+----------+------------------+------------------+------------------+-------------+-----------+\n",
            "|  count|            28143|    19116|      28143|             28143|             28143|     28143|             28143|             28143|             28143|        28143|      14573|\n",
            "|   mean|          14071.0|     null|       null|30.965553459118834|-34.57031257861667|      null|161.88245744945456| 5.494368048893153| 60.17290267562094|         null|       null|\n",
            "| stddev|8124.328649186959|     null|       null|19.365472826597646| 80.78375872452575|      null| 2519.847217725942|109.29475709869875|1346.6597829124426|         null|       null|\n",
            "|    min|                0|Adams, IN|Afghanistan|           -0.0236|           -1.0232|2020-01-22|                 0|                 0|                 0|    Abu Dhabi|      Adams|\n",
            "|    max|            28142| Zhejiang|   Zimbabwe|            9.9456|           95.9956|2020-03-20|             67800|              4032|             58382|     erdészet|Yolo County|\n",
            "+-------+-----------------+---------+-----------+------------------+------------------+----------+------------------+------------------+------------------+-------------+-----------+\n",
            "\n"
          ]
        }
      ]
    },
    {
      "cell_type": "code",
      "metadata": {
        "id": "T7ZfbzgQ9L6C"
      },
      "source": [
        ""
      ],
      "execution_count": 48,
      "outputs": []
    },
    {
      "cell_type": "code",
      "metadata": {
        "id": "YObd8uvf9a-5",
        "colab": {
          "base_uri": "https://localhost:8080/"
        },
        "outputId": "af7549be-bdfb-4311-908c-aa373582593f"
      },
      "source": [
        "corona_df.filter('Confirmed>10000').sort('Confirmed').show()"
      ],
      "execution_count": 49,
      "outputs": [
        {
          "output_type": "stream",
          "name": "stdout",
          "text": [
            "+-----+------+-------+-------+--------+----------+---------+-----+---------+-------------+----+\n",
            "|  _c0| State|Country|    Lat|    Long|      Date|Confirmed|Death|Recovered|state_cleaned|City|\n",
            "+-----+------+-------+-------+--------+----------+---------+-----+---------+-------------+----+\n",
            "|24005|  null|   Iran|   32.0|    53.0|2020-03-12|    10075|  429|     2959|       Tehran|null|\n",
            "|22912|  null|  Italy|   43.0|    12.0|2020-03-10|    10149|  631|      724|         Rome|null|\n",
            "|27346|France| France|46.2276|  2.2137|2020-03-19|    10871|  243|       12|       France|null|\n",
            "| 5401| Hubei|  China|30.9756|112.2707|2020-02-02|    11177|  350|      295|        Hubei|null|\n",
            "|24482|  null|   Iran|   32.0|    53.0|2020-03-13|    11364|  514|     2959|       Tehran|null|\n",
            "|26253|  null|  Spain|   40.0|    -4.0|2020-03-17|    11748|  533|     1028|       Toledo|null|\n",
            "|26723|  null|Germany|   51.0|     9.0|2020-03-18|    12327|   28|      105|       Berlin|null|\n",
            "|23866|  null|  Italy|   43.0|    12.0|2020-03-12|    12462|  827|     1045|         Rome|null|\n",
            "|23389|  null|  Italy|   43.0|    12.0|2020-03-11|    12462|  827|     1045|         Rome|null|\n",
            "|27823|France| France|46.2276|  2.2137|2020-03-20|    12612|  450|       12|       France|null|\n",
            "|24959|  null|   Iran|   32.0|    53.0|2020-03-14|    12729|  611|     2959|       Tehran|null|\n",
            "| 5878| Hubei|  China|30.9756|112.2707|2020-02-03|    13522|  414|      386|        Hubei|null|\n",
            "|26730|  null|  Spain|   40.0|    -4.0|2020-03-18|    13910|  623|     1081|       Toledo|null|\n",
            "|25436|  null|   Iran|   32.0|    53.0|2020-03-15|    13938|  724|     4590|       Tehran|null|\n",
            "|25913|  null|   Iran|   32.0|    53.0|2020-03-16|    14991|  853|     4590|       Tehran|null|\n",
            "|27200|  null|Germany|   51.0|     9.0|2020-03-19|    15320|   44|      113|       Berlin|null|\n",
            "|26390|  null|   Iran|   32.0|    53.0|2020-03-17|    16169|  988|     5389|       Tehran|null|\n",
            "| 6355| Hubei|  China|30.9756|112.2707|2020-02-04|    16678|  479|      522|        Hubei|null|\n",
            "|26867|  null|   Iran|   32.0|    53.0|2020-03-18|    17361| 1135|     5389|       Tehran|null|\n",
            "|24343|  null|  Italy|   43.0|    12.0|2020-03-13|    17660| 1266|     1439|         Rome|null|\n",
            "+-----+------+-------+-------+--------+----------+---------+-----+---------+-------------+----+\n",
            "only showing top 20 rows\n",
            "\n"
          ]
        }
      ]
    },
    {
      "cell_type": "code",
      "metadata": {
        "colab": {
          "base_uri": "https://localhost:8080/"
        },
        "id": "PttJowMBQQU5",
        "outputId": "8d3db21a-9df1-4b0b-d46a-30c844f976f3"
      },
      "source": [
        "corona_df.approxQuantile('Confirmed',[.25,.5,.75,.9,.95],0)"
      ],
      "execution_count": 53,
      "outputs": [
        {
          "output_type": "execute_result",
          "data": {
            "text/plain": [
              "[0.0, 0.0, 0.0, 38.0, 177.0]"
            ]
          },
          "metadata": {},
          "execution_count": 53
        }
      ]
    },
    {
      "cell_type": "code",
      "metadata": {
        "colab": {
          "base_uri": "https://localhost:8080/"
        },
        "id": "okWZsvi6Q09U",
        "outputId": "8dc266b9-fa47-4b91-b494-452420235918"
      },
      "source": [
        "corona_df.filter('Confirmed>10000').approxQuantile('Confirmed',[.25,.5,.75,.9,.95],0)"
      ],
      "execution_count": 54,
      "outputs": [
        {
          "output_type": "execute_result",
          "data": {
            "text/plain": [
              "[17660.0, 41035.0, 66907.0, 67786.0, 67799.0]"
            ]
          },
          "metadata": {},
          "execution_count": 54
        }
      ]
    },
    {
      "cell_type": "code",
      "metadata": {
        "colab": {
          "base_uri": "https://localhost:8080/"
        },
        "id": "28M9nrWtRGSR",
        "outputId": "a84d82a3-1be9-4813-bfa6-79be701cc1e9"
      },
      "source": [
        "corona_df.filter('Confirmed>10000').approxQuantile('Confirmed',[.25,.5,.75,.9,.95],.9)"
      ],
      "execution_count": 55,
      "outputs": [
        {
          "output_type": "execute_result",
          "data": {
            "text/plain": [
              "[10075.0, 10075.0, 10075.0, 10075.0, 67800.0]"
            ]
          },
          "metadata": {},
          "execution_count": 55
        }
      ]
    },
    {
      "cell_type": "code",
      "metadata": {
        "colab": {
          "base_uri": "https://localhost:8080/"
        },
        "id": "8g16VPoRRNc-",
        "outputId": "b30e285b-5d6f-49e3-fb77-8336fec6b71b"
      },
      "source": [
        "corona_df.agg({'date':'max'}).collect()"
      ],
      "execution_count": 56,
      "outputs": [
        {
          "output_type": "execute_result",
          "data": {
            "text/plain": [
              "[Row(max(date)='2020-03-20')]"
            ]
          },
          "metadata": {},
          "execution_count": 56
        }
      ]
    },
    {
      "cell_type": "code",
      "metadata": {
        "colab": {
          "base_uri": "https://localhost:8080/"
        },
        "id": "3P3vL8I6SEaA",
        "outputId": "d33999d4-6e28-4a00-869e-588118968600"
      },
      "source": [
        "corona_df.agg({'date':'max'})"
      ],
      "execution_count": 57,
      "outputs": [
        {
          "output_type": "execute_result",
          "data": {
            "text/plain": [
              "DataFrame[max(date): string]"
            ]
          },
          "metadata": {},
          "execution_count": 57
        }
      ]
    },
    {
      "cell_type": "code",
      "metadata": {
        "colab": {
          "base_uri": "https://localhost:8080/"
        },
        "id": "Lla3FbzrSGtB",
        "outputId": "357db3e1-1e13-460c-b545-d6ebcfa1960a"
      },
      "source": [
        "corona_df.agg({'date':'max'}).collect()"
      ],
      "execution_count": 58,
      "outputs": [
        {
          "output_type": "execute_result",
          "data": {
            "text/plain": [
              "[Row(max(date)='2020-03-20')]"
            ]
          },
          "metadata": {},
          "execution_count": 58
        }
      ]
    },
    {
      "cell_type": "code",
      "metadata": {
        "colab": {
          "base_uri": "https://localhost:8080/"
        },
        "id": "CRgPFaQdSISK",
        "outputId": "839b41c4-7b45-4cf3-d923-7276137876d9"
      },
      "source": [
        "corona_df.agg({'Date':'max','Confirmed':'max'}).collect()"
      ],
      "execution_count": 59,
      "outputs": [
        {
          "output_type": "execute_result",
          "data": {
            "text/plain": [
              "[Row(max(Confirmed)=67800, max(Date)='2020-03-20')]"
            ]
          },
          "metadata": {},
          "execution_count": 59
        }
      ]
    },
    {
      "cell_type": "code",
      "metadata": {
        "id": "4R7uDcy4SY2W"
      },
      "source": [
        "max_date=corona_df.agg({'date':'max'})"
      ],
      "execution_count": 60,
      "outputs": []
    },
    {
      "cell_type": "code",
      "metadata": {
        "colab": {
          "base_uri": "https://localhost:8080/"
        },
        "id": "9AudC2kcSw1K",
        "outputId": "3cb9f93d-6599-400a-f304-17f67c8b08dc"
      },
      "source": [
        "max_date.show()"
      ],
      "execution_count": 61,
      "outputs": [
        {
          "output_type": "stream",
          "name": "stdout",
          "text": [
            "+----------+\n",
            "| max(date)|\n",
            "+----------+\n",
            "|2020-03-20|\n",
            "+----------+\n",
            "\n"
          ]
        }
      ]
    },
    {
      "cell_type": "code",
      "metadata": {
        "id": "RLBTZd1uSzBl"
      },
      "source": [
        "import pyspark.sql.functions as F"
      ],
      "execution_count": 62,
      "outputs": []
    },
    {
      "cell_type": "code",
      "metadata": {
        "colab": {
          "base_uri": "https://localhost:8080/"
        },
        "id": "oU34iad2Vc8T",
        "outputId": "00a04ac9-e6b0-4363-d4a8-8c2559e18e59"
      },
      "source": [
        "corona_df.groupby('Country','state_cleaned').agg(F.max('Date')).show()"
      ],
      "execution_count": 64,
      "outputs": [
        {
          "output_type": "stream",
          "name": "stdout",
          "text": [
            "+--------------+--------------------+----------+\n",
            "|       Country|       state_cleaned| max(Date)|\n",
            "+--------------+--------------------+----------+\n",
            "|      Cameroon|             Yaounde|2020-03-20|\n",
            "|         China|             Qinghai|2020-03-20|\n",
            "|        Cyprus|             Nicosia|2020-03-20|\n",
            "|            US|            Michigan|2020-03-20|\n",
            "|      Portugal|              Lisbon|2020-03-20|\n",
            "|            US|            Colorado|2020-03-20|\n",
            "|United Kingdom|      Cayman Islands|2020-03-20|\n",
            "|         China|              Hainan|2020-03-20|\n",
            "|            US|            Missouri|2020-03-20|\n",
            "|     Australia|Australian Capita...|2020-03-20|\n",
            "|            US|                Guam|2020-03-20|\n",
            "|        France|             Reunion|2020-03-20|\n",
            "|      Colombia|        Cundinamarca|2020-03-20|\n",
            "|          Cuba|              Havana|2020-03-20|\n",
            "|     Mauritius|          Port Louis|2020-03-20|\n",
            "|       Ukraine|                Kiev|2020-03-20|\n",
            "|         Benin|          Porto-Novo|2020-03-20|\n",
            "|   Switzerland|                Bern|2020-03-20|\n",
            "|         Malta|               Mgarr|2020-03-20|\n",
            "|United Kingdom|         Isle of Man|2020-03-20|\n",
            "+--------------+--------------------+----------+\n",
            "only showing top 20 rows\n",
            "\n"
          ]
        }
      ]
    },
    {
      "cell_type": "code",
      "metadata": {
        "colab": {
          "base_uri": "https://localhost:8080/"
        },
        "id": "W5Jig9FjWAY8",
        "outputId": "a921180c-a1b0-4bd0-f332-8e592debeb59"
      },
      "source": [
        "corona_df.groupby('Country','state_cleaned').agg(F.max('Date')).orderBy('Country','state_cleaned').show()"
      ],
      "execution_count": 66,
      "outputs": [
        {
          "output_type": "stream",
          "name": "stdout",
          "text": [
            "+-------------------+--------------------+----------+\n",
            "|            Country|       state_cleaned| max(Date)|\n",
            "+-------------------+--------------------+----------+\n",
            "|        Afghanistan|             Baghran|2020-03-20|\n",
            "|            Albania|                E852|2020-03-20|\n",
            "|            Algeria|            Timokten|2020-03-20|\n",
            "|            Andorra|    Andorra la Vella|2020-03-20|\n",
            "|             Angola|             Sautari|2020-03-20|\n",
            "|Antigua and Barbuda|          St. John's|2020-03-20|\n",
            "|          Argentina|        Buenos Aires|2020-03-20|\n",
            "|            Armenia|             Yerevan|2020-03-20|\n",
            "|          Australia|Australian Capita...|2020-03-20|\n",
            "|          Australia|From Diamond Prin...|2020-03-20|\n",
            "|          Australia|     New South Wales|2020-03-20|\n",
            "|          Australia|  Northern Territory|2020-03-20|\n",
            "|          Australia|          Queensland|2020-03-20|\n",
            "|          Australia|     South Australia|2020-03-20|\n",
            "|          Australia|            Tasmania|2020-03-20|\n",
            "|          Australia|            Victoria|2020-03-20|\n",
            "|          Australia|   Western Australia|2020-03-20|\n",
            "|            Austria|              Vienna|2020-03-20|\n",
            "|         Azerbaijan|            Agjabadi|2020-03-20|\n",
            "|       Bahamas, The|              Nassau|2020-03-20|\n",
            "+-------------------+--------------------+----------+\n",
            "only showing top 20 rows\n",
            "\n"
          ]
        }
      ]
    },
    {
      "cell_type": "code",
      "metadata": {
        "colab": {
          "base_uri": "https://localhost:8080/"
        },
        "id": "xXJNGdKfWLzM",
        "outputId": "288d32aa-209c-447c-9c93-8177f2a04b6f"
      },
      "source": [
        "corona_df.groupby('Country').pivot('Date').agg(F.sum('Confirmed')).orderBy('Country').collect()"
      ],
      "execution_count": 71,
      "outputs": [
        {
          "output_type": "execute_result",
          "data": {
            "text/plain": [
              "[Row(Country='Afghanistan', 2020-01-22=0, 2020-01-23=0, 2020-01-24=0, 2020-01-25=0, 2020-01-26=0, 2020-01-27=0, 2020-01-28=0, 2020-01-29=0, 2020-01-30=0, 2020-01-31=0, 2020-02-01=0, 2020-02-02=0, 2020-02-03=0, 2020-02-04=0, 2020-02-05=0, 2020-02-06=0, 2020-02-07=0, 2020-02-08=0, 2020-02-09=0, 2020-02-10=0, 2020-02-11=0, 2020-02-12=0, 2020-02-13=0, 2020-02-14=0, 2020-02-15=0, 2020-02-16=0, 2020-02-17=0, 2020-02-18=0, 2020-02-19=0, 2020-02-20=0, 2020-02-21=0, 2020-02-22=0, 2020-02-23=0, 2020-02-24=1, 2020-02-25=1, 2020-02-26=1, 2020-02-27=1, 2020-02-28=1, 2020-02-29=1, 2020-03-01=1, 2020-03-02=1, 2020-03-03=1, 2020-03-04=1, 2020-03-05=1, 2020-03-06=1, 2020-03-07=1, 2020-03-08=4, 2020-03-09=4, 2020-03-10=5, 2020-03-11=7, 2020-03-12=7, 2020-03-13=7, 2020-03-14=11, 2020-03-15=16, 2020-03-16=21, 2020-03-17=22, 2020-03-18=22, 2020-03-19=22, 2020-03-20=24),\n",
              " Row(Country='Albania', 2020-01-22=0, 2020-01-23=0, 2020-01-24=0, 2020-01-25=0, 2020-01-26=0, 2020-01-27=0, 2020-01-28=0, 2020-01-29=0, 2020-01-30=0, 2020-01-31=0, 2020-02-01=0, 2020-02-02=0, 2020-02-03=0, 2020-02-04=0, 2020-02-05=0, 2020-02-06=0, 2020-02-07=0, 2020-02-08=0, 2020-02-09=0, 2020-02-10=0, 2020-02-11=0, 2020-02-12=0, 2020-02-13=0, 2020-02-14=0, 2020-02-15=0, 2020-02-16=0, 2020-02-17=0, 2020-02-18=0, 2020-02-19=0, 2020-02-20=0, 2020-02-21=0, 2020-02-22=0, 2020-02-23=0, 2020-02-24=0, 2020-02-25=0, 2020-02-26=0, 2020-02-27=0, 2020-02-28=0, 2020-02-29=0, 2020-03-01=0, 2020-03-02=0, 2020-03-03=0, 2020-03-04=0, 2020-03-05=0, 2020-03-06=0, 2020-03-07=0, 2020-03-08=0, 2020-03-09=2, 2020-03-10=10, 2020-03-11=12, 2020-03-12=23, 2020-03-13=33, 2020-03-14=38, 2020-03-15=42, 2020-03-16=51, 2020-03-17=55, 2020-03-18=59, 2020-03-19=64, 2020-03-20=70),\n",
              " Row(Country='Algeria', 2020-01-22=0, 2020-01-23=0, 2020-01-24=0, 2020-01-25=0, 2020-01-26=0, 2020-01-27=0, 2020-01-28=0, 2020-01-29=0, 2020-01-30=0, 2020-01-31=0, 2020-02-01=0, 2020-02-02=0, 2020-02-03=0, 2020-02-04=0, 2020-02-05=0, 2020-02-06=0, 2020-02-07=0, 2020-02-08=0, 2020-02-09=0, 2020-02-10=0, 2020-02-11=0, 2020-02-12=0, 2020-02-13=0, 2020-02-14=0, 2020-02-15=0, 2020-02-16=0, 2020-02-17=0, 2020-02-18=0, 2020-02-19=0, 2020-02-20=0, 2020-02-21=0, 2020-02-22=0, 2020-02-23=0, 2020-02-24=0, 2020-02-25=1, 2020-02-26=1, 2020-02-27=1, 2020-02-28=1, 2020-02-29=1, 2020-03-01=1, 2020-03-02=3, 2020-03-03=5, 2020-03-04=12, 2020-03-05=12, 2020-03-06=17, 2020-03-07=17, 2020-03-08=19, 2020-03-09=20, 2020-03-10=20, 2020-03-11=20, 2020-03-12=24, 2020-03-13=26, 2020-03-14=37, 2020-03-15=48, 2020-03-16=54, 2020-03-17=60, 2020-03-18=74, 2020-03-19=87, 2020-03-20=90),\n",
              " Row(Country='Andorra', 2020-01-22=0, 2020-01-23=0, 2020-01-24=0, 2020-01-25=0, 2020-01-26=0, 2020-01-27=0, 2020-01-28=0, 2020-01-29=0, 2020-01-30=0, 2020-01-31=0, 2020-02-01=0, 2020-02-02=0, 2020-02-03=0, 2020-02-04=0, 2020-02-05=0, 2020-02-06=0, 2020-02-07=0, 2020-02-08=0, 2020-02-09=0, 2020-02-10=0, 2020-02-11=0, 2020-02-12=0, 2020-02-13=0, 2020-02-14=0, 2020-02-15=0, 2020-02-16=0, 2020-02-17=0, 2020-02-18=0, 2020-02-19=0, 2020-02-20=0, 2020-02-21=0, 2020-02-22=0, 2020-02-23=0, 2020-02-24=0, 2020-02-25=0, 2020-02-26=0, 2020-02-27=0, 2020-02-28=0, 2020-02-29=0, 2020-03-01=0, 2020-03-02=1, 2020-03-03=1, 2020-03-04=1, 2020-03-05=1, 2020-03-06=1, 2020-03-07=1, 2020-03-08=1, 2020-03-09=1, 2020-03-10=1, 2020-03-11=1, 2020-03-12=1, 2020-03-13=1, 2020-03-14=1, 2020-03-15=1, 2020-03-16=2, 2020-03-17=39, 2020-03-18=39, 2020-03-19=53, 2020-03-20=75),\n",
              " Row(Country='Angola', 2020-01-22=0, 2020-01-23=0, 2020-01-24=0, 2020-01-25=0, 2020-01-26=0, 2020-01-27=0, 2020-01-28=0, 2020-01-29=0, 2020-01-30=0, 2020-01-31=0, 2020-02-01=0, 2020-02-02=0, 2020-02-03=0, 2020-02-04=0, 2020-02-05=0, 2020-02-06=0, 2020-02-07=0, 2020-02-08=0, 2020-02-09=0, 2020-02-10=0, 2020-02-11=0, 2020-02-12=0, 2020-02-13=0, 2020-02-14=0, 2020-02-15=0, 2020-02-16=0, 2020-02-17=0, 2020-02-18=0, 2020-02-19=0, 2020-02-20=0, 2020-02-21=0, 2020-02-22=0, 2020-02-23=0, 2020-02-24=0, 2020-02-25=0, 2020-02-26=0, 2020-02-27=0, 2020-02-28=0, 2020-02-29=0, 2020-03-01=0, 2020-03-02=0, 2020-03-03=0, 2020-03-04=0, 2020-03-05=0, 2020-03-06=0, 2020-03-07=0, 2020-03-08=0, 2020-03-09=0, 2020-03-10=0, 2020-03-11=0, 2020-03-12=0, 2020-03-13=0, 2020-03-14=0, 2020-03-15=0, 2020-03-16=0, 2020-03-17=0, 2020-03-18=0, 2020-03-19=0, 2020-03-20=1),\n",
              " Row(Country='Antigua and Barbuda', 2020-01-22=0, 2020-01-23=0, 2020-01-24=0, 2020-01-25=0, 2020-01-26=0, 2020-01-27=0, 2020-01-28=0, 2020-01-29=0, 2020-01-30=0, 2020-01-31=0, 2020-02-01=0, 2020-02-02=0, 2020-02-03=0, 2020-02-04=0, 2020-02-05=0, 2020-02-06=0, 2020-02-07=0, 2020-02-08=0, 2020-02-09=0, 2020-02-10=0, 2020-02-11=0, 2020-02-12=0, 2020-02-13=0, 2020-02-14=0, 2020-02-15=0, 2020-02-16=0, 2020-02-17=0, 2020-02-18=0, 2020-02-19=0, 2020-02-20=0, 2020-02-21=0, 2020-02-22=0, 2020-02-23=0, 2020-02-24=0, 2020-02-25=0, 2020-02-26=0, 2020-02-27=0, 2020-02-28=0, 2020-02-29=0, 2020-03-01=0, 2020-03-02=0, 2020-03-03=0, 2020-03-04=0, 2020-03-05=0, 2020-03-06=0, 2020-03-07=0, 2020-03-08=0, 2020-03-09=0, 2020-03-10=0, 2020-03-11=0, 2020-03-12=0, 2020-03-13=1, 2020-03-14=1, 2020-03-15=1, 2020-03-16=1, 2020-03-17=1, 2020-03-18=1, 2020-03-19=1, 2020-03-20=1),\n",
              " Row(Country='Argentina', 2020-01-22=0, 2020-01-23=0, 2020-01-24=0, 2020-01-25=0, 2020-01-26=0, 2020-01-27=0, 2020-01-28=0, 2020-01-29=0, 2020-01-30=0, 2020-01-31=0, 2020-02-01=0, 2020-02-02=0, 2020-02-03=0, 2020-02-04=0, 2020-02-05=0, 2020-02-06=0, 2020-02-07=0, 2020-02-08=0, 2020-02-09=0, 2020-02-10=0, 2020-02-11=0, 2020-02-12=0, 2020-02-13=0, 2020-02-14=0, 2020-02-15=0, 2020-02-16=0, 2020-02-17=0, 2020-02-18=0, 2020-02-19=0, 2020-02-20=0, 2020-02-21=0, 2020-02-22=0, 2020-02-23=0, 2020-02-24=0, 2020-02-25=0, 2020-02-26=0, 2020-02-27=0, 2020-02-28=0, 2020-02-29=0, 2020-03-01=0, 2020-03-02=0, 2020-03-03=1, 2020-03-04=1, 2020-03-05=1, 2020-03-06=2, 2020-03-07=8, 2020-03-08=12, 2020-03-09=12, 2020-03-10=17, 2020-03-11=19, 2020-03-12=19, 2020-03-13=31, 2020-03-14=34, 2020-03-15=45, 2020-03-16=56, 2020-03-17=68, 2020-03-18=79, 2020-03-19=97, 2020-03-20=128),\n",
              " Row(Country='Armenia', 2020-01-22=0, 2020-01-23=0, 2020-01-24=0, 2020-01-25=0, 2020-01-26=0, 2020-01-27=0, 2020-01-28=0, 2020-01-29=0, 2020-01-30=0, 2020-01-31=0, 2020-02-01=0, 2020-02-02=0, 2020-02-03=0, 2020-02-04=0, 2020-02-05=0, 2020-02-06=0, 2020-02-07=0, 2020-02-08=0, 2020-02-09=0, 2020-02-10=0, 2020-02-11=0, 2020-02-12=0, 2020-02-13=0, 2020-02-14=0, 2020-02-15=0, 2020-02-16=0, 2020-02-17=0, 2020-02-18=0, 2020-02-19=0, 2020-02-20=0, 2020-02-21=0, 2020-02-22=0, 2020-02-23=0, 2020-02-24=0, 2020-02-25=0, 2020-02-26=0, 2020-02-27=0, 2020-02-28=0, 2020-02-29=0, 2020-03-01=1, 2020-03-02=1, 2020-03-03=1, 2020-03-04=1, 2020-03-05=1, 2020-03-06=1, 2020-03-07=1, 2020-03-08=1, 2020-03-09=1, 2020-03-10=1, 2020-03-11=1, 2020-03-12=4, 2020-03-13=8, 2020-03-14=18, 2020-03-15=26, 2020-03-16=52, 2020-03-17=78, 2020-03-18=84, 2020-03-19=115, 2020-03-20=136),\n",
              " Row(Country='Australia', 2020-01-22=0, 2020-01-23=0, 2020-01-24=0, 2020-01-25=0, 2020-01-26=4, 2020-01-27=5, 2020-01-28=5, 2020-01-29=6, 2020-01-30=9, 2020-01-31=9, 2020-02-01=12, 2020-02-02=12, 2020-02-03=12, 2020-02-04=13, 2020-02-05=13, 2020-02-06=14, 2020-02-07=15, 2020-02-08=15, 2020-02-09=15, 2020-02-10=15, 2020-02-11=15, 2020-02-12=15, 2020-02-13=15, 2020-02-14=15, 2020-02-15=15, 2020-02-16=15, 2020-02-17=15, 2020-02-18=15, 2020-02-19=15, 2020-02-20=15, 2020-02-21=19, 2020-02-22=22, 2020-02-23=22, 2020-02-24=22, 2020-02-25=22, 2020-02-26=22, 2020-02-27=23, 2020-02-28=23, 2020-02-29=25, 2020-03-01=27, 2020-03-02=30, 2020-03-03=39, 2020-03-04=52, 2020-03-05=55, 2020-03-06=60, 2020-03-07=63, 2020-03-08=76, 2020-03-09=91, 2020-03-10=107, 2020-03-11=128, 2020-03-12=128, 2020-03-13=200, 2020-03-14=250, 2020-03-15=297, 2020-03-16=377, 2020-03-17=452, 2020-03-18=568, 2020-03-19=681, 2020-03-20=791),\n",
              " Row(Country='Austria', 2020-01-22=0, 2020-01-23=0, 2020-01-24=0, 2020-01-25=0, 2020-01-26=0, 2020-01-27=0, 2020-01-28=0, 2020-01-29=0, 2020-01-30=0, 2020-01-31=0, 2020-02-01=0, 2020-02-02=0, 2020-02-03=0, 2020-02-04=0, 2020-02-05=0, 2020-02-06=0, 2020-02-07=0, 2020-02-08=0, 2020-02-09=0, 2020-02-10=0, 2020-02-11=0, 2020-02-12=0, 2020-02-13=0, 2020-02-14=0, 2020-02-15=0, 2020-02-16=0, 2020-02-17=0, 2020-02-18=0, 2020-02-19=0, 2020-02-20=0, 2020-02-21=0, 2020-02-22=0, 2020-02-23=0, 2020-02-24=0, 2020-02-25=2, 2020-02-26=2, 2020-02-27=3, 2020-02-28=3, 2020-02-29=9, 2020-03-01=14, 2020-03-02=18, 2020-03-03=21, 2020-03-04=29, 2020-03-05=41, 2020-03-06=55, 2020-03-07=79, 2020-03-08=104, 2020-03-09=131, 2020-03-10=182, 2020-03-11=246, 2020-03-12=302, 2020-03-13=504, 2020-03-14=655, 2020-03-15=860, 2020-03-16=1018, 2020-03-17=1332, 2020-03-18=1646, 2020-03-19=2013, 2020-03-20=2388),\n",
              " Row(Country='Azerbaijan', 2020-01-22=0, 2020-01-23=0, 2020-01-24=0, 2020-01-25=0, 2020-01-26=0, 2020-01-27=0, 2020-01-28=0, 2020-01-29=0, 2020-01-30=0, 2020-01-31=0, 2020-02-01=0, 2020-02-02=0, 2020-02-03=0, 2020-02-04=0, 2020-02-05=0, 2020-02-06=0, 2020-02-07=0, 2020-02-08=0, 2020-02-09=0, 2020-02-10=0, 2020-02-11=0, 2020-02-12=0, 2020-02-13=0, 2020-02-14=0, 2020-02-15=0, 2020-02-16=0, 2020-02-17=0, 2020-02-18=0, 2020-02-19=0, 2020-02-20=0, 2020-02-21=0, 2020-02-22=0, 2020-02-23=0, 2020-02-24=0, 2020-02-25=0, 2020-02-26=0, 2020-02-27=0, 2020-02-28=0, 2020-02-29=0, 2020-03-01=3, 2020-03-02=3, 2020-03-03=3, 2020-03-04=3, 2020-03-05=6, 2020-03-06=6, 2020-03-07=9, 2020-03-08=9, 2020-03-09=9, 2020-03-10=11, 2020-03-11=11, 2020-03-12=11, 2020-03-13=15, 2020-03-14=15, 2020-03-15=23, 2020-03-16=15, 2020-03-17=28, 2020-03-18=28, 2020-03-19=44, 2020-03-20=44),\n",
              " Row(Country='Bahamas, The', 2020-01-22=0, 2020-01-23=0, 2020-01-24=0, 2020-01-25=0, 2020-01-26=0, 2020-01-27=0, 2020-01-28=0, 2020-01-29=0, 2020-01-30=0, 2020-01-31=0, 2020-02-01=0, 2020-02-02=0, 2020-02-03=0, 2020-02-04=0, 2020-02-05=0, 2020-02-06=0, 2020-02-07=0, 2020-02-08=0, 2020-02-09=0, 2020-02-10=0, 2020-02-11=0, 2020-02-12=0, 2020-02-13=0, 2020-02-14=0, 2020-02-15=0, 2020-02-16=0, 2020-02-17=0, 2020-02-18=0, 2020-02-19=0, 2020-02-20=0, 2020-02-21=0, 2020-02-22=0, 2020-02-23=0, 2020-02-24=0, 2020-02-25=0, 2020-02-26=0, 2020-02-27=0, 2020-02-28=0, 2020-02-29=0, 2020-03-01=0, 2020-03-02=0, 2020-03-03=0, 2020-03-04=0, 2020-03-05=0, 2020-03-06=0, 2020-03-07=0, 2020-03-08=0, 2020-03-09=0, 2020-03-10=0, 2020-03-11=0, 2020-03-12=0, 2020-03-13=0, 2020-03-14=0, 2020-03-15=0, 2020-03-16=1, 2020-03-17=1, 2020-03-18=1, 2020-03-19=3, 2020-03-20=3),\n",
              " Row(Country='Bahrain', 2020-01-22=0, 2020-01-23=0, 2020-01-24=0, 2020-01-25=0, 2020-01-26=0, 2020-01-27=0, 2020-01-28=0, 2020-01-29=0, 2020-01-30=0, 2020-01-31=0, 2020-02-01=0, 2020-02-02=0, 2020-02-03=0, 2020-02-04=0, 2020-02-05=0, 2020-02-06=0, 2020-02-07=0, 2020-02-08=0, 2020-02-09=0, 2020-02-10=0, 2020-02-11=0, 2020-02-12=0, 2020-02-13=0, 2020-02-14=0, 2020-02-15=0, 2020-02-16=0, 2020-02-17=0, 2020-02-18=0, 2020-02-19=0, 2020-02-20=0, 2020-02-21=0, 2020-02-22=0, 2020-02-23=0, 2020-02-24=1, 2020-02-25=23, 2020-02-26=33, 2020-02-27=33, 2020-02-28=36, 2020-02-29=41, 2020-03-01=47, 2020-03-02=49, 2020-03-03=49, 2020-03-04=52, 2020-03-05=55, 2020-03-06=60, 2020-03-07=85, 2020-03-08=85, 2020-03-09=95, 2020-03-10=110, 2020-03-11=195, 2020-03-12=195, 2020-03-13=189, 2020-03-14=210, 2020-03-15=214, 2020-03-16=214, 2020-03-17=228, 2020-03-18=256, 2020-03-19=278, 2020-03-20=285),\n",
              " Row(Country='Bangladesh', 2020-01-22=0, 2020-01-23=0, 2020-01-24=0, 2020-01-25=0, 2020-01-26=0, 2020-01-27=0, 2020-01-28=0, 2020-01-29=0, 2020-01-30=0, 2020-01-31=0, 2020-02-01=0, 2020-02-02=0, 2020-02-03=0, 2020-02-04=0, 2020-02-05=0, 2020-02-06=0, 2020-02-07=0, 2020-02-08=0, 2020-02-09=0, 2020-02-10=0, 2020-02-11=0, 2020-02-12=0, 2020-02-13=0, 2020-02-14=0, 2020-02-15=0, 2020-02-16=0, 2020-02-17=0, 2020-02-18=0, 2020-02-19=0, 2020-02-20=0, 2020-02-21=0, 2020-02-22=0, 2020-02-23=0, 2020-02-24=0, 2020-02-25=0, 2020-02-26=0, 2020-02-27=0, 2020-02-28=0, 2020-02-29=0, 2020-03-01=0, 2020-03-02=0, 2020-03-03=0, 2020-03-04=0, 2020-03-05=0, 2020-03-06=0, 2020-03-07=0, 2020-03-08=3, 2020-03-09=3, 2020-03-10=3, 2020-03-11=3, 2020-03-12=3, 2020-03-13=3, 2020-03-14=3, 2020-03-15=5, 2020-03-16=8, 2020-03-17=10, 2020-03-18=14, 2020-03-19=17, 2020-03-20=20),\n",
              " Row(Country='Barbados', 2020-01-22=0, 2020-01-23=0, 2020-01-24=0, 2020-01-25=0, 2020-01-26=0, 2020-01-27=0, 2020-01-28=0, 2020-01-29=0, 2020-01-30=0, 2020-01-31=0, 2020-02-01=0, 2020-02-02=0, 2020-02-03=0, 2020-02-04=0, 2020-02-05=0, 2020-02-06=0, 2020-02-07=0, 2020-02-08=0, 2020-02-09=0, 2020-02-10=0, 2020-02-11=0, 2020-02-12=0, 2020-02-13=0, 2020-02-14=0, 2020-02-15=0, 2020-02-16=0, 2020-02-17=0, 2020-02-18=0, 2020-02-19=0, 2020-02-20=0, 2020-02-21=0, 2020-02-22=0, 2020-02-23=0, 2020-02-24=0, 2020-02-25=0, 2020-02-26=0, 2020-02-27=0, 2020-02-28=0, 2020-02-29=0, 2020-03-01=0, 2020-03-02=0, 2020-03-03=0, 2020-03-04=0, 2020-03-05=0, 2020-03-06=0, 2020-03-07=0, 2020-03-08=0, 2020-03-09=0, 2020-03-10=0, 2020-03-11=0, 2020-03-12=0, 2020-03-13=0, 2020-03-14=0, 2020-03-15=0, 2020-03-16=0, 2020-03-17=2, 2020-03-18=2, 2020-03-19=5, 2020-03-20=5),\n",
              " Row(Country='Belarus', 2020-01-22=0, 2020-01-23=0, 2020-01-24=0, 2020-01-25=0, 2020-01-26=0, 2020-01-27=0, 2020-01-28=0, 2020-01-29=0, 2020-01-30=0, 2020-01-31=0, 2020-02-01=0, 2020-02-02=0, 2020-02-03=0, 2020-02-04=0, 2020-02-05=0, 2020-02-06=0, 2020-02-07=0, 2020-02-08=0, 2020-02-09=0, 2020-02-10=0, 2020-02-11=0, 2020-02-12=0, 2020-02-13=0, 2020-02-14=0, 2020-02-15=0, 2020-02-16=0, 2020-02-17=0, 2020-02-18=0, 2020-02-19=0, 2020-02-20=0, 2020-02-21=0, 2020-02-22=0, 2020-02-23=0, 2020-02-24=0, 2020-02-25=0, 2020-02-26=0, 2020-02-27=0, 2020-02-28=1, 2020-02-29=1, 2020-03-01=1, 2020-03-02=1, 2020-03-03=1, 2020-03-04=6, 2020-03-05=6, 2020-03-06=6, 2020-03-07=6, 2020-03-08=6, 2020-03-09=6, 2020-03-10=9, 2020-03-11=9, 2020-03-12=12, 2020-03-13=27, 2020-03-14=27, 2020-03-15=27, 2020-03-16=36, 2020-03-17=36, 2020-03-18=51, 2020-03-19=51, 2020-03-20=69),\n",
              " Row(Country='Belgium', 2020-01-22=0, 2020-01-23=0, 2020-01-24=0, 2020-01-25=0, 2020-01-26=0, 2020-01-27=0, 2020-01-28=0, 2020-01-29=0, 2020-01-30=0, 2020-01-31=0, 2020-02-01=0, 2020-02-02=0, 2020-02-03=0, 2020-02-04=1, 2020-02-05=1, 2020-02-06=1, 2020-02-07=1, 2020-02-08=1, 2020-02-09=1, 2020-02-10=1, 2020-02-11=1, 2020-02-12=1, 2020-02-13=1, 2020-02-14=1, 2020-02-15=1, 2020-02-16=1, 2020-02-17=1, 2020-02-18=1, 2020-02-19=1, 2020-02-20=1, 2020-02-21=1, 2020-02-22=1, 2020-02-23=1, 2020-02-24=1, 2020-02-25=1, 2020-02-26=1, 2020-02-27=1, 2020-02-28=1, 2020-02-29=1, 2020-03-01=2, 2020-03-02=8, 2020-03-03=13, 2020-03-04=23, 2020-03-05=50, 2020-03-06=109, 2020-03-07=169, 2020-03-08=200, 2020-03-09=239, 2020-03-10=267, 2020-03-11=314, 2020-03-12=314, 2020-03-13=559, 2020-03-14=689, 2020-03-15=886, 2020-03-16=1058, 2020-03-17=1243, 2020-03-18=1486, 2020-03-19=1795, 2020-03-20=2257),\n",
              " Row(Country='Benin', 2020-01-22=0, 2020-01-23=0, 2020-01-24=0, 2020-01-25=0, 2020-01-26=0, 2020-01-27=0, 2020-01-28=0, 2020-01-29=0, 2020-01-30=0, 2020-01-31=0, 2020-02-01=0, 2020-02-02=0, 2020-02-03=0, 2020-02-04=0, 2020-02-05=0, 2020-02-06=0, 2020-02-07=0, 2020-02-08=0, 2020-02-09=0, 2020-02-10=0, 2020-02-11=0, 2020-02-12=0, 2020-02-13=0, 2020-02-14=0, 2020-02-15=0, 2020-02-16=0, 2020-02-17=0, 2020-02-18=0, 2020-02-19=0, 2020-02-20=0, 2020-02-21=0, 2020-02-22=0, 2020-02-23=0, 2020-02-24=0, 2020-02-25=0, 2020-02-26=0, 2020-02-27=0, 2020-02-28=0, 2020-02-29=0, 2020-03-01=0, 2020-03-02=0, 2020-03-03=0, 2020-03-04=0, 2020-03-05=0, 2020-03-06=0, 2020-03-07=0, 2020-03-08=0, 2020-03-09=0, 2020-03-10=0, 2020-03-11=0, 2020-03-12=0, 2020-03-13=0, 2020-03-14=0, 2020-03-15=0, 2020-03-16=1, 2020-03-17=1, 2020-03-18=2, 2020-03-19=2, 2020-03-20=2),\n",
              " Row(Country='Bhutan', 2020-01-22=0, 2020-01-23=0, 2020-01-24=0, 2020-01-25=0, 2020-01-26=0, 2020-01-27=0, 2020-01-28=0, 2020-01-29=0, 2020-01-30=0, 2020-01-31=0, 2020-02-01=0, 2020-02-02=0, 2020-02-03=0, 2020-02-04=0, 2020-02-05=0, 2020-02-06=0, 2020-02-07=0, 2020-02-08=0, 2020-02-09=0, 2020-02-10=0, 2020-02-11=0, 2020-02-12=0, 2020-02-13=0, 2020-02-14=0, 2020-02-15=0, 2020-02-16=0, 2020-02-17=0, 2020-02-18=0, 2020-02-19=0, 2020-02-20=0, 2020-02-21=0, 2020-02-22=0, 2020-02-23=0, 2020-02-24=0, 2020-02-25=0, 2020-02-26=0, 2020-02-27=0, 2020-02-28=0, 2020-02-29=0, 2020-03-01=0, 2020-03-02=0, 2020-03-03=0, 2020-03-04=0, 2020-03-05=0, 2020-03-06=1, 2020-03-07=1, 2020-03-08=1, 2020-03-09=1, 2020-03-10=1, 2020-03-11=1, 2020-03-12=1, 2020-03-13=1, 2020-03-14=1, 2020-03-15=1, 2020-03-16=1, 2020-03-17=1, 2020-03-18=1, 2020-03-19=1, 2020-03-20=2),\n",
              " Row(Country='Bolivia', 2020-01-22=0, 2020-01-23=0, 2020-01-24=0, 2020-01-25=0, 2020-01-26=0, 2020-01-27=0, 2020-01-28=0, 2020-01-29=0, 2020-01-30=0, 2020-01-31=0, 2020-02-01=0, 2020-02-02=0, 2020-02-03=0, 2020-02-04=0, 2020-02-05=0, 2020-02-06=0, 2020-02-07=0, 2020-02-08=0, 2020-02-09=0, 2020-02-10=0, 2020-02-11=0, 2020-02-12=0, 2020-02-13=0, 2020-02-14=0, 2020-02-15=0, 2020-02-16=0, 2020-02-17=0, 2020-02-18=0, 2020-02-19=0, 2020-02-20=0, 2020-02-21=0, 2020-02-22=0, 2020-02-23=0, 2020-02-24=0, 2020-02-25=0, 2020-02-26=0, 2020-02-27=0, 2020-02-28=0, 2020-02-29=0, 2020-03-01=0, 2020-03-02=0, 2020-03-03=0, 2020-03-04=0, 2020-03-05=0, 2020-03-06=0, 2020-03-07=0, 2020-03-08=0, 2020-03-09=0, 2020-03-10=0, 2020-03-11=2, 2020-03-12=2, 2020-03-13=3, 2020-03-14=10, 2020-03-15=10, 2020-03-16=11, 2020-03-17=11, 2020-03-18=12, 2020-03-19=12, 2020-03-20=15),\n",
              " Row(Country='Bosnia and Herzegovina', 2020-01-22=0, 2020-01-23=0, 2020-01-24=0, 2020-01-25=0, 2020-01-26=0, 2020-01-27=0, 2020-01-28=0, 2020-01-29=0, 2020-01-30=0, 2020-01-31=0, 2020-02-01=0, 2020-02-02=0, 2020-02-03=0, 2020-02-04=0, 2020-02-05=0, 2020-02-06=0, 2020-02-07=0, 2020-02-08=0, 2020-02-09=0, 2020-02-10=0, 2020-02-11=0, 2020-02-12=0, 2020-02-13=0, 2020-02-14=0, 2020-02-15=0, 2020-02-16=0, 2020-02-17=0, 2020-02-18=0, 2020-02-19=0, 2020-02-20=0, 2020-02-21=0, 2020-02-22=0, 2020-02-23=0, 2020-02-24=0, 2020-02-25=0, 2020-02-26=0, 2020-02-27=0, 2020-02-28=0, 2020-02-29=0, 2020-03-01=0, 2020-03-02=0, 2020-03-03=0, 2020-03-04=0, 2020-03-05=2, 2020-03-06=2, 2020-03-07=3, 2020-03-08=3, 2020-03-09=3, 2020-03-10=5, 2020-03-11=7, 2020-03-12=11, 2020-03-13=13, 2020-03-14=18, 2020-03-15=24, 2020-03-16=25, 2020-03-17=26, 2020-03-18=38, 2020-03-19=63, 2020-03-20=89),\n",
              " Row(Country='Brazil', 2020-01-22=0, 2020-01-23=0, 2020-01-24=0, 2020-01-25=0, 2020-01-26=0, 2020-01-27=0, 2020-01-28=0, 2020-01-29=0, 2020-01-30=0, 2020-01-31=0, 2020-02-01=0, 2020-02-02=0, 2020-02-03=0, 2020-02-04=0, 2020-02-05=0, 2020-02-06=0, 2020-02-07=0, 2020-02-08=0, 2020-02-09=0, 2020-02-10=0, 2020-02-11=0, 2020-02-12=0, 2020-02-13=0, 2020-02-14=0, 2020-02-15=0, 2020-02-16=0, 2020-02-17=0, 2020-02-18=0, 2020-02-19=0, 2020-02-20=0, 2020-02-21=0, 2020-02-22=0, 2020-02-23=0, 2020-02-24=0, 2020-02-25=0, 2020-02-26=1, 2020-02-27=1, 2020-02-28=1, 2020-02-29=2, 2020-03-01=2, 2020-03-02=2, 2020-03-03=2, 2020-03-04=4, 2020-03-05=4, 2020-03-06=13, 2020-03-07=13, 2020-03-08=20, 2020-03-09=25, 2020-03-10=31, 2020-03-11=38, 2020-03-12=52, 2020-03-13=151, 2020-03-14=151, 2020-03-15=162, 2020-03-16=200, 2020-03-17=321, 2020-03-18=372, 2020-03-19=621, 2020-03-20=793),\n",
              " Row(Country='Brunei', 2020-01-22=0, 2020-01-23=0, 2020-01-24=0, 2020-01-25=0, 2020-01-26=0, 2020-01-27=0, 2020-01-28=0, 2020-01-29=0, 2020-01-30=0, 2020-01-31=0, 2020-02-01=0, 2020-02-02=0, 2020-02-03=0, 2020-02-04=0, 2020-02-05=0, 2020-02-06=0, 2020-02-07=0, 2020-02-08=0, 2020-02-09=0, 2020-02-10=0, 2020-02-11=0, 2020-02-12=0, 2020-02-13=0, 2020-02-14=0, 2020-02-15=0, 2020-02-16=0, 2020-02-17=0, 2020-02-18=0, 2020-02-19=0, 2020-02-20=0, 2020-02-21=0, 2020-02-22=0, 2020-02-23=0, 2020-02-24=0, 2020-02-25=0, 2020-02-26=0, 2020-02-27=0, 2020-02-28=0, 2020-02-29=0, 2020-03-01=0, 2020-03-02=0, 2020-03-03=0, 2020-03-04=0, 2020-03-05=0, 2020-03-06=0, 2020-03-07=0, 2020-03-08=0, 2020-03-09=1, 2020-03-10=1, 2020-03-11=11, 2020-03-12=11, 2020-03-13=37, 2020-03-14=40, 2020-03-15=50, 2020-03-16=54, 2020-03-17=56, 2020-03-18=68, 2020-03-19=75, 2020-03-20=78),\n",
              " Row(Country='Bulgaria', 2020-01-22=0, 2020-01-23=0, 2020-01-24=0, 2020-01-25=0, 2020-01-26=0, 2020-01-27=0, 2020-01-28=0, 2020-01-29=0, 2020-01-30=0, 2020-01-31=0, 2020-02-01=0, 2020-02-02=0, 2020-02-03=0, 2020-02-04=0, 2020-02-05=0, 2020-02-06=0, 2020-02-07=0, 2020-02-08=0, 2020-02-09=0, 2020-02-10=0, 2020-02-11=0, 2020-02-12=0, 2020-02-13=0, 2020-02-14=0, 2020-02-15=0, 2020-02-16=0, 2020-02-17=0, 2020-02-18=0, 2020-02-19=0, 2020-02-20=0, 2020-02-21=0, 2020-02-22=0, 2020-02-23=0, 2020-02-24=0, 2020-02-25=0, 2020-02-26=0, 2020-02-27=0, 2020-02-28=0, 2020-02-29=0, 2020-03-01=0, 2020-03-02=0, 2020-03-03=0, 2020-03-04=0, 2020-03-05=0, 2020-03-06=0, 2020-03-07=0, 2020-03-08=4, 2020-03-09=4, 2020-03-10=4, 2020-03-11=7, 2020-03-12=7, 2020-03-13=23, 2020-03-14=41, 2020-03-15=51, 2020-03-16=52, 2020-03-17=67, 2020-03-18=92, 2020-03-19=94, 2020-03-20=127),\n",
              " Row(Country='Burkina Faso', 2020-01-22=0, 2020-01-23=0, 2020-01-24=0, 2020-01-25=0, 2020-01-26=0, 2020-01-27=0, 2020-01-28=0, 2020-01-29=0, 2020-01-30=0, 2020-01-31=0, 2020-02-01=0, 2020-02-02=0, 2020-02-03=0, 2020-02-04=0, 2020-02-05=0, 2020-02-06=0, 2020-02-07=0, 2020-02-08=0, 2020-02-09=0, 2020-02-10=0, 2020-02-11=0, 2020-02-12=0, 2020-02-13=0, 2020-02-14=0, 2020-02-15=0, 2020-02-16=0, 2020-02-17=0, 2020-02-18=0, 2020-02-19=0, 2020-02-20=0, 2020-02-21=0, 2020-02-22=0, 2020-02-23=0, 2020-02-24=0, 2020-02-25=0, 2020-02-26=0, 2020-02-27=0, 2020-02-28=0, 2020-02-29=0, 2020-03-01=0, 2020-03-02=0, 2020-03-03=0, 2020-03-04=0, 2020-03-05=0, 2020-03-06=0, 2020-03-07=0, 2020-03-08=0, 2020-03-09=0, 2020-03-10=1, 2020-03-11=2, 2020-03-12=2, 2020-03-13=2, 2020-03-14=2, 2020-03-15=3, 2020-03-16=15, 2020-03-17=15, 2020-03-18=20, 2020-03-19=33, 2020-03-20=40),\n",
              " Row(Country='Cabo Verde', 2020-01-22=0, 2020-01-23=0, 2020-01-24=0, 2020-01-25=0, 2020-01-26=0, 2020-01-27=0, 2020-01-28=0, 2020-01-29=0, 2020-01-30=0, 2020-01-31=0, 2020-02-01=0, 2020-02-02=0, 2020-02-03=0, 2020-02-04=0, 2020-02-05=0, 2020-02-06=0, 2020-02-07=0, 2020-02-08=0, 2020-02-09=0, 2020-02-10=0, 2020-02-11=0, 2020-02-12=0, 2020-02-13=0, 2020-02-14=0, 2020-02-15=0, 2020-02-16=0, 2020-02-17=0, 2020-02-18=0, 2020-02-19=0, 2020-02-20=0, 2020-02-21=0, 2020-02-22=0, 2020-02-23=0, 2020-02-24=0, 2020-02-25=0, 2020-02-26=0, 2020-02-27=0, 2020-02-28=0, 2020-02-29=0, 2020-03-01=0, 2020-03-02=0, 2020-03-03=0, 2020-03-04=0, 2020-03-05=0, 2020-03-06=0, 2020-03-07=0, 2020-03-08=0, 2020-03-09=0, 2020-03-10=0, 2020-03-11=0, 2020-03-12=0, 2020-03-13=0, 2020-03-14=0, 2020-03-15=0, 2020-03-16=0, 2020-03-17=0, 2020-03-18=0, 2020-03-19=0, 2020-03-20=1),\n",
              " Row(Country='Cambodia', 2020-01-22=0, 2020-01-23=0, 2020-01-24=0, 2020-01-25=0, 2020-01-26=0, 2020-01-27=1, 2020-01-28=1, 2020-01-29=1, 2020-01-30=1, 2020-01-31=1, 2020-02-01=1, 2020-02-02=1, 2020-02-03=1, 2020-02-04=1, 2020-02-05=1, 2020-02-06=1, 2020-02-07=1, 2020-02-08=1, 2020-02-09=1, 2020-02-10=1, 2020-02-11=1, 2020-02-12=1, 2020-02-13=1, 2020-02-14=1, 2020-02-15=1, 2020-02-16=1, 2020-02-17=1, 2020-02-18=1, 2020-02-19=1, 2020-02-20=1, 2020-02-21=1, 2020-02-22=1, 2020-02-23=1, 2020-02-24=1, 2020-02-25=1, 2020-02-26=1, 2020-02-27=1, 2020-02-28=1, 2020-02-29=1, 2020-03-01=1, 2020-03-02=1, 2020-03-03=1, 2020-03-04=1, 2020-03-05=1, 2020-03-06=1, 2020-03-07=1, 2020-03-08=2, 2020-03-09=2, 2020-03-10=2, 2020-03-11=3, 2020-03-12=3, 2020-03-13=5, 2020-03-14=7, 2020-03-15=7, 2020-03-16=7, 2020-03-17=33, 2020-03-18=35, 2020-03-19=37, 2020-03-20=51),\n",
              " Row(Country='Cameroon', 2020-01-22=0, 2020-01-23=0, 2020-01-24=0, 2020-01-25=0, 2020-01-26=0, 2020-01-27=0, 2020-01-28=0, 2020-01-29=0, 2020-01-30=0, 2020-01-31=0, 2020-02-01=0, 2020-02-02=0, 2020-02-03=0, 2020-02-04=0, 2020-02-05=0, 2020-02-06=0, 2020-02-07=0, 2020-02-08=0, 2020-02-09=0, 2020-02-10=0, 2020-02-11=0, 2020-02-12=0, 2020-02-13=0, 2020-02-14=0, 2020-02-15=0, 2020-02-16=0, 2020-02-17=0, 2020-02-18=0, 2020-02-19=0, 2020-02-20=0, 2020-02-21=0, 2020-02-22=0, 2020-02-23=0, 2020-02-24=0, 2020-02-25=0, 2020-02-26=0, 2020-02-27=0, 2020-02-28=0, 2020-02-29=0, 2020-03-01=0, 2020-03-02=0, 2020-03-03=0, 2020-03-04=0, 2020-03-05=0, 2020-03-06=1, 2020-03-07=1, 2020-03-08=2, 2020-03-09=2, 2020-03-10=2, 2020-03-11=2, 2020-03-12=2, 2020-03-13=2, 2020-03-14=2, 2020-03-15=2, 2020-03-16=4, 2020-03-17=10, 2020-03-18=10, 2020-03-19=13, 2020-03-20=20),\n",
              " Row(Country='Canada', 2020-01-22=0, 2020-01-23=0, 2020-01-24=0, 2020-01-25=0, 2020-01-26=1, 2020-01-27=1, 2020-01-28=2, 2020-01-29=2, 2020-01-30=2, 2020-01-31=4, 2020-02-01=4, 2020-02-02=4, 2020-02-03=4, 2020-02-04=4, 2020-02-05=5, 2020-02-06=5, 2020-02-07=7, 2020-02-08=7, 2020-02-09=7, 2020-02-10=7, 2020-02-11=7, 2020-02-12=7, 2020-02-13=7, 2020-02-14=7, 2020-02-15=7, 2020-02-16=7, 2020-02-17=8, 2020-02-18=8, 2020-02-19=8, 2020-02-20=8, 2020-02-21=9, 2020-02-22=9, 2020-02-23=9, 2020-02-24=10, 2020-02-25=11, 2020-02-26=11, 2020-02-27=13, 2020-02-28=14, 2020-02-29=20, 2020-03-01=24, 2020-03-02=27, 2020-03-03=30, 2020-03-04=33, 2020-03-05=37, 2020-03-06=49, 2020-03-07=54, 2020-03-08=64, 2020-03-09=77, 2020-03-10=79, 2020-03-11=108, 2020-03-12=117, 2020-03-13=193, 2020-03-14=198, 2020-03-15=252, 2020-03-16=415, 2020-03-17=478, 2020-03-18=657, 2020-03-19=800, 2020-03-20=943),\n",
              " Row(Country='Central African Republic', 2020-01-22=0, 2020-01-23=0, 2020-01-24=0, 2020-01-25=0, 2020-01-26=0, 2020-01-27=0, 2020-01-28=0, 2020-01-29=0, 2020-01-30=0, 2020-01-31=0, 2020-02-01=0, 2020-02-02=0, 2020-02-03=0, 2020-02-04=0, 2020-02-05=0, 2020-02-06=0, 2020-02-07=0, 2020-02-08=0, 2020-02-09=0, 2020-02-10=0, 2020-02-11=0, 2020-02-12=0, 2020-02-13=0, 2020-02-14=0, 2020-02-15=0, 2020-02-16=0, 2020-02-17=0, 2020-02-18=0, 2020-02-19=0, 2020-02-20=0, 2020-02-21=0, 2020-02-22=0, 2020-02-23=0, 2020-02-24=0, 2020-02-25=0, 2020-02-26=0, 2020-02-27=0, 2020-02-28=0, 2020-02-29=0, 2020-03-01=0, 2020-03-02=0, 2020-03-03=0, 2020-03-04=0, 2020-03-05=0, 2020-03-06=0, 2020-03-07=0, 2020-03-08=0, 2020-03-09=0, 2020-03-10=0, 2020-03-11=0, 2020-03-12=0, 2020-03-13=0, 2020-03-14=0, 2020-03-15=1, 2020-03-16=1, 2020-03-17=1, 2020-03-18=1, 2020-03-19=1, 2020-03-20=3),\n",
              " Row(Country='Chad', 2020-01-22=0, 2020-01-23=0, 2020-01-24=0, 2020-01-25=0, 2020-01-26=0, 2020-01-27=0, 2020-01-28=0, 2020-01-29=0, 2020-01-30=0, 2020-01-31=0, 2020-02-01=0, 2020-02-02=0, 2020-02-03=0, 2020-02-04=0, 2020-02-05=0, 2020-02-06=0, 2020-02-07=0, 2020-02-08=0, 2020-02-09=0, 2020-02-10=0, 2020-02-11=0, 2020-02-12=0, 2020-02-13=0, 2020-02-14=0, 2020-02-15=0, 2020-02-16=0, 2020-02-17=0, 2020-02-18=0, 2020-02-19=0, 2020-02-20=0, 2020-02-21=0, 2020-02-22=0, 2020-02-23=0, 2020-02-24=0, 2020-02-25=0, 2020-02-26=0, 2020-02-27=0, 2020-02-28=0, 2020-02-29=0, 2020-03-01=0, 2020-03-02=0, 2020-03-03=0, 2020-03-04=0, 2020-03-05=0, 2020-03-06=0, 2020-03-07=0, 2020-03-08=0, 2020-03-09=0, 2020-03-10=0, 2020-03-11=0, 2020-03-12=0, 2020-03-13=0, 2020-03-14=0, 2020-03-15=0, 2020-03-16=0, 2020-03-17=0, 2020-03-18=0, 2020-03-19=1, 2020-03-20=1),\n",
              " Row(Country='Chile', 2020-01-22=0, 2020-01-23=0, 2020-01-24=0, 2020-01-25=0, 2020-01-26=0, 2020-01-27=0, 2020-01-28=0, 2020-01-29=0, 2020-01-30=0, 2020-01-31=0, 2020-02-01=0, 2020-02-02=0, 2020-02-03=0, 2020-02-04=0, 2020-02-05=0, 2020-02-06=0, 2020-02-07=0, 2020-02-08=0, 2020-02-09=0, 2020-02-10=0, 2020-02-11=0, 2020-02-12=0, 2020-02-13=0, 2020-02-14=0, 2020-02-15=0, 2020-02-16=0, 2020-02-17=0, 2020-02-18=0, 2020-02-19=0, 2020-02-20=0, 2020-02-21=0, 2020-02-22=0, 2020-02-23=0, 2020-02-24=0, 2020-02-25=0, 2020-02-26=0, 2020-02-27=0, 2020-02-28=0, 2020-02-29=0, 2020-03-01=0, 2020-03-02=0, 2020-03-03=1, 2020-03-04=1, 2020-03-05=4, 2020-03-06=4, 2020-03-07=4, 2020-03-08=8, 2020-03-09=8, 2020-03-10=13, 2020-03-11=23, 2020-03-12=23, 2020-03-13=43, 2020-03-14=61, 2020-03-15=74, 2020-03-16=155, 2020-03-17=201, 2020-03-18=238, 2020-03-19=238, 2020-03-20=434),\n",
              " Row(Country='China', 2020-01-22=548, 2020-01-23=643, 2020-01-24=920, 2020-01-25=1406, 2020-01-26=2075, 2020-01-27=2877, 2020-01-28=5509, 2020-01-29=6087, 2020-01-30=8141, 2020-01-31=9802, 2020-02-01=11891, 2020-02-02=16630, 2020-02-03=19716, 2020-02-04=23707, 2020-02-05=27440, 2020-02-06=30587, 2020-02-07=34110, 2020-02-08=36814, 2020-02-09=39829, 2020-02-10=42354, 2020-02-11=44386, 2020-02-12=44759, 2020-02-13=59895, 2020-02-14=66358, 2020-02-15=68413, 2020-02-16=70513, 2020-02-17=72434, 2020-02-18=74211, 2020-02-19=74619, 2020-02-20=75077, 2020-02-21=75550, 2020-02-22=77001, 2020-02-23=77022, 2020-02-24=77241, 2020-02-25=77754, 2020-02-26=78166, 2020-02-27=78600, 2020-02-28=78928, 2020-02-29=79356, 2020-03-01=79932, 2020-03-02=80136, 2020-03-03=80261, 2020-03-04=80386, 2020-03-05=80537, 2020-03-06=80690, 2020-03-07=80770, 2020-03-08=80823, 2020-03-09=80860, 2020-03-10=80887, 2020-03-11=80921, 2020-03-12=80932, 2020-03-13=80945, 2020-03-14=80977, 2020-03-15=81003, 2020-03-16=81033, 2020-03-17=81058, 2020-03-18=81102, 2020-03-19=81156, 2020-03-20=81250),\n",
              " Row(Country='Colombia', 2020-01-22=0, 2020-01-23=0, 2020-01-24=0, 2020-01-25=0, 2020-01-26=0, 2020-01-27=0, 2020-01-28=0, 2020-01-29=0, 2020-01-30=0, 2020-01-31=0, 2020-02-01=0, 2020-02-02=0, 2020-02-03=0, 2020-02-04=0, 2020-02-05=0, 2020-02-06=0, 2020-02-07=0, 2020-02-08=0, 2020-02-09=0, 2020-02-10=0, 2020-02-11=0, 2020-02-12=0, 2020-02-13=0, 2020-02-14=0, 2020-02-15=0, 2020-02-16=0, 2020-02-17=0, 2020-02-18=0, 2020-02-19=0, 2020-02-20=0, 2020-02-21=0, 2020-02-22=0, 2020-02-23=0, 2020-02-24=0, 2020-02-25=0, 2020-02-26=0, 2020-02-27=0, 2020-02-28=0, 2020-02-29=0, 2020-03-01=0, 2020-03-02=0, 2020-03-03=0, 2020-03-04=0, 2020-03-05=0, 2020-03-06=1, 2020-03-07=1, 2020-03-08=1, 2020-03-09=1, 2020-03-10=3, 2020-03-11=9, 2020-03-12=9, 2020-03-13=13, 2020-03-14=22, 2020-03-15=34, 2020-03-16=54, 2020-03-17=65, 2020-03-18=93, 2020-03-19=102, 2020-03-20=128),\n",
              " Row(Country='Congo (Brazzaville)', 2020-01-22=0, 2020-01-23=0, 2020-01-24=0, 2020-01-25=0, 2020-01-26=0, 2020-01-27=0, 2020-01-28=0, 2020-01-29=0, 2020-01-30=0, 2020-01-31=0, 2020-02-01=0, 2020-02-02=0, 2020-02-03=0, 2020-02-04=0, 2020-02-05=0, 2020-02-06=0, 2020-02-07=0, 2020-02-08=0, 2020-02-09=0, 2020-02-10=0, 2020-02-11=0, 2020-02-12=0, 2020-02-13=0, 2020-02-14=0, 2020-02-15=0, 2020-02-16=0, 2020-02-17=0, 2020-02-18=0, 2020-02-19=0, 2020-02-20=0, 2020-02-21=0, 2020-02-22=0, 2020-02-23=0, 2020-02-24=0, 2020-02-25=0, 2020-02-26=0, 2020-02-27=0, 2020-02-28=0, 2020-02-29=0, 2020-03-01=0, 2020-03-02=0, 2020-03-03=0, 2020-03-04=0, 2020-03-05=0, 2020-03-06=0, 2020-03-07=0, 2020-03-08=0, 2020-03-09=0, 2020-03-10=0, 2020-03-11=0, 2020-03-12=0, 2020-03-13=0, 2020-03-14=0, 2020-03-15=1, 2020-03-16=1, 2020-03-17=1, 2020-03-18=1, 2020-03-19=3, 2020-03-20=3),\n",
              " Row(Country='Congo (Kinshasa)', 2020-01-22=0, 2020-01-23=0, 2020-01-24=0, 2020-01-25=0, 2020-01-26=0, 2020-01-27=0, 2020-01-28=0, 2020-01-29=0, 2020-01-30=0, 2020-01-31=0, 2020-02-01=0, 2020-02-02=0, 2020-02-03=0, 2020-02-04=0, 2020-02-05=0, 2020-02-06=0, 2020-02-07=0, 2020-02-08=0, 2020-02-09=0, 2020-02-10=0, 2020-02-11=0, 2020-02-12=0, 2020-02-13=0, 2020-02-14=0, 2020-02-15=0, 2020-02-16=0, 2020-02-17=0, 2020-02-18=0, 2020-02-19=0, 2020-02-20=0, 2020-02-21=0, 2020-02-22=0, 2020-02-23=0, 2020-02-24=0, 2020-02-25=0, 2020-02-26=0, 2020-02-27=0, 2020-02-28=0, 2020-02-29=0, 2020-03-01=0, 2020-03-02=0, 2020-03-03=0, 2020-03-04=0, 2020-03-05=0, 2020-03-06=0, 2020-03-07=0, 2020-03-08=0, 2020-03-09=0, 2020-03-10=0, 2020-03-11=1, 2020-03-12=1, 2020-03-13=2, 2020-03-14=2, 2020-03-15=2, 2020-03-16=2, 2020-03-17=3, 2020-03-18=4, 2020-03-19=14, 2020-03-20=18),\n",
              " Row(Country='Costa Rica', 2020-01-22=0, 2020-01-23=0, 2020-01-24=0, 2020-01-25=0, 2020-01-26=0, 2020-01-27=0, 2020-01-28=0, 2020-01-29=0, 2020-01-30=0, 2020-01-31=0, 2020-02-01=0, 2020-02-02=0, 2020-02-03=0, 2020-02-04=0, 2020-02-05=0, 2020-02-06=0, 2020-02-07=0, 2020-02-08=0, 2020-02-09=0, 2020-02-10=0, 2020-02-11=0, 2020-02-12=0, 2020-02-13=0, 2020-02-14=0, 2020-02-15=0, 2020-02-16=0, 2020-02-17=0, 2020-02-18=0, 2020-02-19=0, 2020-02-20=0, 2020-02-21=0, 2020-02-22=0, 2020-02-23=0, 2020-02-24=0, 2020-02-25=0, 2020-02-26=0, 2020-02-27=0, 2020-02-28=0, 2020-02-29=0, 2020-03-01=0, 2020-03-02=0, 2020-03-03=0, 2020-03-04=0, 2020-03-05=0, 2020-03-06=1, 2020-03-07=1, 2020-03-08=5, 2020-03-09=9, 2020-03-10=9, 2020-03-11=13, 2020-03-12=22, 2020-03-13=23, 2020-03-14=26, 2020-03-15=27, 2020-03-16=35, 2020-03-17=41, 2020-03-18=50, 2020-03-19=69, 2020-03-20=89),\n",
              " Row(Country=\"Cote d'Ivoire\", 2020-01-22=0, 2020-01-23=0, 2020-01-24=0, 2020-01-25=0, 2020-01-26=0, 2020-01-27=0, 2020-01-28=0, 2020-01-29=0, 2020-01-30=0, 2020-01-31=0, 2020-02-01=0, 2020-02-02=0, 2020-02-03=0, 2020-02-04=0, 2020-02-05=0, 2020-02-06=0, 2020-02-07=0, 2020-02-08=0, 2020-02-09=0, 2020-02-10=0, 2020-02-11=0, 2020-02-12=0, 2020-02-13=0, 2020-02-14=0, 2020-02-15=0, 2020-02-16=0, 2020-02-17=0, 2020-02-18=0, 2020-02-19=0, 2020-02-20=0, 2020-02-21=0, 2020-02-22=0, 2020-02-23=0, 2020-02-24=0, 2020-02-25=0, 2020-02-26=0, 2020-02-27=0, 2020-02-28=0, 2020-02-29=0, 2020-03-01=0, 2020-03-02=0, 2020-03-03=0, 2020-03-04=0, 2020-03-05=0, 2020-03-06=0, 2020-03-07=0, 2020-03-08=0, 2020-03-09=0, 2020-03-10=0, 2020-03-11=1, 2020-03-12=1, 2020-03-13=1, 2020-03-14=1, 2020-03-15=1, 2020-03-16=1, 2020-03-17=5, 2020-03-18=6, 2020-03-19=9, 2020-03-20=9),\n",
              " Row(Country='Croatia', 2020-01-22=0, 2020-01-23=0, 2020-01-24=0, 2020-01-25=0, 2020-01-26=0, 2020-01-27=0, 2020-01-28=0, 2020-01-29=0, 2020-01-30=0, 2020-01-31=0, 2020-02-01=0, 2020-02-02=0, 2020-02-03=0, 2020-02-04=0, 2020-02-05=0, 2020-02-06=0, 2020-02-07=0, 2020-02-08=0, 2020-02-09=0, 2020-02-10=0, 2020-02-11=0, 2020-02-12=0, 2020-02-13=0, 2020-02-14=0, 2020-02-15=0, 2020-02-16=0, 2020-02-17=0, 2020-02-18=0, 2020-02-19=0, 2020-02-20=0, 2020-02-21=0, 2020-02-22=0, 2020-02-23=0, 2020-02-24=0, 2020-02-25=1, 2020-02-26=3, 2020-02-27=3, 2020-02-28=5, 2020-02-29=6, 2020-03-01=7, 2020-03-02=7, 2020-03-03=9, 2020-03-04=10, 2020-03-05=10, 2020-03-06=11, 2020-03-07=12, 2020-03-08=12, 2020-03-09=12, 2020-03-10=14, 2020-03-11=19, 2020-03-12=19, 2020-03-13=32, 2020-03-14=38, 2020-03-15=49, 2020-03-16=57, 2020-03-17=65, 2020-03-18=81, 2020-03-19=105, 2020-03-20=128),\n",
              " Row(Country='Cruise Ship', 2020-01-22=0, 2020-01-23=0, 2020-01-24=0, 2020-01-25=0, 2020-01-26=0, 2020-01-27=0, 2020-01-28=0, 2020-01-29=0, 2020-01-30=0, 2020-01-31=0, 2020-02-01=0, 2020-02-02=0, 2020-02-03=0, 2020-02-04=0, 2020-02-05=0, 2020-02-06=0, 2020-02-07=61, 2020-02-08=61, 2020-02-09=64, 2020-02-10=135, 2020-02-11=135, 2020-02-12=175, 2020-02-13=175, 2020-02-14=218, 2020-02-15=285, 2020-02-16=355, 2020-02-17=454, 2020-02-18=542, 2020-02-19=621, 2020-02-20=634, 2020-02-21=634, 2020-02-22=634, 2020-02-23=691, 2020-02-24=691, 2020-02-25=691, 2020-02-26=705, 2020-02-27=705, 2020-02-28=705, 2020-02-29=705, 2020-03-01=705, 2020-03-02=705, 2020-03-03=706, 2020-03-04=706, 2020-03-05=706, 2020-03-06=696, 2020-03-07=696, 2020-03-08=696, 2020-03-09=696, 2020-03-10=696, 2020-03-11=696, 2020-03-12=696, 2020-03-13=696, 2020-03-14=696, 2020-03-15=696, 2020-03-16=696, 2020-03-17=696, 2020-03-18=712, 2020-03-19=712, 2020-03-20=712),\n",
              " Row(Country='Cuba', 2020-01-22=0, 2020-01-23=0, 2020-01-24=0, 2020-01-25=0, 2020-01-26=0, 2020-01-27=0, 2020-01-28=0, 2020-01-29=0, 2020-01-30=0, 2020-01-31=0, 2020-02-01=0, 2020-02-02=0, 2020-02-03=0, 2020-02-04=0, 2020-02-05=0, 2020-02-06=0, 2020-02-07=0, 2020-02-08=0, 2020-02-09=0, 2020-02-10=0, 2020-02-11=0, 2020-02-12=0, 2020-02-13=0, 2020-02-14=0, 2020-02-15=0, 2020-02-16=0, 2020-02-17=0, 2020-02-18=0, 2020-02-19=0, 2020-02-20=0, 2020-02-21=0, 2020-02-22=0, 2020-02-23=0, 2020-02-24=0, 2020-02-25=0, 2020-02-26=0, 2020-02-27=0, 2020-02-28=0, 2020-02-29=0, 2020-03-01=0, 2020-03-02=0, 2020-03-03=0, 2020-03-04=0, 2020-03-05=0, 2020-03-06=0, 2020-03-07=0, 2020-03-08=0, 2020-03-09=0, 2020-03-10=0, 2020-03-11=0, 2020-03-12=3, 2020-03-13=4, 2020-03-14=4, 2020-03-15=4, 2020-03-16=4, 2020-03-17=5, 2020-03-18=7, 2020-03-19=11, 2020-03-20=16),\n",
              " Row(Country='Cyprus', 2020-01-22=0, 2020-01-23=0, 2020-01-24=0, 2020-01-25=0, 2020-01-26=0, 2020-01-27=0, 2020-01-28=0, 2020-01-29=0, 2020-01-30=0, 2020-01-31=0, 2020-02-01=0, 2020-02-02=0, 2020-02-03=0, 2020-02-04=0, 2020-02-05=0, 2020-02-06=0, 2020-02-07=0, 2020-02-08=0, 2020-02-09=0, 2020-02-10=0, 2020-02-11=0, 2020-02-12=0, 2020-02-13=0, 2020-02-14=0, 2020-02-15=0, 2020-02-16=0, 2020-02-17=0, 2020-02-18=0, 2020-02-19=0, 2020-02-20=0, 2020-02-21=0, 2020-02-22=0, 2020-02-23=0, 2020-02-24=0, 2020-02-25=0, 2020-02-26=0, 2020-02-27=0, 2020-02-28=0, 2020-02-29=0, 2020-03-01=0, 2020-03-02=0, 2020-03-03=0, 2020-03-04=0, 2020-03-05=0, 2020-03-06=0, 2020-03-07=0, 2020-03-08=0, 2020-03-09=2, 2020-03-10=3, 2020-03-11=6, 2020-03-12=6, 2020-03-13=14, 2020-03-14=26, 2020-03-15=26, 2020-03-16=33, 2020-03-17=46, 2020-03-18=49, 2020-03-19=67, 2020-03-20=67),\n",
              " Row(Country='Czechia', 2020-01-22=0, 2020-01-23=0, 2020-01-24=0, 2020-01-25=0, 2020-01-26=0, 2020-01-27=0, 2020-01-28=0, 2020-01-29=0, 2020-01-30=0, 2020-01-31=0, 2020-02-01=0, 2020-02-02=0, 2020-02-03=0, 2020-02-04=0, 2020-02-05=0, 2020-02-06=0, 2020-02-07=0, 2020-02-08=0, 2020-02-09=0, 2020-02-10=0, 2020-02-11=0, 2020-02-12=0, 2020-02-13=0, 2020-02-14=0, 2020-02-15=0, 2020-02-16=0, 2020-02-17=0, 2020-02-18=0, 2020-02-19=0, 2020-02-20=0, 2020-02-21=0, 2020-02-22=0, 2020-02-23=0, 2020-02-24=0, 2020-02-25=0, 2020-02-26=0, 2020-02-27=0, 2020-02-28=0, 2020-02-29=0, 2020-03-01=3, 2020-03-02=3, 2020-03-03=5, 2020-03-04=8, 2020-03-05=12, 2020-03-06=18, 2020-03-07=19, 2020-03-08=31, 2020-03-09=31, 2020-03-10=41, 2020-03-11=91, 2020-03-12=94, 2020-03-13=141, 2020-03-14=189, 2020-03-15=253, 2020-03-16=298, 2020-03-17=396, 2020-03-18=464, 2020-03-19=694, 2020-03-20=833),\n",
              " Row(Country='Denmark', 2020-01-22=0, 2020-01-23=0, 2020-01-24=0, 2020-01-25=0, 2020-01-26=0, 2020-01-27=0, 2020-01-28=0, 2020-01-29=0, 2020-01-30=0, 2020-01-31=0, 2020-02-01=0, 2020-02-02=0, 2020-02-03=0, 2020-02-04=0, 2020-02-05=0, 2020-02-06=0, 2020-02-07=0, 2020-02-08=0, 2020-02-09=0, 2020-02-10=0, 2020-02-11=0, 2020-02-12=0, 2020-02-13=0, 2020-02-14=0, 2020-02-15=0, 2020-02-16=0, 2020-02-17=0, 2020-02-18=0, 2020-02-19=0, 2020-02-20=0, 2020-02-21=0, 2020-02-22=0, 2020-02-23=0, 2020-02-24=0, 2020-02-25=0, 2020-02-26=0, 2020-02-27=1, 2020-02-28=1, 2020-02-29=3, 2020-03-01=4, 2020-03-02=4, 2020-03-03=6, 2020-03-04=11, 2020-03-05=11, 2020-03-06=24, 2020-03-07=24, 2020-03-08=37, 2020-03-09=92, 2020-03-10=264, 2020-03-11=444, 2020-03-12=617, 2020-03-13=804, 2020-03-14=836, 2020-03-15=875, 2020-03-16=933, 2020-03-17=1025, 2020-03-18=1116, 2020-03-19=1225, 2020-03-20=1337),\n",
              " Row(Country='Djibouti', 2020-01-22=0, 2020-01-23=0, 2020-01-24=0, 2020-01-25=0, 2020-01-26=0, 2020-01-27=0, 2020-01-28=0, 2020-01-29=0, 2020-01-30=0, 2020-01-31=0, 2020-02-01=0, 2020-02-02=0, 2020-02-03=0, 2020-02-04=0, 2020-02-05=0, 2020-02-06=0, 2020-02-07=0, 2020-02-08=0, 2020-02-09=0, 2020-02-10=0, 2020-02-11=0, 2020-02-12=0, 2020-02-13=0, 2020-02-14=0, 2020-02-15=0, 2020-02-16=0, 2020-02-17=0, 2020-02-18=0, 2020-02-19=0, 2020-02-20=0, 2020-02-21=0, 2020-02-22=0, 2020-02-23=0, 2020-02-24=0, 2020-02-25=0, 2020-02-26=0, 2020-02-27=0, 2020-02-28=0, 2020-02-29=0, 2020-03-01=0, 2020-03-02=0, 2020-03-03=0, 2020-03-04=0, 2020-03-05=0, 2020-03-06=0, 2020-03-07=0, 2020-03-08=0, 2020-03-09=0, 2020-03-10=0, 2020-03-11=0, 2020-03-12=0, 2020-03-13=0, 2020-03-14=0, 2020-03-15=0, 2020-03-16=0, 2020-03-17=0, 2020-03-18=1, 2020-03-19=1, 2020-03-20=1),\n",
              " Row(Country='Dominican Republic', 2020-01-22=0, 2020-01-23=0, 2020-01-24=0, 2020-01-25=0, 2020-01-26=0, 2020-01-27=0, 2020-01-28=0, 2020-01-29=0, 2020-01-30=0, 2020-01-31=0, 2020-02-01=0, 2020-02-02=0, 2020-02-03=0, 2020-02-04=0, 2020-02-05=0, 2020-02-06=0, 2020-02-07=0, 2020-02-08=0, 2020-02-09=0, 2020-02-10=0, 2020-02-11=0, 2020-02-12=0, 2020-02-13=0, 2020-02-14=0, 2020-02-15=0, 2020-02-16=0, 2020-02-17=0, 2020-02-18=0, 2020-02-19=0, 2020-02-20=0, 2020-02-21=0, 2020-02-22=0, 2020-02-23=0, 2020-02-24=0, 2020-02-25=0, 2020-02-26=0, 2020-02-27=0, 2020-02-28=0, 2020-02-29=0, 2020-03-01=1, 2020-03-02=1, 2020-03-03=1, 2020-03-04=1, 2020-03-05=1, 2020-03-06=2, 2020-03-07=2, 2020-03-08=5, 2020-03-09=5, 2020-03-10=5, 2020-03-11=5, 2020-03-12=5, 2020-03-13=5, 2020-03-14=11, 2020-03-15=11, 2020-03-16=11, 2020-03-17=21, 2020-03-18=21, 2020-03-19=34, 2020-03-20=72),\n",
              " Row(Country='Ecuador', 2020-01-22=0, 2020-01-23=0, 2020-01-24=0, 2020-01-25=0, 2020-01-26=0, 2020-01-27=0, 2020-01-28=0, 2020-01-29=0, 2020-01-30=0, 2020-01-31=0, 2020-02-01=0, 2020-02-02=0, 2020-02-03=0, 2020-02-04=0, 2020-02-05=0, 2020-02-06=0, 2020-02-07=0, 2020-02-08=0, 2020-02-09=0, 2020-02-10=0, 2020-02-11=0, 2020-02-12=0, 2020-02-13=0, 2020-02-14=0, 2020-02-15=0, 2020-02-16=0, 2020-02-17=0, 2020-02-18=0, 2020-02-19=0, 2020-02-20=0, 2020-02-21=0, 2020-02-22=0, 2020-02-23=0, 2020-02-24=0, 2020-02-25=0, 2020-02-26=0, 2020-02-27=0, 2020-02-28=0, 2020-02-29=0, 2020-03-01=6, 2020-03-02=6, 2020-03-03=7, 2020-03-04=10, 2020-03-05=13, 2020-03-06=13, 2020-03-07=13, 2020-03-08=14, 2020-03-09=15, 2020-03-10=15, 2020-03-11=17, 2020-03-12=17, 2020-03-13=17, 2020-03-14=28, 2020-03-15=28, 2020-03-16=37, 2020-03-17=58, 2020-03-18=111, 2020-03-19=199, 2020-03-20=367),\n",
              " Row(Country='Egypt', 2020-01-22=0, 2020-01-23=0, 2020-01-24=0, 2020-01-25=0, 2020-01-26=0, 2020-01-27=0, 2020-01-28=0, 2020-01-29=0, 2020-01-30=0, 2020-01-31=0, 2020-02-01=0, 2020-02-02=0, 2020-02-03=0, 2020-02-04=0, 2020-02-05=0, 2020-02-06=0, 2020-02-07=0, 2020-02-08=0, 2020-02-09=0, 2020-02-10=0, 2020-02-11=0, 2020-02-12=0, 2020-02-13=0, 2020-02-14=1, 2020-02-15=1, 2020-02-16=1, 2020-02-17=1, 2020-02-18=1, 2020-02-19=1, 2020-02-20=1, 2020-02-21=1, 2020-02-22=1, 2020-02-23=1, 2020-02-24=1, 2020-02-25=1, 2020-02-26=1, 2020-02-27=1, 2020-02-28=1, 2020-02-29=1, 2020-03-01=2, 2020-03-02=2, 2020-03-03=2, 2020-03-04=2, 2020-03-05=3, 2020-03-06=15, 2020-03-07=15, 2020-03-08=49, 2020-03-09=55, 2020-03-10=59, 2020-03-11=60, 2020-03-12=67, 2020-03-13=80, 2020-03-14=109, 2020-03-15=110, 2020-03-16=150, 2020-03-17=196, 2020-03-18=196, 2020-03-19=256, 2020-03-20=285),\n",
              " Row(Country='El Salvador', 2020-01-22=0, 2020-01-23=0, 2020-01-24=0, 2020-01-25=0, 2020-01-26=0, 2020-01-27=0, 2020-01-28=0, 2020-01-29=0, 2020-01-30=0, 2020-01-31=0, 2020-02-01=0, 2020-02-02=0, 2020-02-03=0, 2020-02-04=0, 2020-02-05=0, 2020-02-06=0, 2020-02-07=0, 2020-02-08=0, 2020-02-09=0, 2020-02-10=0, 2020-02-11=0, 2020-02-12=0, 2020-02-13=0, 2020-02-14=0, 2020-02-15=0, 2020-02-16=0, 2020-02-17=0, 2020-02-18=0, 2020-02-19=0, 2020-02-20=0, 2020-02-21=0, 2020-02-22=0, 2020-02-23=0, 2020-02-24=0, 2020-02-25=0, 2020-02-26=0, 2020-02-27=0, 2020-02-28=0, 2020-02-29=0, 2020-03-01=0, 2020-03-02=0, 2020-03-03=0, 2020-03-04=0, 2020-03-05=0, 2020-03-06=0, 2020-03-07=0, 2020-03-08=0, 2020-03-09=0, 2020-03-10=0, 2020-03-11=0, 2020-03-12=0, 2020-03-13=0, 2020-03-14=0, 2020-03-15=0, 2020-03-16=0, 2020-03-17=0, 2020-03-18=0, 2020-03-19=1, 2020-03-20=1),\n",
              " Row(Country='Equatorial Guinea', 2020-01-22=0, 2020-01-23=0, 2020-01-24=0, 2020-01-25=0, 2020-01-26=0, 2020-01-27=0, 2020-01-28=0, 2020-01-29=0, 2020-01-30=0, 2020-01-31=0, 2020-02-01=0, 2020-02-02=0, 2020-02-03=0, 2020-02-04=0, 2020-02-05=0, 2020-02-06=0, 2020-02-07=0, 2020-02-08=0, 2020-02-09=0, 2020-02-10=0, 2020-02-11=0, 2020-02-12=0, 2020-02-13=0, 2020-02-14=0, 2020-02-15=0, 2020-02-16=0, 2020-02-17=0, 2020-02-18=0, 2020-02-19=0, 2020-02-20=0, 2020-02-21=0, 2020-02-22=0, 2020-02-23=0, 2020-02-24=0, 2020-02-25=0, 2020-02-26=0, 2020-02-27=0, 2020-02-28=0, 2020-02-29=0, 2020-03-01=0, 2020-03-02=0, 2020-03-03=0, 2020-03-04=0, 2020-03-05=0, 2020-03-06=0, 2020-03-07=0, 2020-03-08=0, 2020-03-09=0, 2020-03-10=0, 2020-03-11=0, 2020-03-12=0, 2020-03-13=0, 2020-03-14=0, 2020-03-15=1, 2020-03-16=1, 2020-03-17=1, 2020-03-18=4, 2020-03-19=6, 2020-03-20=6),\n",
              " Row(Country='Estonia', 2020-01-22=0, 2020-01-23=0, 2020-01-24=0, 2020-01-25=0, 2020-01-26=0, 2020-01-27=0, 2020-01-28=0, 2020-01-29=0, 2020-01-30=0, 2020-01-31=0, 2020-02-01=0, 2020-02-02=0, 2020-02-03=0, 2020-02-04=0, 2020-02-05=0, 2020-02-06=0, 2020-02-07=0, 2020-02-08=0, 2020-02-09=0, 2020-02-10=0, 2020-02-11=0, 2020-02-12=0, 2020-02-13=0, 2020-02-14=0, 2020-02-15=0, 2020-02-16=0, 2020-02-17=0, 2020-02-18=0, 2020-02-19=0, 2020-02-20=0, 2020-02-21=0, 2020-02-22=0, 2020-02-23=0, 2020-02-24=0, 2020-02-25=0, 2020-02-26=0, 2020-02-27=1, 2020-02-28=1, 2020-02-29=1, 2020-03-01=1, 2020-03-02=1, 2020-03-03=2, 2020-03-04=2, 2020-03-05=3, 2020-03-06=10, 2020-03-07=10, 2020-03-08=10, 2020-03-09=10, 2020-03-10=12, 2020-03-11=16, 2020-03-12=16, 2020-03-13=79, 2020-03-14=115, 2020-03-15=171, 2020-03-16=205, 2020-03-17=225, 2020-03-18=258, 2020-03-19=267, 2020-03-20=283),\n",
              " Row(Country='Eswatini', 2020-01-22=0, 2020-01-23=0, 2020-01-24=0, 2020-01-25=0, 2020-01-26=0, 2020-01-27=0, 2020-01-28=0, 2020-01-29=0, 2020-01-30=0, 2020-01-31=0, 2020-02-01=0, 2020-02-02=0, 2020-02-03=0, 2020-02-04=0, 2020-02-05=0, 2020-02-06=0, 2020-02-07=0, 2020-02-08=0, 2020-02-09=0, 2020-02-10=0, 2020-02-11=0, 2020-02-12=0, 2020-02-13=0, 2020-02-14=0, 2020-02-15=0, 2020-02-16=0, 2020-02-17=0, 2020-02-18=0, 2020-02-19=0, 2020-02-20=0, 2020-02-21=0, 2020-02-22=0, 2020-02-23=0, 2020-02-24=0, 2020-02-25=0, 2020-02-26=0, 2020-02-27=0, 2020-02-28=0, 2020-02-29=0, 2020-03-01=0, 2020-03-02=0, 2020-03-03=0, 2020-03-04=0, 2020-03-05=0, 2020-03-06=0, 2020-03-07=0, 2020-03-08=0, 2020-03-09=0, 2020-03-10=0, 2020-03-11=0, 2020-03-12=0, 2020-03-13=0, 2020-03-14=1, 2020-03-15=1, 2020-03-16=1, 2020-03-17=1, 2020-03-18=1, 2020-03-19=1, 2020-03-20=1),\n",
              " Row(Country='Ethiopia', 2020-01-22=0, 2020-01-23=0, 2020-01-24=0, 2020-01-25=0, 2020-01-26=0, 2020-01-27=0, 2020-01-28=0, 2020-01-29=0, 2020-01-30=0, 2020-01-31=0, 2020-02-01=0, 2020-02-02=0, 2020-02-03=0, 2020-02-04=0, 2020-02-05=0, 2020-02-06=0, 2020-02-07=0, 2020-02-08=0, 2020-02-09=0, 2020-02-10=0, 2020-02-11=0, 2020-02-12=0, 2020-02-13=0, 2020-02-14=0, 2020-02-15=0, 2020-02-16=0, 2020-02-17=0, 2020-02-18=0, 2020-02-19=0, 2020-02-20=0, 2020-02-21=0, 2020-02-22=0, 2020-02-23=0, 2020-02-24=0, 2020-02-25=0, 2020-02-26=0, 2020-02-27=0, 2020-02-28=0, 2020-02-29=0, 2020-03-01=0, 2020-03-02=0, 2020-03-03=0, 2020-03-04=0, 2020-03-05=0, 2020-03-06=0, 2020-03-07=0, 2020-03-08=0, 2020-03-09=0, 2020-03-10=0, 2020-03-11=0, 2020-03-12=0, 2020-03-13=1, 2020-03-14=1, 2020-03-15=1, 2020-03-16=5, 2020-03-17=5, 2020-03-18=6, 2020-03-19=6, 2020-03-20=9),\n",
              " Row(Country='Fiji', 2020-01-22=0, 2020-01-23=0, 2020-01-24=0, 2020-01-25=0, 2020-01-26=0, 2020-01-27=0, 2020-01-28=0, 2020-01-29=0, 2020-01-30=0, 2020-01-31=0, 2020-02-01=0, 2020-02-02=0, 2020-02-03=0, 2020-02-04=0, 2020-02-05=0, 2020-02-06=0, 2020-02-07=0, 2020-02-08=0, 2020-02-09=0, 2020-02-10=0, 2020-02-11=0, 2020-02-12=0, 2020-02-13=0, 2020-02-14=0, 2020-02-15=0, 2020-02-16=0, 2020-02-17=0, 2020-02-18=0, 2020-02-19=0, 2020-02-20=0, 2020-02-21=0, 2020-02-22=0, 2020-02-23=0, 2020-02-24=0, 2020-02-25=0, 2020-02-26=0, 2020-02-27=0, 2020-02-28=0, 2020-02-29=0, 2020-03-01=0, 2020-03-02=0, 2020-03-03=0, 2020-03-04=0, 2020-03-05=0, 2020-03-06=0, 2020-03-07=0, 2020-03-08=0, 2020-03-09=0, 2020-03-10=0, 2020-03-11=0, 2020-03-12=0, 2020-03-13=0, 2020-03-14=0, 2020-03-15=0, 2020-03-16=0, 2020-03-17=0, 2020-03-18=0, 2020-03-19=1, 2020-03-20=1),\n",
              " Row(Country='Finland', 2020-01-22=0, 2020-01-23=0, 2020-01-24=0, 2020-01-25=0, 2020-01-26=0, 2020-01-27=0, 2020-01-28=0, 2020-01-29=1, 2020-01-30=1, 2020-01-31=1, 2020-02-01=1, 2020-02-02=1, 2020-02-03=1, 2020-02-04=1, 2020-02-05=1, 2020-02-06=1, 2020-02-07=1, 2020-02-08=1, 2020-02-09=1, 2020-02-10=1, 2020-02-11=1, 2020-02-12=1, 2020-02-13=1, 2020-02-14=1, 2020-02-15=1, 2020-02-16=1, 2020-02-17=1, 2020-02-18=1, 2020-02-19=1, 2020-02-20=1, 2020-02-21=1, 2020-02-22=1, 2020-02-23=1, 2020-02-24=1, 2020-02-25=1, 2020-02-26=2, 2020-02-27=2, 2020-02-28=2, 2020-02-29=3, 2020-03-01=6, 2020-03-02=6, 2020-03-03=6, 2020-03-04=6, 2020-03-05=12, 2020-03-06=15, 2020-03-07=15, 2020-03-08=23, 2020-03-09=30, 2020-03-10=40, 2020-03-11=59, 2020-03-12=59, 2020-03-13=155, 2020-03-14=225, 2020-03-15=244, 2020-03-16=277, 2020-03-17=321, 2020-03-18=336, 2020-03-19=400, 2020-03-20=450),\n",
              " Row(Country='France', 2020-01-22=0, 2020-01-23=0, 2020-01-24=2, 2020-01-25=3, 2020-01-26=3, 2020-01-27=3, 2020-01-28=4, 2020-01-29=5, 2020-01-30=5, 2020-01-31=5, 2020-02-01=6, 2020-02-02=6, 2020-02-03=6, 2020-02-04=6, 2020-02-05=6, 2020-02-06=6, 2020-02-07=6, 2020-02-08=11, 2020-02-09=11, 2020-02-10=11, 2020-02-11=11, 2020-02-12=11, 2020-02-13=11, 2020-02-14=11, 2020-02-15=12, 2020-02-16=12, 2020-02-17=12, 2020-02-18=12, 2020-02-19=12, 2020-02-20=12, 2020-02-21=12, 2020-02-22=12, 2020-02-23=12, 2020-02-24=12, 2020-02-25=14, 2020-02-26=18, 2020-02-27=38, 2020-02-28=57, 2020-02-29=100, 2020-03-01=130, 2020-03-02=191, 2020-03-03=204, 2020-03-04=288, 2020-03-05=380, 2020-03-06=656, 2020-03-07=957, 2020-03-08=1134, 2020-03-09=1217, 2020-03-10=1792, 2020-03-11=2290, 2020-03-12=2290, 2020-03-13=3678, 2020-03-14=4487, 2020-03-15=4523, 2020-03-16=6668, 2020-03-17=7699, 2020-03-18=9105, 2020-03-19=10947, 2020-03-20=12726),\n",
              " Row(Country='Gabon', 2020-01-22=0, 2020-01-23=0, 2020-01-24=0, 2020-01-25=0, 2020-01-26=0, 2020-01-27=0, 2020-01-28=0, 2020-01-29=0, 2020-01-30=0, 2020-01-31=0, 2020-02-01=0, 2020-02-02=0, 2020-02-03=0, 2020-02-04=0, 2020-02-05=0, 2020-02-06=0, 2020-02-07=0, 2020-02-08=0, 2020-02-09=0, 2020-02-10=0, 2020-02-11=0, 2020-02-12=0, 2020-02-13=0, 2020-02-14=0, 2020-02-15=0, 2020-02-16=0, 2020-02-17=0, 2020-02-18=0, 2020-02-19=0, 2020-02-20=0, 2020-02-21=0, 2020-02-22=0, 2020-02-23=0, 2020-02-24=0, 2020-02-25=0, 2020-02-26=0, 2020-02-27=0, 2020-02-28=0, 2020-02-29=0, 2020-03-01=0, 2020-03-02=0, 2020-03-03=0, 2020-03-04=0, 2020-03-05=0, 2020-03-06=0, 2020-03-07=0, 2020-03-08=0, 2020-03-09=0, 2020-03-10=0, 2020-03-11=0, 2020-03-12=0, 2020-03-13=0, 2020-03-14=1, 2020-03-15=1, 2020-03-16=1, 2020-03-17=1, 2020-03-18=1, 2020-03-19=1, 2020-03-20=3),\n",
              " Row(Country='Gambia, The', 2020-01-22=0, 2020-01-23=0, 2020-01-24=0, 2020-01-25=0, 2020-01-26=0, 2020-01-27=0, 2020-01-28=0, 2020-01-29=0, 2020-01-30=0, 2020-01-31=0, 2020-02-01=0, 2020-02-02=0, 2020-02-03=0, 2020-02-04=0, 2020-02-05=0, 2020-02-06=0, 2020-02-07=0, 2020-02-08=0, 2020-02-09=0, 2020-02-10=0, 2020-02-11=0, 2020-02-12=0, 2020-02-13=0, 2020-02-14=0, 2020-02-15=0, 2020-02-16=0, 2020-02-17=0, 2020-02-18=0, 2020-02-19=0, 2020-02-20=0, 2020-02-21=0, 2020-02-22=0, 2020-02-23=0, 2020-02-24=0, 2020-02-25=0, 2020-02-26=0, 2020-02-27=0, 2020-02-28=0, 2020-02-29=0, 2020-03-01=0, 2020-03-02=0, 2020-03-03=0, 2020-03-04=0, 2020-03-05=0, 2020-03-06=0, 2020-03-07=0, 2020-03-08=0, 2020-03-09=0, 2020-03-10=0, 2020-03-11=0, 2020-03-12=0, 2020-03-13=0, 2020-03-14=0, 2020-03-15=0, 2020-03-16=0, 2020-03-17=1, 2020-03-18=1, 2020-03-19=1, 2020-03-20=1),\n",
              " Row(Country='Georgia', 2020-01-22=0, 2020-01-23=0, 2020-01-24=0, 2020-01-25=0, 2020-01-26=0, 2020-01-27=0, 2020-01-28=0, 2020-01-29=0, 2020-01-30=0, 2020-01-31=0, 2020-02-01=0, 2020-02-02=0, 2020-02-03=0, 2020-02-04=0, 2020-02-05=0, 2020-02-06=0, 2020-02-07=0, 2020-02-08=0, 2020-02-09=0, 2020-02-10=0, 2020-02-11=0, 2020-02-12=0, 2020-02-13=0, 2020-02-14=0, 2020-02-15=0, 2020-02-16=0, 2020-02-17=0, 2020-02-18=0, 2020-02-19=0, 2020-02-20=0, 2020-02-21=0, 2020-02-22=0, 2020-02-23=0, 2020-02-24=0, 2020-02-25=0, 2020-02-26=1, 2020-02-27=1, 2020-02-28=1, 2020-02-29=1, 2020-03-01=3, 2020-03-02=3, 2020-03-03=3, 2020-03-04=3, 2020-03-05=4, 2020-03-06=4, 2020-03-07=4, 2020-03-08=13, 2020-03-09=15, 2020-03-10=15, 2020-03-11=24, 2020-03-12=24, 2020-03-13=25, 2020-03-14=30, 2020-03-15=33, 2020-03-16=33, 2020-03-17=34, 2020-03-18=38, 2020-03-19=40, 2020-03-20=43),\n",
              " Row(Country='Germany', 2020-01-22=0, 2020-01-23=0, 2020-01-24=0, 2020-01-25=0, 2020-01-26=0, 2020-01-27=1, 2020-01-28=4, 2020-01-29=4, 2020-01-30=4, 2020-01-31=5, 2020-02-01=8, 2020-02-02=10, 2020-02-03=12, 2020-02-04=12, 2020-02-05=12, 2020-02-06=12, 2020-02-07=13, 2020-02-08=13, 2020-02-09=14, 2020-02-10=14, 2020-02-11=16, 2020-02-12=16, 2020-02-13=16, 2020-02-14=16, 2020-02-15=16, 2020-02-16=16, 2020-02-17=16, 2020-02-18=16, 2020-02-19=16, 2020-02-20=16, 2020-02-21=16, 2020-02-22=16, 2020-02-23=16, 2020-02-24=16, 2020-02-25=17, 2020-02-26=27, 2020-02-27=46, 2020-02-28=48, 2020-02-29=79, 2020-03-01=130, 2020-03-02=159, 2020-03-03=196, 2020-03-04=262, 2020-03-05=482, 2020-03-06=670, 2020-03-07=799, 2020-03-08=1040, 2020-03-09=1176, 2020-03-10=1457, 2020-03-11=1908, 2020-03-12=2078, 2020-03-13=3675, 2020-03-14=4585, 2020-03-15=5795, 2020-03-16=7272, 2020-03-17=9257, 2020-03-18=12327, 2020-03-19=15320, 2020-03-20=19848),\n",
              " Row(Country='Ghana', 2020-01-22=0, 2020-01-23=0, 2020-01-24=0, 2020-01-25=0, 2020-01-26=0, 2020-01-27=0, 2020-01-28=0, 2020-01-29=0, 2020-01-30=0, 2020-01-31=0, 2020-02-01=0, 2020-02-02=0, 2020-02-03=0, 2020-02-04=0, 2020-02-05=0, 2020-02-06=0, 2020-02-07=0, 2020-02-08=0, 2020-02-09=0, 2020-02-10=0, 2020-02-11=0, 2020-02-12=0, 2020-02-13=0, 2020-02-14=0, 2020-02-15=0, 2020-02-16=0, 2020-02-17=0, 2020-02-18=0, 2020-02-19=0, 2020-02-20=0, 2020-02-21=0, 2020-02-22=0, 2020-02-23=0, 2020-02-24=0, 2020-02-25=0, 2020-02-26=0, 2020-02-27=0, 2020-02-28=0, 2020-02-29=0, 2020-03-01=0, 2020-03-02=0, 2020-03-03=0, 2020-03-04=0, 2020-03-05=0, 2020-03-06=0, 2020-03-07=0, 2020-03-08=0, 2020-03-09=0, 2020-03-10=0, 2020-03-11=0, 2020-03-12=0, 2020-03-13=0, 2020-03-14=3, 2020-03-15=6, 2020-03-16=6, 2020-03-17=7, 2020-03-18=7, 2020-03-19=11, 2020-03-20=16),\n",
              " Row(Country='Greece', 2020-01-22=0, 2020-01-23=0, 2020-01-24=0, 2020-01-25=0, 2020-01-26=0, 2020-01-27=0, 2020-01-28=0, 2020-01-29=0, 2020-01-30=0, 2020-01-31=0, 2020-02-01=0, 2020-02-02=0, 2020-02-03=0, 2020-02-04=0, 2020-02-05=0, 2020-02-06=0, 2020-02-07=0, 2020-02-08=0, 2020-02-09=0, 2020-02-10=0, 2020-02-11=0, 2020-02-12=0, 2020-02-13=0, 2020-02-14=0, 2020-02-15=0, 2020-02-16=0, 2020-02-17=0, 2020-02-18=0, 2020-02-19=0, 2020-02-20=0, 2020-02-21=0, 2020-02-22=0, 2020-02-23=0, 2020-02-24=0, 2020-02-25=0, 2020-02-26=1, 2020-02-27=3, 2020-02-28=4, 2020-02-29=4, 2020-03-01=7, 2020-03-02=7, 2020-03-03=7, 2020-03-04=9, 2020-03-05=31, 2020-03-06=45, 2020-03-07=46, 2020-03-08=73, 2020-03-09=73, 2020-03-10=89, 2020-03-11=99, 2020-03-12=99, 2020-03-13=190, 2020-03-14=228, 2020-03-15=331, 2020-03-16=331, 2020-03-17=387, 2020-03-18=418, 2020-03-19=418, 2020-03-20=495),\n",
              " Row(Country='Guatemala', 2020-01-22=0, 2020-01-23=0, 2020-01-24=0, 2020-01-25=0, 2020-01-26=0, 2020-01-27=0, 2020-01-28=0, 2020-01-29=0, 2020-01-30=0, 2020-01-31=0, 2020-02-01=0, 2020-02-02=0, 2020-02-03=0, 2020-02-04=0, 2020-02-05=0, 2020-02-06=0, 2020-02-07=0, 2020-02-08=0, 2020-02-09=0, 2020-02-10=0, 2020-02-11=0, 2020-02-12=0, 2020-02-13=0, 2020-02-14=0, 2020-02-15=0, 2020-02-16=0, 2020-02-17=0, 2020-02-18=0, 2020-02-19=0, 2020-02-20=0, 2020-02-21=0, 2020-02-22=0, 2020-02-23=0, 2020-02-24=0, 2020-02-25=0, 2020-02-26=0, 2020-02-27=0, 2020-02-28=0, 2020-02-29=0, 2020-03-01=0, 2020-03-02=0, 2020-03-03=0, 2020-03-04=0, 2020-03-05=0, 2020-03-06=0, 2020-03-07=0, 2020-03-08=0, 2020-03-09=0, 2020-03-10=0, 2020-03-11=0, 2020-03-12=0, 2020-03-13=0, 2020-03-14=1, 2020-03-15=1, 2020-03-16=2, 2020-03-17=6, 2020-03-18=6, 2020-03-19=9, 2020-03-20=12),\n",
              " Row(Country='Guinea', 2020-01-22=0, 2020-01-23=0, 2020-01-24=0, 2020-01-25=0, 2020-01-26=0, 2020-01-27=0, 2020-01-28=0, 2020-01-29=0, 2020-01-30=0, 2020-01-31=0, 2020-02-01=0, 2020-02-02=0, 2020-02-03=0, 2020-02-04=0, 2020-02-05=0, 2020-02-06=0, 2020-02-07=0, 2020-02-08=0, 2020-02-09=0, 2020-02-10=0, 2020-02-11=0, 2020-02-12=0, 2020-02-13=0, 2020-02-14=0, 2020-02-15=0, 2020-02-16=0, 2020-02-17=0, 2020-02-18=0, 2020-02-19=0, 2020-02-20=0, 2020-02-21=0, 2020-02-22=0, 2020-02-23=0, 2020-02-24=0, 2020-02-25=0, 2020-02-26=0, 2020-02-27=0, 2020-02-28=0, 2020-02-29=0, 2020-03-01=0, 2020-03-02=0, 2020-03-03=0, 2020-03-04=0, 2020-03-05=0, 2020-03-06=0, 2020-03-07=0, 2020-03-08=0, 2020-03-09=0, 2020-03-10=0, 2020-03-11=0, 2020-03-12=0, 2020-03-13=1, 2020-03-14=1, 2020-03-15=1, 2020-03-16=1, 2020-03-17=1, 2020-03-18=1, 2020-03-19=1, 2020-03-20=1),\n",
              " Row(Country='Guyana', 2020-01-22=0, 2020-01-23=0, 2020-01-24=0, 2020-01-25=0, 2020-01-26=0, 2020-01-27=0, 2020-01-28=0, 2020-01-29=0, 2020-01-30=0, 2020-01-31=0, 2020-02-01=0, 2020-02-02=0, 2020-02-03=0, 2020-02-04=0, 2020-02-05=0, 2020-02-06=0, 2020-02-07=0, 2020-02-08=0, 2020-02-09=0, 2020-02-10=0, 2020-02-11=0, 2020-02-12=0, 2020-02-13=0, 2020-02-14=0, 2020-02-15=0, 2020-02-16=0, 2020-02-17=0, 2020-02-18=0, 2020-02-19=0, 2020-02-20=0, 2020-02-21=0, 2020-02-22=0, 2020-02-23=0, 2020-02-24=0, 2020-02-25=0, 2020-02-26=0, 2020-02-27=0, 2020-02-28=0, 2020-02-29=0, 2020-03-01=0, 2020-03-02=0, 2020-03-03=0, 2020-03-04=0, 2020-03-05=0, 2020-03-06=0, 2020-03-07=0, 2020-03-08=0, 2020-03-09=0, 2020-03-10=0, 2020-03-11=0, 2020-03-12=1, 2020-03-13=1, 2020-03-14=1, 2020-03-15=4, 2020-03-16=4, 2020-03-17=7, 2020-03-18=7, 2020-03-19=7, 2020-03-20=7),\n",
              " Row(Country='Haiti', 2020-01-22=0, 2020-01-23=0, 2020-01-24=0, 2020-01-25=0, 2020-01-26=0, 2020-01-27=0, 2020-01-28=0, 2020-01-29=0, 2020-01-30=0, 2020-01-31=0, 2020-02-01=0, 2020-02-02=0, 2020-02-03=0, 2020-02-04=0, 2020-02-05=0, 2020-02-06=0, 2020-02-07=0, 2020-02-08=0, 2020-02-09=0, 2020-02-10=0, 2020-02-11=0, 2020-02-12=0, 2020-02-13=0, 2020-02-14=0, 2020-02-15=0, 2020-02-16=0, 2020-02-17=0, 2020-02-18=0, 2020-02-19=0, 2020-02-20=0, 2020-02-21=0, 2020-02-22=0, 2020-02-23=0, 2020-02-24=0, 2020-02-25=0, 2020-02-26=0, 2020-02-27=0, 2020-02-28=0, 2020-02-29=0, 2020-03-01=0, 2020-03-02=0, 2020-03-03=0, 2020-03-04=0, 2020-03-05=0, 2020-03-06=0, 2020-03-07=0, 2020-03-08=0, 2020-03-09=0, 2020-03-10=0, 2020-03-11=0, 2020-03-12=0, 2020-03-13=0, 2020-03-14=0, 2020-03-15=0, 2020-03-16=0, 2020-03-17=0, 2020-03-18=0, 2020-03-19=0, 2020-03-20=2),\n",
              " Row(Country='Honduras', 2020-01-22=0, 2020-01-23=0, 2020-01-24=0, 2020-01-25=0, 2020-01-26=0, 2020-01-27=0, 2020-01-28=0, 2020-01-29=0, 2020-01-30=0, 2020-01-31=0, 2020-02-01=0, 2020-02-02=0, 2020-02-03=0, 2020-02-04=0, 2020-02-05=0, 2020-02-06=0, 2020-02-07=0, 2020-02-08=0, 2020-02-09=0, 2020-02-10=0, 2020-02-11=0, 2020-02-12=0, 2020-02-13=0, 2020-02-14=0, 2020-02-15=0, 2020-02-16=0, 2020-02-17=0, 2020-02-18=0, 2020-02-19=0, 2020-02-20=0, 2020-02-21=0, 2020-02-22=0, 2020-02-23=0, 2020-02-24=0, 2020-02-25=0, 2020-02-26=0, 2020-02-27=0, 2020-02-28=0, 2020-02-29=0, 2020-03-01=0, 2020-03-02=0, 2020-03-03=0, 2020-03-04=0, 2020-03-05=0, 2020-03-06=0, 2020-03-07=0, 2020-03-08=0, 2020-03-09=0, 2020-03-10=0, 2020-03-11=2, 2020-03-12=2, 2020-03-13=2, 2020-03-14=2, 2020-03-15=3, 2020-03-16=6, 2020-03-17=8, 2020-03-18=9, 2020-03-19=12, 2020-03-20=24),\n",
              " Row(Country='Hungary', 2020-01-22=0, 2020-01-23=0, 2020-01-24=0, 2020-01-25=0, 2020-01-26=0, 2020-01-27=0, 2020-01-28=0, 2020-01-29=0, 2020-01-30=0, 2020-01-31=0, 2020-02-01=0, 2020-02-02=0, 2020-02-03=0, 2020-02-04=0, 2020-02-05=0, 2020-02-06=0, 2020-02-07=0, 2020-02-08=0, 2020-02-09=0, 2020-02-10=0, 2020-02-11=0, 2020-02-12=0, 2020-02-13=0, 2020-02-14=0, 2020-02-15=0, 2020-02-16=0, 2020-02-17=0, 2020-02-18=0, 2020-02-19=0, 2020-02-20=0, 2020-02-21=0, 2020-02-22=0, 2020-02-23=0, 2020-02-24=0, 2020-02-25=0, 2020-02-26=0, 2020-02-27=0, 2020-02-28=0, 2020-02-29=0, 2020-03-01=0, 2020-03-02=0, 2020-03-03=0, 2020-03-04=2, 2020-03-05=2, 2020-03-06=2, 2020-03-07=4, 2020-03-08=7, 2020-03-09=9, 2020-03-10=9, 2020-03-11=13, 2020-03-12=13, 2020-03-13=19, 2020-03-14=30, 2020-03-15=32, 2020-03-16=39, 2020-03-17=50, 2020-03-18=58, 2020-03-19=73, 2020-03-20=85),\n",
              " Row(Country='Iceland', 2020-01-22=0, 2020-01-23=0, 2020-01-24=0, 2020-01-25=0, 2020-01-26=0, 2020-01-27=0, 2020-01-28=0, 2020-01-29=0, 2020-01-30=0, 2020-01-31=0, 2020-02-01=0, 2020-02-02=0, 2020-02-03=0, 2020-02-04=0, 2020-02-05=0, 2020-02-06=0, 2020-02-07=0, 2020-02-08=0, 2020-02-09=0, 2020-02-10=0, 2020-02-11=0, 2020-02-12=0, 2020-02-13=0, 2020-02-14=0, 2020-02-15=0, 2020-02-16=0, 2020-02-17=0, 2020-02-18=0, 2020-02-19=0, 2020-02-20=0, 2020-02-21=0, 2020-02-22=0, 2020-02-23=0, 2020-02-24=0, 2020-02-25=0, 2020-02-26=0, 2020-02-27=0, 2020-02-28=1, 2020-02-29=1, 2020-03-01=3, 2020-03-02=6, 2020-03-03=11, 2020-03-04=26, 2020-03-05=34, 2020-03-06=43, 2020-03-07=50, 2020-03-08=50, 2020-03-09=58, 2020-03-10=69, 2020-03-11=85, 2020-03-12=103, 2020-03-13=134, 2020-03-14=156, 2020-03-15=171, 2020-03-16=180, 2020-03-17=220, 2020-03-18=250, 2020-03-19=330, 2020-03-20=409),\n",
              " Row(Country='India', 2020-01-22=0, 2020-01-23=0, 2020-01-24=0, 2020-01-25=0, 2020-01-26=0, 2020-01-27=0, 2020-01-28=0, 2020-01-29=0, 2020-01-30=1, 2020-01-31=1, 2020-02-01=1, 2020-02-02=2, 2020-02-03=3, 2020-02-04=3, 2020-02-05=3, 2020-02-06=3, 2020-02-07=3, 2020-02-08=3, 2020-02-09=3, 2020-02-10=3, 2020-02-11=3, 2020-02-12=3, 2020-02-13=3, 2020-02-14=3, 2020-02-15=3, 2020-02-16=3, 2020-02-17=3, 2020-02-18=3, 2020-02-19=3, 2020-02-20=3, 2020-02-21=3, 2020-02-22=3, 2020-02-23=3, 2020-02-24=3, 2020-02-25=3, 2020-02-26=3, 2020-02-27=3, 2020-02-28=3, 2020-02-29=3, 2020-03-01=3, 2020-03-02=5, 2020-03-03=5, 2020-03-04=28, 2020-03-05=30, 2020-03-06=31, 2020-03-07=34, 2020-03-08=39, 2020-03-09=43, 2020-03-10=56, 2020-03-11=62, 2020-03-12=73, 2020-03-13=82, 2020-03-14=102, 2020-03-15=113, 2020-03-16=119, 2020-03-17=142, 2020-03-18=156, 2020-03-19=194, 2020-03-20=244),\n",
              " Row(Country='Indonesia', 2020-01-22=0, 2020-01-23=0, 2020-01-24=0, 2020-01-25=0, 2020-01-26=0, 2020-01-27=0, 2020-01-28=0, 2020-01-29=0, 2020-01-30=0, 2020-01-31=0, 2020-02-01=0, 2020-02-02=0, 2020-02-03=0, 2020-02-04=0, 2020-02-05=0, 2020-02-06=0, 2020-02-07=0, 2020-02-08=0, 2020-02-09=0, 2020-02-10=0, 2020-02-11=0, 2020-02-12=0, 2020-02-13=0, 2020-02-14=0, 2020-02-15=0, 2020-02-16=0, 2020-02-17=0, 2020-02-18=0, 2020-02-19=0, 2020-02-20=0, 2020-02-21=0, 2020-02-22=0, 2020-02-23=0, 2020-02-24=0, 2020-02-25=0, 2020-02-26=0, 2020-02-27=0, 2020-02-28=0, 2020-02-29=0, 2020-03-01=0, 2020-03-02=2, 2020-03-03=2, 2020-03-04=2, 2020-03-05=2, 2020-03-06=4, 2020-03-07=4, 2020-03-08=6, 2020-03-09=19, 2020-03-10=27, 2020-03-11=34, 2020-03-12=34, 2020-03-13=69, 2020-03-14=96, 2020-03-15=117, 2020-03-16=134, 2020-03-17=172, 2020-03-18=227, 2020-03-19=311, 2020-03-20=369),\n",
              " Row(Country='Iran', 2020-01-22=0, 2020-01-23=0, 2020-01-24=0, 2020-01-25=0, 2020-01-26=0, 2020-01-27=0, 2020-01-28=0, 2020-01-29=0, 2020-01-30=0, 2020-01-31=0, 2020-02-01=0, 2020-02-02=0, 2020-02-03=0, 2020-02-04=0, 2020-02-05=0, 2020-02-06=0, 2020-02-07=0, 2020-02-08=0, 2020-02-09=0, 2020-02-10=0, 2020-02-11=0, 2020-02-12=0, 2020-02-13=0, 2020-02-14=0, 2020-02-15=0, 2020-02-16=0, 2020-02-17=0, 2020-02-18=0, 2020-02-19=2, 2020-02-20=5, 2020-02-21=18, 2020-02-22=28, 2020-02-23=43, 2020-02-24=61, 2020-02-25=95, 2020-02-26=139, 2020-02-27=245, 2020-02-28=388, 2020-02-29=593, 2020-03-01=978, 2020-03-02=1501, 2020-03-03=2336, 2020-03-04=2922, 2020-03-05=3513, 2020-03-06=4747, 2020-03-07=5823, 2020-03-08=6566, 2020-03-09=7161, 2020-03-10=8042, 2020-03-11=9000, 2020-03-12=10075, 2020-03-13=11364, 2020-03-14=12729, 2020-03-15=13938, 2020-03-16=14991, 2020-03-17=16169, 2020-03-18=17361, 2020-03-19=18407, 2020-03-20=19644),\n",
              " Row(Country='Iraq', 2020-01-22=0, 2020-01-23=0, 2020-01-24=0, 2020-01-25=0, 2020-01-26=0, 2020-01-27=0, 2020-01-28=0, 2020-01-29=0, 2020-01-30=0, 2020-01-31=0, 2020-02-01=0, 2020-02-02=0, 2020-02-03=0, 2020-02-04=0, 2020-02-05=0, 2020-02-06=0, 2020-02-07=0, 2020-02-08=0, 2020-02-09=0, 2020-02-10=0, 2020-02-11=0, 2020-02-12=0, 2020-02-13=0, 2020-02-14=0, 2020-02-15=0, 2020-02-16=0, 2020-02-17=0, 2020-02-18=0, 2020-02-19=0, 2020-02-20=0, 2020-02-21=0, 2020-02-22=0, 2020-02-23=0, 2020-02-24=1, 2020-02-25=1, 2020-02-26=5, 2020-02-27=7, 2020-02-28=7, 2020-02-29=13, 2020-03-01=19, 2020-03-02=26, 2020-03-03=32, 2020-03-04=35, 2020-03-05=35, 2020-03-06=40, 2020-03-07=54, 2020-03-08=60, 2020-03-09=60, 2020-03-10=71, 2020-03-11=71, 2020-03-12=71, 2020-03-13=101, 2020-03-14=110, 2020-03-15=116, 2020-03-16=124, 2020-03-17=154, 2020-03-18=164, 2020-03-19=192, 2020-03-20=208),\n",
              " Row(Country='Ireland', 2020-01-22=0, 2020-01-23=0, 2020-01-24=0, 2020-01-25=0, 2020-01-26=0, 2020-01-27=0, 2020-01-28=0, 2020-01-29=0, 2020-01-30=0, 2020-01-31=0, 2020-02-01=0, 2020-02-02=0, 2020-02-03=0, 2020-02-04=0, 2020-02-05=0, 2020-02-06=0, 2020-02-07=0, 2020-02-08=0, 2020-02-09=0, 2020-02-10=0, 2020-02-11=0, 2020-02-12=0, 2020-02-13=0, 2020-02-14=0, 2020-02-15=0, 2020-02-16=0, 2020-02-17=0, 2020-02-18=0, 2020-02-19=0, 2020-02-20=0, 2020-02-21=0, 2020-02-22=0, 2020-02-23=0, 2020-02-24=0, 2020-02-25=0, 2020-02-26=0, 2020-02-27=0, 2020-02-28=0, 2020-02-29=1, 2020-03-01=1, 2020-03-02=1, 2020-03-03=2, 2020-03-04=6, 2020-03-05=6, 2020-03-06=18, 2020-03-07=18, 2020-03-08=19, 2020-03-09=21, 2020-03-10=34, 2020-03-11=43, 2020-03-12=43, 2020-03-13=90, 2020-03-14=129, 2020-03-15=129, 2020-03-16=169, 2020-03-17=223, 2020-03-18=292, 2020-03-19=557, 2020-03-20=683),\n",
              " Row(Country='Israel', 2020-01-22=0, 2020-01-23=0, 2020-01-24=0, 2020-01-25=0, 2020-01-26=0, 2020-01-27=0, 2020-01-28=0, 2020-01-29=0, 2020-01-30=0, 2020-01-31=0, 2020-02-01=0, 2020-02-02=0, 2020-02-03=0, 2020-02-04=0, 2020-02-05=0, 2020-02-06=0, 2020-02-07=0, 2020-02-08=0, 2020-02-09=0, 2020-02-10=0, 2020-02-11=0, 2020-02-12=0, 2020-02-13=0, 2020-02-14=0, 2020-02-15=0, 2020-02-16=0, 2020-02-17=0, 2020-02-18=0, 2020-02-19=0, 2020-02-20=0, 2020-02-21=1, 2020-02-22=1, 2020-02-23=1, 2020-02-24=1, 2020-02-25=1, 2020-02-26=2, 2020-02-27=3, 2020-02-28=4, 2020-02-29=7, 2020-03-01=10, 2020-03-02=10, 2020-03-03=12, 2020-03-04=15, 2020-03-05=20, 2020-03-06=37, 2020-03-07=43, 2020-03-08=61, 2020-03-09=61, 2020-03-10=83, 2020-03-11=109, 2020-03-12=131, 2020-03-13=161, 2020-03-14=193, 2020-03-15=251, 2020-03-16=255, 2020-03-17=337, 2020-03-18=433, 2020-03-19=677, 2020-03-20=705),\n",
              " Row(Country='Italy', 2020-01-22=0, 2020-01-23=0, 2020-01-24=0, 2020-01-25=0, 2020-01-26=0, 2020-01-27=0, 2020-01-28=0, 2020-01-29=0, 2020-01-30=0, 2020-01-31=2, 2020-02-01=2, 2020-02-02=2, 2020-02-03=2, 2020-02-04=2, 2020-02-05=2, 2020-02-06=2, 2020-02-07=3, 2020-02-08=3, 2020-02-09=3, 2020-02-10=3, 2020-02-11=3, 2020-02-12=3, 2020-02-13=3, 2020-02-14=3, 2020-02-15=3, 2020-02-16=3, 2020-02-17=3, 2020-02-18=3, 2020-02-19=3, 2020-02-20=3, 2020-02-21=20, 2020-02-22=62, 2020-02-23=155, 2020-02-24=229, 2020-02-25=322, 2020-02-26=453, 2020-02-27=655, 2020-02-28=888, 2020-02-29=1128, 2020-03-01=1694, 2020-03-02=2036, 2020-03-03=2502, 2020-03-04=3089, 2020-03-05=3858, 2020-03-06=4636, 2020-03-07=5883, 2020-03-08=7375, 2020-03-09=9172, 2020-03-10=10149, 2020-03-11=12462, 2020-03-12=12462, 2020-03-13=17660, 2020-03-14=21157, 2020-03-15=24747, 2020-03-16=27980, 2020-03-17=31506, 2020-03-18=35713, 2020-03-19=41035, 2020-03-20=47021),\n",
              " Row(Country='Jamaica', 2020-01-22=0, 2020-01-23=0, 2020-01-24=0, 2020-01-25=0, 2020-01-26=0, 2020-01-27=0, 2020-01-28=0, 2020-01-29=0, 2020-01-30=0, 2020-01-31=0, 2020-02-01=0, 2020-02-02=0, 2020-02-03=0, 2020-02-04=0, 2020-02-05=0, 2020-02-06=0, 2020-02-07=0, 2020-02-08=0, 2020-02-09=0, 2020-02-10=0, 2020-02-11=0, 2020-02-12=0, 2020-02-13=0, 2020-02-14=0, 2020-02-15=0, 2020-02-16=0, 2020-02-17=0, 2020-02-18=0, 2020-02-19=0, 2020-02-20=0, 2020-02-21=0, 2020-02-22=0, 2020-02-23=0, 2020-02-24=0, 2020-02-25=0, 2020-02-26=0, 2020-02-27=0, 2020-02-28=0, 2020-02-29=0, 2020-03-01=0, 2020-03-02=0, 2020-03-03=0, 2020-03-04=0, 2020-03-05=0, 2020-03-06=0, 2020-03-07=0, 2020-03-08=0, 2020-03-09=0, 2020-03-10=0, 2020-03-11=1, 2020-03-12=2, 2020-03-13=8, 2020-03-14=8, 2020-03-15=10, 2020-03-16=10, 2020-03-17=12, 2020-03-18=13, 2020-03-19=15, 2020-03-20=16),\n",
              " Row(Country='Japan', 2020-01-22=2, 2020-01-23=1, 2020-01-24=2, 2020-01-25=2, 2020-01-26=4, 2020-01-27=4, 2020-01-28=7, 2020-01-29=7, 2020-01-30=11, 2020-01-31=15, 2020-02-01=20, 2020-02-02=20, 2020-02-03=20, 2020-02-04=22, 2020-02-05=22, 2020-02-06=45, 2020-02-07=25, 2020-02-08=25, 2020-02-09=26, 2020-02-10=26, 2020-02-11=26, 2020-02-12=28, 2020-02-13=28, 2020-02-14=29, 2020-02-15=43, 2020-02-16=59, 2020-02-17=66, 2020-02-18=74, 2020-02-19=84, 2020-02-20=94, 2020-02-21=105, 2020-02-22=122, 2020-02-23=147, 2020-02-24=159, 2020-02-25=170, 2020-02-26=189, 2020-02-27=214, 2020-02-28=228, 2020-02-29=241, 2020-03-01=256, 2020-03-02=274, 2020-03-03=293, 2020-03-04=331, 2020-03-05=360, 2020-03-06=420, 2020-03-07=461, 2020-03-08=502, 2020-03-09=511, 2020-03-10=581, 2020-03-11=639, 2020-03-12=639, 2020-03-13=701, 2020-03-14=773, 2020-03-15=839, 2020-03-16=825, 2020-03-17=878, 2020-03-18=889, 2020-03-19=924, 2020-03-20=963),\n",
              " Row(Country='Jordan', 2020-01-22=0, 2020-01-23=0, 2020-01-24=0, 2020-01-25=0, 2020-01-26=0, 2020-01-27=0, 2020-01-28=0, 2020-01-29=0, 2020-01-30=0, 2020-01-31=0, 2020-02-01=0, 2020-02-02=0, 2020-02-03=0, 2020-02-04=0, 2020-02-05=0, 2020-02-06=0, 2020-02-07=0, 2020-02-08=0, 2020-02-09=0, 2020-02-10=0, 2020-02-11=0, 2020-02-12=0, 2020-02-13=0, 2020-02-14=0, 2020-02-15=0, 2020-02-16=0, 2020-02-17=0, 2020-02-18=0, 2020-02-19=0, 2020-02-20=0, 2020-02-21=0, 2020-02-22=0, 2020-02-23=0, 2020-02-24=0, 2020-02-25=0, 2020-02-26=0, 2020-02-27=0, 2020-02-28=0, 2020-02-29=0, 2020-03-01=0, 2020-03-02=0, 2020-03-03=1, 2020-03-04=1, 2020-03-05=1, 2020-03-06=1, 2020-03-07=1, 2020-03-08=1, 2020-03-09=1, 2020-03-10=1, 2020-03-11=1, 2020-03-12=1, 2020-03-13=1, 2020-03-14=1, 2020-03-15=8, 2020-03-16=17, 2020-03-17=34, 2020-03-18=52, 2020-03-19=69, 2020-03-20=85),\n",
              " Row(Country='Kazakhstan', 2020-01-22=0, 2020-01-23=0, 2020-01-24=0, 2020-01-25=0, 2020-01-26=0, 2020-01-27=0, 2020-01-28=0, 2020-01-29=0, 2020-01-30=0, 2020-01-31=0, 2020-02-01=0, 2020-02-02=0, 2020-02-03=0, 2020-02-04=0, 2020-02-05=0, 2020-02-06=0, 2020-02-07=0, 2020-02-08=0, 2020-02-09=0, 2020-02-10=0, 2020-02-11=0, 2020-02-12=0, 2020-02-13=0, 2020-02-14=0, 2020-02-15=0, 2020-02-16=0, 2020-02-17=0, 2020-02-18=0, 2020-02-19=0, 2020-02-20=0, 2020-02-21=0, 2020-02-22=0, 2020-02-23=0, 2020-02-24=0, 2020-02-25=0, 2020-02-26=0, 2020-02-27=0, 2020-02-28=0, 2020-02-29=0, 2020-03-01=0, 2020-03-02=0, 2020-03-03=0, 2020-03-04=0, 2020-03-05=0, 2020-03-06=0, 2020-03-07=0, 2020-03-08=0, 2020-03-09=0, 2020-03-10=0, 2020-03-11=0, 2020-03-12=0, 2020-03-13=4, 2020-03-14=6, 2020-03-15=9, 2020-03-16=10, 2020-03-17=33, 2020-03-18=35, 2020-03-19=44, 2020-03-20=49),\n",
              " Row(Country='Kenya', 2020-01-22=0, 2020-01-23=0, 2020-01-24=0, 2020-01-25=0, 2020-01-26=0, 2020-01-27=0, 2020-01-28=0, 2020-01-29=0, 2020-01-30=0, 2020-01-31=0, 2020-02-01=0, 2020-02-02=0, 2020-02-03=0, 2020-02-04=0, 2020-02-05=0, 2020-02-06=0, 2020-02-07=0, 2020-02-08=0, 2020-02-09=0, 2020-02-10=0, 2020-02-11=0, 2020-02-12=0, 2020-02-13=0, 2020-02-14=0, 2020-02-15=0, 2020-02-16=0, 2020-02-17=0, 2020-02-18=0, 2020-02-19=0, 2020-02-20=0, 2020-02-21=0, 2020-02-22=0, 2020-02-23=0, 2020-02-24=0, 2020-02-25=0, 2020-02-26=0, 2020-02-27=0, 2020-02-28=0, 2020-02-29=0, 2020-03-01=0, 2020-03-02=0, 2020-03-03=0, 2020-03-04=0, 2020-03-05=0, 2020-03-06=0, 2020-03-07=0, 2020-03-08=0, 2020-03-09=0, 2020-03-10=0, 2020-03-11=0, 2020-03-12=0, 2020-03-13=1, 2020-03-14=1, 2020-03-15=3, 2020-03-16=3, 2020-03-17=3, 2020-03-18=3, 2020-03-19=7, 2020-03-20=7),\n",
              " Row(Country='Korea, South', 2020-01-22=1, 2020-01-23=1, 2020-01-24=2, 2020-01-25=2, 2020-01-26=3, 2020-01-27=4, 2020-01-28=4, 2020-01-29=4, 2020-01-30=4, 2020-01-31=11, 2020-02-01=12, 2020-02-02=15, 2020-02-03=15, 2020-02-04=16, 2020-02-05=19, 2020-02-06=23, 2020-02-07=24, 2020-02-08=24, 2020-02-09=25, 2020-02-10=27, 2020-02-11=28, 2020-02-12=28, 2020-02-13=28, 2020-02-14=28, 2020-02-15=28, 2020-02-16=29, 2020-02-17=30, 2020-02-18=31, 2020-02-19=31, 2020-02-20=104, 2020-02-21=204, 2020-02-22=433, 2020-02-23=602, 2020-02-24=833, 2020-02-25=977, 2020-02-26=1261, 2020-02-27=1766, 2020-02-28=2337, 2020-02-29=3150, 2020-03-01=3736, 2020-03-02=4335, 2020-03-03=5186, 2020-03-04=5621, 2020-03-05=6088, 2020-03-06=6593, 2020-03-07=7041, 2020-03-08=7314, 2020-03-09=7478, 2020-03-10=7513, 2020-03-11=7755, 2020-03-12=7869, 2020-03-13=7979, 2020-03-14=8086, 2020-03-15=8162, 2020-03-16=8236, 2020-03-17=8320, 2020-03-18=8413, 2020-03-19=8565, 2020-03-20=8652),\n",
              " Row(Country='Kosovo', 2020-01-22=0, 2020-01-23=0, 2020-01-24=0, 2020-01-25=0, 2020-01-26=0, 2020-01-27=0, 2020-01-28=0, 2020-01-29=0, 2020-01-30=0, 2020-01-31=0, 2020-02-01=0, 2020-02-02=0, 2020-02-03=0, 2020-02-04=0, 2020-02-05=0, 2020-02-06=0, 2020-02-07=0, 2020-02-08=0, 2020-02-09=0, 2020-02-10=0, 2020-02-11=0, 2020-02-12=0, 2020-02-13=0, 2020-02-14=0, 2020-02-15=0, 2020-02-16=0, 2020-02-17=0, 2020-02-18=0, 2020-02-19=0, 2020-02-20=0, 2020-02-21=0, 2020-02-22=0, 2020-02-23=0, 2020-02-24=0, 2020-02-25=0, 2020-02-26=0, 2020-02-27=0, 2020-02-28=0, 2020-02-29=0, 2020-03-01=0, 2020-03-02=0, 2020-03-03=0, 2020-03-04=0, 2020-03-05=0, 2020-03-06=0, 2020-03-07=0, 2020-03-08=0, 2020-03-09=0, 2020-03-10=0, 2020-03-11=0, 2020-03-12=0, 2020-03-13=0, 2020-03-14=0, 2020-03-15=2, 2020-03-16=2, 2020-03-17=2, 2020-03-18=2, 2020-03-19=2, 2020-03-20=2),\n",
              " Row(Country='Kuwait', 2020-01-22=0, 2020-01-23=0, 2020-01-24=0, 2020-01-25=0, 2020-01-26=0, 2020-01-27=0, 2020-01-28=0, 2020-01-29=0, 2020-01-30=0, 2020-01-31=0, 2020-02-01=0, 2020-02-02=0, 2020-02-03=0, 2020-02-04=0, 2020-02-05=0, 2020-02-06=0, 2020-02-07=0, 2020-02-08=0, 2020-02-09=0, 2020-02-10=0, 2020-02-11=0, 2020-02-12=0, 2020-02-13=0, 2020-02-14=0, 2020-02-15=0, 2020-02-16=0, 2020-02-17=0, 2020-02-18=0, 2020-02-19=0, 2020-02-20=0, 2020-02-21=0, 2020-02-22=0, 2020-02-23=0, 2020-02-24=1, 2020-02-25=11, 2020-02-26=26, 2020-02-27=43, 2020-02-28=45, 2020-02-29=45, 2020-03-01=45, 2020-03-02=56, 2020-03-03=56, 2020-03-04=56, 2020-03-05=58, 2020-03-06=58, 2020-03-07=61, 2020-03-08=64, 2020-03-09=64, 2020-03-10=69, 2020-03-11=72, 2020-03-12=80, 2020-03-13=80, 2020-03-14=104, 2020-03-15=112, 2020-03-16=123, 2020-03-17=130, 2020-03-18=142, 2020-03-19=148, 2020-03-20=159),\n",
              " Row(Country='Kyrgyzstan', 2020-01-22=0, 2020-01-23=0, 2020-01-24=0, 2020-01-25=0, 2020-01-26=0, 2020-01-27=0, 2020-01-28=0, 2020-01-29=0, 2020-01-30=0, 2020-01-31=0, 2020-02-01=0, 2020-02-02=0, 2020-02-03=0, 2020-02-04=0, 2020-02-05=0, 2020-02-06=0, 2020-02-07=0, 2020-02-08=0, 2020-02-09=0, 2020-02-10=0, 2020-02-11=0, 2020-02-12=0, 2020-02-13=0, 2020-02-14=0, 2020-02-15=0, 2020-02-16=0, 2020-02-17=0, 2020-02-18=0, 2020-02-19=0, 2020-02-20=0, 2020-02-21=0, 2020-02-22=0, 2020-02-23=0, 2020-02-24=0, 2020-02-25=0, 2020-02-26=0, 2020-02-27=0, 2020-02-28=0, 2020-02-29=0, 2020-03-01=0, 2020-03-02=0, 2020-03-03=0, 2020-03-04=0, 2020-03-05=0, 2020-03-06=0, 2020-03-07=0, 2020-03-08=0, 2020-03-09=0, 2020-03-10=0, 2020-03-11=0, 2020-03-12=0, 2020-03-13=0, 2020-03-14=0, 2020-03-15=0, 2020-03-16=0, 2020-03-17=0, 2020-03-18=3, 2020-03-19=3, 2020-03-20=6),\n",
              " Row(Country='Latvia', 2020-01-22=0, 2020-01-23=0, 2020-01-24=0, 2020-01-25=0, 2020-01-26=0, 2020-01-27=0, 2020-01-28=0, 2020-01-29=0, 2020-01-30=0, 2020-01-31=0, 2020-02-01=0, 2020-02-02=0, 2020-02-03=0, 2020-02-04=0, 2020-02-05=0, 2020-02-06=0, 2020-02-07=0, 2020-02-08=0, 2020-02-09=0, 2020-02-10=0, 2020-02-11=0, 2020-02-12=0, 2020-02-13=0, 2020-02-14=0, 2020-02-15=0, 2020-02-16=0, 2020-02-17=0, 2020-02-18=0, 2020-02-19=0, 2020-02-20=0, 2020-02-21=0, 2020-02-22=0, 2020-02-23=0, 2020-02-24=0, 2020-02-25=0, 2020-02-26=0, 2020-02-27=0, 2020-02-28=0, 2020-02-29=0, 2020-03-01=0, 2020-03-02=1, 2020-03-03=1, 2020-03-04=1, 2020-03-05=1, 2020-03-06=1, 2020-03-07=1, 2020-03-08=2, 2020-03-09=6, 2020-03-10=8, 2020-03-11=10, 2020-03-12=10, 2020-03-13=17, 2020-03-14=26, 2020-03-15=30, 2020-03-16=34, 2020-03-17=49, 2020-03-18=71, 2020-03-19=86, 2020-03-20=111),\n",
              " Row(Country='Lebanon', 2020-01-22=0, 2020-01-23=0, 2020-01-24=0, 2020-01-25=0, 2020-01-26=0, 2020-01-27=0, 2020-01-28=0, 2020-01-29=0, 2020-01-30=0, 2020-01-31=0, 2020-02-01=0, 2020-02-02=0, 2020-02-03=0, 2020-02-04=0, 2020-02-05=0, 2020-02-06=0, 2020-02-07=0, 2020-02-08=0, 2020-02-09=0, 2020-02-10=0, 2020-02-11=0, 2020-02-12=0, 2020-02-13=0, 2020-02-14=0, 2020-02-15=0, 2020-02-16=0, 2020-02-17=0, 2020-02-18=0, 2020-02-19=0, 2020-02-20=0, 2020-02-21=1, 2020-02-22=1, 2020-02-23=1, 2020-02-24=1, 2020-02-25=1, 2020-02-26=2, 2020-02-27=2, 2020-02-28=2, 2020-02-29=4, 2020-03-01=10, 2020-03-02=13, 2020-03-03=13, 2020-03-04=13, 2020-03-05=16, 2020-03-06=22, 2020-03-07=22, 2020-03-08=32, 2020-03-09=32, 2020-03-10=41, 2020-03-11=61, 2020-03-12=61, 2020-03-13=77, 2020-03-14=93, 2020-03-15=110, 2020-03-16=99, 2020-03-17=120, 2020-03-18=133, 2020-03-19=157, 2020-03-20=163),\n",
              " Row(Country='Liberia', 2020-01-22=0, 2020-01-23=0, 2020-01-24=0, 2020-01-25=0, 2020-01-26=0, 2020-01-27=0, 2020-01-28=0, 2020-01-29=0, 2020-01-30=0, 2020-01-31=0, 2020-02-01=0, 2020-02-02=0, 2020-02-03=0, 2020-02-04=0, 2020-02-05=0, 2020-02-06=0, 2020-02-07=0, 2020-02-08=0, 2020-02-09=0, 2020-02-10=0, 2020-02-11=0, 2020-02-12=0, 2020-02-13=0, 2020-02-14=0, 2020-02-15=0, 2020-02-16=0, 2020-02-17=0, 2020-02-18=0, 2020-02-19=0, 2020-02-20=0, 2020-02-21=0, 2020-02-22=0, 2020-02-23=0, 2020-02-24=0, 2020-02-25=0, 2020-02-26=0, 2020-02-27=0, 2020-02-28=0, 2020-02-29=0, 2020-03-01=0, 2020-03-02=0, 2020-03-03=0, 2020-03-04=0, 2020-03-05=0, 2020-03-06=0, 2020-03-07=0, 2020-03-08=0, 2020-03-09=0, 2020-03-10=0, 2020-03-11=0, 2020-03-12=0, 2020-03-13=0, 2020-03-14=0, 2020-03-15=0, 2020-03-16=1, 2020-03-17=1, 2020-03-18=2, 2020-03-19=2, 2020-03-20=2),\n",
              " Row(Country='Liechtenstein', 2020-01-22=0, 2020-01-23=0, 2020-01-24=0, 2020-01-25=0, 2020-01-26=0, 2020-01-27=0, 2020-01-28=0, 2020-01-29=0, 2020-01-30=0, 2020-01-31=0, 2020-02-01=0, 2020-02-02=0, 2020-02-03=0, 2020-02-04=0, 2020-02-05=0, 2020-02-06=0, 2020-02-07=0, 2020-02-08=0, 2020-02-09=0, 2020-02-10=0, 2020-02-11=0, 2020-02-12=0, 2020-02-13=0, 2020-02-14=0, 2020-02-15=0, 2020-02-16=0, 2020-02-17=0, 2020-02-18=0, 2020-02-19=0, 2020-02-20=0, 2020-02-21=0, 2020-02-22=0, 2020-02-23=0, 2020-02-24=0, 2020-02-25=0, 2020-02-26=0, 2020-02-27=0, 2020-02-28=0, 2020-02-29=0, 2020-03-01=0, 2020-03-02=0, 2020-03-03=0, 2020-03-04=1, 2020-03-05=1, 2020-03-06=1, 2020-03-07=1, 2020-03-08=1, 2020-03-09=1, 2020-03-10=1, 2020-03-11=1, 2020-03-12=1, 2020-03-13=1, 2020-03-14=4, 2020-03-15=4, 2020-03-16=4, 2020-03-17=7, 2020-03-18=28, 2020-03-19=28, 2020-03-20=28),\n",
              " Row(Country='Lithuania', 2020-01-22=0, 2020-01-23=0, 2020-01-24=0, 2020-01-25=0, 2020-01-26=0, 2020-01-27=0, 2020-01-28=0, 2020-01-29=0, 2020-01-30=0, 2020-01-31=0, 2020-02-01=0, 2020-02-02=0, 2020-02-03=0, 2020-02-04=0, 2020-02-05=0, 2020-02-06=0, 2020-02-07=0, 2020-02-08=0, 2020-02-09=0, 2020-02-10=0, 2020-02-11=0, 2020-02-12=0, 2020-02-13=0, 2020-02-14=0, 2020-02-15=0, 2020-02-16=0, 2020-02-17=0, 2020-02-18=0, 2020-02-19=0, 2020-02-20=0, 2020-02-21=0, 2020-02-22=0, 2020-02-23=0, 2020-02-24=0, 2020-02-25=0, 2020-02-26=0, 2020-02-27=0, 2020-02-28=1, 2020-02-29=1, 2020-03-01=1, 2020-03-02=1, 2020-03-03=1, 2020-03-04=1, 2020-03-05=1, 2020-03-06=1, 2020-03-07=1, 2020-03-08=1, 2020-03-09=1, 2020-03-10=1, 2020-03-11=3, 2020-03-12=3, 2020-03-13=6, 2020-03-14=8, 2020-03-15=12, 2020-03-16=17, 2020-03-17=25, 2020-03-18=27, 2020-03-19=36, 2020-03-20=49),\n",
              " Row(Country='Luxembourg', 2020-01-22=0, 2020-01-23=0, 2020-01-24=0, 2020-01-25=0, 2020-01-26=0, 2020-01-27=0, 2020-01-28=0, 2020-01-29=0, 2020-01-30=0, 2020-01-31=0, 2020-02-01=0, 2020-02-02=0, 2020-02-03=0, 2020-02-04=0, 2020-02-05=0, 2020-02-06=0, 2020-02-07=0, 2020-02-08=0, 2020-02-09=0, 2020-02-10=0, 2020-02-11=0, 2020-02-12=0, 2020-02-13=0, 2020-02-14=0, 2020-02-15=0, 2020-02-16=0, 2020-02-17=0, 2020-02-18=0, 2020-02-19=0, 2020-02-20=0, 2020-02-21=0, 2020-02-22=0, 2020-02-23=0, 2020-02-24=0, 2020-02-25=0, 2020-02-26=0, 2020-02-27=0, 2020-02-28=0, 2020-02-29=1, 2020-03-01=1, 2020-03-02=1, 2020-03-03=1, 2020-03-04=1, 2020-03-05=1, 2020-03-06=2, 2020-03-07=2, 2020-03-08=3, 2020-03-09=3, 2020-03-10=5, 2020-03-11=7, 2020-03-12=19, 2020-03-13=34, 2020-03-14=51, 2020-03-15=59, 2020-03-16=77, 2020-03-17=140, 2020-03-18=203, 2020-03-19=335, 2020-03-20=484),\n",
              " Row(Country='Madagascar', 2020-01-22=0, 2020-01-23=0, 2020-01-24=0, 2020-01-25=0, 2020-01-26=0, 2020-01-27=0, 2020-01-28=0, 2020-01-29=0, 2020-01-30=0, 2020-01-31=0, 2020-02-01=0, 2020-02-02=0, 2020-02-03=0, 2020-02-04=0, 2020-02-05=0, 2020-02-06=0, 2020-02-07=0, 2020-02-08=0, 2020-02-09=0, 2020-02-10=0, 2020-02-11=0, 2020-02-12=0, 2020-02-13=0, 2020-02-14=0, 2020-02-15=0, 2020-02-16=0, 2020-02-17=0, 2020-02-18=0, 2020-02-19=0, 2020-02-20=0, 2020-02-21=0, 2020-02-22=0, 2020-02-23=0, 2020-02-24=0, 2020-02-25=0, 2020-02-26=0, 2020-02-27=0, 2020-02-28=0, 2020-02-29=0, 2020-03-01=0, 2020-03-02=0, 2020-03-03=0, 2020-03-04=0, 2020-03-05=0, 2020-03-06=0, 2020-03-07=0, 2020-03-08=0, 2020-03-09=0, 2020-03-10=0, 2020-03-11=0, 2020-03-12=0, 2020-03-13=0, 2020-03-14=0, 2020-03-15=0, 2020-03-16=0, 2020-03-17=0, 2020-03-18=0, 2020-03-19=0, 2020-03-20=3),\n",
              " Row(Country='Malaysia', 2020-01-22=0, 2020-01-23=0, 2020-01-24=0, 2020-01-25=3, 2020-01-26=4, 2020-01-27=4, 2020-01-28=4, 2020-01-29=7, 2020-01-30=8, 2020-01-31=8, 2020-02-01=8, 2020-02-02=8, 2020-02-03=8, 2020-02-04=10, 2020-02-05=12, 2020-02-06=12, 2020-02-07=12, 2020-02-08=16, 2020-02-09=16, 2020-02-10=18, 2020-02-11=18, 2020-02-12=18, 2020-02-13=19, 2020-02-14=19, 2020-02-15=22, 2020-02-16=22, 2020-02-17=22, 2020-02-18=22, 2020-02-19=22, 2020-02-20=22, 2020-02-21=22, 2020-02-22=22, 2020-02-23=22, 2020-02-24=22, 2020-02-25=22, 2020-02-26=22, 2020-02-27=23, 2020-02-28=23, 2020-02-29=25, 2020-03-01=29, 2020-03-02=29, 2020-03-03=36, 2020-03-04=50, 2020-03-05=50, 2020-03-06=83, 2020-03-07=93, 2020-03-08=99, 2020-03-09=117, 2020-03-10=129, 2020-03-11=149, 2020-03-12=149, 2020-03-13=197, 2020-03-14=238, 2020-03-15=428, 2020-03-16=566, 2020-03-17=673, 2020-03-18=790, 2020-03-19=900, 2020-03-20=1030),\n",
              " Row(Country='Maldives', 2020-01-22=0, 2020-01-23=0, 2020-01-24=0, 2020-01-25=0, 2020-01-26=0, 2020-01-27=0, 2020-01-28=0, 2020-01-29=0, 2020-01-30=0, 2020-01-31=0, 2020-02-01=0, 2020-02-02=0, 2020-02-03=0, 2020-02-04=0, 2020-02-05=0, 2020-02-06=0, 2020-02-07=0, 2020-02-08=0, 2020-02-09=0, 2020-02-10=0, 2020-02-11=0, 2020-02-12=0, 2020-02-13=0, 2020-02-14=0, 2020-02-15=0, 2020-02-16=0, 2020-02-17=0, 2020-02-18=0, 2020-02-19=0, 2020-02-20=0, 2020-02-21=0, 2020-02-22=0, 2020-02-23=0, 2020-02-24=0, 2020-02-25=0, 2020-02-26=0, 2020-02-27=0, 2020-02-28=0, 2020-02-29=0, 2020-03-01=0, 2020-03-02=0, 2020-03-03=0, 2020-03-04=0, 2020-03-05=0, 2020-03-06=0, 2020-03-07=0, 2020-03-08=4, 2020-03-09=4, 2020-03-10=6, 2020-03-11=8, 2020-03-12=8, 2020-03-13=9, 2020-03-14=10, 2020-03-15=13, 2020-03-16=13, 2020-03-17=13, 2020-03-18=13, 2020-03-19=13, 2020-03-20=13),\n",
              " Row(Country='Malta', 2020-01-22=0, 2020-01-23=0, 2020-01-24=0, 2020-01-25=0, 2020-01-26=0, 2020-01-27=0, 2020-01-28=0, 2020-01-29=0, 2020-01-30=0, 2020-01-31=0, 2020-02-01=0, 2020-02-02=0, 2020-02-03=0, 2020-02-04=0, 2020-02-05=0, 2020-02-06=0, 2020-02-07=0, 2020-02-08=0, 2020-02-09=0, 2020-02-10=0, 2020-02-11=0, 2020-02-12=0, 2020-02-13=0, 2020-02-14=0, 2020-02-15=0, 2020-02-16=0, 2020-02-17=0, 2020-02-18=0, 2020-02-19=0, 2020-02-20=0, 2020-02-21=0, 2020-02-22=0, 2020-02-23=0, 2020-02-24=0, 2020-02-25=0, 2020-02-26=0, 2020-02-27=0, 2020-02-28=0, 2020-02-29=0, 2020-03-01=0, 2020-03-02=0, 2020-03-03=0, 2020-03-04=0, 2020-03-05=0, 2020-03-06=0, 2020-03-07=3, 2020-03-08=3, 2020-03-09=3, 2020-03-10=5, 2020-03-11=6, 2020-03-12=6, 2020-03-13=12, 2020-03-14=18, 2020-03-15=21, 2020-03-16=30, 2020-03-17=38, 2020-03-18=38, 2020-03-19=53, 2020-03-20=64),\n",
              " Row(Country='Martinique', 2020-01-22=0, 2020-01-23=0, 2020-01-24=0, 2020-01-25=0, 2020-01-26=0, 2020-01-27=0, 2020-01-28=0, 2020-01-29=0, 2020-01-30=0, 2020-01-31=0, 2020-02-01=0, 2020-02-02=0, 2020-02-03=0, 2020-02-04=0, 2020-02-05=0, 2020-02-06=0, 2020-02-07=0, 2020-02-08=0, 2020-02-09=0, 2020-02-10=0, 2020-02-11=0, 2020-02-12=0, 2020-02-13=0, 2020-02-14=0, 2020-02-15=0, 2020-02-16=0, 2020-02-17=0, 2020-02-18=0, 2020-02-19=0, 2020-02-20=0, 2020-02-21=0, 2020-02-22=0, 2020-02-23=0, 2020-02-24=0, 2020-02-25=0, 2020-02-26=0, 2020-02-27=0, 2020-02-28=0, 2020-02-29=0, 2020-03-01=0, 2020-03-02=0, 2020-03-03=0, 2020-03-04=0, 2020-03-05=0, 2020-03-06=0, 2020-03-07=2, 2020-03-08=2, 2020-03-09=2, 2020-03-10=2, 2020-03-11=3, 2020-03-12=3, 2020-03-13=3, 2020-03-14=9, 2020-03-15=9, 2020-03-16=15, 2020-03-17=16, 2020-03-18=19, 2020-03-19=23, 2020-03-20=32),\n",
              " Row(Country='Mauritania', 2020-01-22=0, 2020-01-23=0, 2020-01-24=0, 2020-01-25=0, 2020-01-26=0, 2020-01-27=0, 2020-01-28=0, 2020-01-29=0, 2020-01-30=0, 2020-01-31=0, 2020-02-01=0, 2020-02-02=0, 2020-02-03=0, 2020-02-04=0, 2020-02-05=0, 2020-02-06=0, 2020-02-07=0, 2020-02-08=0, 2020-02-09=0, 2020-02-10=0, 2020-02-11=0, 2020-02-12=0, 2020-02-13=0, 2020-02-14=0, 2020-02-15=0, 2020-02-16=0, 2020-02-17=0, 2020-02-18=0, 2020-02-19=0, 2020-02-20=0, 2020-02-21=0, 2020-02-22=0, 2020-02-23=0, 2020-02-24=0, 2020-02-25=0, 2020-02-26=0, 2020-02-27=0, 2020-02-28=0, 2020-02-29=0, 2020-03-01=0, 2020-03-02=0, 2020-03-03=0, 2020-03-04=0, 2020-03-05=0, 2020-03-06=0, 2020-03-07=0, 2020-03-08=0, 2020-03-09=0, 2020-03-10=0, 2020-03-11=0, 2020-03-12=0, 2020-03-13=0, 2020-03-14=1, 2020-03-15=1, 2020-03-16=1, 2020-03-17=1, 2020-03-18=1, 2020-03-19=2, 2020-03-20=2),\n",
              " Row(Country='Mauritius', 2020-01-22=0, 2020-01-23=0, 2020-01-24=0, 2020-01-25=0, 2020-01-26=0, 2020-01-27=0, 2020-01-28=0, 2020-01-29=0, 2020-01-30=0, 2020-01-31=0, 2020-02-01=0, 2020-02-02=0, 2020-02-03=0, 2020-02-04=0, 2020-02-05=0, 2020-02-06=0, 2020-02-07=0, 2020-02-08=0, 2020-02-09=0, 2020-02-10=0, 2020-02-11=0, 2020-02-12=0, 2020-02-13=0, 2020-02-14=0, 2020-02-15=0, 2020-02-16=0, 2020-02-17=0, 2020-02-18=0, 2020-02-19=0, 2020-02-20=0, 2020-02-21=0, 2020-02-22=0, 2020-02-23=0, 2020-02-24=0, 2020-02-25=0, 2020-02-26=0, 2020-02-27=0, 2020-02-28=0, 2020-02-29=0, 2020-03-01=0, 2020-03-02=0, 2020-03-03=0, 2020-03-04=0, 2020-03-05=0, 2020-03-06=0, 2020-03-07=0, 2020-03-08=0, 2020-03-09=0, 2020-03-10=0, 2020-03-11=0, 2020-03-12=0, 2020-03-13=0, 2020-03-14=0, 2020-03-15=0, 2020-03-16=0, 2020-03-17=0, 2020-03-18=3, 2020-03-19=3, 2020-03-20=12),\n",
              " Row(Country='Mexico', 2020-01-22=0, 2020-01-23=0, 2020-01-24=0, 2020-01-25=0, 2020-01-26=0, 2020-01-27=0, 2020-01-28=0, 2020-01-29=0, 2020-01-30=0, 2020-01-31=0, 2020-02-01=0, 2020-02-02=0, 2020-02-03=0, 2020-02-04=0, 2020-02-05=0, 2020-02-06=0, 2020-02-07=0, 2020-02-08=0, 2020-02-09=0, 2020-02-10=0, 2020-02-11=0, 2020-02-12=0, 2020-02-13=0, 2020-02-14=0, 2020-02-15=0, 2020-02-16=0, 2020-02-17=0, 2020-02-18=0, 2020-02-19=0, 2020-02-20=0, 2020-02-21=0, 2020-02-22=0, 2020-02-23=0, 2020-02-24=0, 2020-02-25=0, 2020-02-26=0, 2020-02-27=0, 2020-02-28=1, 2020-02-29=4, 2020-03-01=5, 2020-03-02=5, 2020-03-03=5, 2020-03-04=5, 2020-03-05=5, 2020-03-06=6, 2020-03-07=6, 2020-03-08=7, 2020-03-09=7, 2020-03-10=7, 2020-03-11=8, 2020-03-12=12, 2020-03-13=12, 2020-03-14=26, 2020-03-15=41, 2020-03-16=53, 2020-03-17=82, 2020-03-18=93, 2020-03-19=118, 2020-03-20=164),\n",
              " Row(Country='Moldova', 2020-01-22=0, 2020-01-23=0, 2020-01-24=0, 2020-01-25=0, 2020-01-26=0, 2020-01-27=0, 2020-01-28=0, 2020-01-29=0, 2020-01-30=0, 2020-01-31=0, 2020-02-01=0, 2020-02-02=0, 2020-02-03=0, 2020-02-04=0, 2020-02-05=0, 2020-02-06=0, 2020-02-07=0, 2020-02-08=0, 2020-02-09=0, 2020-02-10=0, 2020-02-11=0, 2020-02-12=0, 2020-02-13=0, 2020-02-14=0, 2020-02-15=0, 2020-02-16=0, 2020-02-17=0, 2020-02-18=0, 2020-02-19=0, 2020-02-20=0, 2020-02-21=0, 2020-02-22=0, 2020-02-23=0, 2020-02-24=0, 2020-02-25=0, 2020-02-26=0, 2020-02-27=0, 2020-02-28=0, 2020-02-29=0, 2020-03-01=0, 2020-03-02=0, 2020-03-03=0, 2020-03-04=0, 2020-03-05=0, 2020-03-06=0, 2020-03-07=0, 2020-03-08=1, 2020-03-09=1, 2020-03-10=3, 2020-03-11=3, 2020-03-12=3, 2020-03-13=6, 2020-03-14=12, 2020-03-15=23, 2020-03-16=23, 2020-03-17=30, 2020-03-18=30, 2020-03-19=49, 2020-03-20=66),\n",
              " Row(Country='Monaco', 2020-01-22=0, 2020-01-23=0, 2020-01-24=0, 2020-01-25=0, 2020-01-26=0, 2020-01-27=0, 2020-01-28=0, 2020-01-29=0, 2020-01-30=0, 2020-01-31=0, 2020-02-01=0, 2020-02-02=0, 2020-02-03=0, 2020-02-04=0, 2020-02-05=0, 2020-02-06=0, 2020-02-07=0, 2020-02-08=0, 2020-02-09=0, 2020-02-10=0, 2020-02-11=0, 2020-02-12=0, 2020-02-13=0, 2020-02-14=0, 2020-02-15=0, 2020-02-16=0, 2020-02-17=0, 2020-02-18=0, 2020-02-19=0, 2020-02-20=0, 2020-02-21=0, 2020-02-22=0, 2020-02-23=0, 2020-02-24=0, 2020-02-25=0, 2020-02-26=0, 2020-02-27=0, 2020-02-28=0, 2020-02-29=1, 2020-03-01=1, 2020-03-02=1, 2020-03-03=1, 2020-03-04=1, 2020-03-05=1, 2020-03-06=1, 2020-03-07=1, 2020-03-08=1, 2020-03-09=1, 2020-03-10=1, 2020-03-11=1, 2020-03-12=2, 2020-03-13=2, 2020-03-14=2, 2020-03-15=2, 2020-03-16=7, 2020-03-17=7, 2020-03-18=7, 2020-03-19=7, 2020-03-20=11),\n",
              " Row(Country='Mongolia', 2020-01-22=0, 2020-01-23=0, 2020-01-24=0, 2020-01-25=0, 2020-01-26=0, 2020-01-27=0, 2020-01-28=0, 2020-01-29=0, 2020-01-30=0, 2020-01-31=0, 2020-02-01=0, 2020-02-02=0, 2020-02-03=0, 2020-02-04=0, 2020-02-05=0, 2020-02-06=0, 2020-02-07=0, 2020-02-08=0, 2020-02-09=0, 2020-02-10=0, 2020-02-11=0, 2020-02-12=0, 2020-02-13=0, 2020-02-14=0, 2020-02-15=0, 2020-02-16=0, 2020-02-17=0, 2020-02-18=0, 2020-02-19=0, 2020-02-20=0, 2020-02-21=0, 2020-02-22=0, 2020-02-23=0, 2020-02-24=0, 2020-02-25=0, 2020-02-26=0, 2020-02-27=0, 2020-02-28=0, 2020-02-29=0, 2020-03-01=0, 2020-03-02=0, 2020-03-03=0, 2020-03-04=0, 2020-03-05=0, 2020-03-06=0, 2020-03-07=0, 2020-03-08=0, 2020-03-09=0, 2020-03-10=1, 2020-03-11=1, 2020-03-12=1, 2020-03-13=1, 2020-03-14=1, 2020-03-15=1, 2020-03-16=1, 2020-03-17=5, 2020-03-18=6, 2020-03-19=6, 2020-03-20=6),\n",
              " Row(Country='Montenegro', 2020-01-22=0, 2020-01-23=0, 2020-01-24=0, 2020-01-25=0, 2020-01-26=0, 2020-01-27=0, 2020-01-28=0, 2020-01-29=0, 2020-01-30=0, 2020-01-31=0, 2020-02-01=0, 2020-02-02=0, 2020-02-03=0, 2020-02-04=0, 2020-02-05=0, 2020-02-06=0, 2020-02-07=0, 2020-02-08=0, 2020-02-09=0, 2020-02-10=0, 2020-02-11=0, 2020-02-12=0, 2020-02-13=0, 2020-02-14=0, 2020-02-15=0, 2020-02-16=0, 2020-02-17=0, 2020-02-18=0, 2020-02-19=0, 2020-02-20=0, 2020-02-21=0, 2020-02-22=0, 2020-02-23=0, 2020-02-24=0, 2020-02-25=0, 2020-02-26=0, 2020-02-27=0, 2020-02-28=0, 2020-02-29=0, 2020-03-01=0, 2020-03-02=0, 2020-03-03=0, 2020-03-04=0, 2020-03-05=0, 2020-03-06=0, 2020-03-07=0, 2020-03-08=0, 2020-03-09=0, 2020-03-10=0, 2020-03-11=0, 2020-03-12=0, 2020-03-13=0, 2020-03-14=0, 2020-03-15=0, 2020-03-16=0, 2020-03-17=2, 2020-03-18=1, 2020-03-19=3, 2020-03-20=14),\n",
              " Row(Country='Morocco', 2020-01-22=0, 2020-01-23=0, 2020-01-24=0, 2020-01-25=0, 2020-01-26=0, 2020-01-27=0, 2020-01-28=0, 2020-01-29=0, 2020-01-30=0, 2020-01-31=0, 2020-02-01=0, 2020-02-02=0, 2020-02-03=0, 2020-02-04=0, 2020-02-05=0, 2020-02-06=0, 2020-02-07=0, 2020-02-08=0, 2020-02-09=0, 2020-02-10=0, 2020-02-11=0, 2020-02-12=0, 2020-02-13=0, 2020-02-14=0, 2020-02-15=0, 2020-02-16=0, 2020-02-17=0, 2020-02-18=0, 2020-02-19=0, 2020-02-20=0, 2020-02-21=0, 2020-02-22=0, 2020-02-23=0, 2020-02-24=0, 2020-02-25=0, 2020-02-26=0, 2020-02-27=0, 2020-02-28=0, 2020-02-29=0, 2020-03-01=0, 2020-03-02=1, 2020-03-03=1, 2020-03-04=1, 2020-03-05=2, 2020-03-06=2, 2020-03-07=2, 2020-03-08=2, 2020-03-09=2, 2020-03-10=3, 2020-03-11=5, 2020-03-12=6, 2020-03-13=7, 2020-03-14=17, 2020-03-15=28, 2020-03-16=29, 2020-03-17=38, 2020-03-18=49, 2020-03-19=63, 2020-03-20=77),\n",
              " Row(Country='Namibia', 2020-01-22=0, 2020-01-23=0, 2020-01-24=0, 2020-01-25=0, 2020-01-26=0, 2020-01-27=0, 2020-01-28=0, 2020-01-29=0, 2020-01-30=0, 2020-01-31=0, 2020-02-01=0, 2020-02-02=0, 2020-02-03=0, 2020-02-04=0, 2020-02-05=0, 2020-02-06=0, 2020-02-07=0, 2020-02-08=0, 2020-02-09=0, 2020-02-10=0, 2020-02-11=0, 2020-02-12=0, 2020-02-13=0, 2020-02-14=0, 2020-02-15=0, 2020-02-16=0, 2020-02-17=0, 2020-02-18=0, 2020-02-19=0, 2020-02-20=0, 2020-02-21=0, 2020-02-22=0, 2020-02-23=0, 2020-02-24=0, 2020-02-25=0, 2020-02-26=0, 2020-02-27=0, 2020-02-28=0, 2020-02-29=0, 2020-03-01=0, 2020-03-02=0, 2020-03-03=0, 2020-03-04=0, 2020-03-05=0, 2020-03-06=0, 2020-03-07=0, 2020-03-08=0, 2020-03-09=0, 2020-03-10=0, 2020-03-11=0, 2020-03-12=0, 2020-03-13=0, 2020-03-14=2, 2020-03-15=2, 2020-03-16=2, 2020-03-17=2, 2020-03-18=2, 2020-03-19=3, 2020-03-20=3),\n",
              " Row(Country='Nepal', 2020-01-22=0, 2020-01-23=0, 2020-01-24=0, 2020-01-25=1, 2020-01-26=1, 2020-01-27=1, 2020-01-28=1, 2020-01-29=1, 2020-01-30=1, 2020-01-31=1, 2020-02-01=1, 2020-02-02=1, 2020-02-03=1, 2020-02-04=1, 2020-02-05=1, 2020-02-06=1, 2020-02-07=1, 2020-02-08=1, 2020-02-09=1, 2020-02-10=1, 2020-02-11=1, 2020-02-12=1, 2020-02-13=1, 2020-02-14=1, 2020-02-15=1, 2020-02-16=1, 2020-02-17=1, 2020-02-18=1, 2020-02-19=1, 2020-02-20=1, 2020-02-21=1, 2020-02-22=1, 2020-02-23=1, 2020-02-24=1, 2020-02-25=1, 2020-02-26=1, 2020-02-27=1, 2020-02-28=1, 2020-02-29=1, 2020-03-01=1, 2020-03-02=1, 2020-03-03=1, 2020-03-04=1, 2020-03-05=1, 2020-03-06=1, 2020-03-07=1, 2020-03-08=1, 2020-03-09=1, 2020-03-10=1, 2020-03-11=1, 2020-03-12=1, 2020-03-13=1, 2020-03-14=1, 2020-03-15=1, 2020-03-16=1, 2020-03-17=1, 2020-03-18=1, 2020-03-19=1, 2020-03-20=1),\n",
              " Row(Country='Netherlands', 2020-01-22=0, 2020-01-23=0, 2020-01-24=0, 2020-01-25=0, 2020-01-26=0, 2020-01-27=0, 2020-01-28=0, 2020-01-29=0, 2020-01-30=0, 2020-01-31=0, 2020-02-01=0, 2020-02-02=0, 2020-02-03=0, 2020-02-04=0, 2020-02-05=0, 2020-02-06=0, 2020-02-07=0, 2020-02-08=0, 2020-02-09=0, 2020-02-10=0, 2020-02-11=0, 2020-02-12=0, 2020-02-13=0, 2020-02-14=0, 2020-02-15=0, 2020-02-16=0, 2020-02-17=0, 2020-02-18=0, 2020-02-19=0, 2020-02-20=0, 2020-02-21=0, 2020-02-22=0, 2020-02-23=0, 2020-02-24=0, 2020-02-25=0, 2020-02-26=0, 2020-02-27=1, 2020-02-28=1, 2020-02-29=6, 2020-03-01=10, 2020-03-02=18, 2020-03-03=24, 2020-03-04=38, 2020-03-05=82, 2020-03-06=128, 2020-03-07=188, 2020-03-08=265, 2020-03-09=321, 2020-03-10=382, 2020-03-11=503, 2020-03-12=503, 2020-03-13=806, 2020-03-14=962, 2020-03-15=1138, 2020-03-16=1416, 2020-03-17=1711, 2020-03-18=2058, 2020-03-19=2467, 2020-03-20=3003),\n",
              " Row(Country='New Zealand', 2020-01-22=0, 2020-01-23=0, 2020-01-24=0, 2020-01-25=0, 2020-01-26=0, 2020-01-27=0, 2020-01-28=0, 2020-01-29=0, 2020-01-30=0, 2020-01-31=0, 2020-02-01=0, 2020-02-02=0, 2020-02-03=0, 2020-02-04=0, 2020-02-05=0, 2020-02-06=0, 2020-02-07=0, 2020-02-08=0, 2020-02-09=0, 2020-02-10=0, 2020-02-11=0, 2020-02-12=0, 2020-02-13=0, 2020-02-14=0, 2020-02-15=0, 2020-02-16=0, 2020-02-17=0, 2020-02-18=0, 2020-02-19=0, 2020-02-20=0, 2020-02-21=0, 2020-02-22=0, 2020-02-23=0, 2020-02-24=0, 2020-02-25=0, 2020-02-26=0, 2020-02-27=0, 2020-02-28=1, 2020-02-29=1, 2020-03-01=1, 2020-03-02=1, 2020-03-03=1, 2020-03-04=3, 2020-03-05=3, 2020-03-06=4, 2020-03-07=5, 2020-03-08=5, 2020-03-09=5, 2020-03-10=5, 2020-03-11=5, 2020-03-12=5, 2020-03-13=5, 2020-03-14=6, 2020-03-15=8, 2020-03-16=8, 2020-03-17=12, 2020-03-18=20, 2020-03-19=28, 2020-03-20=39),\n",
              " Row(Country='Nicaragua', 2020-01-22=0, 2020-01-23=0, 2020-01-24=0, 2020-01-25=0, 2020-01-26=0, 2020-01-27=0, 2020-01-28=0, 2020-01-29=0, 2020-01-30=0, 2020-01-31=0, 2020-02-01=0, 2020-02-02=0, 2020-02-03=0, 2020-02-04=0, 2020-02-05=0, 2020-02-06=0, 2020-02-07=0, 2020-02-08=0, 2020-02-09=0, 2020-02-10=0, 2020-02-11=0, 2020-02-12=0, 2020-02-13=0, 2020-02-14=0, 2020-02-15=0, 2020-02-16=0, 2020-02-17=0, 2020-02-18=0, 2020-02-19=0, 2020-02-20=0, 2020-02-21=0, 2020-02-22=0, 2020-02-23=0, 2020-02-24=0, 2020-02-25=0, 2020-02-26=0, 2020-02-27=0, 2020-02-28=0, 2020-02-29=0, 2020-03-01=0, 2020-03-02=0, 2020-03-03=0, 2020-03-04=0, 2020-03-05=0, 2020-03-06=0, 2020-03-07=0, 2020-03-08=0, 2020-03-09=0, 2020-03-10=0, 2020-03-11=0, 2020-03-12=0, 2020-03-13=0, 2020-03-14=0, 2020-03-15=0, 2020-03-16=0, 2020-03-17=0, 2020-03-18=0, 2020-03-19=1, 2020-03-20=1),\n",
              " Row(Country='Niger', 2020-01-22=0, 2020-01-23=0, 2020-01-24=0, 2020-01-25=0, 2020-01-26=0, 2020-01-27=0, 2020-01-28=0, 2020-01-29=0, 2020-01-30=0, 2020-01-31=0, 2020-02-01=0, 2020-02-02=0, 2020-02-03=0, 2020-02-04=0, 2020-02-05=0, 2020-02-06=0, 2020-02-07=0, 2020-02-08=0, 2020-02-09=0, 2020-02-10=0, 2020-02-11=0, 2020-02-12=0, 2020-02-13=0, 2020-02-14=0, 2020-02-15=0, 2020-02-16=0, 2020-02-17=0, 2020-02-18=0, 2020-02-19=0, 2020-02-20=0, 2020-02-21=0, 2020-02-22=0, 2020-02-23=0, 2020-02-24=0, 2020-02-25=0, 2020-02-26=0, 2020-02-27=0, 2020-02-28=0, 2020-02-29=0, 2020-03-01=0, 2020-03-02=0, 2020-03-03=0, 2020-03-04=0, 2020-03-05=0, 2020-03-06=0, 2020-03-07=0, 2020-03-08=0, 2020-03-09=0, 2020-03-10=0, 2020-03-11=0, 2020-03-12=0, 2020-03-13=0, 2020-03-14=0, 2020-03-15=0, 2020-03-16=0, 2020-03-17=0, 2020-03-18=0, 2020-03-19=0, 2020-03-20=1),\n",
              " Row(Country='Nigeria', 2020-01-22=0, 2020-01-23=0, 2020-01-24=0, 2020-01-25=0, 2020-01-26=0, 2020-01-27=0, 2020-01-28=0, 2020-01-29=0, 2020-01-30=0, 2020-01-31=0, 2020-02-01=0, 2020-02-02=0, 2020-02-03=0, 2020-02-04=0, 2020-02-05=0, 2020-02-06=0, 2020-02-07=0, 2020-02-08=0, 2020-02-09=0, 2020-02-10=0, 2020-02-11=0, 2020-02-12=0, 2020-02-13=0, 2020-02-14=0, 2020-02-15=0, 2020-02-16=0, 2020-02-17=0, 2020-02-18=0, 2020-02-19=0, 2020-02-20=0, 2020-02-21=0, 2020-02-22=0, 2020-02-23=0, 2020-02-24=0, 2020-02-25=0, 2020-02-26=0, 2020-02-27=0, 2020-02-28=1, 2020-02-29=1, 2020-03-01=1, 2020-03-02=1, 2020-03-03=1, 2020-03-04=1, 2020-03-05=1, 2020-03-06=1, 2020-03-07=1, 2020-03-08=1, 2020-03-09=2, 2020-03-10=2, 2020-03-11=2, 2020-03-12=2, 2020-03-13=2, 2020-03-14=2, 2020-03-15=2, 2020-03-16=2, 2020-03-17=3, 2020-03-18=8, 2020-03-19=8, 2020-03-20=12),\n",
              " Row(Country='North Macedonia', 2020-01-22=0, 2020-01-23=0, 2020-01-24=0, 2020-01-25=0, 2020-01-26=0, 2020-01-27=0, 2020-01-28=0, 2020-01-29=0, 2020-01-30=0, 2020-01-31=0, 2020-02-01=0, 2020-02-02=0, 2020-02-03=0, 2020-02-04=0, 2020-02-05=0, 2020-02-06=0, 2020-02-07=0, 2020-02-08=0, 2020-02-09=0, 2020-02-10=0, 2020-02-11=0, 2020-02-12=0, 2020-02-13=0, 2020-02-14=0, 2020-02-15=0, 2020-02-16=0, 2020-02-17=0, 2020-02-18=0, 2020-02-19=0, 2020-02-20=0, 2020-02-21=0, 2020-02-22=0, 2020-02-23=0, 2020-02-24=0, 2020-02-25=0, 2020-02-26=1, 2020-02-27=1, 2020-02-28=1, 2020-02-29=1, 2020-03-01=1, 2020-03-02=1, 2020-03-03=1, 2020-03-04=1, 2020-03-05=1, 2020-03-06=3, 2020-03-07=3, 2020-03-08=3, 2020-03-09=3, 2020-03-10=7, 2020-03-11=7, 2020-03-12=7, 2020-03-13=14, 2020-03-14=14, 2020-03-15=14, 2020-03-16=18, 2020-03-17=26, 2020-03-18=35, 2020-03-19=48, 2020-03-20=67),\n",
              " Row(Country='Norway', 2020-01-22=0, 2020-01-23=0, 2020-01-24=0, 2020-01-25=0, 2020-01-26=0, 2020-01-27=0, 2020-01-28=0, 2020-01-29=0, 2020-01-30=0, 2020-01-31=0, 2020-02-01=0, 2020-02-02=0, 2020-02-03=0, 2020-02-04=0, 2020-02-05=0, 2020-02-06=0, 2020-02-07=0, 2020-02-08=0, 2020-02-09=0, 2020-02-10=0, 2020-02-11=0, 2020-02-12=0, 2020-02-13=0, 2020-02-14=0, 2020-02-15=0, 2020-02-16=0, 2020-02-17=0, 2020-02-18=0, 2020-02-19=0, 2020-02-20=0, 2020-02-21=0, 2020-02-22=0, 2020-02-23=0, 2020-02-24=0, 2020-02-25=0, 2020-02-26=1, 2020-02-27=1, 2020-02-28=6, 2020-02-29=15, 2020-03-01=19, 2020-03-02=25, 2020-03-03=32, 2020-03-04=56, 2020-03-05=87, 2020-03-06=108, 2020-03-07=147, 2020-03-08=176, 2020-03-09=205, 2020-03-10=400, 2020-03-11=598, 2020-03-12=702, 2020-03-13=996, 2020-03-14=1090, 2020-03-15=1221, 2020-03-16=1333, 2020-03-17=1463, 2020-03-18=1550, 2020-03-19=1746, 2020-03-20=1914),\n",
              " Row(Country='Oman', 2020-01-22=0, 2020-01-23=0, 2020-01-24=0, 2020-01-25=0, 2020-01-26=0, 2020-01-27=0, 2020-01-28=0, 2020-01-29=0, 2020-01-30=0, 2020-01-31=0, 2020-02-01=0, 2020-02-02=0, 2020-02-03=0, 2020-02-04=0, 2020-02-05=0, 2020-02-06=0, 2020-02-07=0, 2020-02-08=0, 2020-02-09=0, 2020-02-10=0, 2020-02-11=0, 2020-02-12=0, 2020-02-13=0, 2020-02-14=0, 2020-02-15=0, 2020-02-16=0, 2020-02-17=0, 2020-02-18=0, 2020-02-19=0, 2020-02-20=0, 2020-02-21=0, 2020-02-22=0, 2020-02-23=0, 2020-02-24=2, 2020-02-25=2, 2020-02-26=4, 2020-02-27=4, 2020-02-28=4, 2020-02-29=6, 2020-03-01=6, 2020-03-02=6, 2020-03-03=12, 2020-03-04=15, 2020-03-05=16, 2020-03-06=16, 2020-03-07=16, 2020-03-08=16, 2020-03-09=16, 2020-03-10=18, 2020-03-11=18, 2020-03-12=18, 2020-03-13=19, 2020-03-14=19, 2020-03-15=22, 2020-03-16=22, 2020-03-17=24, 2020-03-18=39, 2020-03-19=48, 2020-03-20=48),\n",
              " Row(Country='Pakistan', 2020-01-22=0, 2020-01-23=0, 2020-01-24=0, 2020-01-25=0, 2020-01-26=0, 2020-01-27=0, 2020-01-28=0, 2020-01-29=0, 2020-01-30=0, 2020-01-31=0, 2020-02-01=0, 2020-02-02=0, 2020-02-03=0, 2020-02-04=0, 2020-02-05=0, 2020-02-06=0, 2020-02-07=0, 2020-02-08=0, 2020-02-09=0, 2020-02-10=0, 2020-02-11=0, 2020-02-12=0, 2020-02-13=0, 2020-02-14=0, 2020-02-15=0, 2020-02-16=0, 2020-02-17=0, 2020-02-18=0, 2020-02-19=0, 2020-02-20=0, 2020-02-21=0, 2020-02-22=0, 2020-02-23=0, 2020-02-24=0, 2020-02-25=0, 2020-02-26=2, 2020-02-27=2, 2020-02-28=2, 2020-02-29=4, 2020-03-01=4, 2020-03-02=4, 2020-03-03=5, 2020-03-04=5, 2020-03-05=5, 2020-03-06=6, 2020-03-07=6, 2020-03-08=6, 2020-03-09=6, 2020-03-10=16, 2020-03-11=19, 2020-03-12=20, 2020-03-13=28, 2020-03-14=31, 2020-03-15=53, 2020-03-16=136, 2020-03-17=236, 2020-03-18=299, 2020-03-19=454, 2020-03-20=501),\n",
              " Row(Country='Panama', 2020-01-22=0, 2020-01-23=0, 2020-01-24=0, 2020-01-25=0, 2020-01-26=0, 2020-01-27=0, 2020-01-28=0, 2020-01-29=0, 2020-01-30=0, 2020-01-31=0, 2020-02-01=0, 2020-02-02=0, 2020-02-03=0, 2020-02-04=0, 2020-02-05=0, 2020-02-06=0, 2020-02-07=0, 2020-02-08=0, 2020-02-09=0, 2020-02-10=0, 2020-02-11=0, 2020-02-12=0, 2020-02-13=0, 2020-02-14=0, 2020-02-15=0, 2020-02-16=0, 2020-02-17=0, 2020-02-18=0, 2020-02-19=0, 2020-02-20=0, 2020-02-21=0, 2020-02-22=0, 2020-02-23=0, 2020-02-24=0, 2020-02-25=0, 2020-02-26=0, 2020-02-27=0, 2020-02-28=0, 2020-02-29=0, 2020-03-01=0, 2020-03-02=0, 2020-03-03=0, 2020-03-04=0, 2020-03-05=0, 2020-03-06=0, 2020-03-07=0, 2020-03-08=0, 2020-03-09=0, 2020-03-10=1, 2020-03-11=8, 2020-03-12=11, 2020-03-13=27, 2020-03-14=36, 2020-03-15=43, 2020-03-16=55, 2020-03-17=69, 2020-03-18=86, 2020-03-19=109, 2020-03-20=137),\n",
              " Row(Country='Papua New Guinea', 2020-01-22=0, 2020-01-23=0, 2020-01-24=0, 2020-01-25=0, 2020-01-26=0, 2020-01-27=0, 2020-01-28=0, 2020-01-29=0, 2020-01-30=0, 2020-01-31=0, 2020-02-01=0, 2020-02-02=0, 2020-02-03=0, 2020-02-04=0, 2020-02-05=0, 2020-02-06=0, 2020-02-07=0, 2020-02-08=0, 2020-02-09=0, 2020-02-10=0, 2020-02-11=0, 2020-02-12=0, 2020-02-13=0, 2020-02-14=0, 2020-02-15=0, 2020-02-16=0, 2020-02-17=0, 2020-02-18=0, 2020-02-19=0, 2020-02-20=0, 2020-02-21=0, 2020-02-22=0, 2020-02-23=0, 2020-02-24=0, 2020-02-25=0, 2020-02-26=0, 2020-02-27=0, 2020-02-28=0, 2020-02-29=0, 2020-03-01=0, 2020-03-02=0, 2020-03-03=0, 2020-03-04=0, 2020-03-05=0, 2020-03-06=0, 2020-03-07=0, 2020-03-08=0, 2020-03-09=0, 2020-03-10=0, 2020-03-11=0, 2020-03-12=0, 2020-03-13=0, 2020-03-14=0, 2020-03-15=0, 2020-03-16=0, 2020-03-17=0, 2020-03-18=0, 2020-03-19=0, 2020-03-20=1),\n",
              " Row(Country='Paraguay', 2020-01-22=0, 2020-01-23=0, 2020-01-24=0, 2020-01-25=0, 2020-01-26=0, 2020-01-27=0, 2020-01-28=0, 2020-01-29=0, 2020-01-30=0, 2020-01-31=0, 2020-02-01=0, 2020-02-02=0, 2020-02-03=0, 2020-02-04=0, 2020-02-05=0, 2020-02-06=0, 2020-02-07=0, 2020-02-08=0, 2020-02-09=0, 2020-02-10=0, 2020-02-11=0, 2020-02-12=0, 2020-02-13=0, 2020-02-14=0, 2020-02-15=0, 2020-02-16=0, 2020-02-17=0, 2020-02-18=0, 2020-02-19=0, 2020-02-20=0, 2020-02-21=0, 2020-02-22=0, 2020-02-23=0, 2020-02-24=0, 2020-02-25=0, 2020-02-26=0, 2020-02-27=0, 2020-02-28=0, 2020-02-29=0, 2020-03-01=0, 2020-03-02=0, 2020-03-03=0, 2020-03-04=0, 2020-03-05=0, 2020-03-06=0, 2020-03-07=0, 2020-03-08=1, 2020-03-09=1, 2020-03-10=1, 2020-03-11=5, 2020-03-12=5, 2020-03-13=6, 2020-03-14=6, 2020-03-15=6, 2020-03-16=8, 2020-03-17=9, 2020-03-18=11, 2020-03-19=11, 2020-03-20=13),\n",
              " Row(Country='Peru', 2020-01-22=0, 2020-01-23=0, 2020-01-24=0, 2020-01-25=0, 2020-01-26=0, 2020-01-27=0, 2020-01-28=0, 2020-01-29=0, 2020-01-30=0, 2020-01-31=0, 2020-02-01=0, 2020-02-02=0, 2020-02-03=0, 2020-02-04=0, 2020-02-05=0, 2020-02-06=0, 2020-02-07=0, 2020-02-08=0, 2020-02-09=0, 2020-02-10=0, 2020-02-11=0, 2020-02-12=0, 2020-02-13=0, 2020-02-14=0, 2020-02-15=0, 2020-02-16=0, 2020-02-17=0, 2020-02-18=0, 2020-02-19=0, 2020-02-20=0, 2020-02-21=0, 2020-02-22=0, 2020-02-23=0, 2020-02-24=0, 2020-02-25=0, 2020-02-26=0, 2020-02-27=0, 2020-02-28=0, 2020-02-29=0, 2020-03-01=0, 2020-03-02=0, 2020-03-03=0, 2020-03-04=0, 2020-03-05=0, 2020-03-06=1, 2020-03-07=1, 2020-03-08=6, 2020-03-09=7, 2020-03-10=11, 2020-03-11=11, 2020-03-12=15, 2020-03-13=28, 2020-03-14=38, 2020-03-15=43, 2020-03-16=86, 2020-03-17=117, 2020-03-18=145, 2020-03-19=234, 2020-03-20=234),\n",
              " Row(Country='Philippines', 2020-01-22=0, 2020-01-23=0, 2020-01-24=0, 2020-01-25=0, 2020-01-26=0, 2020-01-27=0, 2020-01-28=0, 2020-01-29=0, 2020-01-30=1, 2020-01-31=1, 2020-02-01=1, 2020-02-02=2, 2020-02-03=2, 2020-02-04=2, 2020-02-05=2, 2020-02-06=2, 2020-02-07=3, 2020-02-08=3, 2020-02-09=3, 2020-02-10=3, 2020-02-11=3, 2020-02-12=3, 2020-02-13=3, 2020-02-14=3, 2020-02-15=3, 2020-02-16=3, 2020-02-17=3, 2020-02-18=3, 2020-02-19=3, 2020-02-20=3, 2020-02-21=3, 2020-02-22=3, 2020-02-23=3, 2020-02-24=3, 2020-02-25=3, 2020-02-26=3, 2020-02-27=3, 2020-02-28=3, 2020-02-29=3, 2020-03-01=3, 2020-03-02=3, 2020-03-03=3, 2020-03-04=3, 2020-03-05=3, 2020-03-06=5, 2020-03-07=6, 2020-03-08=10, 2020-03-09=20, 2020-03-10=33, 2020-03-11=49, 2020-03-12=52, 2020-03-13=64, 2020-03-14=111, 2020-03-15=140, 2020-03-16=142, 2020-03-17=187, 2020-03-18=202, 2020-03-19=217, 2020-03-20=230),\n",
              " Row(Country='Poland', 2020-01-22=0, 2020-01-23=0, 2020-01-24=0, 2020-01-25=0, 2020-01-26=0, 2020-01-27=0, 2020-01-28=0, 2020-01-29=0, 2020-01-30=0, 2020-01-31=0, 2020-02-01=0, 2020-02-02=0, 2020-02-03=0, 2020-02-04=0, 2020-02-05=0, 2020-02-06=0, 2020-02-07=0, 2020-02-08=0, 2020-02-09=0, 2020-02-10=0, 2020-02-11=0, 2020-02-12=0, 2020-02-13=0, 2020-02-14=0, 2020-02-15=0, 2020-02-16=0, 2020-02-17=0, 2020-02-18=0, 2020-02-19=0, 2020-02-20=0, 2020-02-21=0, 2020-02-22=0, 2020-02-23=0, 2020-02-24=0, 2020-02-25=0, 2020-02-26=0, 2020-02-27=0, 2020-02-28=0, 2020-02-29=0, 2020-03-01=0, 2020-03-02=0, 2020-03-03=0, 2020-03-04=1, 2020-03-05=1, 2020-03-06=5, 2020-03-07=5, 2020-03-08=11, 2020-03-09=16, 2020-03-10=22, 2020-03-11=31, 2020-03-12=49, 2020-03-13=68, 2020-03-14=103, 2020-03-15=119, 2020-03-16=177, 2020-03-17=238, 2020-03-18=251, 2020-03-19=355, 2020-03-20=425),\n",
              " Row(Country='Portugal', 2020-01-22=0, 2020-01-23=0, 2020-01-24=0, 2020-01-25=0, 2020-01-26=0, 2020-01-27=0, 2020-01-28=0, 2020-01-29=0, 2020-01-30=0, 2020-01-31=0, 2020-02-01=0, 2020-02-02=0, 2020-02-03=0, 2020-02-04=0, 2020-02-05=0, 2020-02-06=0, 2020-02-07=0, 2020-02-08=0, 2020-02-09=0, 2020-02-10=0, 2020-02-11=0, 2020-02-12=0, 2020-02-13=0, 2020-02-14=0, 2020-02-15=0, 2020-02-16=0, 2020-02-17=0, 2020-02-18=0, 2020-02-19=0, 2020-02-20=0, 2020-02-21=0, 2020-02-22=0, 2020-02-23=0, 2020-02-24=0, 2020-02-25=0, 2020-02-26=0, 2020-02-27=0, 2020-02-28=0, 2020-02-29=0, 2020-03-01=0, 2020-03-02=2, 2020-03-03=2, 2020-03-04=5, 2020-03-05=8, 2020-03-06=13, 2020-03-07=20, 2020-03-08=30, 2020-03-09=30, 2020-03-10=41, 2020-03-11=59, 2020-03-12=59, 2020-03-13=112, 2020-03-14=169, 2020-03-15=245, 2020-03-16=331, 2020-03-17=448, 2020-03-18=448, 2020-03-19=785, 2020-03-20=1020),\n",
              " Row(Country='Qatar', 2020-01-22=0, 2020-01-23=0, 2020-01-24=0, 2020-01-25=0, 2020-01-26=0, 2020-01-27=0, 2020-01-28=0, 2020-01-29=0, 2020-01-30=0, 2020-01-31=0, 2020-02-01=0, 2020-02-02=0, 2020-02-03=0, 2020-02-04=0, 2020-02-05=0, 2020-02-06=0, 2020-02-07=0, 2020-02-08=0, 2020-02-09=0, 2020-02-10=0, 2020-02-11=0, 2020-02-12=0, 2020-02-13=0, 2020-02-14=0, 2020-02-15=0, 2020-02-16=0, 2020-02-17=0, 2020-02-18=0, 2020-02-19=0, 2020-02-20=0, 2020-02-21=0, 2020-02-22=0, 2020-02-23=0, 2020-02-24=0, 2020-02-25=0, 2020-02-26=0, 2020-02-27=0, 2020-02-28=0, 2020-02-29=1, 2020-03-01=3, 2020-03-02=3, 2020-03-03=7, 2020-03-04=8, 2020-03-05=8, 2020-03-06=8, 2020-03-07=8, 2020-03-08=15, 2020-03-09=18, 2020-03-10=24, 2020-03-11=262, 2020-03-12=262, 2020-03-13=320, 2020-03-14=337, 2020-03-15=401, 2020-03-16=439, 2020-03-17=439, 2020-03-18=452, 2020-03-19=460, 2020-03-20=470),\n",
              " Row(Country='Romania', 2020-01-22=0, 2020-01-23=0, 2020-01-24=0, 2020-01-25=0, 2020-01-26=0, 2020-01-27=0, 2020-01-28=0, 2020-01-29=0, 2020-01-30=0, 2020-01-31=0, 2020-02-01=0, 2020-02-02=0, 2020-02-03=0, 2020-02-04=0, 2020-02-05=0, 2020-02-06=0, 2020-02-07=0, 2020-02-08=0, 2020-02-09=0, 2020-02-10=0, 2020-02-11=0, 2020-02-12=0, 2020-02-13=0, 2020-02-14=0, 2020-02-15=0, 2020-02-16=0, 2020-02-17=0, 2020-02-18=0, 2020-02-19=0, 2020-02-20=0, 2020-02-21=0, 2020-02-22=0, 2020-02-23=0, 2020-02-24=0, 2020-02-25=0, 2020-02-26=1, 2020-02-27=1, 2020-02-28=3, 2020-02-29=3, 2020-03-01=3, 2020-03-02=3, 2020-03-03=3, 2020-03-04=4, 2020-03-05=6, 2020-03-06=9, 2020-03-07=9, 2020-03-08=15, 2020-03-09=15, 2020-03-10=25, 2020-03-11=45, 2020-03-12=49, 2020-03-13=89, 2020-03-14=123, 2020-03-15=131, 2020-03-16=158, 2020-03-17=184, 2020-03-18=260, 2020-03-19=277, 2020-03-20=308),\n",
              " Row(Country='Russia', 2020-01-22=0, 2020-01-23=0, 2020-01-24=0, 2020-01-25=0, 2020-01-26=0, 2020-01-27=0, 2020-01-28=0, 2020-01-29=0, 2020-01-30=0, 2020-01-31=2, 2020-02-01=2, 2020-02-02=2, 2020-02-03=2, 2020-02-04=2, 2020-02-05=2, 2020-02-06=2, 2020-02-07=2, 2020-02-08=2, 2020-02-09=2, 2020-02-10=2, 2020-02-11=2, 2020-02-12=2, 2020-02-13=2, 2020-02-14=2, 2020-02-15=2, 2020-02-16=2, 2020-02-17=2, 2020-02-18=2, 2020-02-19=2, 2020-02-20=2, 2020-02-21=2, 2020-02-22=2, 2020-02-23=2, 2020-02-24=2, 2020-02-25=2, 2020-02-26=2, 2020-02-27=2, 2020-02-28=2, 2020-02-29=2, 2020-03-01=2, 2020-03-02=3, 2020-03-03=3, 2020-03-04=3, 2020-03-05=4, 2020-03-06=13, 2020-03-07=13, 2020-03-08=17, 2020-03-09=17, 2020-03-10=20, 2020-03-11=20, 2020-03-12=28, 2020-03-13=45, 2020-03-14=59, 2020-03-15=63, 2020-03-16=90, 2020-03-17=114, 2020-03-18=147, 2020-03-19=199, 2020-03-20=253),\n",
              " Row(Country='Rwanda', 2020-01-22=0, 2020-01-23=0, 2020-01-24=0, 2020-01-25=0, 2020-01-26=0, 2020-01-27=0, 2020-01-28=0, 2020-01-29=0, 2020-01-30=0, 2020-01-31=0, 2020-02-01=0, 2020-02-02=0, 2020-02-03=0, 2020-02-04=0, 2020-02-05=0, 2020-02-06=0, 2020-02-07=0, 2020-02-08=0, 2020-02-09=0, 2020-02-10=0, 2020-02-11=0, 2020-02-12=0, 2020-02-13=0, 2020-02-14=0, 2020-02-15=0, 2020-02-16=0, 2020-02-17=0, 2020-02-18=0, 2020-02-19=0, 2020-02-20=0, 2020-02-21=0, 2020-02-22=0, 2020-02-23=0, 2020-02-24=0, 2020-02-25=0, 2020-02-26=0, 2020-02-27=0, 2020-02-28=0, 2020-02-29=0, 2020-03-01=0, 2020-03-02=0, 2020-03-03=0, 2020-03-04=0, 2020-03-05=0, 2020-03-06=0, 2020-03-07=0, 2020-03-08=0, 2020-03-09=0, 2020-03-10=0, 2020-03-11=0, 2020-03-12=0, 2020-03-13=0, 2020-03-14=1, 2020-03-15=1, 2020-03-16=5, 2020-03-17=7, 2020-03-18=8, 2020-03-19=8, 2020-03-20=17),\n",
              " Row(Country='Saint Lucia', 2020-01-22=0, 2020-01-23=0, 2020-01-24=0, 2020-01-25=0, 2020-01-26=0, 2020-01-27=0, 2020-01-28=0, 2020-01-29=0, 2020-01-30=0, 2020-01-31=0, 2020-02-01=0, 2020-02-02=0, 2020-02-03=0, 2020-02-04=0, 2020-02-05=0, 2020-02-06=0, 2020-02-07=0, 2020-02-08=0, 2020-02-09=0, 2020-02-10=0, 2020-02-11=0, 2020-02-12=0, 2020-02-13=0, 2020-02-14=0, 2020-02-15=0, 2020-02-16=0, 2020-02-17=0, 2020-02-18=0, 2020-02-19=0, 2020-02-20=0, 2020-02-21=0, 2020-02-22=0, 2020-02-23=0, 2020-02-24=0, 2020-02-25=0, 2020-02-26=0, 2020-02-27=0, 2020-02-28=0, 2020-02-29=0, 2020-03-01=0, 2020-03-02=0, 2020-03-03=0, 2020-03-04=0, 2020-03-05=0, 2020-03-06=0, 2020-03-07=0, 2020-03-08=0, 2020-03-09=0, 2020-03-10=0, 2020-03-11=0, 2020-03-12=0, 2020-03-13=0, 2020-03-14=1, 2020-03-15=2, 2020-03-16=2, 2020-03-17=2, 2020-03-18=2, 2020-03-19=2, 2020-03-20=2),\n",
              " Row(Country='Saint Vincent and the Grenadines', 2020-01-22=0, 2020-01-23=0, 2020-01-24=0, 2020-01-25=0, 2020-01-26=0, 2020-01-27=0, 2020-01-28=0, 2020-01-29=0, 2020-01-30=0, 2020-01-31=0, 2020-02-01=0, 2020-02-02=0, 2020-02-03=0, 2020-02-04=0, 2020-02-05=0, 2020-02-06=0, 2020-02-07=0, 2020-02-08=0, 2020-02-09=0, 2020-02-10=0, 2020-02-11=0, 2020-02-12=0, 2020-02-13=0, 2020-02-14=0, 2020-02-15=0, 2020-02-16=0, 2020-02-17=0, 2020-02-18=0, 2020-02-19=0, 2020-02-20=0, 2020-02-21=0, 2020-02-22=0, 2020-02-23=0, 2020-02-24=0, 2020-02-25=0, 2020-02-26=0, 2020-02-27=0, 2020-02-28=0, 2020-02-29=0, 2020-03-01=0, 2020-03-02=0, 2020-03-03=0, 2020-03-04=0, 2020-03-05=0, 2020-03-06=0, 2020-03-07=0, 2020-03-08=0, 2020-03-09=0, 2020-03-10=0, 2020-03-11=0, 2020-03-12=0, 2020-03-13=0, 2020-03-14=1, 2020-03-15=1, 2020-03-16=1, 2020-03-17=1, 2020-03-18=1, 2020-03-19=1, 2020-03-20=1),\n",
              " Row(Country='San Marino', 2020-01-22=0, 2020-01-23=0, 2020-01-24=0, 2020-01-25=0, 2020-01-26=0, 2020-01-27=0, 2020-01-28=0, 2020-01-29=0, 2020-01-30=0, 2020-01-31=0, 2020-02-01=0, 2020-02-02=0, 2020-02-03=0, 2020-02-04=0, 2020-02-05=0, 2020-02-06=0, 2020-02-07=0, 2020-02-08=0, 2020-02-09=0, 2020-02-10=0, 2020-02-11=0, 2020-02-12=0, 2020-02-13=0, 2020-02-14=0, 2020-02-15=0, 2020-02-16=0, 2020-02-17=0, 2020-02-18=0, 2020-02-19=0, 2020-02-20=0, 2020-02-21=0, 2020-02-22=0, 2020-02-23=0, 2020-02-24=0, 2020-02-25=0, 2020-02-26=0, 2020-02-27=1, 2020-02-28=1, 2020-02-29=1, 2020-03-01=1, 2020-03-02=8, 2020-03-03=10, 2020-03-04=16, 2020-03-05=21, 2020-03-06=21, 2020-03-07=23, 2020-03-08=36, 2020-03-09=36, 2020-03-10=51, 2020-03-11=62, 2020-03-12=69, 2020-03-13=80, 2020-03-14=80, 2020-03-15=101, 2020-03-16=109, 2020-03-17=109, 2020-03-18=119, 2020-03-19=119, 2020-03-20=144),\n",
              " Row(Country='Saudi Arabia', 2020-01-22=0, 2020-01-23=0, 2020-01-24=0, 2020-01-25=0, 2020-01-26=0, 2020-01-27=0, 2020-01-28=0, 2020-01-29=0, 2020-01-30=0, 2020-01-31=0, 2020-02-01=0, 2020-02-02=0, 2020-02-03=0, 2020-02-04=0, 2020-02-05=0, 2020-02-06=0, 2020-02-07=0, 2020-02-08=0, 2020-02-09=0, 2020-02-10=0, 2020-02-11=0, 2020-02-12=0, 2020-02-13=0, 2020-02-14=0, 2020-02-15=0, 2020-02-16=0, 2020-02-17=0, 2020-02-18=0, 2020-02-19=0, 2020-02-20=0, 2020-02-21=0, 2020-02-22=0, 2020-02-23=0, 2020-02-24=0, 2020-02-25=0, 2020-02-26=0, 2020-02-27=0, 2020-02-28=0, 2020-02-29=0, 2020-03-01=0, 2020-03-02=1, 2020-03-03=1, 2020-03-04=1, 2020-03-05=5, 2020-03-06=5, 2020-03-07=5, 2020-03-08=11, 2020-03-09=15, 2020-03-10=20, 2020-03-11=21, 2020-03-12=45, 2020-03-13=86, 2020-03-14=103, 2020-03-15=103, 2020-03-16=118, 2020-03-17=171, 2020-03-18=171, 2020-03-19=274, 2020-03-20=344),\n",
              " Row(Country='Senegal', 2020-01-22=0, 2020-01-23=0, 2020-01-24=0, 2020-01-25=0, 2020-01-26=0, 2020-01-27=0, 2020-01-28=0, 2020-01-29=0, 2020-01-30=0, 2020-01-31=0, 2020-02-01=0, 2020-02-02=0, 2020-02-03=0, 2020-02-04=0, 2020-02-05=0, 2020-02-06=0, 2020-02-07=0, 2020-02-08=0, 2020-02-09=0, 2020-02-10=0, 2020-02-11=0, 2020-02-12=0, 2020-02-13=0, 2020-02-14=0, 2020-02-15=0, 2020-02-16=0, 2020-02-17=0, 2020-02-18=0, 2020-02-19=0, 2020-02-20=0, 2020-02-21=0, 2020-02-22=0, 2020-02-23=0, 2020-02-24=0, 2020-02-25=0, 2020-02-26=0, 2020-02-27=0, 2020-02-28=0, 2020-02-29=0, 2020-03-01=0, 2020-03-02=1, 2020-03-03=2, 2020-03-04=4, 2020-03-05=4, 2020-03-06=4, 2020-03-07=4, 2020-03-08=4, 2020-03-09=4, 2020-03-10=4, 2020-03-11=4, 2020-03-12=4, 2020-03-13=10, 2020-03-14=10, 2020-03-15=24, 2020-03-16=24, 2020-03-17=26, 2020-03-18=31, 2020-03-19=31, 2020-03-20=38),\n",
              " Row(Country='Serbia', 2020-01-22=0, 2020-01-23=0, 2020-01-24=0, 2020-01-25=0, 2020-01-26=0, 2020-01-27=0, 2020-01-28=0, 2020-01-29=0, 2020-01-30=0, 2020-01-31=0, 2020-02-01=0, 2020-02-02=0, 2020-02-03=0, 2020-02-04=0, 2020-02-05=0, 2020-02-06=0, 2020-02-07=0, 2020-02-08=0, 2020-02-09=0, 2020-02-10=0, 2020-02-11=0, 2020-02-12=0, 2020-02-13=0, 2020-02-14=0, 2020-02-15=0, 2020-02-16=0, 2020-02-17=0, 2020-02-18=0, 2020-02-19=0, 2020-02-20=0, 2020-02-21=0, 2020-02-22=0, 2020-02-23=0, 2020-02-24=0, 2020-02-25=0, 2020-02-26=0, 2020-02-27=0, 2020-02-28=0, 2020-02-29=0, 2020-03-01=0, 2020-03-02=0, 2020-03-03=0, 2020-03-04=0, 2020-03-05=0, 2020-03-06=1, 2020-03-07=1, 2020-03-08=1, 2020-03-09=1, 2020-03-10=5, 2020-03-11=12, 2020-03-12=19, 2020-03-13=35, 2020-03-14=46, 2020-03-15=48, 2020-03-16=55, 2020-03-17=65, 2020-03-18=83, 2020-03-19=103, 2020-03-20=135),\n",
              " Row(Country='Seychelles', 2020-01-22=0, 2020-01-23=0, 2020-01-24=0, 2020-01-25=0, 2020-01-26=0, 2020-01-27=0, 2020-01-28=0, 2020-01-29=0, 2020-01-30=0, 2020-01-31=0, 2020-02-01=0, 2020-02-02=0, 2020-02-03=0, 2020-02-04=0, 2020-02-05=0, 2020-02-06=0, 2020-02-07=0, 2020-02-08=0, 2020-02-09=0, 2020-02-10=0, 2020-02-11=0, 2020-02-12=0, 2020-02-13=0, 2020-02-14=0, 2020-02-15=0, 2020-02-16=0, 2020-02-17=0, 2020-02-18=0, 2020-02-19=0, 2020-02-20=0, 2020-02-21=0, 2020-02-22=0, 2020-02-23=0, 2020-02-24=0, 2020-02-25=0, 2020-02-26=0, 2020-02-27=0, 2020-02-28=0, 2020-02-29=0, 2020-03-01=0, 2020-03-02=0, 2020-03-03=0, 2020-03-04=0, 2020-03-05=0, 2020-03-06=0, 2020-03-07=0, 2020-03-08=0, 2020-03-09=0, 2020-03-10=0, 2020-03-11=0, 2020-03-12=0, 2020-03-13=0, 2020-03-14=2, 2020-03-15=2, 2020-03-16=3, 2020-03-17=4, 2020-03-18=4, 2020-03-19=6, 2020-03-20=7),\n",
              " Row(Country='Singapore', 2020-01-22=0, 2020-01-23=1, 2020-01-24=3, 2020-01-25=3, 2020-01-26=4, 2020-01-27=5, 2020-01-28=7, 2020-01-29=7, 2020-01-30=10, 2020-01-31=13, 2020-02-01=16, 2020-02-02=18, 2020-02-03=18, 2020-02-04=24, 2020-02-05=28, 2020-02-06=28, 2020-02-07=30, 2020-02-08=33, 2020-02-09=40, 2020-02-10=45, 2020-02-11=47, 2020-02-12=50, 2020-02-13=58, 2020-02-14=67, 2020-02-15=72, 2020-02-16=75, 2020-02-17=77, 2020-02-18=81, 2020-02-19=84, 2020-02-20=84, 2020-02-21=85, 2020-02-22=85, 2020-02-23=89, 2020-02-24=89, 2020-02-25=91, 2020-02-26=93, 2020-02-27=93, 2020-02-28=93, 2020-02-29=102, 2020-03-01=106, 2020-03-02=108, 2020-03-03=110, 2020-03-04=110, 2020-03-05=117, 2020-03-06=130, 2020-03-07=138, 2020-03-08=150, 2020-03-09=150, 2020-03-10=160, 2020-03-11=178, 2020-03-12=178, 2020-03-13=200, 2020-03-14=212, 2020-03-15=226, 2020-03-16=243, 2020-03-17=266, 2020-03-18=313, 2020-03-19=345, 2020-03-20=385),\n",
              " Row(Country='Slovakia', 2020-01-22=0, 2020-01-23=0, 2020-01-24=0, 2020-01-25=0, 2020-01-26=0, 2020-01-27=0, 2020-01-28=0, 2020-01-29=0, 2020-01-30=0, 2020-01-31=0, 2020-02-01=0, 2020-02-02=0, 2020-02-03=0, 2020-02-04=0, 2020-02-05=0, 2020-02-06=0, 2020-02-07=0, 2020-02-08=0, 2020-02-09=0, 2020-02-10=0, 2020-02-11=0, 2020-02-12=0, 2020-02-13=0, 2020-02-14=0, 2020-02-15=0, 2020-02-16=0, 2020-02-17=0, 2020-02-18=0, 2020-02-19=0, 2020-02-20=0, 2020-02-21=0, 2020-02-22=0, 2020-02-23=0, 2020-02-24=0, 2020-02-25=0, 2020-02-26=0, 2020-02-27=0, 2020-02-28=0, 2020-02-29=0, 2020-03-01=0, 2020-03-02=0, 2020-03-03=0, 2020-03-04=0, 2020-03-05=0, 2020-03-06=1, 2020-03-07=1, 2020-03-08=3, 2020-03-09=3, 2020-03-10=7, 2020-03-11=10, 2020-03-12=16, 2020-03-13=32, 2020-03-14=44, 2020-03-15=54, 2020-03-16=63, 2020-03-17=72, 2020-03-18=105, 2020-03-19=123, 2020-03-20=137),\n",
              " Row(Country='Slovenia', 2020-01-22=0, 2020-01-23=0, 2020-01-24=0, 2020-01-25=0, 2020-01-26=0, 2020-01-27=0, 2020-01-28=0, 2020-01-29=0, 2020-01-30=0, 2020-01-31=0, 2020-02-01=0, 2020-02-02=0, 2020-02-03=0, 2020-02-04=0, 2020-02-05=0, 2020-02-06=0, 2020-02-07=0, 2020-02-08=0, 2020-02-09=0, 2020-02-10=0, 2020-02-11=0, 2020-02-12=0, 2020-02-13=0, 2020-02-14=0, 2020-02-15=0, 2020-02-16=0, 2020-02-17=0, 2020-02-18=0, 2020-02-19=0, 2020-02-20=0, 2020-02-21=0, 2020-02-22=0, 2020-02-23=0, 2020-02-24=0, 2020-02-25=0, 2020-02-26=0, 2020-02-27=0, 2020-02-28=0, 2020-02-29=0, 2020-03-01=0, 2020-03-02=0, 2020-03-03=0, 2020-03-04=0, 2020-03-05=2, 2020-03-06=7, 2020-03-07=7, 2020-03-08=16, 2020-03-09=16, 2020-03-10=31, 2020-03-11=57, 2020-03-12=89, 2020-03-13=141, 2020-03-14=181, 2020-03-15=219, 2020-03-16=253, 2020-03-17=275, 2020-03-18=275, 2020-03-19=286, 2020-03-20=341),\n",
              " Row(Country='Somalia', 2020-01-22=0, 2020-01-23=0, 2020-01-24=0, 2020-01-25=0, 2020-01-26=0, 2020-01-27=0, 2020-01-28=0, 2020-01-29=0, 2020-01-30=0, 2020-01-31=0, 2020-02-01=0, 2020-02-02=0, 2020-02-03=0, 2020-02-04=0, 2020-02-05=0, 2020-02-06=0, 2020-02-07=0, 2020-02-08=0, 2020-02-09=0, 2020-02-10=0, 2020-02-11=0, 2020-02-12=0, 2020-02-13=0, 2020-02-14=0, 2020-02-15=0, 2020-02-16=0, 2020-02-17=0, 2020-02-18=0, 2020-02-19=0, 2020-02-20=0, 2020-02-21=0, 2020-02-22=0, 2020-02-23=0, 2020-02-24=0, 2020-02-25=0, 2020-02-26=0, 2020-02-27=0, 2020-02-28=0, 2020-02-29=0, 2020-03-01=0, 2020-03-02=0, 2020-03-03=0, 2020-03-04=0, 2020-03-05=0, 2020-03-06=0, 2020-03-07=0, 2020-03-08=0, 2020-03-09=0, 2020-03-10=0, 2020-03-11=0, 2020-03-12=0, 2020-03-13=0, 2020-03-14=0, 2020-03-15=0, 2020-03-16=1, 2020-03-17=1, 2020-03-18=1, 2020-03-19=1, 2020-03-20=1),\n",
              " Row(Country='South Africa', 2020-01-22=0, 2020-01-23=0, 2020-01-24=0, 2020-01-25=0, 2020-01-26=0, 2020-01-27=0, 2020-01-28=0, 2020-01-29=0, 2020-01-30=0, 2020-01-31=0, 2020-02-01=0, 2020-02-02=0, 2020-02-03=0, 2020-02-04=0, 2020-02-05=0, 2020-02-06=0, 2020-02-07=0, 2020-02-08=0, 2020-02-09=0, 2020-02-10=0, 2020-02-11=0, 2020-02-12=0, 2020-02-13=0, 2020-02-14=0, 2020-02-15=0, 2020-02-16=0, 2020-02-17=0, 2020-02-18=0, 2020-02-19=0, 2020-02-20=0, 2020-02-21=0, 2020-02-22=0, 2020-02-23=0, 2020-02-24=0, 2020-02-25=0, 2020-02-26=0, 2020-02-27=0, 2020-02-28=0, 2020-02-29=0, 2020-03-01=0, 2020-03-02=0, 2020-03-03=0, 2020-03-04=0, 2020-03-05=1, 2020-03-06=1, 2020-03-07=1, 2020-03-08=3, 2020-03-09=3, 2020-03-10=7, 2020-03-11=13, 2020-03-12=17, 2020-03-13=24, 2020-03-14=38, 2020-03-15=51, 2020-03-16=62, 2020-03-17=62, 2020-03-18=116, 2020-03-19=150, 2020-03-20=202),\n",
              " Row(Country='Spain', 2020-01-22=0, 2020-01-23=0, 2020-01-24=0, 2020-01-25=0, 2020-01-26=0, 2020-01-27=0, 2020-01-28=0, 2020-01-29=0, 2020-01-30=0, 2020-01-31=0, 2020-02-01=1, 2020-02-02=1, 2020-02-03=1, 2020-02-04=1, 2020-02-05=1, 2020-02-06=1, 2020-02-07=1, 2020-02-08=1, 2020-02-09=2, 2020-02-10=2, 2020-02-11=2, 2020-02-12=2, 2020-02-13=2, 2020-02-14=2, 2020-02-15=2, 2020-02-16=2, 2020-02-17=2, 2020-02-18=2, 2020-02-19=2, 2020-02-20=2, 2020-02-21=2, 2020-02-22=2, 2020-02-23=2, 2020-02-24=2, 2020-02-25=6, 2020-02-26=13, 2020-02-27=15, 2020-02-28=32, 2020-02-29=45, 2020-03-01=84, 2020-03-02=120, 2020-03-03=165, 2020-03-04=222, 2020-03-05=259, 2020-03-06=400, 2020-03-07=500, 2020-03-08=673, 2020-03-09=1073, 2020-03-10=1695, 2020-03-11=2277, 2020-03-12=2277, 2020-03-13=5232, 2020-03-14=6391, 2020-03-15=7798, 2020-03-16=9942, 2020-03-17=11748, 2020-03-18=13910, 2020-03-19=17963, 2020-03-20=20410),\n",
              " Row(Country='Sri Lanka', 2020-01-22=0, 2020-01-23=0, 2020-01-24=0, 2020-01-25=0, 2020-01-26=0, 2020-01-27=1, 2020-01-28=1, 2020-01-29=1, 2020-01-30=1, 2020-01-31=1, 2020-02-01=1, 2020-02-02=1, 2020-02-03=1, 2020-02-04=1, 2020-02-05=1, 2020-02-06=1, 2020-02-07=1, 2020-02-08=1, 2020-02-09=1, 2020-02-10=1, 2020-02-11=1, 2020-02-12=1, 2020-02-13=1, 2020-02-14=1, 2020-02-15=1, 2020-02-16=1, 2020-02-17=1, 2020-02-18=1, 2020-02-19=1, 2020-02-20=1, 2020-02-21=1, 2020-02-22=1, 2020-02-23=1, 2020-02-24=1, 2020-02-25=1, 2020-02-26=1, 2020-02-27=1, 2020-02-28=1, 2020-02-29=1, 2020-03-01=1, 2020-03-02=1, 2020-03-03=1, 2020-03-04=1, 2020-03-05=1, 2020-03-06=1, 2020-03-07=1, 2020-03-08=1, 2020-03-09=1, 2020-03-10=1, 2020-03-11=2, 2020-03-12=2, 2020-03-13=6, 2020-03-14=10, 2020-03-15=18, 2020-03-16=28, 2020-03-17=44, 2020-03-18=51, 2020-03-19=60, 2020-03-20=73),\n",
              " Row(Country='Sudan', 2020-01-22=0, 2020-01-23=0, 2020-01-24=0, 2020-01-25=0, 2020-01-26=0, 2020-01-27=0, 2020-01-28=0, 2020-01-29=0, 2020-01-30=0, 2020-01-31=0, 2020-02-01=0, 2020-02-02=0, 2020-02-03=0, 2020-02-04=0, 2020-02-05=0, 2020-02-06=0, 2020-02-07=0, 2020-02-08=0, 2020-02-09=0, 2020-02-10=0, 2020-02-11=0, 2020-02-12=0, 2020-02-13=0, 2020-02-14=0, 2020-02-15=0, 2020-02-16=0, 2020-02-17=0, 2020-02-18=0, 2020-02-19=0, 2020-02-20=0, 2020-02-21=0, 2020-02-22=0, 2020-02-23=0, 2020-02-24=0, 2020-02-25=0, 2020-02-26=0, 2020-02-27=0, 2020-02-28=0, 2020-02-29=0, 2020-03-01=0, 2020-03-02=0, 2020-03-03=0, 2020-03-04=0, 2020-03-05=0, 2020-03-06=0, 2020-03-07=0, 2020-03-08=0, 2020-03-09=0, 2020-03-10=0, 2020-03-11=0, 2020-03-12=0, 2020-03-13=1, 2020-03-14=1, 2020-03-15=1, 2020-03-16=1, 2020-03-17=1, 2020-03-18=2, 2020-03-19=2, 2020-03-20=2),\n",
              " Row(Country='Suriname', 2020-01-22=0, 2020-01-23=0, 2020-01-24=0, 2020-01-25=0, 2020-01-26=0, 2020-01-27=0, 2020-01-28=0, 2020-01-29=0, 2020-01-30=0, 2020-01-31=0, 2020-02-01=0, 2020-02-02=0, 2020-02-03=0, 2020-02-04=0, 2020-02-05=0, 2020-02-06=0, 2020-02-07=0, 2020-02-08=0, 2020-02-09=0, 2020-02-10=0, 2020-02-11=0, 2020-02-12=0, 2020-02-13=0, 2020-02-14=0, 2020-02-15=0, 2020-02-16=0, 2020-02-17=0, 2020-02-18=0, 2020-02-19=0, 2020-02-20=0, 2020-02-21=0, 2020-02-22=0, 2020-02-23=0, 2020-02-24=0, 2020-02-25=0, 2020-02-26=0, 2020-02-27=0, 2020-02-28=0, 2020-02-29=0, 2020-03-01=0, 2020-03-02=0, 2020-03-03=0, 2020-03-04=0, 2020-03-05=0, 2020-03-06=0, 2020-03-07=0, 2020-03-08=0, 2020-03-09=0, 2020-03-10=0, 2020-03-11=0, 2020-03-12=0, 2020-03-13=0, 2020-03-14=1, 2020-03-15=1, 2020-03-16=1, 2020-03-17=1, 2020-03-18=1, 2020-03-19=1, 2020-03-20=4),\n",
              " Row(Country='Sweden', 2020-01-22=0, 2020-01-23=0, 2020-01-24=0, 2020-01-25=0, 2020-01-26=0, 2020-01-27=0, 2020-01-28=0, 2020-01-29=0, 2020-01-30=0, 2020-01-31=1, 2020-02-01=1, 2020-02-02=1, 2020-02-03=1, 2020-02-04=1, 2020-02-05=1, 2020-02-06=1, 2020-02-07=1, 2020-02-08=1, 2020-02-09=1, 2020-02-10=1, 2020-02-11=1, 2020-02-12=1, 2020-02-13=1, 2020-02-14=1, 2020-02-15=1, 2020-02-16=1, 2020-02-17=1, 2020-02-18=1, 2020-02-19=1, 2020-02-20=1, 2020-02-21=1, 2020-02-22=1, 2020-02-23=1, 2020-02-24=1, 2020-02-25=1, 2020-02-26=2, 2020-02-27=7, 2020-02-28=7, 2020-02-29=12, 2020-03-01=14, 2020-03-02=15, 2020-03-03=21, 2020-03-04=35, 2020-03-05=94, 2020-03-06=101, 2020-03-07=161, 2020-03-08=203, 2020-03-09=248, 2020-03-10=355, 2020-03-11=500, 2020-03-12=599, 2020-03-13=814, 2020-03-14=961, 2020-03-15=1022, 2020-03-16=1103, 2020-03-17=1190, 2020-03-18=1279, 2020-03-19=1439, 2020-03-20=1639),\n",
              " Row(Country='Switzerland', 2020-01-22=0, 2020-01-23=0, 2020-01-24=0, 2020-01-25=0, 2020-01-26=0, 2020-01-27=0, 2020-01-28=0, 2020-01-29=0, 2020-01-30=0, 2020-01-31=0, 2020-02-01=0, 2020-02-02=0, 2020-02-03=0, 2020-02-04=0, 2020-02-05=0, 2020-02-06=0, 2020-02-07=0, 2020-02-08=0, 2020-02-09=0, 2020-02-10=0, 2020-02-11=0, 2020-02-12=0, 2020-02-13=0, 2020-02-14=0, 2020-02-15=0, 2020-02-16=0, 2020-02-17=0, 2020-02-18=0, 2020-02-19=0, 2020-02-20=0, 2020-02-21=0, 2020-02-22=0, 2020-02-23=0, 2020-02-24=0, 2020-02-25=1, 2020-02-26=1, 2020-02-27=8, 2020-02-28=8, 2020-02-29=18, 2020-03-01=27, 2020-03-02=42, 2020-03-03=56, 2020-03-04=90, 2020-03-05=114, 2020-03-06=214, 2020-03-07=268, 2020-03-08=337, 2020-03-09=374, 2020-03-10=491, 2020-03-11=652, 2020-03-12=652, 2020-03-13=1139, 2020-03-14=1359, 2020-03-15=2200, 2020-03-16=2200, 2020-03-17=2700, 2020-03-18=3028, 2020-03-19=4075, 2020-03-20=5294),\n",
              " Row(Country='Taiwan*', 2020-01-22=1, 2020-01-23=1, 2020-01-24=3, 2020-01-25=3, 2020-01-26=4, 2020-01-27=5, 2020-01-28=8, 2020-01-29=8, 2020-01-30=9, 2020-01-31=10, 2020-02-01=10, 2020-02-02=10, 2020-02-03=10, 2020-02-04=11, 2020-02-05=11, 2020-02-06=16, 2020-02-07=16, 2020-02-08=17, 2020-02-09=18, 2020-02-10=18, 2020-02-11=18, 2020-02-12=18, 2020-02-13=18, 2020-02-14=18, 2020-02-15=18, 2020-02-16=20, 2020-02-17=22, 2020-02-18=22, 2020-02-19=23, 2020-02-20=24, 2020-02-21=26, 2020-02-22=26, 2020-02-23=28, 2020-02-24=30, 2020-02-25=31, 2020-02-26=32, 2020-02-27=32, 2020-02-28=34, 2020-02-29=39, 2020-03-01=40, 2020-03-02=41, 2020-03-03=42, 2020-03-04=42, 2020-03-05=44, 2020-03-06=45, 2020-03-07=45, 2020-03-08=45, 2020-03-09=45, 2020-03-10=47, 2020-03-11=48, 2020-03-12=49, 2020-03-13=50, 2020-03-14=53, 2020-03-15=59, 2020-03-16=67, 2020-03-17=77, 2020-03-18=100, 2020-03-19=108, 2020-03-20=135),\n",
              " Row(Country='Tanzania', 2020-01-22=0, 2020-01-23=0, 2020-01-24=0, 2020-01-25=0, 2020-01-26=0, 2020-01-27=0, 2020-01-28=0, 2020-01-29=0, 2020-01-30=0, 2020-01-31=0, 2020-02-01=0, 2020-02-02=0, 2020-02-03=0, 2020-02-04=0, 2020-02-05=0, 2020-02-06=0, 2020-02-07=0, 2020-02-08=0, 2020-02-09=0, 2020-02-10=0, 2020-02-11=0, 2020-02-12=0, 2020-02-13=0, 2020-02-14=0, 2020-02-15=0, 2020-02-16=0, 2020-02-17=0, 2020-02-18=0, 2020-02-19=0, 2020-02-20=0, 2020-02-21=0, 2020-02-22=0, 2020-02-23=0, 2020-02-24=0, 2020-02-25=0, 2020-02-26=0, 2020-02-27=0, 2020-02-28=0, 2020-02-29=0, 2020-03-01=0, 2020-03-02=0, 2020-03-03=0, 2020-03-04=0, 2020-03-05=0, 2020-03-06=0, 2020-03-07=0, 2020-03-08=0, 2020-03-09=0, 2020-03-10=0, 2020-03-11=0, 2020-03-12=0, 2020-03-13=0, 2020-03-14=0, 2020-03-15=0, 2020-03-16=1, 2020-03-17=1, 2020-03-18=3, 2020-03-19=6, 2020-03-20=6),\n",
              " Row(Country='Thailand', 2020-01-22=2, 2020-01-23=3, 2020-01-24=5, 2020-01-25=7, 2020-01-26=8, 2020-01-27=8, 2020-01-28=14, 2020-01-29=14, 2020-01-30=14, 2020-01-31=19, 2020-02-01=19, 2020-02-02=19, 2020-02-03=19, 2020-02-04=25, 2020-02-05=25, 2020-02-06=25, 2020-02-07=25, 2020-02-08=32, 2020-02-09=32, 2020-02-10=32, 2020-02-11=33, 2020-02-12=33, 2020-02-13=33, 2020-02-14=33, 2020-02-15=33, 2020-02-16=34, 2020-02-17=35, 2020-02-18=35, 2020-02-19=35, 2020-02-20=35, 2020-02-21=35, 2020-02-22=35, 2020-02-23=35, 2020-02-24=35, 2020-02-25=37, 2020-02-26=40, 2020-02-27=40, 2020-02-28=41, 2020-02-29=42, 2020-03-01=42, 2020-03-02=43, 2020-03-03=43, 2020-03-04=43, 2020-03-05=47, 2020-03-06=48, 2020-03-07=50, 2020-03-08=50, 2020-03-09=50, 2020-03-10=53, 2020-03-11=59, 2020-03-12=70, 2020-03-13=75, 2020-03-14=82, 2020-03-15=114, 2020-03-16=147, 2020-03-17=177, 2020-03-18=212, 2020-03-19=272, 2020-03-20=322),\n",
              " Row(Country='Togo', 2020-01-22=0, 2020-01-23=0, 2020-01-24=0, 2020-01-25=0, 2020-01-26=0, 2020-01-27=0, 2020-01-28=0, 2020-01-29=0, 2020-01-30=0, 2020-01-31=0, 2020-02-01=0, 2020-02-02=0, 2020-02-03=0, 2020-02-04=0, 2020-02-05=0, 2020-02-06=0, 2020-02-07=0, 2020-02-08=0, 2020-02-09=0, 2020-02-10=0, 2020-02-11=0, 2020-02-12=0, 2020-02-13=0, 2020-02-14=0, 2020-02-15=0, 2020-02-16=0, 2020-02-17=0, 2020-02-18=0, 2020-02-19=0, 2020-02-20=0, 2020-02-21=0, 2020-02-22=0, 2020-02-23=0, 2020-02-24=0, 2020-02-25=0, 2020-02-26=0, 2020-02-27=0, 2020-02-28=0, 2020-02-29=0, 2020-03-01=0, 2020-03-02=0, 2020-03-03=0, 2020-03-04=0, 2020-03-05=0, 2020-03-06=1, 2020-03-07=1, 2020-03-08=1, 2020-03-09=1, 2020-03-10=1, 2020-03-11=1, 2020-03-12=1, 2020-03-13=1, 2020-03-14=1, 2020-03-15=1, 2020-03-16=1, 2020-03-17=1, 2020-03-18=1, 2020-03-19=1, 2020-03-20=9),\n",
              " Row(Country='Trinidad and Tobago', 2020-01-22=0, 2020-01-23=0, 2020-01-24=0, 2020-01-25=0, 2020-01-26=0, 2020-01-27=0, 2020-01-28=0, 2020-01-29=0, 2020-01-30=0, 2020-01-31=0, 2020-02-01=0, 2020-02-02=0, 2020-02-03=0, 2020-02-04=0, 2020-02-05=0, 2020-02-06=0, 2020-02-07=0, 2020-02-08=0, 2020-02-09=0, 2020-02-10=0, 2020-02-11=0, 2020-02-12=0, 2020-02-13=0, 2020-02-14=0, 2020-02-15=0, 2020-02-16=0, 2020-02-17=0, 2020-02-18=0, 2020-02-19=0, 2020-02-20=0, 2020-02-21=0, 2020-02-22=0, 2020-02-23=0, 2020-02-24=0, 2020-02-25=0, 2020-02-26=0, 2020-02-27=0, 2020-02-28=0, 2020-02-29=0, 2020-03-01=0, 2020-03-02=0, 2020-03-03=0, 2020-03-04=0, 2020-03-05=0, 2020-03-06=0, 2020-03-07=0, 2020-03-08=0, 2020-03-09=0, 2020-03-10=0, 2020-03-11=0, 2020-03-12=0, 2020-03-13=0, 2020-03-14=2, 2020-03-15=2, 2020-03-16=4, 2020-03-17=5, 2020-03-18=7, 2020-03-19=9, 2020-03-20=9),\n",
              " Row(Country='Tunisia', 2020-01-22=0, 2020-01-23=0, 2020-01-24=0, 2020-01-25=0, 2020-01-26=0, 2020-01-27=0, 2020-01-28=0, 2020-01-29=0, 2020-01-30=0, 2020-01-31=0, 2020-02-01=0, 2020-02-02=0, 2020-02-03=0, 2020-02-04=0, 2020-02-05=0, 2020-02-06=0, 2020-02-07=0, 2020-02-08=0, 2020-02-09=0, 2020-02-10=0, 2020-02-11=0, 2020-02-12=0, 2020-02-13=0, 2020-02-14=0, 2020-02-15=0, 2020-02-16=0, 2020-02-17=0, 2020-02-18=0, 2020-02-19=0, 2020-02-20=0, 2020-02-21=0, 2020-02-22=0, 2020-02-23=0, 2020-02-24=0, 2020-02-25=0, 2020-02-26=0, 2020-02-27=0, 2020-02-28=0, 2020-02-29=0, 2020-03-01=0, 2020-03-02=0, 2020-03-03=0, 2020-03-04=1, 2020-03-05=1, 2020-03-06=1, 2020-03-07=1, 2020-03-08=2, 2020-03-09=2, 2020-03-10=5, 2020-03-11=7, 2020-03-12=7, 2020-03-13=16, 2020-03-14=18, 2020-03-15=18, 2020-03-16=20, 2020-03-17=24, 2020-03-18=29, 2020-03-19=39, 2020-03-20=54),\n",
              " Row(Country='Turkey', 2020-01-22=0, 2020-01-23=0, 2020-01-24=0, 2020-01-25=0, 2020-01-26=0, 2020-01-27=0, 2020-01-28=0, 2020-01-29=0, 2020-01-30=0, 2020-01-31=0, 2020-02-01=0, 2020-02-02=0, 2020-02-03=0, 2020-02-04=0, 2020-02-05=0, 2020-02-06=0, 2020-02-07=0, 2020-02-08=0, 2020-02-09=0, 2020-02-10=0, 2020-02-11=0, 2020-02-12=0, 2020-02-13=0, 2020-02-14=0, 2020-02-15=0, 2020-02-16=0, 2020-02-17=0, 2020-02-18=0, 2020-02-19=0, 2020-02-20=0, 2020-02-21=0, 2020-02-22=0, 2020-02-23=0, 2020-02-24=0, 2020-02-25=0, 2020-02-26=0, 2020-02-27=0, 2020-02-28=0, 2020-02-29=0, 2020-03-01=0, 2020-03-02=0, 2020-03-03=0, 2020-03-04=0, 2020-03-05=0, 2020-03-06=0, 2020-03-07=0, 2020-03-08=0, 2020-03-09=0, 2020-03-10=0, 2020-03-11=1, 2020-03-12=1, 2020-03-13=5, 2020-03-14=5, 2020-03-15=6, 2020-03-16=18, 2020-03-17=47, 2020-03-18=98, 2020-03-19=192, 2020-03-20=359),\n",
              " Row(Country='US', 2020-01-22=1, 2020-01-23=1, 2020-01-24=2, 2020-01-25=2, 2020-01-26=5, 2020-01-27=5, 2020-01-28=5, 2020-01-29=5, 2020-01-30=5, 2020-01-31=7, 2020-02-01=8, 2020-02-02=8, 2020-02-03=11, 2020-02-04=11, 2020-02-05=11, 2020-02-06=11, 2020-02-07=11, 2020-02-08=11, 2020-02-09=11, 2020-02-10=11, 2020-02-11=12, 2020-02-12=12, 2020-02-13=13, 2020-02-14=13, 2020-02-15=13, 2020-02-16=13, 2020-02-17=13, 2020-02-18=13, 2020-02-19=13, 2020-02-20=13, 2020-02-21=15, 2020-02-22=15, 2020-02-23=15, 2020-02-24=51, 2020-02-25=51, 2020-02-26=57, 2020-02-27=58, 2020-02-28=60, 2020-02-29=68, 2020-03-01=74, 2020-03-02=98, 2020-03-03=118, 2020-03-04=149, 2020-03-05=217, 2020-03-06=262, 2020-03-07=402, 2020-03-08=518, 2020-03-09=583, 2020-03-10=959, 2020-03-11=1281, 2020-03-12=1663, 2020-03-13=2179, 2020-03-14=2727, 2020-03-15=3499, 2020-03-16=4632, 2020-03-17=6421, 2020-03-18=7783, 2020-03-19=13677, 2020-03-20=19100),\n",
              " Row(Country='Ukraine', 2020-01-22=0, 2020-01-23=0, 2020-01-24=0, 2020-01-25=0, 2020-01-26=0, 2020-01-27=0, 2020-01-28=0, 2020-01-29=0, 2020-01-30=0, 2020-01-31=0, 2020-02-01=0, 2020-02-02=0, 2020-02-03=0, 2020-02-04=0, 2020-02-05=0, 2020-02-06=0, 2020-02-07=0, 2020-02-08=0, 2020-02-09=0, 2020-02-10=0, 2020-02-11=0, 2020-02-12=0, 2020-02-13=0, 2020-02-14=0, 2020-02-15=0, 2020-02-16=0, 2020-02-17=0, 2020-02-18=0, 2020-02-19=0, 2020-02-20=0, 2020-02-21=0, 2020-02-22=0, 2020-02-23=0, 2020-02-24=0, 2020-02-25=0, 2020-02-26=0, 2020-02-27=0, 2020-02-28=0, 2020-02-29=0, 2020-03-01=0, 2020-03-02=0, 2020-03-03=1, 2020-03-04=1, 2020-03-05=1, 2020-03-06=1, 2020-03-07=1, 2020-03-08=1, 2020-03-09=1, 2020-03-10=1, 2020-03-11=1, 2020-03-12=1, 2020-03-13=3, 2020-03-14=3, 2020-03-15=3, 2020-03-16=7, 2020-03-17=14, 2020-03-18=14, 2020-03-19=16, 2020-03-20=29),\n",
              " Row(Country='United Arab Emirates', 2020-01-22=0, 2020-01-23=0, 2020-01-24=0, 2020-01-25=0, 2020-01-26=0, 2020-01-27=0, 2020-01-28=0, 2020-01-29=4, 2020-01-30=4, 2020-01-31=4, 2020-02-01=4, 2020-02-02=5, 2020-02-03=5, 2020-02-04=5, 2020-02-05=5, 2020-02-06=5, 2020-02-07=5, 2020-02-08=7, 2020-02-09=7, 2020-02-10=8, 2020-02-11=8, 2020-02-12=8, 2020-02-13=8, 2020-02-14=8, 2020-02-15=8, 2020-02-16=9, 2020-02-17=9, 2020-02-18=9, 2020-02-19=9, 2020-02-20=9, 2020-02-21=9, 2020-02-22=13, 2020-02-23=13, 2020-02-24=13, 2020-02-25=13, 2020-02-26=13, 2020-02-27=13, 2020-02-28=19, 2020-02-29=21, 2020-03-01=21, 2020-03-02=21, 2020-03-03=27, 2020-03-04=27, 2020-03-05=29, 2020-03-06=29, 2020-03-07=45, 2020-03-08=45, 2020-03-09=45, 2020-03-10=74, 2020-03-11=74, 2020-03-12=85, 2020-03-13=85, 2020-03-14=85, 2020-03-15=98, 2020-03-16=98, 2020-03-17=98, 2020-03-18=113, 2020-03-19=140, 2020-03-20=140),\n",
              " Row(Country='United Kingdom', 2020-01-22=0, 2020-01-23=0, 2020-01-24=0, 2020-01-25=0, 2020-01-26=0, 2020-01-27=0, 2020-01-28=0, 2020-01-29=0, 2020-01-30=0, 2020-01-31=2, 2020-02-01=2, 2020-02-02=2, 2020-02-03=2, 2020-02-04=2, 2020-02-05=2, 2020-02-06=2, 2020-02-07=3, 2020-02-08=3, 2020-02-09=3, 2020-02-10=8, 2020-02-11=8, 2020-02-12=9, 2020-02-13=9, 2020-02-14=9, 2020-02-15=9, 2020-02-16=9, 2020-02-17=9, 2020-02-18=9, 2020-02-19=9, 2020-02-20=9, 2020-02-21=9, 2020-02-22=9, 2020-02-23=9, 2020-02-24=13, 2020-02-25=13, 2020-02-26=13, 2020-02-27=15, 2020-02-28=20, 2020-02-29=23, 2020-03-01=36, 2020-03-02=40, 2020-03-03=51, 2020-03-04=86, 2020-03-05=116, 2020-03-06=164, 2020-03-07=207, 2020-03-08=274, 2020-03-09=322, 2020-03-10=384, 2020-03-11=459, 2020-03-12=459, 2020-03-13=802, 2020-03-14=1144, 2020-03-15=1145, 2020-03-16=1551, 2020-03-17=1960, 2020-03-18=2642, 2020-03-19=2716, 2020-03-20=4014),\n",
              " Row(Country='Uruguay', 2020-01-22=0, 2020-01-23=0, 2020-01-24=0, 2020-01-25=0, 2020-01-26=0, 2020-01-27=0, 2020-01-28=0, 2020-01-29=0, 2020-01-30=0, 2020-01-31=0, 2020-02-01=0, 2020-02-02=0, 2020-02-03=0, 2020-02-04=0, 2020-02-05=0, 2020-02-06=0, 2020-02-07=0, 2020-02-08=0, 2020-02-09=0, 2020-02-10=0, 2020-02-11=0, 2020-02-12=0, 2020-02-13=0, 2020-02-14=0, 2020-02-15=0, 2020-02-16=0, 2020-02-17=0, 2020-02-18=0, 2020-02-19=0, 2020-02-20=0, 2020-02-21=0, 2020-02-22=0, 2020-02-23=0, 2020-02-24=0, 2020-02-25=0, 2020-02-26=0, 2020-02-27=0, 2020-02-28=0, 2020-02-29=0, 2020-03-01=0, 2020-03-02=0, 2020-03-03=0, 2020-03-04=0, 2020-03-05=0, 2020-03-06=0, 2020-03-07=0, 2020-03-08=0, 2020-03-09=0, 2020-03-10=0, 2020-03-11=0, 2020-03-12=0, 2020-03-13=0, 2020-03-14=4, 2020-03-15=4, 2020-03-16=8, 2020-03-17=29, 2020-03-18=50, 2020-03-19=79, 2020-03-20=94),\n",
              " Row(Country='Uzbekistan', 2020-01-22=0, 2020-01-23=0, 2020-01-24=0, 2020-01-25=0, 2020-01-26=0, 2020-01-27=0, 2020-01-28=0, 2020-01-29=0, 2020-01-30=0, 2020-01-31=0, 2020-02-01=0, 2020-02-02=0, 2020-02-03=0, 2020-02-04=0, 2020-02-05=0, 2020-02-06=0, 2020-02-07=0, 2020-02-08=0, 2020-02-09=0, 2020-02-10=0, 2020-02-11=0, 2020-02-12=0, 2020-02-13=0, 2020-02-14=0, 2020-02-15=0, 2020-02-16=0, 2020-02-17=0, 2020-02-18=0, 2020-02-19=0, 2020-02-20=0, 2020-02-21=0, 2020-02-22=0, 2020-02-23=0, 2020-02-24=0, 2020-02-25=0, 2020-02-26=0, 2020-02-27=0, 2020-02-28=0, 2020-02-29=0, 2020-03-01=0, 2020-03-02=0, 2020-03-03=0, 2020-03-04=0, 2020-03-05=0, 2020-03-06=0, 2020-03-07=0, 2020-03-08=0, 2020-03-09=0, 2020-03-10=0, 2020-03-11=0, 2020-03-12=0, 2020-03-13=0, 2020-03-14=0, 2020-03-15=1, 2020-03-16=6, 2020-03-17=10, 2020-03-18=15, 2020-03-19=23, 2020-03-20=33),\n",
              " Row(Country='Vatican City', 2020-01-22=0, 2020-01-23=0, 2020-01-24=0, 2020-01-25=0, 2020-01-26=0, 2020-01-27=0, 2020-01-28=0, 2020-01-29=0, 2020-01-30=0, 2020-01-31=0, 2020-02-01=0, 2020-02-02=0, 2020-02-03=0, 2020-02-04=0, 2020-02-05=0, 2020-02-06=0, 2020-02-07=0, 2020-02-08=0, 2020-02-09=0, 2020-02-10=0, 2020-02-11=0, 2020-02-12=0, 2020-02-13=0, 2020-02-14=0, 2020-02-15=0, 2020-02-16=0, 2020-02-17=0, 2020-02-18=0, 2020-02-19=0, 2020-02-20=0, 2020-02-21=0, 2020-02-22=0, 2020-02-23=0, 2020-02-24=0, 2020-02-25=0, 2020-02-26=0, 2020-02-27=0, 2020-02-28=0, 2020-02-29=0, 2020-03-01=0, 2020-03-02=0, 2020-03-03=0, 2020-03-04=0, 2020-03-05=0, 2020-03-06=1, 2020-03-07=1, 2020-03-08=1, 2020-03-09=1, 2020-03-10=1, 2020-03-11=1, 2020-03-12=1, 2020-03-13=1, 2020-03-14=1, 2020-03-15=1, 2020-03-16=1, 2020-03-17=1, 2020-03-18=1, 2020-03-19=1, 2020-03-20=1),\n",
              " Row(Country='Venezuela', 2020-01-22=0, 2020-01-23=0, 2020-01-24=0, 2020-01-25=0, 2020-01-26=0, 2020-01-27=0, 2020-01-28=0, 2020-01-29=0, 2020-01-30=0, 2020-01-31=0, 2020-02-01=0, 2020-02-02=0, 2020-02-03=0, 2020-02-04=0, 2020-02-05=0, 2020-02-06=0, 2020-02-07=0, 2020-02-08=0, 2020-02-09=0, 2020-02-10=0, 2020-02-11=0, 2020-02-12=0, 2020-02-13=0, 2020-02-14=0, 2020-02-15=0, 2020-02-16=0, 2020-02-17=0, 2020-02-18=0, 2020-02-19=0, 2020-02-20=0, 2020-02-21=0, 2020-02-22=0, 2020-02-23=0, 2020-02-24=0, 2020-02-25=0, 2020-02-26=0, 2020-02-27=0, 2020-02-28=0, 2020-02-29=0, 2020-03-01=0, 2020-03-02=0, 2020-03-03=0, 2020-03-04=0, 2020-03-05=0, 2020-03-06=0, 2020-03-07=0, 2020-03-08=0, 2020-03-09=0, 2020-03-10=0, 2020-03-11=0, 2020-03-12=0, 2020-03-13=0, 2020-03-14=2, 2020-03-15=10, 2020-03-16=17, 2020-03-17=33, 2020-03-18=36, 2020-03-19=42, 2020-03-20=42),\n",
              " Row(Country='Vietnam', 2020-01-22=0, 2020-01-23=2, 2020-01-24=2, 2020-01-25=2, 2020-01-26=2, 2020-01-27=2, 2020-01-28=2, 2020-01-29=2, 2020-01-30=2, 2020-01-31=2, 2020-02-01=6, 2020-02-02=6, 2020-02-03=8, 2020-02-04=8, 2020-02-05=8, 2020-02-06=10, 2020-02-07=10, 2020-02-08=13, 2020-02-09=13, 2020-02-10=14, 2020-02-11=15, 2020-02-12=15, 2020-02-13=16, 2020-02-14=16, 2020-02-15=16, 2020-02-16=16, 2020-02-17=16, 2020-02-18=16, 2020-02-19=16, 2020-02-20=16, 2020-02-21=16, 2020-02-22=16, 2020-02-23=16, 2020-02-24=16, 2020-02-25=16, 2020-02-26=16, 2020-02-27=16, 2020-02-28=16, 2020-02-29=16, 2020-03-01=16, 2020-03-02=16, 2020-03-03=16, 2020-03-04=16, 2020-03-05=16, 2020-03-06=16, 2020-03-07=18, 2020-03-08=30, 2020-03-09=30, 2020-03-10=31, 2020-03-11=38, 2020-03-12=39, 2020-03-13=47, 2020-03-14=53, 2020-03-15=56, 2020-03-16=61, 2020-03-17=66, 2020-03-18=75, 2020-03-19=85, 2020-03-20=91),\n",
              " Row(Country='Zambia', 2020-01-22=0, 2020-01-23=0, 2020-01-24=0, 2020-01-25=0, 2020-01-26=0, 2020-01-27=0, 2020-01-28=0, 2020-01-29=0, 2020-01-30=0, 2020-01-31=0, 2020-02-01=0, 2020-02-02=0, 2020-02-03=0, 2020-02-04=0, 2020-02-05=0, 2020-02-06=0, 2020-02-07=0, 2020-02-08=0, 2020-02-09=0, 2020-02-10=0, 2020-02-11=0, 2020-02-12=0, 2020-02-13=0, 2020-02-14=0, 2020-02-15=0, 2020-02-16=0, 2020-02-17=0, 2020-02-18=0, 2020-02-19=0, 2020-02-20=0, 2020-02-21=0, 2020-02-22=0, 2020-02-23=0, 2020-02-24=0, 2020-02-25=0, 2020-02-26=0, 2020-02-27=0, 2020-02-28=0, 2020-02-29=0, 2020-03-01=0, 2020-03-02=0, 2020-03-03=0, 2020-03-04=0, 2020-03-05=0, 2020-03-06=0, 2020-03-07=0, 2020-03-08=0, 2020-03-09=0, 2020-03-10=0, 2020-03-11=0, 2020-03-12=0, 2020-03-13=0, 2020-03-14=0, 2020-03-15=0, 2020-03-16=0, 2020-03-17=0, 2020-03-18=2, 2020-03-19=2, 2020-03-20=2),\n",
              " Row(Country='Zimbabwe', 2020-01-22=0, 2020-01-23=0, 2020-01-24=0, 2020-01-25=0, 2020-01-26=0, 2020-01-27=0, 2020-01-28=0, 2020-01-29=0, 2020-01-30=0, 2020-01-31=0, 2020-02-01=0, 2020-02-02=0, 2020-02-03=0, 2020-02-04=0, 2020-02-05=0, 2020-02-06=0, 2020-02-07=0, 2020-02-08=0, 2020-02-09=0, 2020-02-10=0, 2020-02-11=0, 2020-02-12=0, 2020-02-13=0, 2020-02-14=0, 2020-02-15=0, 2020-02-16=0, 2020-02-17=0, 2020-02-18=0, 2020-02-19=0, 2020-02-20=0, 2020-02-21=0, 2020-02-22=0, 2020-02-23=0, 2020-02-24=0, 2020-02-25=0, 2020-02-26=0, 2020-02-27=0, 2020-02-28=0, 2020-02-29=0, 2020-03-01=0, 2020-03-02=0, 2020-03-03=0, 2020-03-04=0, 2020-03-05=0, 2020-03-06=0, 2020-03-07=0, 2020-03-08=0, 2020-03-09=0, 2020-03-10=0, 2020-03-11=0, 2020-03-12=0, 2020-03-13=0, 2020-03-14=0, 2020-03-15=0, 2020-03-16=0, 2020-03-17=0, 2020-03-18=0, 2020-03-19=0, 2020-03-20=1)]"
            ]
          },
          "metadata": {},
          "execution_count": 71
        }
      ]
    },
    {
      "cell_type": "code",
      "metadata": {
        "colab": {
          "base_uri": "https://localhost:8080/"
        },
        "id": "QHkKFQ35Wu9Q",
        "outputId": "15478dd1-d0c4-43ff-d5c7-30bec06b3dee"
      },
      "source": [
        "corona_df.groupby('Country').pivot('Date').agg(F.sum('Confirmed')).orderBy('Country').show()"
      ],
      "execution_count": 72,
      "outputs": [
        {
          "output_type": "stream",
          "name": "stdout",
          "text": [
            "+-------------------+----------+----------+----------+----------+----------+----------+----------+----------+----------+----------+----------+----------+----------+----------+----------+----------+----------+----------+----------+----------+----------+----------+----------+----------+----------+----------+----------+----------+----------+----------+----------+----------+----------+----------+----------+----------+----------+----------+----------+----------+----------+----------+----------+----------+----------+----------+----------+----------+----------+----------+----------+----------+----------+----------+----------+----------+----------+----------+----------+\n",
            "|            Country|2020-01-22|2020-01-23|2020-01-24|2020-01-25|2020-01-26|2020-01-27|2020-01-28|2020-01-29|2020-01-30|2020-01-31|2020-02-01|2020-02-02|2020-02-03|2020-02-04|2020-02-05|2020-02-06|2020-02-07|2020-02-08|2020-02-09|2020-02-10|2020-02-11|2020-02-12|2020-02-13|2020-02-14|2020-02-15|2020-02-16|2020-02-17|2020-02-18|2020-02-19|2020-02-20|2020-02-21|2020-02-22|2020-02-23|2020-02-24|2020-02-25|2020-02-26|2020-02-27|2020-02-28|2020-02-29|2020-03-01|2020-03-02|2020-03-03|2020-03-04|2020-03-05|2020-03-06|2020-03-07|2020-03-08|2020-03-09|2020-03-10|2020-03-11|2020-03-12|2020-03-13|2020-03-14|2020-03-15|2020-03-16|2020-03-17|2020-03-18|2020-03-19|2020-03-20|\n",
            "+-------------------+----------+----------+----------+----------+----------+----------+----------+----------+----------+----------+----------+----------+----------+----------+----------+----------+----------+----------+----------+----------+----------+----------+----------+----------+----------+----------+----------+----------+----------+----------+----------+----------+----------+----------+----------+----------+----------+----------+----------+----------+----------+----------+----------+----------+----------+----------+----------+----------+----------+----------+----------+----------+----------+----------+----------+----------+----------+----------+----------+\n",
            "|        Afghanistan|         0|         0|         0|         0|         0|         0|         0|         0|         0|         0|         0|         0|         0|         0|         0|         0|         0|         0|         0|         0|         0|         0|         0|         0|         0|         0|         0|         0|         0|         0|         0|         0|         0|         1|         1|         1|         1|         1|         1|         1|         1|         1|         1|         1|         1|         1|         4|         4|         5|         7|         7|         7|        11|        16|        21|        22|        22|        22|        24|\n",
            "|            Albania|         0|         0|         0|         0|         0|         0|         0|         0|         0|         0|         0|         0|         0|         0|         0|         0|         0|         0|         0|         0|         0|         0|         0|         0|         0|         0|         0|         0|         0|         0|         0|         0|         0|         0|         0|         0|         0|         0|         0|         0|         0|         0|         0|         0|         0|         0|         0|         2|        10|        12|        23|        33|        38|        42|        51|        55|        59|        64|        70|\n",
            "|            Algeria|         0|         0|         0|         0|         0|         0|         0|         0|         0|         0|         0|         0|         0|         0|         0|         0|         0|         0|         0|         0|         0|         0|         0|         0|         0|         0|         0|         0|         0|         0|         0|         0|         0|         0|         1|         1|         1|         1|         1|         1|         3|         5|        12|        12|        17|        17|        19|        20|        20|        20|        24|        26|        37|        48|        54|        60|        74|        87|        90|\n",
            "|            Andorra|         0|         0|         0|         0|         0|         0|         0|         0|         0|         0|         0|         0|         0|         0|         0|         0|         0|         0|         0|         0|         0|         0|         0|         0|         0|         0|         0|         0|         0|         0|         0|         0|         0|         0|         0|         0|         0|         0|         0|         0|         1|         1|         1|         1|         1|         1|         1|         1|         1|         1|         1|         1|         1|         1|         2|        39|        39|        53|        75|\n",
            "|             Angola|         0|         0|         0|         0|         0|         0|         0|         0|         0|         0|         0|         0|         0|         0|         0|         0|         0|         0|         0|         0|         0|         0|         0|         0|         0|         0|         0|         0|         0|         0|         0|         0|         0|         0|         0|         0|         0|         0|         0|         0|         0|         0|         0|         0|         0|         0|         0|         0|         0|         0|         0|         0|         0|         0|         0|         0|         0|         0|         1|\n",
            "|Antigua and Barbuda|         0|         0|         0|         0|         0|         0|         0|         0|         0|         0|         0|         0|         0|         0|         0|         0|         0|         0|         0|         0|         0|         0|         0|         0|         0|         0|         0|         0|         0|         0|         0|         0|         0|         0|         0|         0|         0|         0|         0|         0|         0|         0|         0|         0|         0|         0|         0|         0|         0|         0|         0|         1|         1|         1|         1|         1|         1|         1|         1|\n",
            "|          Argentina|         0|         0|         0|         0|         0|         0|         0|         0|         0|         0|         0|         0|         0|         0|         0|         0|         0|         0|         0|         0|         0|         0|         0|         0|         0|         0|         0|         0|         0|         0|         0|         0|         0|         0|         0|         0|         0|         0|         0|         0|         0|         1|         1|         1|         2|         8|        12|        12|        17|        19|        19|        31|        34|        45|        56|        68|        79|        97|       128|\n",
            "|            Armenia|         0|         0|         0|         0|         0|         0|         0|         0|         0|         0|         0|         0|         0|         0|         0|         0|         0|         0|         0|         0|         0|         0|         0|         0|         0|         0|         0|         0|         0|         0|         0|         0|         0|         0|         0|         0|         0|         0|         0|         1|         1|         1|         1|         1|         1|         1|         1|         1|         1|         1|         4|         8|        18|        26|        52|        78|        84|       115|       136|\n",
            "|          Australia|         0|         0|         0|         0|         4|         5|         5|         6|         9|         9|        12|        12|        12|        13|        13|        14|        15|        15|        15|        15|        15|        15|        15|        15|        15|        15|        15|        15|        15|        15|        19|        22|        22|        22|        22|        22|        23|        23|        25|        27|        30|        39|        52|        55|        60|        63|        76|        91|       107|       128|       128|       200|       250|       297|       377|       452|       568|       681|       791|\n",
            "|            Austria|         0|         0|         0|         0|         0|         0|         0|         0|         0|         0|         0|         0|         0|         0|         0|         0|         0|         0|         0|         0|         0|         0|         0|         0|         0|         0|         0|         0|         0|         0|         0|         0|         0|         0|         2|         2|         3|         3|         9|        14|        18|        21|        29|        41|        55|        79|       104|       131|       182|       246|       302|       504|       655|       860|      1018|      1332|      1646|      2013|      2388|\n",
            "|         Azerbaijan|         0|         0|         0|         0|         0|         0|         0|         0|         0|         0|         0|         0|         0|         0|         0|         0|         0|         0|         0|         0|         0|         0|         0|         0|         0|         0|         0|         0|         0|         0|         0|         0|         0|         0|         0|         0|         0|         0|         0|         3|         3|         3|         3|         6|         6|         9|         9|         9|        11|        11|        11|        15|        15|        23|        15|        28|        28|        44|        44|\n",
            "|       Bahamas, The|         0|         0|         0|         0|         0|         0|         0|         0|         0|         0|         0|         0|         0|         0|         0|         0|         0|         0|         0|         0|         0|         0|         0|         0|         0|         0|         0|         0|         0|         0|         0|         0|         0|         0|         0|         0|         0|         0|         0|         0|         0|         0|         0|         0|         0|         0|         0|         0|         0|         0|         0|         0|         0|         0|         1|         1|         1|         3|         3|\n",
            "|            Bahrain|         0|         0|         0|         0|         0|         0|         0|         0|         0|         0|         0|         0|         0|         0|         0|         0|         0|         0|         0|         0|         0|         0|         0|         0|         0|         0|         0|         0|         0|         0|         0|         0|         0|         1|        23|        33|        33|        36|        41|        47|        49|        49|        52|        55|        60|        85|        85|        95|       110|       195|       195|       189|       210|       214|       214|       228|       256|       278|       285|\n",
            "|         Bangladesh|         0|         0|         0|         0|         0|         0|         0|         0|         0|         0|         0|         0|         0|         0|         0|         0|         0|         0|         0|         0|         0|         0|         0|         0|         0|         0|         0|         0|         0|         0|         0|         0|         0|         0|         0|         0|         0|         0|         0|         0|         0|         0|         0|         0|         0|         0|         3|         3|         3|         3|         3|         3|         3|         5|         8|        10|        14|        17|        20|\n",
            "|           Barbados|         0|         0|         0|         0|         0|         0|         0|         0|         0|         0|         0|         0|         0|         0|         0|         0|         0|         0|         0|         0|         0|         0|         0|         0|         0|         0|         0|         0|         0|         0|         0|         0|         0|         0|         0|         0|         0|         0|         0|         0|         0|         0|         0|         0|         0|         0|         0|         0|         0|         0|         0|         0|         0|         0|         0|         2|         2|         5|         5|\n",
            "|            Belarus|         0|         0|         0|         0|         0|         0|         0|         0|         0|         0|         0|         0|         0|         0|         0|         0|         0|         0|         0|         0|         0|         0|         0|         0|         0|         0|         0|         0|         0|         0|         0|         0|         0|         0|         0|         0|         0|         1|         1|         1|         1|         1|         6|         6|         6|         6|         6|         6|         9|         9|        12|        27|        27|        27|        36|        36|        51|        51|        69|\n",
            "|            Belgium|         0|         0|         0|         0|         0|         0|         0|         0|         0|         0|         0|         0|         0|         1|         1|         1|         1|         1|         1|         1|         1|         1|         1|         1|         1|         1|         1|         1|         1|         1|         1|         1|         1|         1|         1|         1|         1|         1|         1|         2|         8|        13|        23|        50|       109|       169|       200|       239|       267|       314|       314|       559|       689|       886|      1058|      1243|      1486|      1795|      2257|\n",
            "|              Benin|         0|         0|         0|         0|         0|         0|         0|         0|         0|         0|         0|         0|         0|         0|         0|         0|         0|         0|         0|         0|         0|         0|         0|         0|         0|         0|         0|         0|         0|         0|         0|         0|         0|         0|         0|         0|         0|         0|         0|         0|         0|         0|         0|         0|         0|         0|         0|         0|         0|         0|         0|         0|         0|         0|         1|         1|         2|         2|         2|\n",
            "|             Bhutan|         0|         0|         0|         0|         0|         0|         0|         0|         0|         0|         0|         0|         0|         0|         0|         0|         0|         0|         0|         0|         0|         0|         0|         0|         0|         0|         0|         0|         0|         0|         0|         0|         0|         0|         0|         0|         0|         0|         0|         0|         0|         0|         0|         0|         1|         1|         1|         1|         1|         1|         1|         1|         1|         1|         1|         1|         1|         1|         2|\n",
            "|            Bolivia|         0|         0|         0|         0|         0|         0|         0|         0|         0|         0|         0|         0|         0|         0|         0|         0|         0|         0|         0|         0|         0|         0|         0|         0|         0|         0|         0|         0|         0|         0|         0|         0|         0|         0|         0|         0|         0|         0|         0|         0|         0|         0|         0|         0|         0|         0|         0|         0|         0|         2|         2|         3|        10|        10|        11|        11|        12|        12|        15|\n",
            "+-------------------+----------+----------+----------+----------+----------+----------+----------+----------+----------+----------+----------+----------+----------+----------+----------+----------+----------+----------+----------+----------+----------+----------+----------+----------+----------+----------+----------+----------+----------+----------+----------+----------+----------+----------+----------+----------+----------+----------+----------+----------+----------+----------+----------+----------+----------+----------+----------+----------+----------+----------+----------+----------+----------+----------+----------+----------+----------+----------+----------+\n",
            "only showing top 20 rows\n",
            "\n"
          ]
        }
      ]
    },
    {
      "cell_type": "code",
      "metadata": {
        "colab": {
          "base_uri": "https://localhost:8080/"
        },
        "id": "g1chTcoYXYvc",
        "outputId": "6847ac13-6755-49e4-d93b-a483a8403ef1"
      },
      "source": [
        "corona_df.groupBy(\"Country\").agg({'Confirmed':'sum','Recovered':'sum','Death':'sum'}).orderBy('sum(Confirmed)',ascending=False).show()"
      ],
      "execution_count": 76,
      "outputs": [
        {
          "output_type": "stream",
          "name": "stdout",
          "text": [
            "+--------------+--------------+----------+--------------+\n",
            "|       Country|sum(Recovered)|sum(Death)|sum(Confirmed)|\n",
            "+--------------+--------------+----------+--------------+\n",
            "|         China|       1570179|    109614|       3287028|\n",
            "|         Italy|         30834|     23658|        326105|\n",
            "|          Iran|         56432|      9883|        188884|\n",
            "|  Korea, South|         10523|      1233|        155106|\n",
            "|         Spain|          7093|      4198|        103290|\n",
            "|       Germany|          1063|       217|         89015|\n",
            "|        France|           342|      1623|         71858|\n",
            "|            US|           249|      1135|         67002|\n",
            "|   Switzerland|            96|       220|         25348|\n",
            "|   Cruise Ship|          3544|       165|         24092|\n",
            "|United Kingdom|           607|       584|         18816|\n",
            "|   Netherlands|            14|       373|         16031|\n",
            "|         Japan|          2279|       337|         14471|\n",
            "|        Norway|            12|        32|         13891|\n",
            "|        Sweden|            42|        58|         11847|\n",
            "|       Belgium|            93|       104|         11707|\n",
            "|       Austria|            66|        26|         11657|\n",
            "|       Denmark|            15|        29|          9694|\n",
            "|      Malaysia|           920|         9|          6402|\n",
            "|     Singapore|          2554|         0|          5673|\n",
            "+--------------+--------------+----------+--------------+\n",
            "only showing top 20 rows\n",
            "\n"
          ]
        }
      ]
    },
    {
      "cell_type": "code",
      "metadata": {
        "id": "j8Xj7atXYqYq"
      },
      "source": [
        ""
      ],
      "execution_count": null,
      "outputs": []
    }
  ]
}