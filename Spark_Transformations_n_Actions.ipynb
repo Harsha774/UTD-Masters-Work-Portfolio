{
  "nbformat": 4,
  "nbformat_minor": 0,
  "metadata": {
    "colab": {
      "name": "Spark_Transformations_n_Actions",
      "provenance": [],
      "collapsed_sections": [],
      "authorship_tag": "ABX9TyOx6w3O29YMFWcoH3n6X3ny",
      "include_colab_link": true
    },
    "kernelspec": {
      "name": "python3",
      "display_name": "Python 3"
    },
    "language_info": {
      "name": "python"
    }
  },
  "cells": [
    {
      "cell_type": "markdown",
      "metadata": {
        "id": "view-in-github",
        "colab_type": "text"
      },
      "source": [
        "<a href=\"https://colab.research.google.com/github/Harsha774/UTD-Masters-Work-Portfolio/blob/master/Spark_Transformations_n_Actions.ipynb\" target=\"_parent\"><img src=\"https://colab.research.google.com/assets/colab-badge.svg\" alt=\"Open In Colab\"/></a>"
      ]
    },
    {
      "cell_type": "code",
      "metadata": {
        "id": "mRrOF5jvjAd7"
      },
      "source": [
        "!apt-get install openjdk-8-jdk-headless -qq > /dev/null\n",
        "!wget -q https://downloads.apache.org/spark/spark-3.1.2/spark-3.1.2-bin-hadoop3.2.tgz\n",
        "!tar xf spark-3.1.2-bin-hadoop3.2.tgz\n",
        "!pip install -q findspark"
      ],
      "execution_count": 1,
      "outputs": []
    },
    {
      "cell_type": "code",
      "metadata": {
        "colab": {
          "base_uri": "https://localhost:8080/"
        },
        "id": "-QAR_J7NjUTX",
        "outputId": "fe10b9a5-6469-4439-b0a3-973eae72ca17"
      },
      "source": [
        "!ls /usr/lib/jvm/"
      ],
      "execution_count": 2,
      "outputs": [
        {
          "output_type": "stream",
          "name": "stdout",
          "text": [
            "default-java\t\t   java-11-openjdk-amd64     java-8-openjdk-amd64\n",
            "java-1.11.0-openjdk-amd64  java-1.8.0-openjdk-amd64\n"
          ]
        }
      ]
    },
    {
      "cell_type": "code",
      "metadata": {
        "colab": {
          "base_uri": "https://localhost:8080/"
        },
        "id": "d3gIU1JekL52",
        "outputId": "4779119d-28f3-4561-b513-724d0b3d6b87"
      },
      "source": [
        "!pip install -U pyarrow"
      ],
      "execution_count": 3,
      "outputs": [
        {
          "output_type": "stream",
          "name": "stdout",
          "text": [
            "Requirement already satisfied: pyarrow in /usr/local/lib/python3.7/dist-packages (3.0.0)\n",
            "Collecting pyarrow\n",
            "  Downloading pyarrow-5.0.0-cp37-cp37m-manylinux2014_x86_64.whl (23.6 MB)\n",
            "\u001b[K     |████████████████████████████████| 23.6 MB 130 kB/s \n",
            "\u001b[?25hRequirement already satisfied: numpy>=1.16.6 in /usr/local/lib/python3.7/dist-packages (from pyarrow) (1.19.5)\n",
            "Installing collected packages: pyarrow\n",
            "  Attempting uninstall: pyarrow\n",
            "    Found existing installation: pyarrow 3.0.0\n",
            "    Uninstalling pyarrow-3.0.0:\n",
            "      Successfully uninstalled pyarrow-3.0.0\n",
            "Successfully installed pyarrow-5.0.0\n"
          ]
        }
      ]
    },
    {
      "cell_type": "code",
      "metadata": {
        "id": "9llz4zJikUWO"
      },
      "source": [
        "import os\n",
        "os.environ[\"JAVA_HOME\"] = \"/usr/lib/jvm/java-8-openjdk-amd64\"\n",
        "os.environ[\"SPARK_HOME\"] = \"/content/spark-3.1.2-bin-hadoop3.2\""
      ],
      "execution_count": 4,
      "outputs": []
    },
    {
      "cell_type": "code",
      "metadata": {
        "id": "5TASLhEDkh4l"
      },
      "source": [
        "import findspark\n",
        "findspark.init()"
      ],
      "execution_count": 5,
      "outputs": []
    },
    {
      "cell_type": "code",
      "metadata": {
        "id": "Fh4DcglklBtE"
      },
      "source": [
        "from pyspark.sql import SparkSession\n",
        "spark=SparkSession.builder.master(\"local[*]\").getOrCreate()\n",
        "spark.conf.set(\"spark.executer.memory\",\"4g\")\n",
        "spark.conf.set(\"spark.driver.fraction\",\"0.9\")"
      ],
      "execution_count": 6,
      "outputs": []
    },
    {
      "cell_type": "code",
      "metadata": {
        "id": "xzZp3-TMme-_"
      },
      "source": [
        "import sys,tempfile,urllib\n",
        "from pyspark.sql.functions import *"
      ],
      "execution_count": 7,
      "outputs": []
    },
    {
      "cell_type": "code",
      "metadata": {
        "id": "GxjuK1Nkm-4W"
      },
      "source": [
        "BASE_DIR='/tmp'\n",
        "corona_data_file=os.path.join(BASE_DIR,'corona_data.csv')"
      ],
      "execution_count": 68,
      "outputs": []
    },
    {
      "cell_type": "code",
      "metadata": {
        "id": "hzDeRl1O3Bpr"
      },
      "source": [
        "import urllib.request\n",
        "corona_data=urllib.request.urlretrieve(\"https://raw.githubusercontent.com/srivatsan88/YouTubeLI/master/dataset/coronavirus/corona_dataset_latest.csv\",corona_data_file)"
      ],
      "execution_count": 69,
      "outputs": []
    },
    {
      "cell_type": "code",
      "metadata": {
        "id": "nTq5tGmr3Wiq"
      },
      "source": [
        "corona_df=spark.read.option(\"infer_schema\",\"true\").csv(\"/tmp/corona_data.csv\",header=True)"
      ],
      "execution_count": 70,
      "outputs": []
    },
    {
      "cell_type": "code",
      "metadata": {
        "colab": {
          "base_uri": "https://localhost:8080/"
        },
        "id": "_Q0tCy8y4zZI",
        "outputId": "21430df3-d35c-465d-b544-b2975f7f9821"
      },
      "source": [
        "corona_df.show()"
      ],
      "execution_count": 71,
      "outputs": [
        {
          "output_type": "stream",
          "name": "stdout",
          "text": [
            "+---+----------------+--------------------+--------+---------+----------+---------+-----+---------+--------------------+----+\n",
            "|_c0|           State|             Country|     Lat|     Long|      Date|Confirmed|Death|Recovered|       state_cleaned|City|\n",
            "+---+----------------+--------------------+--------+---------+----------+---------+-----+---------+--------------------+----+\n",
            "|  0|            null|            Thailand|    15.0|    101.0|2020-01-22|        2|    0|        0|             Bangkok|null|\n",
            "|  1|            null|               Japan|    36.0|    138.0|2020-01-22|        2|    0|        0|             Hiraide|null|\n",
            "|  2|            null|           Singapore|  1.2833| 103.8333|2020-01-22|        0|    0|        0|           Singapore|null|\n",
            "|  3|            null|               Nepal| 28.1667|    84.25|2020-01-22|        0|    0|        0|           Kathmandu|null|\n",
            "|  4|            null|            Malaysia|     2.5|    112.5|2020-01-22|        0|    0|        0|             Sarawak|null|\n",
            "|  5|British Columbia|              Canada| 49.2827|-123.1207|2020-01-22|        0|    0|        0|    British Columbia|null|\n",
            "|  6| New South Wales|           Australia|-33.8688| 151.2093|2020-01-22|        0|    0|        0|     New South Wales|null|\n",
            "|  7|        Victoria|           Australia|-37.8136| 144.9631|2020-01-22|        0|    0|        0|            Victoria|null|\n",
            "|  8|      Queensland|           Australia|-28.0167|    153.4|2020-01-22|        0|    0|        0|          Queensland|null|\n",
            "|  9|            null|            Cambodia|   11.55| 104.9167|2020-01-22|        0|    0|        0|          Phnom Penh|null|\n",
            "| 10|            null|           Sri Lanka|     7.0|     81.0|2020-01-22|        0|    0|        0|Sri Jayawardenapu...|null|\n",
            "| 11|            null|             Germany|    51.0|      9.0|2020-01-22|        0|    0|        0|              Berlin|null|\n",
            "| 12|            null|             Finland|    64.0|     26.0|2020-01-22|        0|    0|        0|            Helsinki|null|\n",
            "| 13|            null|United Arab Emirates|    24.0|     54.0|2020-01-22|        0|    0|        0|           Abu Dhabi|null|\n",
            "| 14|            null|         Philippines|    13.0|    122.0|2020-01-22|        0|    0|        0|              Manila|null|\n",
            "| 15|            null|               India|    21.0|     78.0|2020-01-22|        0|    0|        0|           New Delhi|null|\n",
            "| 16|            null|               Italy|    43.0|     12.0|2020-01-22|        0|    0|        0|                Rome|null|\n",
            "| 17|            null|              Sweden|    63.0|     16.0|2020-01-22|        0|    0|        0|           Stockholm|null|\n",
            "| 18|            null|               Spain|    40.0|     -4.0|2020-01-22|        0|    0|        0|              Toledo|null|\n",
            "| 19| South Australia|           Australia|-34.9285| 138.6007|2020-01-22|        0|    0|        0|     South Australia|null|\n",
            "+---+----------------+--------------------+--------+---------+----------+---------+-----+---------+--------------------+----+\n",
            "only showing top 20 rows\n",
            "\n"
          ]
        }
      ]
    },
    {
      "cell_type": "code",
      "metadata": {
        "id": "-7X2DAXk5FpK"
      },
      "source": [
        "BASE_DIR='/tmp'\n",
        "twitter_data_file=os.path.join(BASE_DIR,'tweets.csv')"
      ],
      "execution_count": 12,
      "outputs": []
    },
    {
      "cell_type": "code",
      "metadata": {
        "colab": {
          "base_uri": "https://localhost:8080/"
        },
        "id": "vNsTJQdf3sCL",
        "outputId": "c19a7178-3c16-4ec4-80e1-e421b532e8a8"
      },
      "source": [
        "corona_df.printSchema()"
      ],
      "execution_count": 72,
      "outputs": [
        {
          "output_type": "stream",
          "name": "stdout",
          "text": [
            "root\n",
            " |-- _c0: string (nullable = true)\n",
            " |-- State: string (nullable = true)\n",
            " |-- Country: string (nullable = true)\n",
            " |-- Lat: string (nullable = true)\n",
            " |-- Long: string (nullable = true)\n",
            " |-- Date: string (nullable = true)\n",
            " |-- Confirmed: string (nullable = true)\n",
            " |-- Death: string (nullable = true)\n",
            " |-- Recovered: string (nullable = true)\n",
            " |-- state_cleaned: string (nullable = true)\n",
            " |-- City: string (nullable = true)\n",
            "\n"
          ]
        }
      ]
    },
    {
      "cell_type": "code",
      "metadata": {
        "id": "1AnhVSee6s7S"
      },
      "source": [
        "import urllib.request\n",
        "corona_data=urllib.request.urlretrieve(\"https://raw.githubusercontent.com/srivatsan88/YouTubeLI/master/dataset/coronavirus/tweets.csv\",twitter_data_file)"
      ],
      "execution_count": 13,
      "outputs": []
    },
    {
      "cell_type": "code",
      "metadata": {
        "colab": {
          "base_uri": "https://localhost:8080/"
        },
        "id": "1w7TQA5G7FFD",
        "outputId": "f1d48725-cd82-4c34-c4ca-42dd9adcbdec"
      },
      "source": [
        "ls /tmp"
      ],
      "execution_count": 14,
      "outputs": [
        {
          "output_type": "stream",
          "name": "stdout",
          "text": [
            "\u001b[0m\u001b[01;34mblockmgr-61c36103-66d5-42a5-b843-9734be88e3a8\u001b[0m/\n",
            "corona_data.csv\n",
            "dap_multiplexer.f9500ce4dabd.root.log.INFO.20210922-130021.55\n",
            "\u001b[01;36mdap_multiplexer.INFO\u001b[0m@\n",
            "\u001b[01;35mdebugger_1qzud94wj9\u001b[0m=\n",
            "\u001b[01;34mhsperfdata_root\u001b[0m/\n",
            "\u001b[01;34minitgoogle_syslog_dir.0\u001b[0m/\n",
            "liblz4-java-5431057418391175561.so\n",
            "liblz4-java-5431057418391175561.so.lck\n",
            "\u001b[01;34mspark-0322e6c3-d87e-445c-9559-96afb66f8445\u001b[0m/\n",
            "\u001b[01;34mspark-3b76b864-86e7-45e6-bde5-f1ef7b440e5f\u001b[0m/\n",
            "tweets.csv\n"
          ]
        }
      ]
    },
    {
      "cell_type": "code",
      "metadata": {
        "colab": {
          "base_uri": "https://localhost:8080/"
        },
        "id": "j2RsWrC67G0X",
        "outputId": "26b9395c-5e27-4650-93a1-767dc3102e54"
      },
      "source": [
        "!head /tmp/tweets.csv"
      ],
      "execution_count": 15,
      "outputs": [
        {
          "output_type": "stream",
          "name": "stdout",
          "text": [
            ",geo,text,user,location,entities,sentiment,country\n",
            "0,,What is God saying to us about #coronavirus ?,petodinice,Lagos,\"[('about #', 'CARDINAL')]\",\"{'neg': 0.0, 'neu': 0.769, 'pos': 0.231, 'compound': 0.2732}\",Nigeria\n",
            "1,,\"BREAKING: \"\"this is disappointing, but i took the test\"\". Arsenal's Mikel Arteta tests positive for #coronavirus,  -… \",JerryfranksonJF,\"Abuja, Nigeria\",\"[(\"\"Arsenal's Mikel Arteta\"\", 'ORG'), '']\",\"{'neg': 0.1, 'neu': 0.667, 'pos': 0.233, 'compound': 0.5859}\",Nigeria\n",
            "2,, #Coronavirus testing must be made free to the public if we are going to understand the scope of this crisis. Anything le…,cek422,\"Pennsylvania, USA\",[],\"{'neg': 0.173, 'neu': 0.71, 'pos': 0.117, 'compound': -0.3767}\",USA\n",
            "3,, Get ready for mass event crowd cancellations across the World starting this weekend: cricket in #Australia in empty st…,InfectiousDz,NYC,\"[('World', 'ORG'), ('this weekend', 'DATE'), '']\",\"{'neg': 0.085, 'neu': 0.798, 'pos': 0.117, 'compound': 0.1779}\",USA\n",
            "4,, The #coronavirus pandemic is revealing just how closely we are all bound together...[A thread] ,vic_gibson,,[''],\"{'neg': 0.0, 'neu': 1.0, 'pos': 0.0, 'compound': 0.0}\",\n",
            "5,,\" COVID-19 update as of this morning:1. Death toll in Italy passes 1,0002. Arsenal's head coach Arteta tests positive3. US…\",StewartNgilana,Durban | Port Elizabeth,\"[('Italy', 'GPE'), ('1,0002', 'CARDINAL'), ('Arsenal', 'ORG'), ('Arteta', 'ORG'), ('US', 'GPE')]\",\"{'neg': 0.178, 'neu': 0.822, 'pos': 0.0, 'compound': -0.5994}\",USA\n",
            "6,,\" It’s painful to say, but as an ER doc who talked to  about healthcare, I believe he's uniquely unqualified to…\",BWheatnyc,Florida,[],\"{'neg': 0.098, 'neu': 0.902, 'pos': 0.0, 'compound': -0.2382}\",USA\n",
            "7,,\" 📽️Friends, I will drop another video on Twitter tonight around 7:30pm to answer your questions about #coronavirus.Plea…\",LorseaR,\"New South Wales, Australia\",\"[('Twitter', 'GPE'), ('tonight', 'TIME')]\",\"{'neg': 0.123, 'neu': 0.877, 'pos': 0.0, 'compound': -0.2732}\",Australia\n",
            "8,,\" Questions about COVID-19? See this resource and info page from NAfME for music educators, including music instrument hygiene: ht…\",straightj23,\"Columbus, OH\",\"[('NAfME', 'CARDINAL')]\",\"{'neg': 0.0, 'neu': 1.0, 'pos': 0.0, 'compound': 0.0}\",USA\n"
          ]
        }
      ]
    },
    {
      "cell_type": "code",
      "metadata": {
        "id": "o5fVEl0d7I9Y"
      },
      "source": [
        "twitter_df=spark.read.option(\"infer_schema\",\"true\").csv(\"/tmp/tweets.csv\",header=True)"
      ],
      "execution_count": 16,
      "outputs": []
    },
    {
      "cell_type": "code",
      "metadata": {
        "colab": {
          "base_uri": "https://localhost:8080/"
        },
        "id": "_7aGtPvA7eOE",
        "outputId": "bd2b1475-062e-4f18-cf5e-0d32c039f56d"
      },
      "source": [
        "twitter_df.show()"
      ],
      "execution_count": 27,
      "outputs": [
        {
          "output_type": "stream",
          "name": "stdout",
          "text": [
            "+---+----+--------------------+--------------------+--------------------+--------------------+--------------------+--------------------+\n",
            "|_c0| geo|                text|                user|            location|            entities|           sentiment|             country|\n",
            "+---+----+--------------------+--------------------+--------------------+--------------------+--------------------+--------------------+\n",
            "|  0|null|What is God sayin...|          petodinice|               Lagos|[('about #', 'CAR...|{'neg': 0.0, 'neu...|             Nigeria|\n",
            "|  1|null|\"BREAKING: \"\"this...| but i took the t...|                -… \"|     JerryfranksonJF|      Abuja, Nigeria|\"[(\"\"Arsenal's Mi...|\n",
            "|  2|null| #Coronavirus tes...|              cek422|   Pennsylvania, USA|                  []|{'neg': 0.173, 'n...|                 USA|\n",
            "|  3|null| Get ready for ma...|        InfectiousDz|                 NYC|[('World', 'ORG')...|{'neg': 0.085, 'n...|                 USA|\n",
            "|  4|null| The #coronavirus...|          vic_gibson|                null|                ['']|{'neg': 0.0, 'neu...|                null|\n",
            "|  5|null| COVID-19 update ...|      StewartNgilana|Durban | Port Eli...|[('Italy', 'GPE')...|{'neg': 0.178, 'n...|                 USA|\n",
            "|  6|null| It’s painful to ...|           BWheatnyc|             Florida|                  []|{'neg': 0.098, 'n...|                 USA|\n",
            "|  7|null| 📽️Friends, I wi...|             LorseaR|New South Wales, ...|[('Twitter', 'GPE...|{'neg': 0.123, 'n...|           Australia|\n",
            "|  8|null| Questions about ...|         straightj23|        Columbus, OH|[('NAfME', 'CARDI...|{'neg': 0.0, 'neu...|                 USA|\n",
            "|  9|null|How they’re deali...|       _______coolio| South East, England|['', ('Portsmouth...|{'neg': 0.126, 'n...|                  UK|\n",
            "| 10|null| BREAKING: Democr...|      champagneaylin|                null|[('Democrats', 'N...|{'neg': 0.221, 'n...|                null|\n",
            "| 11|null| “If we close dow...|       YorkLawLondon|                  UK|                  []|{'neg': 0.0, 'neu...|      United Kingdom|\n",
            "| 12|null| I pity the poor ...|      BeesonMargaret|                null|                ['']|{'neg': 0.227, 'n...|                null|\n",
            "| 13|null| We’re the heck w...|      harrytiffanyiv| Fort Washington, PA|[('the last 6 wee...|{'neg': 0.0, 'neu...|                 USA|\n",
            "| 14|null| I don't think sh...|         grammyheath|                null|[('Joy', 'PERSON'...|{'neg': 0.0, 'neu...|                null|\n",
            "| 15|null| Well written, so...|      barbara_ellena|Christchurch City...|                  []|{'neg': 0.0, 'neu...|         New Zealand|\n",
            "| 16|null| 1/2 CDC Director...|               fatal|                 USA|[('1/2', 'CARDINA...|{'neg': 0.139, 'n...|       United States|\n",
            "| 17|null| In all seriousne...|          pwjkmiller|                null|                ['']|{'neg': 0.218, 'n...|                null|\n",
            "| 18|null| Wash your hands....|        Mrrandy123RP|          Texas, USA|            ['', '']|{'neg': 0.0, 'neu...|                 USA|\n",
            "| 19|null| #CoronaVirusCana...|           aliensky0|           Worldwide|['', ('CoronaViru...|{'neg': 0.0, 'neu...|                 USA|\n",
            "+---+----+--------------------+--------------------+--------------------+--------------------+--------------------+--------------------+\n",
            "only showing top 20 rows\n",
            "\n"
          ]
        }
      ]
    },
    {
      "cell_type": "code",
      "metadata": {
        "colab": {
          "base_uri": "https://localhost:8080/"
        },
        "id": "_sYk7pfS7hNb",
        "outputId": "66de9ee6-de81-4ffa-da33-10e3d01faa8f"
      },
      "source": [
        "twitter_df.count()"
      ],
      "execution_count": 18,
      "outputs": [
        {
          "output_type": "execute_result",
          "data": {
            "text/plain": [
              "1000"
            ]
          },
          "metadata": {},
          "execution_count": 18
        }
      ]
    },
    {
      "cell_type": "code",
      "metadata": {
        "colab": {
          "base_uri": "https://localhost:8080/"
        },
        "id": "gbNVr4WK7kMS",
        "outputId": "99facca9-7e2b-4303-a1b7-414d1d8fe5fa"
      },
      "source": [
        "corona_df.show()"
      ],
      "execution_count": 20,
      "outputs": [
        {
          "output_type": "stream",
          "name": "stdout",
          "text": [
            "+--------------------+\n",
            "|     <!DOCTYPE html>|\n",
            "+--------------------+\n",
            "|<html lang=\"en\" d...|\n",
            "|              <head>|\n",
            "|    <meta charset...|\n",
            "|  <link rel=\"dns-...|\n",
            "|  <link rel=\"dns-...|\n",
            "|  <link rel=\"dns-...|\n",
            "|  <link rel=\"dns-...|\n",
            "|  <link rel=\"prec...|\n",
            "|  <link rel=\"prec...|\n",
            "|  <link crossorig...|\n",
            "|  <link crossorig...|\n",
            "|    <link crossor...|\n",
            "|    <link crossor...|\n",
            "|  <script crossor...|\n",
            "|    <script cross...|\n",
            "|    <script cross...|\n",
            "|  <script crossor...|\n",
            "|    <script cross...|\n",
            "|    <script cross...|\n",
            "|    <script cross...|\n",
            "+--------------------+\n",
            "only showing top 20 rows\n",
            "\n"
          ]
        }
      ]
    },
    {
      "cell_type": "code",
      "metadata": {
        "id": "93K4vLKp8EY0",
        "colab": {
          "base_uri": "https://localhost:8080/"
        },
        "outputId": "c5c85f92-f48e-4278-b1af-e67bfebb7a9d"
      },
      "source": [
        "twitter_df.filter(\"country='USA'\").show()"
      ],
      "execution_count": 29,
      "outputs": [
        {
          "output_type": "stream",
          "name": "stdout",
          "text": [
            "+---+----+--------------------+---------------+--------------------+--------------------+--------------------+-------+\n",
            "|_c0| geo|                text|           user|            location|            entities|           sentiment|country|\n",
            "+---+----+--------------------+---------------+--------------------+--------------------+--------------------+-------+\n",
            "|  2|null| #Coronavirus tes...|         cek422|   Pennsylvania, USA|                  []|{'neg': 0.173, 'n...|    USA|\n",
            "|  3|null| Get ready for ma...|   InfectiousDz|                 NYC|[('World', 'ORG')...|{'neg': 0.085, 'n...|    USA|\n",
            "|  5|null| COVID-19 update ...| StewartNgilana|Durban | Port Eli...|[('Italy', 'GPE')...|{'neg': 0.178, 'n...|    USA|\n",
            "|  6|null| It’s painful to ...|      BWheatnyc|             Florida|                  []|{'neg': 0.098, 'n...|    USA|\n",
            "|  8|null| Questions about ...|    straightj23|        Columbus, OH|[('NAfME', 'CARDI...|{'neg': 0.0, 'neu...|    USA|\n",
            "| 13|null| We’re the heck w...| harrytiffanyiv| Fort Washington, PA|[('the last 6 wee...|{'neg': 0.0, 'neu...|    USA|\n",
            "| 18|null| Wash your hands....|   Mrrandy123RP|          Texas, USA|            ['', '']|{'neg': 0.0, 'neu...|    USA|\n",
            "| 19|null| #CoronaVirusCana...|      aliensky0|           Worldwide|['', ('CoronaViru...|{'neg': 0.0, 'neu...|    USA|\n",
            "| 24|null| Dr. Dena Grayson...|billymocolorad2|         Denver area|[('Dena Grayson',...|{'neg': 0.0, 'neu...|    USA|\n",
            "| 29|null| #BREAKING Univer...|  _pulido_nenaa|         Fontana, CA|['', ('BREAKING U...|{'neg': 0.0, 'neu...|    USA|\n",
            "| 31|null| I ordered Alex J...|       rcgillan|       New York, USA|[('Alex Jones', '...|{'neg': 0.109, 'n...|    USA|\n",
            "| 32|null| #CoronavirusExpe...|        AD1968F|California / Florida|['', ('Coronaviru...|{'neg': 0.0, 'neu...|    USA|\n",
            "| 34|null| There is no obje...|       SFAuGrrl|   San Francisco, CA|['', ('FamiliesFi...|{'neg': 0.224, 'n...|    USA|\n",
            "| 36|null| Before #coronavi...|   Frankapistan|       Nashville, TN|[('China', 'GPE')...|{'neg': 0.144, 'n...|    USA|\n",
            "| 40|null|  When it's actua...|      Happyjam5|     Los Angeles, Ca|[('GOP', 'ORG'), ...|{'neg': 0.215, 'n...|    USA|\n",
            "| 41|null|#Coronavirus in #...|   GregoryGLake|              Global|['', ('5', 'CARDI...|{'neg': 0.318, 'n...|    USA|\n",
            "| 49|null| This week we are...|  JamesWithers3|  New York, New York|[('This week', 'D...|{'neg': 0.0, 'neu...|    USA|\n",
            "| 50|null| Trump is now doi...|      NewNewsey|          everywhere|[('Trump', 'ORG')...|{'neg': 0.0, 'neu...|    USA|\n",
            "| 55|null| The last patient...|   Khattarperla|          Highgarden|  [('Wuhan', 'GPE')]|{'neg': 0.0, 'neu...|    USA|\n",
            "| 56|null|...Hope y’all sta...|  Brandon4Brody|          Pueblo, CO|[('CDC', 'ORG'), ...|{'neg': 0.0, 'neu...|    USA|\n",
            "+---+----+--------------------+---------------+--------------------+--------------------+--------------------+-------+\n",
            "only showing top 20 rows\n",
            "\n"
          ]
        }
      ]
    },
    {
      "cell_type": "code",
      "metadata": {
        "colab": {
          "base_uri": "https://localhost:8080/"
        },
        "id": "azAhlym9pB8L",
        "outputId": "e6dbf3d3-8e26-4a0f-dfb0-a3dd2cafcc63"
      },
      "source": [
        "twitter_df.filter(\"country='USA'\").count()"
      ],
      "execution_count": 30,
      "outputs": [
        {
          "output_type": "execute_result",
          "data": {
            "text/plain": [
              "364"
            ]
          },
          "metadata": {},
          "execution_count": 30
        }
      ]
    },
    {
      "cell_type": "code",
      "metadata": {
        "colab": {
          "base_uri": "https://localhost:8080/"
        },
        "id": "PBaR3rGBrDi5",
        "outputId": "837c60b2-6682-46b6-cd34-febb64101cf5"
      },
      "source": [
        "twitter_df.filter(\"country='USA' and location like '%New%'\").show()"
      ],
      "execution_count": 32,
      "outputs": [
        {
          "output_type": "stream",
          "name": "stdout",
          "text": [
            "+---+----+--------------------+---------------+--------------------+--------------------+--------------------+-------+\n",
            "|_c0| geo|                text|           user|            location|            entities|           sentiment|country|\n",
            "+---+----+--------------------+---------------+--------------------+--------------------+--------------------+-------+\n",
            "| 31|null| I ordered Alex J...|       rcgillan|       New York, USA|[('Alex Jones', '...|{'neg': 0.109, 'n...|    USA|\n",
            "| 49|null| This week we are...|  JamesWithers3|  New York, New York|[('This week', 'D...|{'neg': 0.0, 'neu...|    USA|\n",
            "| 62|null|Fear will kill #C...| RobertPPurcell|norther New Jerse...|                ['']|{'neg': 0.798, 'n...|    USA|\n",
            "|228|null|This is a very co...|baskingntheGlow|       New York City|[('hourly', 'TIME')]|{'neg': 0.12, 'ne...|    USA|\n",
            "|238|null|I’m reposting thi...|   Veronicaromm|     New Jersey, USA|[('English', 'LAN...|{'neg': 0.0, 'neu...|    USA|\n",
            "|261|null|Too early ...?  #...|      HJeppesen|        New York, NY|                ['']|{'neg': 0.0, 'neu...|    USA|\n",
            "|275|null|  The Republican ...|  GenetBataiile|  New Hampshire, USA|[('Republican', '...|{'neg': 0.0, 'neu...|    USA|\n",
            "|369|null| I still look to ...|   SusanSeaside|         New England|[('SouthKorea', '...|{'neg': 0.0, 'neu...|    USA|\n",
            "|438|null|Can we call the #...|       nilchaks|     New Jersey, USA|                ['']|{'neg': 0.194, 'n...|    USA|\n",
            "|458|null| New deadly #coro...| ssummersabrina|     New Jersey, USA|                ['']|{'neg': 0.236, 'n...|    USA|\n",
            "|471|null|What the Caged Bi...|    AaronNetsky|        New York, NY|                  []|{'neg': 0.0, 'neu...|    USA|\n",
            "|553|null|Me: Tired of hear...|     AmandaB_B8|  New Hampshire, USA|['', ('tonight', ...|{'neg': 0.252, 'n...|    USA|\n",
            "|611|null| Apparently the #...|  BuffaloInABox|   Buffalo, New York|['', ('CoronaViru...|{'neg': 0.171, 'n...|    USA|\n",
            "|612|null| New deadly #coro...|       klazimi1|       New York, USA|                ['']|{'neg': 0.236, 'n...|    USA|\n",
            "|622|null|Can someone pleas...|         pitaru|            New York|                ['']|{'neg': 0.168, 'n...|    USA|\n",
            "|624|null| Trump is now doi...| swirlysunburst|Northwest, New Je...|[('Trump', 'ORG')...|{'neg': 0.0, 'neu...|    USA|\n",
            "|664|null|Marriage in 2020 ...|           sciz|        New York, NY|[('2020', 'DATE')...|{'neg': 0.111, 'n...|    USA|\n",
            "|679|null|ALL MY MONEY ON E...|  misterauyeung|        New York, NY|[('ETF', 'ORG'), '']|{'neg': 0.148, 'n...|    USA|\n",
            "|724|null|#UniversalStudios...| cosmicbooknews|       New York, USA|['', ('UniversalS...|{'neg': 0.0, 'neu...|    USA|\n",
            "|850|null| There is no obje...|         rm1268|       New York, USA|['', ('FamiliesFi...|{'neg': 0.224, 'n...|    USA|\n",
            "+---+----+--------------------+---------------+--------------------+--------------------+--------------------+-------+\n",
            "only showing top 20 rows\n",
            "\n"
          ]
        }
      ]
    },
    {
      "cell_type": "code",
      "metadata": {
        "id": "iDfNHPqkrNQV"
      },
      "source": [
        "tdf=twitter_df.filter(\"country='USA'\")"
      ],
      "execution_count": 33,
      "outputs": []
    },
    {
      "cell_type": "code",
      "metadata": {
        "colab": {
          "base_uri": "https://localhost:8080/"
        },
        "id": "tfPsnHxprpcw",
        "outputId": "3548d3be-5fcf-4cd9-ad1c-eb25c61d25c9"
      },
      "source": [
        "tdf.show()"
      ],
      "execution_count": 34,
      "outputs": [
        {
          "output_type": "stream",
          "name": "stdout",
          "text": [
            "+---+----+--------------------+---------------+--------------------+--------------------+--------------------+-------+\n",
            "|_c0| geo|                text|           user|            location|            entities|           sentiment|country|\n",
            "+---+----+--------------------+---------------+--------------------+--------------------+--------------------+-------+\n",
            "|  2|null| #Coronavirus tes...|         cek422|   Pennsylvania, USA|                  []|{'neg': 0.173, 'n...|    USA|\n",
            "|  3|null| Get ready for ma...|   InfectiousDz|                 NYC|[('World', 'ORG')...|{'neg': 0.085, 'n...|    USA|\n",
            "|  5|null| COVID-19 update ...| StewartNgilana|Durban | Port Eli...|[('Italy', 'GPE')...|{'neg': 0.178, 'n...|    USA|\n",
            "|  6|null| It’s painful to ...|      BWheatnyc|             Florida|                  []|{'neg': 0.098, 'n...|    USA|\n",
            "|  8|null| Questions about ...|    straightj23|        Columbus, OH|[('NAfME', 'CARDI...|{'neg': 0.0, 'neu...|    USA|\n",
            "| 13|null| We’re the heck w...| harrytiffanyiv| Fort Washington, PA|[('the last 6 wee...|{'neg': 0.0, 'neu...|    USA|\n",
            "| 18|null| Wash your hands....|   Mrrandy123RP|          Texas, USA|            ['', '']|{'neg': 0.0, 'neu...|    USA|\n",
            "| 19|null| #CoronaVirusCana...|      aliensky0|           Worldwide|['', ('CoronaViru...|{'neg': 0.0, 'neu...|    USA|\n",
            "| 24|null| Dr. Dena Grayson...|billymocolorad2|         Denver area|[('Dena Grayson',...|{'neg': 0.0, 'neu...|    USA|\n",
            "| 29|null| #BREAKING Univer...|  _pulido_nenaa|         Fontana, CA|['', ('BREAKING U...|{'neg': 0.0, 'neu...|    USA|\n",
            "| 31|null| I ordered Alex J...|       rcgillan|       New York, USA|[('Alex Jones', '...|{'neg': 0.109, 'n...|    USA|\n",
            "| 32|null| #CoronavirusExpe...|        AD1968F|California / Florida|['', ('Coronaviru...|{'neg': 0.0, 'neu...|    USA|\n",
            "| 34|null| There is no obje...|       SFAuGrrl|   San Francisco, CA|['', ('FamiliesFi...|{'neg': 0.224, 'n...|    USA|\n",
            "| 36|null| Before #coronavi...|   Frankapistan|       Nashville, TN|[('China', 'GPE')...|{'neg': 0.144, 'n...|    USA|\n",
            "| 40|null|  When it's actua...|      Happyjam5|     Los Angeles, Ca|[('GOP', 'ORG'), ...|{'neg': 0.215, 'n...|    USA|\n",
            "| 41|null|#Coronavirus in #...|   GregoryGLake|              Global|['', ('5', 'CARDI...|{'neg': 0.318, 'n...|    USA|\n",
            "| 49|null| This week we are...|  JamesWithers3|  New York, New York|[('This week', 'D...|{'neg': 0.0, 'neu...|    USA|\n",
            "| 50|null| Trump is now doi...|      NewNewsey|          everywhere|[('Trump', 'ORG')...|{'neg': 0.0, 'neu...|    USA|\n",
            "| 55|null| The last patient...|   Khattarperla|          Highgarden|  [('Wuhan', 'GPE')]|{'neg': 0.0, 'neu...|    USA|\n",
            "| 56|null|...Hope y’all sta...|  Brandon4Brody|          Pueblo, CO|[('CDC', 'ORG'), ...|{'neg': 0.0, 'neu...|    USA|\n",
            "+---+----+--------------------+---------------+--------------------+--------------------+--------------------+-------+\n",
            "only showing top 20 rows\n",
            "\n"
          ]
        }
      ]
    },
    {
      "cell_type": "code",
      "metadata": {
        "colab": {
          "base_uri": "https://localhost:8080/"
        },
        "id": "_cykZjhsrqdj",
        "outputId": "4a370aaf-88ff-489a-80a6-f1846b31fa33"
      },
      "source": [
        "tdf.explain()"
      ],
      "execution_count": 35,
      "outputs": [
        {
          "output_type": "stream",
          "name": "stdout",
          "text": [
            "== Physical Plan ==\n",
            "*(1) Filter (isnotnull(country#47) AND (country#47 = USA))\n",
            "+- FileScan csv [_c0#40,geo#41,text#42,user#43,location#44,entities#45,sentiment#46,country#47] Batched: false, DataFilters: [isnotnull(country#47), (country#47 = USA)], Format: CSV, Location: InMemoryFileIndex[file:/tmp/tweets.csv], PartitionFilters: [], PushedFilters: [IsNotNull(country), EqualTo(country,USA)], ReadSchema: struct<_c0:string,geo:string,text:string,user:string,location:string,entities:string,sentiment:st...\n",
            "\n",
            "\n"
          ]
        }
      ]
    },
    {
      "cell_type": "code",
      "metadata": {
        "colab": {
          "base_uri": "https://localhost:8080/"
        },
        "id": "RhqrOG1nrtgA",
        "outputId": "385cf3dd-083c-4e52-d6f6-f916805352ab"
      },
      "source": [
        "tdf.count()"
      ],
      "execution_count": 36,
      "outputs": [
        {
          "output_type": "execute_result",
          "data": {
            "text/plain": [
              "364"
            ]
          },
          "metadata": {},
          "execution_count": 36
        }
      ]
    },
    {
      "cell_type": "code",
      "metadata": {
        "id": "9GLOW5s8sC2a"
      },
      "source": [
        "tdf=twitter_df.filter(\"country='USA' and location like '%New%'\")"
      ],
      "execution_count": 37,
      "outputs": []
    },
    {
      "cell_type": "code",
      "metadata": {
        "colab": {
          "base_uri": "https://localhost:8080/"
        },
        "id": "oKPLjbgSsbfo",
        "outputId": "60251abb-c541-4445-d67e-f663c820751c"
      },
      "source": [
        "tdf.explain()"
      ],
      "execution_count": 38,
      "outputs": [
        {
          "output_type": "stream",
          "name": "stdout",
          "text": [
            "== Physical Plan ==\n",
            "*(1) Filter (((isnotnull(country#47) AND isnotnull(location#44)) AND (country#47 = USA)) AND Contains(location#44, New))\n",
            "+- FileScan csv [_c0#40,geo#41,text#42,user#43,location#44,entities#45,sentiment#46,country#47] Batched: false, DataFilters: [isnotnull(country#47), isnotnull(location#44), (country#47 = USA), Contains(location#44, New)], Format: CSV, Location: InMemoryFileIndex[file:/tmp/tweets.csv], PartitionFilters: [], PushedFilters: [IsNotNull(country), IsNotNull(location), EqualTo(country,USA), StringContains(location,New)], ReadSchema: struct<_c0:string,geo:string,text:string,user:string,location:string,entities:string,sentiment:st...\n",
            "\n",
            "\n"
          ]
        }
      ]
    },
    {
      "cell_type": "code",
      "metadata": {
        "colab": {
          "base_uri": "https://localhost:8080/"
        },
        "id": "EjhvbNfwsdm1",
        "outputId": "8d8a1188-22c2-42fb-bb7f-1662aa6bcc53"
      },
      "source": [
        "tdf.show()"
      ],
      "execution_count": 39,
      "outputs": [
        {
          "output_type": "stream",
          "name": "stdout",
          "text": [
            "+---+----+--------------------+---------------+--------------------+--------------------+--------------------+-------+\n",
            "|_c0| geo|                text|           user|            location|            entities|           sentiment|country|\n",
            "+---+----+--------------------+---------------+--------------------+--------------------+--------------------+-------+\n",
            "| 31|null| I ordered Alex J...|       rcgillan|       New York, USA|[('Alex Jones', '...|{'neg': 0.109, 'n...|    USA|\n",
            "| 49|null| This week we are...|  JamesWithers3|  New York, New York|[('This week', 'D...|{'neg': 0.0, 'neu...|    USA|\n",
            "| 62|null|Fear will kill #C...| RobertPPurcell|norther New Jerse...|                ['']|{'neg': 0.798, 'n...|    USA|\n",
            "|228|null|This is a very co...|baskingntheGlow|       New York City|[('hourly', 'TIME')]|{'neg': 0.12, 'ne...|    USA|\n",
            "|238|null|I’m reposting thi...|   Veronicaromm|     New Jersey, USA|[('English', 'LAN...|{'neg': 0.0, 'neu...|    USA|\n",
            "|261|null|Too early ...?  #...|      HJeppesen|        New York, NY|                ['']|{'neg': 0.0, 'neu...|    USA|\n",
            "|275|null|  The Republican ...|  GenetBataiile|  New Hampshire, USA|[('Republican', '...|{'neg': 0.0, 'neu...|    USA|\n",
            "|369|null| I still look to ...|   SusanSeaside|         New England|[('SouthKorea', '...|{'neg': 0.0, 'neu...|    USA|\n",
            "|438|null|Can we call the #...|       nilchaks|     New Jersey, USA|                ['']|{'neg': 0.194, 'n...|    USA|\n",
            "|458|null| New deadly #coro...| ssummersabrina|     New Jersey, USA|                ['']|{'neg': 0.236, 'n...|    USA|\n",
            "|471|null|What the Caged Bi...|    AaronNetsky|        New York, NY|                  []|{'neg': 0.0, 'neu...|    USA|\n",
            "|553|null|Me: Tired of hear...|     AmandaB_B8|  New Hampshire, USA|['', ('tonight', ...|{'neg': 0.252, 'n...|    USA|\n",
            "|611|null| Apparently the #...|  BuffaloInABox|   Buffalo, New York|['', ('CoronaViru...|{'neg': 0.171, 'n...|    USA|\n",
            "|612|null| New deadly #coro...|       klazimi1|       New York, USA|                ['']|{'neg': 0.236, 'n...|    USA|\n",
            "|622|null|Can someone pleas...|         pitaru|            New York|                ['']|{'neg': 0.168, 'n...|    USA|\n",
            "|624|null| Trump is now doi...| swirlysunburst|Northwest, New Je...|[('Trump', 'ORG')...|{'neg': 0.0, 'neu...|    USA|\n",
            "|664|null|Marriage in 2020 ...|           sciz|        New York, NY|[('2020', 'DATE')...|{'neg': 0.111, 'n...|    USA|\n",
            "|679|null|ALL MY MONEY ON E...|  misterauyeung|        New York, NY|[('ETF', 'ORG'), '']|{'neg': 0.148, 'n...|    USA|\n",
            "|724|null|#UniversalStudios...| cosmicbooknews|       New York, USA|['', ('UniversalS...|{'neg': 0.0, 'neu...|    USA|\n",
            "|850|null| There is no obje...|         rm1268|       New York, USA|['', ('FamiliesFi...|{'neg': 0.224, 'n...|    USA|\n",
            "+---+----+--------------------+---------------+--------------------+--------------------+--------------------+-------+\n",
            "only showing top 20 rows\n",
            "\n"
          ]
        }
      ]
    },
    {
      "cell_type": "code",
      "metadata": {
        "colab": {
          "base_uri": "https://localhost:8080/"
        },
        "id": "UCB2aktSsgiH",
        "outputId": "1f71ab02-0d8d-47a2-c29c-75432ff00d2d"
      },
      "source": [
        "twitter_df"
      ],
      "execution_count": 40,
      "outputs": [
        {
          "output_type": "execute_result",
          "data": {
            "text/plain": [
              "DataFrame[_c0: string, geo: string, text: string, user: string, location: string, entities: string, sentiment: string, country: string]"
            ]
          },
          "metadata": {},
          "execution_count": 40
        }
      ]
    },
    {
      "cell_type": "code",
      "metadata": {
        "colab": {
          "base_uri": "https://localhost:8080/"
        },
        "id": "Cn4bC-3Fs7tB",
        "outputId": "6f51e484-fd68-4788-f2da-1bf701f7a8c6"
      },
      "source": [
        "twitter_df.first()"
      ],
      "execution_count": 41,
      "outputs": [
        {
          "output_type": "execute_result",
          "data": {
            "text/plain": [
              "Row(_c0='0', geo=None, text='What is God saying to us about #coronavirus ?', user='petodinice', location='Lagos', entities=\"[('about #', 'CARDINAL')]\", sentiment=\"{'neg': 0.0, 'neu': 0.769, 'pos': 0.231, 'compound': 0.2732}\", country='Nigeria')"
            ]
          },
          "metadata": {},
          "execution_count": 41
        }
      ]
    },
    {
      "cell_type": "code",
      "metadata": {
        "colab": {
          "base_uri": "https://localhost:8080/"
        },
        "id": "heCRYigks9zI",
        "outputId": "30239fa2-ec75-40ae-ac1e-67ad7faec8ed"
      },
      "source": [
        "twitter_df.take(5)"
      ],
      "execution_count": 42,
      "outputs": [
        {
          "output_type": "execute_result",
          "data": {
            "text/plain": [
              "[Row(_c0='0', geo=None, text='What is God saying to us about #coronavirus ?', user='petodinice', location='Lagos', entities=\"[('about #', 'CARDINAL')]\", sentiment=\"{'neg': 0.0, 'neu': 0.769, 'pos': 0.231, 'compound': 0.2732}\", country='Nigeria'),\n",
              " Row(_c0='1', geo=None, text='\"BREAKING: \"\"this is disappointing', user=' but i took the test\"\". Arsenal\\'s Mikel Arteta tests positive for #coronavirus', location='  -… \"', entities='JerryfranksonJF', sentiment='Abuja, Nigeria', country='\"[(\"\"Arsenal\\'s Mikel Arteta\"\"'),\n",
              " Row(_c0='2', geo=None, text=' #Coronavirus testing must be made free to the public if we are going to understand the scope of this crisis. Anything le…', user='cek422', location='Pennsylvania, USA', entities='[]', sentiment=\"{'neg': 0.173, 'neu': 0.71, 'pos': 0.117, 'compound': -0.3767}\", country='USA'),\n",
              " Row(_c0='3', geo=None, text=' Get ready for mass event crowd cancellations across the World starting this weekend: cricket in #Australia in empty st…', user='InfectiousDz', location='NYC', entities=\"[('World', 'ORG'), ('this weekend', 'DATE'), '']\", sentiment=\"{'neg': 0.085, 'neu': 0.798, 'pos': 0.117, 'compound': 0.1779}\", country='USA'),\n",
              " Row(_c0='4', geo=None, text=' The #coronavirus pandemic is revealing just how closely we are all bound together...[A thread] ', user='vic_gibson', location=None, entities=\"['']\", sentiment=\"{'neg': 0.0, 'neu': 1.0, 'pos': 0.0, 'compound': 0.0}\", country=None)]"
            ]
          },
          "metadata": {},
          "execution_count": 42
        }
      ]
    },
    {
      "cell_type": "code",
      "metadata": {
        "colab": {
          "base_uri": "https://localhost:8080/"
        },
        "id": "Qje_F_mHtBuv",
        "outputId": "73a42238-a1a6-4d9a-b1e8-95da3ffd3996"
      },
      "source": [
        "twitter_df.select(\"text\").show()"
      ],
      "execution_count": 46,
      "outputs": [
        {
          "output_type": "stream",
          "name": "stdout",
          "text": [
            "+--------------------+\n",
            "|                text|\n",
            "+--------------------+\n",
            "|What is God sayin...|\n",
            "|\"BREAKING: \"\"this...|\n",
            "| #Coronavirus tes...|\n",
            "| Get ready for ma...|\n",
            "| The #coronavirus...|\n",
            "| COVID-19 update ...|\n",
            "| It’s painful to ...|\n",
            "| 📽️Friends, I wi...|\n",
            "| Questions about ...|\n",
            "|How they’re deali...|\n",
            "| BREAKING: Democr...|\n",
            "| “If we close dow...|\n",
            "| I pity the poor ...|\n",
            "| We’re the heck w...|\n",
            "| I don't think sh...|\n",
            "| Well written, so...|\n",
            "| 1/2 CDC Director...|\n",
            "| In all seriousne...|\n",
            "| Wash your hands....|\n",
            "| #CoronaVirusCana...|\n",
            "+--------------------+\n",
            "only showing top 20 rows\n",
            "\n"
          ]
        }
      ]
    },
    {
      "cell_type": "code",
      "metadata": {
        "colab": {
          "base_uri": "https://localhost:8080/"
        },
        "id": "ZqvmvJOkutrS",
        "outputId": "c870770c-8a68-4911-ad06-a2d257385202"
      },
      "source": [
        "twitter_df.select(\"text\",\"user\").show()"
      ],
      "execution_count": 47,
      "outputs": [
        {
          "output_type": "stream",
          "name": "stdout",
          "text": [
            "+--------------------+--------------------+\n",
            "|                text|                user|\n",
            "+--------------------+--------------------+\n",
            "|What is God sayin...|          petodinice|\n",
            "|\"BREAKING: \"\"this...| but i took the t...|\n",
            "| #Coronavirus tes...|              cek422|\n",
            "| Get ready for ma...|        InfectiousDz|\n",
            "| The #coronavirus...|          vic_gibson|\n",
            "| COVID-19 update ...|      StewartNgilana|\n",
            "| It’s painful to ...|           BWheatnyc|\n",
            "| 📽️Friends, I wi...|             LorseaR|\n",
            "| Questions about ...|         straightj23|\n",
            "|How they’re deali...|       _______coolio|\n",
            "| BREAKING: Democr...|      champagneaylin|\n",
            "| “If we close dow...|       YorkLawLondon|\n",
            "| I pity the poor ...|      BeesonMargaret|\n",
            "| We’re the heck w...|      harrytiffanyiv|\n",
            "| I don't think sh...|         grammyheath|\n",
            "| Well written, so...|      barbara_ellena|\n",
            "| 1/2 CDC Director...|               fatal|\n",
            "| In all seriousne...|          pwjkmiller|\n",
            "| Wash your hands....|        Mrrandy123RP|\n",
            "| #CoronaVirusCana...|           aliensky0|\n",
            "+--------------------+--------------------+\n",
            "only showing top 20 rows\n",
            "\n"
          ]
        }
      ]
    },
    {
      "cell_type": "code",
      "metadata": {
        "colab": {
          "base_uri": "https://localhost:8080/"
        },
        "id": "PCDMsHw1u84U",
        "outputId": "1bdadff3-08bf-4cfe-fee6-c90fe8ca4aaf"
      },
      "source": [
        "twitter_df.rdd.map(lambda line:line.text.split(\" \")).take(5)"
      ],
      "execution_count": 48,
      "outputs": [
        {
          "output_type": "execute_result",
          "data": {
            "text/plain": [
              "[['What', 'is', 'God', 'saying', 'to', 'us', 'about', '#coronavirus', '?'],\n",
              " ['\"BREAKING:', '\"\"this', 'is', 'disappointing'],\n",
              " ['',\n",
              "  '#Coronavirus',\n",
              "  'testing',\n",
              "  'must',\n",
              "  'be',\n",
              "  'made',\n",
              "  'free',\n",
              "  'to',\n",
              "  'the',\n",
              "  'public',\n",
              "  'if',\n",
              "  'we',\n",
              "  'are',\n",
              "  'going',\n",
              "  'to',\n",
              "  'understand',\n",
              "  'the',\n",
              "  'scope',\n",
              "  'of',\n",
              "  'this',\n",
              "  'crisis.',\n",
              "  'Anything',\n",
              "  'le…'],\n",
              " ['',\n",
              "  'Get',\n",
              "  'ready',\n",
              "  'for',\n",
              "  'mass',\n",
              "  'event',\n",
              "  'crowd',\n",
              "  'cancellations',\n",
              "  'across',\n",
              "  'the',\n",
              "  'World',\n",
              "  'starting',\n",
              "  'this',\n",
              "  'weekend:',\n",
              "  'cricket',\n",
              "  'in',\n",
              "  '#Australia',\n",
              "  'in',\n",
              "  'empty',\n",
              "  'st…'],\n",
              " ['',\n",
              "  'The',\n",
              "  '#coronavirus',\n",
              "  'pandemic',\n",
              "  'is',\n",
              "  'revealing',\n",
              "  'just',\n",
              "  'how',\n",
              "  'closely',\n",
              "  'we',\n",
              "  'are',\n",
              "  'all',\n",
              "  'bound',\n",
              "  'together...[A',\n",
              "  'thread]',\n",
              "  '']]"
            ]
          },
          "metadata": {},
          "execution_count": 48
        }
      ]
    },
    {
      "cell_type": "code",
      "metadata": {
        "colab": {
          "base_uri": "https://localhost:8080/"
        },
        "id": "kyEXNgWcvgYq",
        "outputId": "1c5f44a7-d8a8-48f9-dc3b-bda80b88d269"
      },
      "source": [
        "twitter_df.rdd.flatMap(lambda line:line.text.split(\" \")).take(100)"
      ],
      "execution_count": 51,
      "outputs": [
        {
          "output_type": "execute_result",
          "data": {
            "text/plain": [
              "['What',\n",
              " 'is',\n",
              " 'God',\n",
              " 'saying',\n",
              " 'to',\n",
              " 'us',\n",
              " 'about',\n",
              " '#coronavirus',\n",
              " '?',\n",
              " '\"BREAKING:',\n",
              " '\"\"this',\n",
              " 'is',\n",
              " 'disappointing',\n",
              " '',\n",
              " '#Coronavirus',\n",
              " 'testing',\n",
              " 'must',\n",
              " 'be',\n",
              " 'made',\n",
              " 'free',\n",
              " 'to',\n",
              " 'the',\n",
              " 'public',\n",
              " 'if',\n",
              " 'we',\n",
              " 'are',\n",
              " 'going',\n",
              " 'to',\n",
              " 'understand',\n",
              " 'the',\n",
              " 'scope',\n",
              " 'of',\n",
              " 'this',\n",
              " 'crisis.',\n",
              " 'Anything',\n",
              " 'le…',\n",
              " '',\n",
              " 'Get',\n",
              " 'ready',\n",
              " 'for',\n",
              " 'mass',\n",
              " 'event',\n",
              " 'crowd',\n",
              " 'cancellations',\n",
              " 'across',\n",
              " 'the',\n",
              " 'World',\n",
              " 'starting',\n",
              " 'this',\n",
              " 'weekend:',\n",
              " 'cricket',\n",
              " 'in',\n",
              " '#Australia',\n",
              " 'in',\n",
              " 'empty',\n",
              " 'st…',\n",
              " '',\n",
              " 'The',\n",
              " '#coronavirus',\n",
              " 'pandemic',\n",
              " 'is',\n",
              " 'revealing',\n",
              " 'just',\n",
              " 'how',\n",
              " 'closely',\n",
              " 'we',\n",
              " 'are',\n",
              " 'all',\n",
              " 'bound',\n",
              " 'together...[A',\n",
              " 'thread]',\n",
              " '',\n",
              " '',\n",
              " 'COVID-19',\n",
              " 'update',\n",
              " 'as',\n",
              " 'of',\n",
              " 'this',\n",
              " 'morning:1.',\n",
              " 'Death',\n",
              " 'toll',\n",
              " 'in',\n",
              " 'Italy',\n",
              " 'passes',\n",
              " '1,0002.',\n",
              " \"Arsenal's\",\n",
              " 'head',\n",
              " 'coach',\n",
              " 'Arteta',\n",
              " 'tests',\n",
              " 'positive3.',\n",
              " 'US…',\n",
              " '',\n",
              " 'It’s',\n",
              " 'painful',\n",
              " 'to',\n",
              " 'say,',\n",
              " 'but',\n",
              " 'as',\n",
              " 'an']"
            ]
          },
          "metadata": {},
          "execution_count": 51
        }
      ]
    },
    {
      "cell_type": "code",
      "metadata": {
        "colab": {
          "base_uri": "https://localhost:8080/"
        },
        "id": "HvQcUa7JvlWJ",
        "outputId": "d1ff85b3-0f3d-4200-9b9d-6a8284184987"
      },
      "source": [
        "corona_df.show(10)"
      ],
      "execution_count": 52,
      "outputs": [
        {
          "output_type": "stream",
          "name": "stdout",
          "text": [
            "+---+----------------+---------+--------+---------+----------+---------+-----+---------+----------------+----+\n",
            "|_c0|           State|  Country|     Lat|     Long|      Date|Confirmed|Death|Recovered|   state_cleaned|City|\n",
            "+---+----------------+---------+--------+---------+----------+---------+-----+---------+----------------+----+\n",
            "|  0|            null| Thailand|    15.0|    101.0|2020-01-22|        2|    0|        0|         Bangkok|null|\n",
            "|  1|            null|    Japan|    36.0|    138.0|2020-01-22|        2|    0|        0|         Hiraide|null|\n",
            "|  2|            null|Singapore|  1.2833| 103.8333|2020-01-22|        0|    0|        0|       Singapore|null|\n",
            "|  3|            null|    Nepal| 28.1667|    84.25|2020-01-22|        0|    0|        0|       Kathmandu|null|\n",
            "|  4|            null| Malaysia|     2.5|    112.5|2020-01-22|        0|    0|        0|         Sarawak|null|\n",
            "|  5|British Columbia|   Canada| 49.2827|-123.1207|2020-01-22|        0|    0|        0|British Columbia|null|\n",
            "|  6| New South Wales|Australia|-33.8688| 151.2093|2020-01-22|        0|    0|        0| New South Wales|null|\n",
            "|  7|        Victoria|Australia|-37.8136| 144.9631|2020-01-22|        0|    0|        0|        Victoria|null|\n",
            "|  8|      Queensland|Australia|-28.0167|    153.4|2020-01-22|        0|    0|        0|      Queensland|null|\n",
            "|  9|            null| Cambodia|   11.55| 104.9167|2020-01-22|        0|    0|        0|      Phnom Penh|null|\n",
            "+---+----------------+---------+--------+---------+----------+---------+-----+---------+----------------+----+\n",
            "only showing top 10 rows\n",
            "\n"
          ]
        }
      ]
    },
    {
      "cell_type": "code",
      "metadata": {
        "colab": {
          "base_uri": "https://localhost:8080/"
        },
        "id": "cv0lo8N_0xWD",
        "outputId": "127abfe4-c611-49dd-c202-0b92f3095935"
      },
      "source": [
        "corona_df.filter(\"country='US'\").show()"
      ],
      "execution_count": 54,
      "outputs": [
        {
          "output_type": "stream",
          "name": "stdout",
          "text": [
            "+---+----------------+-------+------------------+---------+----------+---------+-----+---------+----------------+----------------+\n",
            "|_c0|           State|Country|               Lat|     Long|      Date|Confirmed|Death|Recovered|   state_cleaned|            City|\n",
            "+---+----------------+-------+------------------+---------+----------+---------+-----+---------+----------------+----------------+\n",
            "| 98|      Washington|     US|           47.4009|-121.4905|2020-01-22|        0|    0|        0|      Washington|      Washington|\n",
            "| 99|        New York|     US|           42.1657| -74.9481|2020-01-22|        0|    0|        0|        New York|        New York|\n",
            "|100|      California|     US|           36.1162|-119.6816|2020-01-22|        0|    0|        0|      California|      California|\n",
            "|101|   Massachusetts|     US|           42.2302| -71.5301|2020-01-22|        0|    0|        0|   Massachusetts|   Massachusetts|\n",
            "|102|Diamond Princess|     US|           35.4437|  139.638|2020-01-22|        0|    0|        0|Diamond Princess|Diamond Princess|\n",
            "|103|  Grand Princess|     US|           37.6489|-122.6655|2020-01-22|        0|    0|        0|  Grand Princess|  Grand Princess|\n",
            "|104|         Georgia|     US|           33.0406| -83.6431|2020-01-22|        0|    0|        0|         Georgia|         Georgia|\n",
            "|105|        Colorado|     US|           39.0598|-105.3111|2020-01-22|        0|    0|        0|        Colorado|        Colorado|\n",
            "|106|         Florida|     US|           27.7663| -81.6868|2020-01-22|        0|    0|        0|         Florida|         Florida|\n",
            "|107|      New Jersey|     US|           40.2989|  -74.521|2020-01-22|        0|    0|        0|      New Jersey|      New Jersey|\n",
            "|108|          Oregon|     US|44.571999999999996|-122.0709|2020-01-22|        0|    0|        0|          Oregon|          Oregon|\n",
            "|109|           Texas|     US|           31.0545| -97.5635|2020-01-22|        0|    0|        0|           Texas|           Texas|\n",
            "|110|        Illinois|     US|           40.3495| -88.9861|2020-01-22|        0|    0|        0|        Illinois|        Illinois|\n",
            "|111|    Pennsylvania|     US|           40.5908| -77.2098|2020-01-22|        0|    0|        0|    Pennsylvania|    Pennsylvania|\n",
            "|112|            Iowa|     US|           42.0115| -93.2105|2020-01-22|        0|    0|        0|            Iowa|            Iowa|\n",
            "|113|        Maryland|     US|           39.0639| -76.8021|2020-01-22|        0|    0|        0|        Maryland|        Maryland|\n",
            "|114|  North Carolina|     US|           35.6301| -79.8064|2020-01-22|        0|    0|        0|  North Carolina|  North Carolina|\n",
            "|115|  South Carolina|     US|           33.8569|  -80.945|2020-01-22|        0|    0|        0|  South Carolina|  South Carolina|\n",
            "|116|       Tennessee|     US|           35.7478| -86.6923|2020-01-22|        0|    0|        0|       Tennessee|       Tennessee|\n",
            "|117|        Virginia|     US|           37.7693|   -78.17|2020-01-22|        0|    0|        0|        Virginia|        Virginia|\n",
            "+---+----------------+-------+------------------+---------+----------+---------+-----+---------+----------------+----------------+\n",
            "only showing top 20 rows\n",
            "\n"
          ]
        }
      ]
    },
    {
      "cell_type": "code",
      "metadata": {
        "colab": {
          "base_uri": "https://localhost:8080/"
        },
        "id": "NsFeMcEM05QZ",
        "outputId": "317567a3-43dd-4450-940f-750b68075d89"
      },
      "source": [
        "corona_df.filter(\"country='US'\").sort(col(\"date\"), ascending=False).show()"
      ],
      "execution_count": 58,
      "outputs": [
        {
          "output_type": "stream",
          "name": "stdout",
          "text": [
            "+-----+----------------+-------+------------------+---------+----------+---------+-----+---------+----------------+----------------+\n",
            "|  _c0|           State|Country|               Lat|     Long|      Date|Confirmed|Death|Recovered|   state_cleaned|            City|\n",
            "+-----+----------------+-------+------------------+---------+----------+---------+-----+---------+----------------+----------------+\n",
            "|27764|      Washington|     US|           47.4009|-121.4905|2020-03-20|     1524|   83|        0|      Washington|      Washington|\n",
            "|27784|         Arizona|     US|           33.7298|-111.4312|2020-03-20|       78|    0|        0|         Arizona|         Arizona|\n",
            "|27765|        New York|     US|           42.1657| -74.9481|2020-03-20|     8310|   42|        0|        New York|        New York|\n",
            "|27766|      California|     US|           36.1162|-119.6816|2020-03-20|     1177|   23|        0|      California|      California|\n",
            "|27767|   Massachusetts|     US|           42.2302| -71.5301|2020-03-20|      413|    1|        0|   Massachusetts|   Massachusetts|\n",
            "|27768|Diamond Princess|     US|           35.4437|  139.638|2020-03-20|       49|    0|        0|Diamond Princess|Diamond Princess|\n",
            "|27769|  Grand Princess|     US|           37.6489|-122.6655|2020-03-20|       23|    0|        0|  Grand Princess|  Grand Princess|\n",
            "|27770|         Georgia|     US|           33.0406| -83.6431|2020-03-20|      420|   13|        0|         Georgia|         Georgia|\n",
            "|27771|        Colorado|     US|           39.0598|-105.3111|2020-03-20|      363|    4|        0|        Colorado|        Colorado|\n",
            "|27772|         Florida|     US|           27.7663| -81.6868|2020-03-20|      563|   10|        0|         Florida|         Florida|\n",
            "|27773|      New Jersey|     US|           40.2989|  -74.521|2020-03-20|      890|   11|        0|      New Jersey|      New Jersey|\n",
            "|27774|          Oregon|     US|44.571999999999996|-122.0709|2020-03-20|      114|    3|        0|          Oregon|          Oregon|\n",
            "|27775|           Texas|     US|           31.0545| -97.5635|2020-03-20|      394|    5|        0|           Texas|           Texas|\n",
            "|27776|        Illinois|     US|           40.3495| -88.9861|2020-03-20|      585|    5|        0|        Illinois|        Illinois|\n",
            "|27777|    Pennsylvania|     US|           40.5908| -77.2098|2020-03-20|      303|    1|        0|    Pennsylvania|    Pennsylvania|\n",
            "|27778|            Iowa|     US|           42.0115| -93.2105|2020-03-20|       45|    0|        0|            Iowa|            Iowa|\n",
            "|27779|        Maryland|     US|           39.0639| -76.8021|2020-03-20|      149|    1|        0|        Maryland|        Maryland|\n",
            "|27780|  North Carolina|     US|           35.6301| -79.8064|2020-03-20|      172|    0|        0|  North Carolina|  North Carolina|\n",
            "|27781|  South Carolina|     US|           33.8569|  -80.945|2020-03-20|      126|    1|        0|  South Carolina|  South Carolina|\n",
            "|27782|       Tennessee|     US|           35.7478| -86.6923|2020-03-20|      233|    0|        0|       Tennessee|       Tennessee|\n",
            "+-----+----------------+-------+------------------+---------+----------+---------+-----+---------+----------------+----------------+\n",
            "only showing top 20 rows\n",
            "\n"
          ]
        }
      ]
    },
    {
      "cell_type": "code",
      "metadata": {
        "colab": {
          "base_uri": "https://localhost:8080/"
        },
        "id": "cuNtkZ341Ggk",
        "outputId": "8e8e1616-7da6-489b-e22e-6582365c7c5f"
      },
      "source": [
        "corona_df.filter(\"country='US'\").orderBy(col(\"date\"), ascending=False).show()"
      ],
      "execution_count": 59,
      "outputs": [
        {
          "output_type": "stream",
          "name": "stdout",
          "text": [
            "+-----+----------------+-------+------------------+---------+----------+---------+-----+---------+----------------+----------------+\n",
            "|  _c0|           State|Country|               Lat|     Long|      Date|Confirmed|Death|Recovered|   state_cleaned|            City|\n",
            "+-----+----------------+-------+------------------+---------+----------+---------+-----+---------+----------------+----------------+\n",
            "|27764|      Washington|     US|           47.4009|-121.4905|2020-03-20|     1524|   83|        0|      Washington|      Washington|\n",
            "|27784|         Arizona|     US|           33.7298|-111.4312|2020-03-20|       78|    0|        0|         Arizona|         Arizona|\n",
            "|27765|        New York|     US|           42.1657| -74.9481|2020-03-20|     8310|   42|        0|        New York|        New York|\n",
            "|27766|      California|     US|           36.1162|-119.6816|2020-03-20|     1177|   23|        0|      California|      California|\n",
            "|27767|   Massachusetts|     US|           42.2302| -71.5301|2020-03-20|      413|    1|        0|   Massachusetts|   Massachusetts|\n",
            "|27768|Diamond Princess|     US|           35.4437|  139.638|2020-03-20|       49|    0|        0|Diamond Princess|Diamond Princess|\n",
            "|27769|  Grand Princess|     US|           37.6489|-122.6655|2020-03-20|       23|    0|        0|  Grand Princess|  Grand Princess|\n",
            "|27770|         Georgia|     US|           33.0406| -83.6431|2020-03-20|      420|   13|        0|         Georgia|         Georgia|\n",
            "|27771|        Colorado|     US|           39.0598|-105.3111|2020-03-20|      363|    4|        0|        Colorado|        Colorado|\n",
            "|27772|         Florida|     US|           27.7663| -81.6868|2020-03-20|      563|   10|        0|         Florida|         Florida|\n",
            "|27773|      New Jersey|     US|           40.2989|  -74.521|2020-03-20|      890|   11|        0|      New Jersey|      New Jersey|\n",
            "|27774|          Oregon|     US|44.571999999999996|-122.0709|2020-03-20|      114|    3|        0|          Oregon|          Oregon|\n",
            "|27775|           Texas|     US|           31.0545| -97.5635|2020-03-20|      394|    5|        0|           Texas|           Texas|\n",
            "|27776|        Illinois|     US|           40.3495| -88.9861|2020-03-20|      585|    5|        0|        Illinois|        Illinois|\n",
            "|27777|    Pennsylvania|     US|           40.5908| -77.2098|2020-03-20|      303|    1|        0|    Pennsylvania|    Pennsylvania|\n",
            "|27778|            Iowa|     US|           42.0115| -93.2105|2020-03-20|       45|    0|        0|            Iowa|            Iowa|\n",
            "|27779|        Maryland|     US|           39.0639| -76.8021|2020-03-20|      149|    1|        0|        Maryland|        Maryland|\n",
            "|27780|  North Carolina|     US|           35.6301| -79.8064|2020-03-20|      172|    0|        0|  North Carolina|  North Carolina|\n",
            "|27781|  South Carolina|     US|           33.8569|  -80.945|2020-03-20|      126|    1|        0|  South Carolina|  South Carolina|\n",
            "|27782|       Tennessee|     US|           35.7478| -86.6923|2020-03-20|      233|    0|        0|       Tennessee|       Tennessee|\n",
            "+-----+----------------+-------+------------------+---------+----------+---------+-----+---------+----------------+----------------+\n",
            "only showing top 20 rows\n",
            "\n"
          ]
        }
      ]
    },
    {
      "cell_type": "code",
      "metadata": {
        "colab": {
          "base_uri": "https://localhost:8080/"
        },
        "id": "5CogoTX71VFg",
        "outputId": "eda901b3-eb72-4206-9939-99f7b8405bb2"
      },
      "source": [
        "corona_df.filter(\"Country='US'\").sort([col(\"Date\"),col(\"Confirmed\")],ascending=False).show()"
      ],
      "execution_count": 65,
      "outputs": [
        {
          "output_type": "stream",
          "name": "stdout",
          "text": [
            "+-----+--------------------+-------+-------+---------+----------+---------+-----+---------+--------------------+--------------------+\n",
            "|  _c0|               State|Country|    Lat|     Long|      Date|Confirmed|Death|Recovered|       state_cleaned|                City|\n",
            "+-----+--------------------+-------+-------+---------+----------+---------+-----+---------+--------------------+--------------------+\n",
            "|27808|            Arkansas|     US|34.9697| -92.3731|2020-03-20|       96|    0|        0|            Arkansas|            Arkansas|\n",
            "|27773|          New Jersey|     US|40.2989|  -74.521|2020-03-20|      890|   11|        0|          New Jersey|          New Jersey|\n",
            "|27785|             Indiana|     US|39.8494| -86.2583|2020-03-20|       86|    2|        0|             Indiana|             Indiana|\n",
            "|27765|            New York|     US|42.1657| -74.9481|2020-03-20|     8310|   42|        0|            New York|            New York|\n",
            "|28080|             Alabama|     US|32.3182| -86.9023|2020-03-20|       83|    0|        0|             Alabama|             Alabama|\n",
            "|27813|         Mississippi|     US|32.7416| -89.6787|2020-03-20|       80|    1|        0|         Mississippi|         Mississippi|\n",
            "|27784|             Arizona|     US|33.7298|-111.4312|2020-03-20|       78|    0|        0|             Arizona|             Arizona|\n",
            "|27798|                Utah|     US|  40.15|-111.8624|2020-03-20|       78|    0|        0|                Utah|                Utah|\n",
            "|27787|District of Columbia|     US|38.8974| -77.0268|2020-03-20|       71|    1|        0|District of Columbia|District of Columbia|\n",
            "|27818|       West Virginia|     US|38.4912| -80.9545|2020-03-20|        7|    0|        0|       West Virginia|       West Virginia|\n",
            "|27776|            Illinois|     US|40.3495| -88.9861|2020-03-20|      585|    5|        0|            Illinois|            Illinois|\n",
            "|27772|             Florida|     US|27.7663| -81.6868|2020-03-20|      563|   10|        0|             Florida|             Florida|\n",
            "|27811|               Maine|     US|44.6939| -69.3819|2020-03-20|       56|    0|        0|               Maine|               Maine|\n",
            "|27812|            Michigan|     US|43.3266| -84.5361|2020-03-20|      552|    3|        0|            Michigan|            Michigan|\n",
            "|27793|        Rhode Island|     US|41.6809| -71.5118|2020-03-20|       54|    0|        0|        Rhode Island|        Rhode Island|\n",
            "|27804|           Louisiana|     US|31.1695| -91.8678|2020-03-20|      538|   14|        0|           Louisiana|           Louisiana|\n",
            "|27805|            Missouri|     US|38.4561| -92.2884|2020-03-20|       53|    2|        0|            Missouri|            Missouri|\n",
            "|27768|    Diamond Princess|     US|35.4437|  139.638|2020-03-20|       49|    0|        0|    Diamond Princess|    Diamond Princess|\n",
            "|27797|            Oklahoma|     US|35.5653| -96.9289|2020-03-20|       49|    1|        0|            Oklahoma|            Oklahoma|\n",
            "|27786|            Kentucky|     US|37.6681| -84.6701|2020-03-20|       47|    2|        0|            Kentucky|            Kentucky|\n",
            "+-----+--------------------+-------+-------+---------+----------+---------+-----+---------+--------------------+--------------------+\n",
            "only showing top 20 rows\n",
            "\n"
          ]
        }
      ]
    },
    {
      "cell_type": "code",
      "metadata": {
        "colab": {
          "base_uri": "https://localhost:8080/"
        },
        "id": "Yo2JMDaF2DBb",
        "outputId": "b8481a98-a147-464a-c385-95e7f84a4653"
      },
      "source": [
        "corona_df.dtypes"
      ],
      "execution_count": 67,
      "outputs": [
        {
          "output_type": "execute_result",
          "data": {
            "text/plain": [
              "[('_c0', 'string'),\n",
              " ('State', 'string'),\n",
              " ('Country', 'string'),\n",
              " ('Lat', 'string'),\n",
              " ('Long', 'string'),\n",
              " ('Date', 'string'),\n",
              " ('Confirmed', 'string'),\n",
              " ('Death', 'string'),\n",
              " ('Recovered', 'string'),\n",
              " ('state_cleaned', 'string'),\n",
              " ('City', 'string')]"
            ]
          },
          "metadata": {},
          "execution_count": 67
        }
      ]
    },
    {
      "cell_type": "code",
      "metadata": {
        "id": "z5K8SMcs2ZVc"
      },
      "source": [
        "corona_df=corona_df.withColumn(\"_c0\",corona_df['_c0'].cast('int')).withColumn(\"Confirmed\",corona_df[\"Confirmed\"].cast('int'))\\\n",
        ".withColumn(\"Death\",corona_df['Death'].cast('int')).withColumn('Recovered',corona_df['Recovered'].cast('int'))"
      ],
      "execution_count": 78,
      "outputs": []
    },
    {
      "cell_type": "code",
      "metadata": {
        "colab": {
          "base_uri": "https://localhost:8080/"
        },
        "id": "HFZ6_Ff64s6_",
        "outputId": "4a102f32-2fb8-4a5c-8f9d-ac6de1bca1f4"
      },
      "source": [
        "corona_df.dtypes"
      ],
      "execution_count": 79,
      "outputs": [
        {
          "output_type": "execute_result",
          "data": {
            "text/plain": [
              "[('_c0', 'int'),\n",
              " ('State', 'string'),\n",
              " ('Country', 'string'),\n",
              " ('Lat', 'string'),\n",
              " ('Long', 'string'),\n",
              " ('Date', 'string'),\n",
              " ('Confirmed', 'int'),\n",
              " ('Death', 'int'),\n",
              " ('Recovered', 'int'),\n",
              " ('state_cleaned', 'string'),\n",
              " ('City', 'string')]"
            ]
          },
          "metadata": {},
          "execution_count": 79
        }
      ]
    },
    {
      "cell_type": "code",
      "metadata": {
        "colab": {
          "base_uri": "https://localhost:8080/"
        },
        "id": "hkznFfJy48xk",
        "outputId": "0c9ec6aa-dd03-4adf-881b-83d19ce72fd6"
      },
      "source": [
        "corona_df.filter(\"Country='US'\").sort([col(\"Date\"),col(\"Confirmed\")],ascending=False).show()"
      ],
      "execution_count": 80,
      "outputs": [
        {
          "output_type": "stream",
          "name": "stdout",
          "text": [
            "+-----+--------------+-------+-------+---------+----------+---------+-----+---------+--------------+--------------+\n",
            "|  _c0|         State|Country|    Lat|     Long|      Date|Confirmed|Death|Recovered| state_cleaned|          City|\n",
            "+-----+--------------+-------+-------+---------+----------+---------+-----+---------+--------------+--------------+\n",
            "|27765|      New York|     US|42.1657| -74.9481|2020-03-20|     8310|   42|        0|      New York|      New York|\n",
            "|27764|    Washington|     US|47.4009|-121.4905|2020-03-20|     1524|   83|        0|    Washington|    Washington|\n",
            "|27766|    California|     US|36.1162|-119.6816|2020-03-20|     1177|   23|        0|    California|    California|\n",
            "|27773|    New Jersey|     US|40.2989|  -74.521|2020-03-20|      890|   11|        0|    New Jersey|    New Jersey|\n",
            "|27776|      Illinois|     US|40.3495| -88.9861|2020-03-20|      585|    5|        0|      Illinois|      Illinois|\n",
            "|27772|       Florida|     US|27.7663| -81.6868|2020-03-20|      563|   10|        0|       Florida|       Florida|\n",
            "|27812|      Michigan|     US|43.3266| -84.5361|2020-03-20|      552|    3|        0|      Michigan|      Michigan|\n",
            "|27804|     Louisiana|     US|31.1695| -91.8678|2020-03-20|      538|   14|        0|     Louisiana|     Louisiana|\n",
            "|27770|       Georgia|     US|33.0406| -83.6431|2020-03-20|      420|   13|        0|       Georgia|       Georgia|\n",
            "|27767| Massachusetts|     US|42.2302| -71.5301|2020-03-20|      413|    1|        0| Massachusetts| Massachusetts|\n",
            "|27775|         Texas|     US|31.0545| -97.5635|2020-03-20|      394|    5|        0|         Texas|         Texas|\n",
            "|27771|      Colorado|     US|39.0598|-105.3111|2020-03-20|      363|    4|        0|      Colorado|      Colorado|\n",
            "|27777|  Pennsylvania|     US|40.5908| -77.2098|2020-03-20|      303|    1|        0|  Pennsylvania|  Pennsylvania|\n",
            "|27782|     Tennessee|     US|35.7478| -86.6923|2020-03-20|      233|    0|        0|     Tennessee|     Tennessee|\n",
            "|27794|     Wisconsin|     US|44.2685| -89.6165|2020-03-20|      207|    3|        0|     Wisconsin|     Wisconsin|\n",
            "|27795|   Connecticut|     US|41.5978| -72.7554|2020-03-20|      194|    3|        0|   Connecticut|   Connecticut|\n",
            "|27792|          Ohio|     US|40.3888| -82.7649|2020-03-20|      173|    2|        0|          Ohio|          Ohio|\n",
            "|27780|North Carolina|     US|35.6301| -79.8064|2020-03-20|      172|    0|        0|North Carolina|North Carolina|\n",
            "|27779|      Maryland|     US|39.0639| -76.8021|2020-03-20|      149|    1|        0|      Maryland|      Maryland|\n",
            "|27781|South Carolina|     US|33.8569|  -80.945|2020-03-20|      126|    1|        0|South Carolina|South Carolina|\n",
            "+-----+--------------+-------+-------+---------+----------+---------+-----+---------+--------------+--------------+\n",
            "only showing top 20 rows\n",
            "\n"
          ]
        }
      ]
    },
    {
      "cell_type": "code",
      "metadata": {
        "colab": {
          "base_uri": "https://localhost:8080/"
        },
        "id": "ppJHn-1d5saw",
        "outputId": "11f7b5e9-f039-4ffc-c0ea-9be3732171af"
      },
      "source": [
        "corona_df.filter(\"Confirmed>10000\").sort(col('Confirmed')).show()"
      ],
      "execution_count": 81,
      "outputs": [
        {
          "output_type": "stream",
          "name": "stdout",
          "text": [
            "+-----+------+-------+-------+--------+----------+---------+-----+---------+-------------+----+\n",
            "|  _c0| State|Country|    Lat|    Long|      Date|Confirmed|Death|Recovered|state_cleaned|City|\n",
            "+-----+------+-------+-------+--------+----------+---------+-----+---------+-------------+----+\n",
            "|24005|  null|   Iran|   32.0|    53.0|2020-03-12|    10075|  429|     2959|       Tehran|null|\n",
            "|22912|  null|  Italy|   43.0|    12.0|2020-03-10|    10149|  631|      724|         Rome|null|\n",
            "|27346|France| France|46.2276|  2.2137|2020-03-19|    10871|  243|       12|       France|null|\n",
            "| 5401| Hubei|  China|30.9756|112.2707|2020-02-02|    11177|  350|      295|        Hubei|null|\n",
            "|24482|  null|   Iran|   32.0|    53.0|2020-03-13|    11364|  514|     2959|       Tehran|null|\n",
            "|26253|  null|  Spain|   40.0|    -4.0|2020-03-17|    11748|  533|     1028|       Toledo|null|\n",
            "|26723|  null|Germany|   51.0|     9.0|2020-03-18|    12327|   28|      105|       Berlin|null|\n",
            "|23866|  null|  Italy|   43.0|    12.0|2020-03-12|    12462|  827|     1045|         Rome|null|\n",
            "|23389|  null|  Italy|   43.0|    12.0|2020-03-11|    12462|  827|     1045|         Rome|null|\n",
            "|27823|France| France|46.2276|  2.2137|2020-03-20|    12612|  450|       12|       France|null|\n",
            "|24959|  null|   Iran|   32.0|    53.0|2020-03-14|    12729|  611|     2959|       Tehran|null|\n",
            "| 5878| Hubei|  China|30.9756|112.2707|2020-02-03|    13522|  414|      386|        Hubei|null|\n",
            "|26730|  null|  Spain|   40.0|    -4.0|2020-03-18|    13910|  623|     1081|       Toledo|null|\n",
            "|25436|  null|   Iran|   32.0|    53.0|2020-03-15|    13938|  724|     4590|       Tehran|null|\n",
            "|25913|  null|   Iran|   32.0|    53.0|2020-03-16|    14991|  853|     4590|       Tehran|null|\n",
            "|27200|  null|Germany|   51.0|     9.0|2020-03-19|    15320|   44|      113|       Berlin|null|\n",
            "|26390|  null|   Iran|   32.0|    53.0|2020-03-17|    16169|  988|     5389|       Tehran|null|\n",
            "| 6355| Hubei|  China|30.9756|112.2707|2020-02-04|    16678|  479|      522|        Hubei|null|\n",
            "|26867|  null|   Iran|   32.0|    53.0|2020-03-18|    17361| 1135|     5389|       Tehran|null|\n",
            "|24343|  null|  Italy|   43.0|    12.0|2020-03-13|    17660| 1266|     1439|         Rome|null|\n",
            "+-----+------+-------+-------+--------+----------+---------+-----+---------+-------------+----+\n",
            "only showing top 20 rows\n",
            "\n"
          ]
        }
      ]
    },
    {
      "cell_type": "code",
      "metadata": {
        "colab": {
          "base_uri": "https://localhost:8080/"
        },
        "id": "6fwAnpMS8-wa",
        "outputId": "6b713259-cde7-45de-b945-429b71cab18f"
      },
      "source": [
        "corona_df.describe().show()"
      ],
      "execution_count": 82,
      "outputs": [
        {
          "output_type": "stream",
          "name": "stdout",
          "text": [
            "+-------+-----------------+---------+-----------+------------------+------------------+----------+------------------+------------------+------------------+-------------+-----------+\n",
            "|summary|              _c0|    State|    Country|               Lat|              Long|      Date|         Confirmed|             Death|         Recovered|state_cleaned|       City|\n",
            "+-------+-----------------+---------+-----------+------------------+------------------+----------+------------------+------------------+------------------+-------------+-----------+\n",
            "|  count|            28143|    19116|      28143|             28143|             28143|     28143|             28143|             28143|             28143|        28143|      14573|\n",
            "|   mean|          14071.0|     null|       null|30.965553459118834|-34.57031257861667|      null|161.88245744945456| 5.494368048893153| 60.17290267562094|         null|       null|\n",
            "| stddev|8124.328649186959|     null|       null|19.365472826597646| 80.78375872452575|      null| 2519.847217725942|109.29475709869875|1346.6597829124426|         null|       null|\n",
            "|    min|                0|Adams, IN|Afghanistan|           -0.0236|           -1.0232|2020-01-22|                 0|                 0|                 0|    Abu Dhabi|      Adams|\n",
            "|    max|            28142| Zhejiang|   Zimbabwe|            9.9456|           95.9956|2020-03-20|             67800|              4032|             58382|     erdészet|Yolo County|\n",
            "+-------+-----------------+---------+-----------+------------------+------------------+----------+------------------+------------------+------------------+-------------+-----------+\n",
            "\n"
          ]
        }
      ]
    },
    {
      "cell_type": "code",
      "metadata": {
        "id": "T7ZfbzgQ9L6C"
      },
      "source": [
        ""
      ],
      "execution_count": null,
      "outputs": []
    },
    {
      "cell_type": "code",
      "metadata": {
        "id": "YObd8uvf9a-5"
      },
      "source": [
        ""
      ],
      "execution_count": null,
      "outputs": []
    }
  ]
}